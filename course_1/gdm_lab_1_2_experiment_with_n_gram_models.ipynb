{
  "cells": [
    {
      "cell_type": "markdown",
      "metadata": {
        "id": "view-in-github",
        "colab_type": "text"
      },
      "source": [
        "<a href=\"https://colab.research.google.com/github/22f2000147/ai-foundations/blob/main/course_1/gdm_lab_1_2_experiment_with_n_gram_models.ipynb\" target=\"_parent\"><img src=\"https://colab.research.google.com/assets/colab-badge.svg\" alt=\"Open In Colab\"/></a>"
      ]
    },
    {
      "metadata": {
        "id": "_DAsej7XSlYt"
      },
      "cell_type": "markdown",
      "source": [
        "> <p><small><small>This Notebook is made available subject to the licence and terms set out in the <a href = \"http://www.github.com/google-deepmind/ai-foundations\">AI Research Foundations Github README file</a>."
      ]
    },
    {
      "cell_type": "markdown",
      "source": [
        "<img src=\"https://storage.googleapis.com/dm-educational/assets/ai_foundations/GDM-Labs-banner-image-C1-white-bg.png\">"
      ],
      "metadata": {
        "id": "3myzQnLMOJ91"
      }
    },
    {
      "metadata": {
        "id": "zE0jaJsaICiX"
      },
      "cell_type": "markdown",
      "source": [
        "# Lab: Experiment with N-Gram Models\n",
        "\n",
        "<a href='https://colab.research.google.com/github/google-deepmind/ai-foundations/blob/master/course_1/gdm_lab_1_2_experiment_with_n_gram_models.ipynb' target='_parent'><img src='https://colab.research.google.com/assets/colab-badge.svg' alt='Open In Colab'/></a>\n",
        "\n",
        "Practice extracting n-gram counts and learn how to use them to build a language model.\n",
        "\n",
        "\n",
        "30 minutes"
      ]
    },
    {
      "cell_type": "markdown",
      "source": [
        "## Overview\n",
        "\n",
        "In the previous lab, you built a very small language model in which you manually assigned probabilities to the next token for different prompts. In this lab, you will automatically estimate the probabilities for predicting the next word and build an **n-gram model** using a small dataset of paragraphs. This will result in a language model that will be able to predict the next word for a given prompt and that can be used to generate texts. You will also gain a practical understanding of how n-gram models capture language patterns and what the limitations of this family of models are. This knowledge will serve as a foundation for exploring more advanced language models in later modules."
      ],
      "metadata": {
        "id": "zSYq3aNrdpnC"
      }
    },
    {
      "cell_type": "markdown",
      "source": [
        "### What you will learn:\n",
        "\n",
        "By the end of this lab, you will be able to:\n",
        "\n",
        "* Split paragraphs in a dataset into word-like units called tokens, a process known as **tokenization**.\n",
        "* Estimate the probabilities for an n-gram language model from a dataset.\n",
        "* Use the n-gram language model to predict individual tokens and longer continuations.\n",
        "\n"
      ],
      "metadata": {
        "id": "v4Qf3eGhfl4H"
      }
    },
    {
      "cell_type": "markdown",
      "source": [
        "### Tasks\n",
        "\n",
        "As mentioned in the previous article, an n-gram is a continuous sequence of $n$ words. An n-gram model uses these sequences to estimate the probability of the next word given a preceding sequence of $n-1$ words (the context).\n",
        "\n",
        "Recall that you can compute the probability $P(\\mbox{B} \\mid \\mbox{A})$, where $\\mbox{B}$ is the next word and $\\mbox{A}$ is the context, as follows:\n",
        "\n",
        "$$P(\\mbox{B} \\mid \\mbox{A}) = \\frac{\\mbox{Count}(\\mbox{A B})}{\\mbox{Count}(\\mbox{A})}$$\n",
        "\n",
        "The full n-gram counts, $\\mbox{ Count}(\\mbox{A B})$, and the context n-gram counts, $\\mbox{ Count}(\\mbox{A})$, can be computed by counting n-grams in a **dataset**. For building a language model, this dataset is usually a collection of texts, also referred to as a **text corpus**.\n",
        "\n",
        "**In this lab, you will**:\n",
        "\n",
        "* Define your dataset, and break the sentences into individual tokens.\n",
        "* Create n-grams from the tokenized tokens, and calculate counts of n-grams, $\\mbox{ Count}(\\mbox{A B})$.\n",
        "* Estimate $P(\\mbox{B} \\mid \\mbox{A})$ using the n-gram counts.\n",
        "* Use the estimated $P(\\mbox{B} \\mid \\mbox{A})$ distributions to generate new text based on your n-gram  language model.\n",
        "\n"
      ],
      "metadata": {
        "id": "qIhcVxx0foVo"
      }
    },
    {
      "cell_type": "markdown",
      "source": [
        "## How to use Google Colaboratory (Colab)"
      ],
      "metadata": {
        "id": "NDWsJUGcf4Ru"
      }
    },
    {
      "cell_type": "markdown",
      "source": [
        "Google Colaboratory (also known as Google Colab) is a platform that allows you to run Python code in your browser. The code is written in *cells* that are executed on a remote server.\n",
        "\n",
        "To run a cell, hover over a cell and click on the `run` button to its left. The run button is the circle with the triangle (▶). Alternatively, you can also click on a cell and use the keyboard combination Ctrl+Return (or ⌘+Return if you are using a Mac).\n",
        "\n",
        "To try this out, run the following cell. This should print today's day of the week below it."
      ],
      "metadata": {
        "id": "wlNG_jg-39Zj"
      }
    },
    {
      "cell_type": "code",
      "source": [
        "from datetime import datetime\n",
        "print(f\"Today is {datetime.today():%A}.\")"
      ],
      "metadata": {
        "id": "UyTT6C0JhGBs",
        "colab": {
          "base_uri": "https://localhost:8080/"
        },
        "outputId": "425455c0-b579-4e31-8e78-2bd3e268b59d"
      },
      "execution_count": 1,
      "outputs": [
        {
          "output_type": "stream",
          "name": "stdout",
          "text": [
            "Today is Thursday.\n"
          ]
        }
      ]
    },
    {
      "cell_type": "markdown",
      "source": [
        "Note that the *order in which you run the cells matters*. When you are working through a lab, make sure to always run *all* cells in order, otherwise the code might not work. If you take a break while working on a lab, Colab may disconnect you and in that case, you have to execute all cells again before  continuing your work. To make this easier, you can select the cell you are currently working on and then choose **Runtime** → **Run before**  from the menu above (or use the keyboard combination Ctrl/⌘ + F8). This will re-execute all cells before the current one."
      ],
      "metadata": {
        "id": "pbtgZxrpjm6j"
      }
    },
    {
      "cell_type": "markdown",
      "source": [
        "## Imports\n",
        "\n",
        "The code in this lab uses the [`random`](https://docs.python.org/3/library/random.html) package for sampling from probability distributions, the [`Counter`](https://docs.python.org/3/library/collections.html#collections.Counter) and [`defaultdict`](https://docs.python.org/3/library/collections.html#collections.defaultdict) data types for counting n-grams, and the [`pandas`](https://pandas.pydata.org/) (`pd`) package for constructing data tables."
      ],
      "metadata": {
        "id": "WQQlDe0hL8AY"
      }
    },
    {
      "cell_type": "code",
      "source": [
        "%%capture\n",
        "!pip install \"git+https://github.com/google-deepmind/ai-foundations.git@main\"\n",
        "\n",
        "# Packages used.\n",
        "import random # For sampling from probability distributions.\n",
        "from collections import Counter, defaultdict # For counting n-grams.\n",
        "\n",
        "import textwrap # For automatically addding linebreaks to long texts.\n",
        "import pandas as pd # For construction and visualizing tables.\n",
        "\n",
        "# Custom functions for providing feedback on your solutions.\n",
        "from ai_foundations.feedback.course_1 import ngrams"
      ],
      "metadata": {
        "id": "5Ht3mC6LUcUq"
      },
      "execution_count": 2,
      "outputs": []
    },
    {
      "metadata": {
        "id": "1rTj9QNCr2NC"
      },
      "cell_type": "markdown",
      "source": [
        "## Dataset loading and tokenization\n",
        "\n",
        "Begin by loading the dataset that you will use to estimate the n-gram counts. For this purpose, you will process the  [AfricaGalore](https://storage.googleapis.com/dm-educational/assets/ai_foundations/africa_galore.json) dataset.\n",
        "\n",
        "The Africa Galore dataset has been designed for this course and consists of synthetically generated paragraphs focusing on diverse aspects of African culture, history, and geography. It has been generated using Google's Gemini language model. Because it is synthetically created, the data is clean, free from the noise and inconsistencies that are often present in real-world datasets. At the same time, given its synthetic nature, the texts may not always be as natural as human-authored texts.\n",
        "\n",
        "The dataset is specifically designed for educational purposes and the generation process has been guided to ensure that the content is concentrated around the topics relevant to the lab exercises you will be exploring. Its generation process was inspired by the [TinyStories project](https://arxiv.org/abs/2305.07759) [1].\n",
        "\n",
        "Run the following cell to download the dataset."
      ]
    },
    {
      "metadata": {
        "id": "Pa22xutOAiTx",
        "colab": {
          "base_uri": "https://localhost:8080/"
        },
        "outputId": "abbab548-172c-4ef8-a2a5-87e1f101cb9d"
      },
      "cell_type": "code",
      "source": [
        "africa_galore = pd.read_json(\n",
        "    \"https://storage.googleapis.com/dm-educational/assets/ai_foundations/africa_galore.json\"\n",
        ")\n",
        "dataset = africa_galore[\"description\"]\n",
        "print(f\"The dataset consists of {dataset.shape[0]} paragraphs.\")"
      ],
      "outputs": [
        {
          "output_type": "stream",
          "name": "stdout",
          "text": [
            "The dataset consists of 232 paragraphs.\n"
          ]
        }
      ],
      "execution_count": 3
    },
    {
      "metadata": {
        "id": "xUt0FYhXKg_N"
      },
      "cell_type": "markdown",
      "source": [
        "To get a sense of what these paragraphs look like, inspect the first ten paragraphs in the dataset. You may also want to skim the remainder of the dataset here: [Africa Galore dataset](https://storage.googleapis.com/dm-educational/assets/ai_foundations/africa_galore.json). When working with datasets, it is important to have a good sense of what is in the dataset, since datasets strongly influence the behavior of machine learning models."
      ]
    },
    {
      "metadata": {
        "id": "IRYzvOkxCILc",
        "colab": {
          "base_uri": "https://localhost:8080/"
        },
        "outputId": "2878ca59-6152-4be2-c0b0-cc353e3d7a81"
      },
      "cell_type": "code",
      "source": [
        "for paragraph in dataset[:10]:\n",
        "    # textwrap automatically adds linebreaks to make long texts more readable.\n",
        "    formatted_paragraph = textwrap.fill(paragraph)\n",
        "    print(f\"{formatted_paragraph}\\n\")"
      ],
      "outputs": [
        {
          "output_type": "stream",
          "name": "stdout",
          "text": [
            "The Lagos air was thick with humidity, but the energy in the club was\n",
            "electric. The band launched into a hypnotic Afrobeat groove, the drums\n",
            "pounding out a complex polyrhythm, the horns blaring a soaring melody,\n",
            "and the bass laying down a deep, funky foundation. A woman named Imani\n",
            "moved effortlessly to the music, her body swaying in time with the\n",
            "rhythm. The music seemed to flow through her, a powerful current of\n",
            "energy and joy. All around her, people were dancing, singing, and\n",
            "clapping, caught up in the infectious rhythm. The music was more than\n",
            "just entertainment; it was a celebration of life, a connection to\n",
            "their shared heritage, a vibrant expression of the soul of Lagos.\n",
            "\n",
            "The warm evening air in Accra was filled with the lilting melodies of\n",
            "Highlife music. At a small bar tucked away on a side street, a band\n",
            "played, the guitars weaving intricate patterns, the horns adding a\n",
            "bright, joyful counterpoint. Kwame, a man with a wistful smile, sat at\n",
            "a table nursing a beer, lost in the music. The Highlife tunes evoked\n",
            "memories of his childhood, of family gatherings, of dancing under the\n",
            "stars. The music was a soundtrack to his life, a reminder of his\n",
            "roots, a source of comfort and joy in the bustling city.\n",
            "\n",
            "The bustling streets of Lagos were alive with the sounds of Juju\n",
            "music. From a small radio in a market stall, the distinctive rhythms\n",
            "and vocals of King Sunny Adé poured out, drawing a crowd of listeners.\n",
            "Mama Bisi, a woman with a warm smile and a contagious laugh, tapped\n",
            "her feet to the beat as she haggled for vegetables. The music was a\n",
            "constant companion in her life, a source of energy and inspiration, a\n",
            "reminder of the rich cultural tapestry of Nigeria.\n",
            "\n",
            "The Dakar waterfront was buzzing with activity as the sun began to\n",
            "set. From a nearby restaurant, the vibrant sounds of Mbalax music\n",
            "spilled out, the distinctive vocals of Youssou N'Dour soaring over the\n",
            "complex percussion and the hypnotic basslines. A group of friends,\n",
            "gathered for an evening meal, swayed to the music, their faces lit up\n",
            "with smiles. The Mbalax rhythms, a blend of traditional Senegalese\n",
            "music and modern influences, created an atmosphere of celebration and\n",
            "joy, a vibrant expression of Senegalese culture.\n",
            "\n",
            "The Kinshasa night was alive with the infectious energy of Soukous\n",
            "music. In a crowded nightclub, the band played, the guitars weaving\n",
            "intricate melodies, the drums driving the rhythm, and the singers'\n",
            "voices urging everyone to dance. Jean-Pierre, a man with boundless\n",
            "energy, moved his feet to the beat, lost in the music. The Soukous\n",
            "rhythms, a fusion of Congolese rumba and other influences, created a\n",
            "whirlwind of movement and joy, a celebration of life and music in the\n",
            "heart of Africa.\n",
            "\n",
            "In a small township outside Durban, a group of men gathered in a\n",
            "community hall. They were members of an Isicathamiya choir, practicing\n",
            "their intricate harmonies and synchronized dance moves. The music,\n",
            "characterized by its a cappella vocals and close harmonies, filled the\n",
            "hall with a powerful and moving sound. For these men, Isicathamiya was\n",
            "more than just music; it was a way to express their emotions, to\n",
            "connect with their Zulu heritage, and to find solace and strength in\n",
            "the face of adversity.\n",
            "\n",
            "The vibrant colors and intricate patterns of Kente cloth, a symbol of\n",
            "Ghanaian royalty and prestige, tell stories of history, culture, and\n",
            "social status. Woven on narrow looms by skilled artisans, each strip\n",
            "of Kente is a testament to patience and artistry. The geometric\n",
            "designs, rich with symbolism, represent proverbs, historical events,\n",
            "and important figures. Worn during special occasions and ceremonies,\n",
            "Kente cloth embodies the spirit of Ghana, its vibrant culture, and its\n",
            "rich history. From the bright yellows and golds representing royalty\n",
            "to the deep blues and greens symbolizing spirituality, Kente is a\n",
            "visual language, a wearable expression of Ghanaian identity and\n",
            "heritage.\n",
            "\n",
            "Bogolanfini, or mud cloth, from Mali, is a textile steeped in\n",
            "tradition and symbolism. Its distinctive patterns, created using\n",
            "fermented mud and natural dyes, tell stories of Malian culture,\n",
            "history, and beliefs. The process of creating Bogolanfini is as rich\n",
            "and complex as the designs themselves, involving multiple stages of\n",
            "dyeing, painting, and sun-drying. Each piece is unique, reflecting the\n",
            "artistry and skill of the maker. Traditionally worn by hunters and\n",
            "warriors, Bogolanfini has become a symbol of Malian identity and a\n",
            "testament to the enduring power of indigenous art forms.\n",
            "\n",
            "Adire, a resist-dyed indigo cloth from Nigeria, is a vibrant\n",
            "expression of Yoruba culture and creativity. The intricate patterns,\n",
            "created using various techniques such as stitching, tying, and\n",
            "applying starch paste, represent proverbs, stories, and symbols of\n",
            "Yoruba cosmology. Adire, meaning “tied and dyed,” is a testament to\n",
            "the ingenuity and artistry of Yoruba women, who have passed down these\n",
            "techniques through generations. From the bold, geometric designs of\n",
            "Adire Eleko to the more fluid patterns of Adire Oniko, Adire cloth is\n",
            "a celebration of Yoruba artistry and a symbol of cultural pride.\n",
            "\n",
            "Kanga, a colorful printed cloth from East Africa, particularly\n",
            "Tanzania and Kenya, is more than just a fabric; it's a form of\n",
            "communication and social expression. Each Kanga features a central\n",
            "design surrounded by a border and a proverb or saying, often written\n",
            "in Swahili. These proverbs offer advice, commentary on social issues,\n",
            "or expressions of love and friendship. Kanga are worn by women for\n",
            "everyday wear, special occasions, and as gifts, serving as a vibrant\n",
            "symbol of East African culture and a testament to the power of\n",
            "language and visual expression.\n",
            "\n"
          ]
        }
      ],
      "execution_count": 4
    },
    {
      "metadata": {
        "id": "q-wtFwrL5_gn"
      },
      "cell_type": "markdown",
      "source": [
        "### Tokenization\n",
        "\n",
        "Remember that an n-gram is a sequence of $n$ *words*. However, in its current form, the paragraphs are one long string. In order to split the dataset into n-grams and to count them so that you can use them to build a language model, you will have to split these sequences into individual words. This process is referred to as **tokenization**.\n",
        "\n",
        "The simplest tokenizer is a **space tokenizer**. This tokenizer breaks sentences into individual words based on spaces, that is, the characters that are produced by pressing the space bar. For example, a space tokenizer would tokenize the sentence \"Bimpe didn't buy the rice\" into the list of words `[\"Bimpe\", \"didn't\", \"buy\", \"the\", \"rice\"]`.\n",
        "\n",
        "The cell below implements a space tokenizer in the `space_tokenize` function."
      ]
    },
    {
      "metadata": {
        "id": "mns1I5yzx-kp",
        "colab": {
          "base_uri": "https://localhost:8080/"
        },
        "outputId": "1ed1aea6-e552-42be-b4d6-1061e2e9d258"
      },
      "cell_type": "code",
      "source": [
        "def space_tokenize(text: str) -> list[str]:\n",
        "    \"\"\"Splits a string into a list of words (tokens).\n",
        "\n",
        "    Splits text on space.\n",
        "\n",
        "    Args:\n",
        "        text: The input text.\n",
        "\n",
        "    Returns:\n",
        "        A list of tokens. Returns empty list if text is empty or all spaces.\n",
        "    \"\"\"\n",
        "    tokens = text.split(\" \")\n",
        "    return tokens\n",
        "\n",
        "# Tokenize an example text with the `space_tokenize` function.\n",
        "space_tokenize(\"Kanga, a colorful printed cloth is more than just a fabric!.\")"
      ],
      "outputs": [
        {
          "output_type": "execute_result",
          "data": {
            "text/plain": [
              "['Kanga,',\n",
              " 'a',\n",
              " 'colorful',\n",
              " 'printed',\n",
              " 'cloth',\n",
              " 'is',\n",
              " 'more',\n",
              " 'than',\n",
              " 'just',\n",
              " 'a',\n",
              " 'fabric!.']"
            ]
          },
          "metadata": {},
          "execution_count": 6
        }
      ],
      "execution_count": 6
    },
    {
      "metadata": {
        "id": "j_9Ns7sUB-VT"
      },
      "cell_type": "markdown",
      "source": [
        "Note that the space tokenizer is quite naive. When you are tokenizing based only on spaces, you will observe that the punctuation marks are often considered part of the words. For example, tokenizing the sentence \"Table mountain is tall.\"  will result in a different list of words than tokenizing \"Table mountain is tall\". The first sentence results in (`[\"Table\", \"mountain\", \"is\", \"tall.\"]`. The second sentence, which has the period missing from the end, will result in `[\"Table\", \"mountain\", \"is\", \"tall\"]`). Since the units that tokenizers split sequences into are not always a word, they are usually referred to as **tokens**. In many cases, a token will be the same as a word but it may also be non-word strings, such as \"tall.\" or \"3/4\".\n",
        "\n",
        "You will learn about more sophisticated methods for tokenizing texts in later courses. For the purpose of this lab, the space tokenizer will be sufficient and you will use the implementation of the `space_tokenize` function that you observed in the previous cell."
      ]
    },
    {
      "metadata": {
        "id": "ni2mxLCfY-SK"
      },
      "cell_type": "markdown",
      "source": [
        "To get an impression of what the tokenized data looks like, run the cell below to tokenize the first paragraph in the dataset."
      ]
    },
    {
      "metadata": {
        "id": "Xno1DO0sY87o",
        "colab": {
          "base_uri": "https://localhost:8080/"
        },
        "outputId": "0da00c02-6a04-4996-ba6d-590871e55c03"
      },
      "cell_type": "code",
      "source": [
        "space_tokenize(dataset[0])"
      ],
      "outputs": [
        {
          "output_type": "execute_result",
          "data": {
            "text/plain": [
              "['The',\n",
              " 'Lagos',\n",
              " 'air',\n",
              " 'was',\n",
              " 'thick',\n",
              " 'with',\n",
              " 'humidity,',\n",
              " 'but',\n",
              " 'the',\n",
              " 'energy',\n",
              " 'in',\n",
              " 'the',\n",
              " 'club',\n",
              " 'was',\n",
              " 'electric.',\n",
              " 'The',\n",
              " 'band',\n",
              " 'launched',\n",
              " 'into',\n",
              " 'a',\n",
              " 'hypnotic',\n",
              " 'Afrobeat',\n",
              " 'groove,',\n",
              " 'the',\n",
              " 'drums',\n",
              " 'pounding',\n",
              " 'out',\n",
              " 'a',\n",
              " 'complex',\n",
              " 'polyrhythm,',\n",
              " 'the',\n",
              " 'horns',\n",
              " 'blaring',\n",
              " 'a',\n",
              " 'soaring',\n",
              " 'melody,',\n",
              " 'and',\n",
              " 'the',\n",
              " 'bass',\n",
              " 'laying',\n",
              " 'down',\n",
              " 'a',\n",
              " 'deep,',\n",
              " 'funky',\n",
              " 'foundation.',\n",
              " 'A',\n",
              " 'woman',\n",
              " 'named',\n",
              " 'Imani',\n",
              " 'moved',\n",
              " 'effortlessly',\n",
              " 'to',\n",
              " 'the',\n",
              " 'music,',\n",
              " 'her',\n",
              " 'body',\n",
              " 'swaying',\n",
              " 'in',\n",
              " 'time',\n",
              " 'with',\n",
              " 'the',\n",
              " 'rhythm.',\n",
              " 'The',\n",
              " 'music',\n",
              " 'seemed',\n",
              " 'to',\n",
              " 'flow',\n",
              " 'through',\n",
              " 'her,',\n",
              " 'a',\n",
              " 'powerful',\n",
              " 'current',\n",
              " 'of',\n",
              " 'energy',\n",
              " 'and',\n",
              " 'joy.',\n",
              " 'All',\n",
              " 'around',\n",
              " 'her,',\n",
              " 'people',\n",
              " 'were',\n",
              " 'dancing,',\n",
              " 'singing,',\n",
              " 'and',\n",
              " 'clapping,',\n",
              " 'caught',\n",
              " 'up',\n",
              " 'in',\n",
              " 'the',\n",
              " 'infectious',\n",
              " 'rhythm.',\n",
              " 'The',\n",
              " 'music',\n",
              " 'was',\n",
              " 'more',\n",
              " 'than',\n",
              " 'just',\n",
              " 'entertainment;',\n",
              " 'it',\n",
              " 'was',\n",
              " 'a',\n",
              " 'celebration',\n",
              " 'of',\n",
              " 'life,',\n",
              " 'a',\n",
              " 'connection',\n",
              " 'to',\n",
              " 'their',\n",
              " 'shared',\n",
              " 'heritage,',\n",
              " 'a',\n",
              " 'vibrant',\n",
              " 'expression',\n",
              " 'of',\n",
              " 'the',\n",
              " 'soul',\n",
              " 'of',\n",
              " 'Lagos.']"
            ]
          },
          "metadata": {},
          "execution_count": 7
        }
      ],
      "execution_count": 7
    },
    {
      "metadata": {
        "id": "wMiC7Jq0YtXq"
      },
      "cell_type": "markdown",
      "source": [
        "## Coding Activity 1: From lists of tokens to n-grams\n",
        "\n",
        "The `space_tokenize` function returns a list of individual tokens. However, to compute the conditional probability of a token $\\mbox{B}$ following a context $\\mbox{A}$, $P(\\mbox{B} \\mid \\mbox{A})$, you need to determine how often all n-grams and (n-1)-grams appear in your dataset.\n",
        "\n",
        "For example, if you want to compute the probability of the token \"is\" following a bigram (2-gram) \"Table Mountain\", then you need to know the counts of the trigram (3-gram) \"Table Mountain is\" and the bigram \"Table Mountain\". More generally, to build an n-gram language model, you need to determine the counts of all n-grams and (n-1)-grams. As a first step towards obtaining these counts, you will write a function that turns a list of tokens into a list of n-grams."
      ]
    },
    {
      "cell_type": "markdown",
      "source": [
        "------\n",
        "> 💻 **Your task**:\n",
        ">\n",
        "> Complete the function `generate_ngrams(text: str, n: int)` below.\n",
        ">\n",
        "> This function should return a list of n-grams of length $n$ for a text. Each n-gram should be represented as a tuple of tokens. The function should therefore return a list of tuples of strings. You can use the [`tuple()`](https://www.w3schools.com/python/python_tuples.asp) function to convert a list of strings to a tuple of strings.\n",
        ">\n",
        "> Your function will first have to tokenize the text. You can use the `space_tokenize` function from above for this purpose. Second, the function needs to construct the list of n-grams for the text.\n",
        ">\n",
        "> For example, if the input to the function is `text = \"Table Mountain is tall.\"` and `n = 2`, the function should return the following list of bigrams:\n",
        "> ```\n",
        "> [\n",
        ">  (\"Table\", \"Mountain\"),\n",
        ">  (\"Mountain\", \"is\"),\n",
        ">  (\"is\", \"tall.\")\n",
        "> ]\n",
        "> ```\n",
        ">\n",
        "> Once you have finished your implementation, run the cell below to print the first ten unigrams, bigrams, and trigrams that appear in the dataset.\n",
        "------"
      ],
      "metadata": {
        "id": "M9qHlL3l8yMx"
      }
    },
    {
      "metadata": {
        "id": "IJx9P17ox-kp",
        "colab": {
          "base_uri": "https://localhost:8080/"
        },
        "outputId": "b6e1279e-54d2-4fc1-c79d-158bc5d5eb39"
      },
      "cell_type": "code",
      "source": [
        "all_unigrams = []\n",
        "all_bigrams = []\n",
        "all_trigrams = []\n",
        "\n",
        "def generate_ngrams(text: str, n: int) -> list[tuple[str]]:\n",
        "    \"\"\"Generates n-grams from a given text.\n",
        "\n",
        "    Args:\n",
        "        text: The input text string.\n",
        "        n: The size of the n-grams (e.g., 2 for bigrams, 3 for trigrams).\n",
        "\n",
        "    Returns:\n",
        "        A list of n-grams, each represented as a list of tokens.\n",
        "    \"\"\"\n",
        "\n",
        "    # Tokenize text.\n",
        "    tokens = space_tokenize(text)\n",
        "\n",
        "    # Construct the list of n-grams.\n",
        "    ngrams = []\n",
        "\n",
        "    # Add your code here.\n",
        "    # construct the list of n-grams for the text.\n",
        "    for i in range(len(tokens) - n + 1):\n",
        "      ngram = tuple(tokens[i:i+n])\n",
        "      ngrams.append(ngram)\n",
        "\n",
        "    return ngrams\n",
        "\n",
        "for paragraph in dataset:\n",
        "    # Calling `generate_ngrams` with n=1 constructs a list of unigrams.\n",
        "    all_unigrams.extend(generate_ngrams(paragraph, n=1))\n",
        "    # Calling `generate_ngrams` with n=2 constructs a list of bigrams (2-grams).\n",
        "    all_bigrams.extend(generate_ngrams(paragraph, n=2))\n",
        "    # Calling `generate_ngrams` with n=2 constructs a list of trigram (3-grams).\n",
        "    all_trigrams.extend(generate_ngrams(paragraph, n=3))\n",
        "\n",
        "print(\"First 10 Unigrams:\", all_unigrams[:10])\n",
        "print(\"First 10 Bigrams:\", all_bigrams[:10])\n",
        "print(\"First 10 Trigrams:\", all_trigrams[:10])"
      ],
      "outputs": [
        {
          "output_type": "stream",
          "name": "stdout",
          "text": [
            "First 10 Unigrams: [('The',), ('Lagos',), ('air',), ('was',), ('thick',), ('with',), ('humidity,',), ('but',), ('the',), ('energy',)]\n",
            "First 10 Bigrams: [('The', 'Lagos'), ('Lagos', 'air'), ('air', 'was'), ('was', 'thick'), ('thick', 'with'), ('with', 'humidity,'), ('humidity,', 'but'), ('but', 'the'), ('the', 'energy'), ('energy', 'in')]\n",
            "First 10 Trigrams: [('The', 'Lagos', 'air'), ('Lagos', 'air', 'was'), ('air', 'was', 'thick'), ('was', 'thick', 'with'), ('thick', 'with', 'humidity,'), ('with', 'humidity,', 'but'), ('humidity,', 'but', 'the'), ('but', 'the', 'energy'), ('the', 'energy', 'in'), ('energy', 'in', 'the')]\n"
          ]
        }
      ],
      "execution_count": 16
    },
    {
      "cell_type": "code",
      "source": [
        "# @title Run this cell to test your implementation.\n",
        "ngrams.test_generate_ngrams(generate_ngrams, space_tokenize)"
      ],
      "metadata": {
        "id": "tlT3xhwcsEtE",
        "colab": {
          "base_uri": "https://localhost:8080/"
        },
        "outputId": "354e6279-41cd-4b0b-b412-e4b74c028b93"
      },
      "execution_count": 18,
      "outputs": [
        {
          "output_type": "stream",
          "name": "stdout",
          "text": [
            "✅ Nice! Your implementation looks correct.\n"
          ]
        }
      ]
    },
    {
      "metadata": {
        "id": "esDTLIxaHmLA"
      },
      "cell_type": "markdown",
      "source": [
        "The main reason for counting n-grams and using these counts to compute probabilities is that these probabilities can capture **patterns** in language. In this context, frequent n-grams are usually more interesting than very rare n-grams since they capture frequent co-occurrences of words (e.g., \"Table Mountain\" or \"jollof rice\").\n",
        "\n",
        "Run the following cell to compute which n-grams appear most frequently in the dataset.\n",
        "The output of the cell below is a list of tuples of the format `(ngram, number of occurrences)`. For example, the output shows you that the bigram `(\"is\",  \"a\")` appears 144 times in the Africa Galore dataset."
      ]
    },
    {
      "metadata": {
        "id": "2azMP6I4x-kp",
        "colab": {
          "base_uri": "https://localhost:8080/"
        },
        "outputId": "76f5057f-0676-463e-c4a4-2cbfa1603e15"
      },
      "cell_type": "code",
      "source": [
        "# Use the Python Counter data type for computing the counts of all bigrams.\n",
        "# See: https://docs.python.org/3/library/collections.html#collections.Counter\n",
        "bigram_counts = Counter(all_bigrams)\n",
        "print(bigram_counts)\n",
        "\n",
        "# Print the ten most common bigrams.\n",
        "print(\"Most common bigrams:\")\n",
        "for bigram, count in bigram_counts.most_common(10):\n",
        "    print(f\"  ({bigram}, {count})\")\n",
        "\n",
        "# Use the Python Counter data type for computing the counts of all trigrams.\n",
        "trigram_counts = Counter(all_trigrams)\n",
        "\n",
        "# Print the ten most common trigrams.\n",
        "print(\"\\n\\nMost common trigrams:\")\n",
        "for trigram, count in trigram_counts.most_common(10):\n",
        "    print(f\"  ({trigram}, {count})\")"
      ],
      "outputs": [
        {
          "output_type": "stream",
          "name": "stdout",
          "text": [
            "Counter({('is', 'a'): 144, ('of', 'the'): 100, ('and', 'the'): 69, ('in', 'the'): 61, ('with', 'a'): 60, ('in', 'a'): 55, ('and', 'a'): 50, ('to', 'the'): 42, ('was', 'a'): 39, ('It', 'is'): 33, ('went', 'looking'): 32, ('looking', 'for'): 32, ('with', 'the'): 31, ('for', 'a'): 31, ('as', 'a'): 30, ('made', 'from'): 29, ('on', 'the'): 25, ('from', 'the'): 24, ('such', 'as'): 23, ('for', 'its'): 23, ('by', 'the'): 23, ('served', 'with'): 23, ('symbol', 'of'): 22, ('for', 'the'): 22, ('a', 'traditional'): 20, ('can', 'be'): 20, ('it', 'a'): 19, ('has', 'a'): 19, ('is', 'the'): 19, ('at', 'a'): 18, ('a', 'symbol'): 18, ('was', 'hungry'): 18, ('hungry', 'so'): 18, ('The', 'result'): 17, ('result', 'is'): 17, ('a', 'small'): 16, ('on', 'a'): 16, ('she', 'went'): 16, ('he', 'went'): 16, ('more', 'than'): 15, ('filled', 'with'): 15, ('is', 'made'): 15, ('it', 'was'): 14, ('characterized', 'by'): 14, ('a', 'popular'): 14, ('one', 'of'): 14, ('aroma', 'of'): 14, ('is', 'often'): 14, ('often', 'served'): 14, ('so', 'he'): 14, ('so', 'she'): 14, ('and', 'is'): 14, ('into', 'a'): 13, ('than', 'just'): 13, ('a', 'vibrant'): 13, ('as', 'the'): 13, ('South', 'African'): 13, ('a', 'staple'): 13, ('made', 'with'): 13, ('to', 'a'): 12, ('through', 'the'): 12, ('parts', 'of'): 12, ('made', 'by'): 12, ('was', 'more'): 11, ('blend', 'of'): 11, ('way', 'to'): 11, ('a', 'testament'): 11, ('testament', 'to'): 11, ('by', 'a'): 11, ('it', 'is'): 11, ('a', 'taste'): 11, ('taste', 'of'): 11, ('a', 'rich'): 11, ('of', 'a'): 11, ('West', 'African'): 11, ('the', 'rich'): 10, ('by', 'its'): 10, ('reflecting', 'the'): 10, ('a', 'unique'): 10, ('making', 'it'): 10, ('The', 'air'): 10, ('into', 'the'): 10, ('creating', 'a'): 10, ('scent', 'of'): 10, ('a', 'hearty'): 10, ('was', 'thirsty'): 10, ('thirsty', 'so'): 10, ('and', 'sometimes'): 10, ('popular', 'in'): 10, ('air', 'was'): 9, ('and', 'other'): 9, ('known', 'as'): 9, ('the', 'air'): 9, ('the', 'African'): 9, ('seasoned', 'with'): 9, ('sweet', 'and'): 9, ('renowned', 'for'): 9, ('a', 'place'): 9, ('and', 'often'): 9, ('refreshing', 'and'): 9, ('with', 'spices'): 9, ('reminder', 'of'): 8, ('and', 'its'): 8, ('throughout', 'the'): 8, ('create', 'a'): 8, ('known', 'for'): 8, ('in', 'their'): 8, ('like', 'the'): 8, ('flavor', 'and'): 8, ('pieces', 'of'): 8, ('a', 'spicy'): 8, ('UNESCO', 'World'): 8, ('World', 'Heritage'): 8, ('a', 'refreshing'): 8, ('is', 'typically'): 8, ('that', 'is'): 8, ('often', 'enjoyed'): 8, ('served', 'in'): 8, ('of', 'his'): 7, ('over', 'the'): 7, ('filled', 'the'): 7, ('and', 'cultural'): 7, ('for', 'their'): 7, ('As', 'the'): 7, ('burst', 'of'): 7, ('to', 'be'): 7, ('and', 'vegetables'): 7, ('to', 'create'): 7, ('a', 'bustling'): 7, ('and', 'their'): 7, ('dish', 'made'): 7, ('staple', 'in'): 7, ('leaves', 'and'): 7, ('and', 'most'): 7, ('offering', 'a'): 7, ('are', 'a'): 7, ('the', 'most'): 7, ('a', 'vital'): 7, ('a', 'simple'): 7, ('language', 'family'): 7, ('the', 'largest'): 7, ('languages', 'are'): 7, ('typically', 'served'): 7, ('is', 'usually'): 7, ('and', 'served'): 7, ('similar', 'to'): 7, ('mixed', 'with'): 7, ('countries', 'like'): 7, ('a', 'side'): 6, ('a', 'reminder'): 6, ('a', 'woman'): 6, ('a', 'warm'): 6, ('the', 'vibrant'): 6, ('power', 'of'): 6, ('just', 'a'): 6, ('East', 'African'): 6, ('the', 'power'): 6, ('of', 'African'): 6, ('is', 'characterized'): 6, ('in', 'this'): 6, ('a', 'variety'): 6, ('variety', 'of'): 6, ('is', 'also'): 6, ('resulting', 'in'): 6, ('in', 'many'): 6, ('of', 'Africa,'): 6, ('lived', 'in'): 6, ('of', 'her'): 6, ('and', 'slightly'): 6, ('a', 'large,'): 6, ('to', 'scoop'): 6, ('scoop', 'up'): 6, ('up', 'the'): 6, ('garlic,', 'and'): 6, ('at', 'the'): 6, ('the', 'flavorful'): 6, ('-', 'the'): 6, ('a', 'smooth,'): 6, ('of', 'their'): 6, ('at', 'its'): 6, ('water', 'and'): 6, ('a', 'comforting'): 6, ('onions,', 'and'): 6, ('a', 'street'): 6, ('It', 'was'): 6, ('provided', 'a'): 6, ('of', \"Africa's\"): 6, ('the', \"world's\"): 6, ('a', 'UNESCO'): 6, ('role', 'in'): 6, ('place', 'where'): 6, ('tea', 'and'): 6, ('is', 'one'): 6, ('used', 'in'): 6, ('glass', 'of'): 6, ('be', 'a'): 6, ('or', 'a'): 6, ('cup', 'of'): 6, ('cooked', 'in'): 6, ('giving', 'it'): 6, ('It', 'has'): 6, ('a', 'savory'): 6, ('cooked', 'with'): 6, ('spices', 'such'): 6, ('leaves', 'are'): 6, ('energy', 'and'): 5, ('life,', 'a'): 5, ('under', 'the'): 5, ('group', 'of'): 5, ('In', 'a'): 5, ('of', 'life'): 5, ('of', 'Africa.'): 5, ('East', 'Africa,'): 5, ('also', 'known'): 5, ('a', 'wide'): 5, ('range', 'of'): 5, ('in', 'Southern'): 5, ('along', 'with'): 5, ('to', 'its'): 5, ('the', 'surrounding'): 5, ('coast', 'is'): 5, ('fruits,', 'vegetables,'): 5, ('due', 'to'): 5, ('part', 'of'): 5, ('the', 'rhythmic'): 5, ('understanding', 'of'): 5, ('fried', 'plantains'): 5, ('a', 'burst'): 5, ('just', 'food;'): 5, ('food;', 'it'): 5, ('of', 'home,'): 5, ('where', 'the'): 5, ('slightly', 'sour'): 5, ('-', 'a'): 5, ('a', 'slightly'): 5, ('it', 'to'): 5, ('array', 'of'): 5, ('with', 'onions,'): 5, ('spices,', 'and'): 5, ('across', 'the'): 5, ('outside', 'and'): 5, ('a', 'dish'): 5, ('its', 'unique'): 5, ('a', 'large'): 5, ('a', 'mixture'): 5, ('street', 'food'): 5, ('from', 'fermented'): 5, ('the', 'day'): 5, ('meat', 'and'): 5, ('from', 'South'): 5, ('a', 'vast'): 5, ('the', 'scent'): 5, ('from', 'a'): 5, ('family', 'is'): 5, ('in', 'Africa'): 5, ('are', 'often'): 5, ('they', 'are'): 5, ('sculpture,', 'from'): 5, ('health', 'and'): 5, ('crucial', 'for'): 5, ('a', 'hot'): 5, ('him', 'to'): 5, ('tomato', 'and'): 5, ('color', 'and'): 5, ('served', 'at'): 5, ('soup', 'is'): 5, ('texture', 'and'): 5, ('Africa,', 'especially'): 5, ('Africa.', 'It'): 5, ('used', 'to'): 5, ('dish', 'of'): 5, ('bowl', 'of'): 5, ('a', 'plate'): 5, ('plate', 'of'): 5, ('paired', 'with'): 5, ('green', 'tea'): 5, ('dish', 'in'): 5, ('eaten', 'with'): 5, ('spices', 'like'): 5, ('in', 'East'): 5, ('with', 'water'): 5, ('usually', 'served'): 5, ('is', 'used'): 5, ('which', 'is'): 5, ('a', 'sweet'): 5, ('a', 'complex'): 4, ('The', 'music'): 4, ('a', 'powerful'): 4, ('a', 'celebration'): 4, ('celebration', 'of'): 4, ('to', 'their'): 4, ('heritage,', 'a'): 4, ('expression', 'of'): 4, ('was', 'filled'): 4, ('At', 'a'): 4, ('a', 'source'): 4, ('source', 'of'): 4, ('the', 'bustling'): 4, ('alive', 'with'): 4, ('sounds', 'of'): 4, ('the', 'distinctive'): 4, ('woman', 'with'): 4, ('rich', 'cultural'): 4, ('the', 'heart'): 4, ('heart', 'of'): 4, ('of', 'an'): 4, ('vibrant', 'colors'): 4, ('stories', 'of'): 4, ('and', 'social'): 4, ('rich', 'and'): 4, ('of', 'Yoruba'): 4, ('passed', 'down'): 4, ('Africa,', 'particularly'): 4, ('serving', 'as'): 4, ('of', 'East'): 4, ('Africa', 'and'): 4, ('a', 'beloved'): 4, ('Southern', 'Africa,'): 4, ('South', 'Africa.'): 4, ('cultural', 'heritage'): 4, ('climate,', 'with'): 4, ('during', 'the'): 4, ('a', 'few'): 4, ('by', 'their'): 4, ('are', 'known'): 4, ('plant', 'and'): 4, ('and', 'animal'): 4, ('coast', 'of'): 4, ('on', 'Earth.'): 4, ('the', 'warm'): 4, ('girl', 'with'): 4, ('vibrant', 'red'): 4, ('of', 'flavor'): 4, ('When', 'the'): 4, ('garnished', 'with'): 4, ('high', 'in'): 4, ('the', 'Ethiopian'): 4, ('called', 'a'): 4, ('would', 'carefully'): 4, ('tear', 'off'): 4, ('land', 'and'): 4, ('a', 'low'): 4, ('As', 'they'): 4, ('While', 'the'): 4, ('long', 'shadows'): 4, ('the', 'outside'): 4, ('shared', 'stories'): 4, ('dish', 'that'): 4, ('the', 'aroma'): 4, ('juice,', 'and'): 4, ('mixture', 'of'): 4, ('the', 'savory'): 4, ('sauce', 'and'): 4, ('the', 'city'): 4, ('portion', 'of'): 4, ('rhythmic', 'beat'): 4, ('beat', 'of'): 4, ('with', 'grilled'): 4, ('amidst', 'the'): 4, ('after', 'a'): 4, ('a', 'rich,'): 4, ('stories', 'and'): 4, ('In', 'the'): 4, ('around', 'a'): 4, ('and', 'spices.'): 4, ('and', 'satisfying'): 4, ('of', 'meat'): 4, ('a', 'nutritious'): 4, ('eager', 'to'): 4, ('is', 'an'): 4, ('largest', 'and'): 4, ('over', 'a'): 4, ('the', 'Great'): 4, ('beliefs', 'of'): 4, ('Heritage', 'Site'): 4, ('South', 'Africa,'): 4, ('National', 'Park,'): 4, ('located', 'in'): 4, ('The', \"park's\"): 4, ('The', 'park'): 4, ('vital', 'role'): 4, ('the', 'small'): 4, ('the', 'enticing'): 4, ('West', 'Africa,'): 4, ('the', 'world.'): 4, ('and', 'parts'): 4, ('spoken', 'in'): 4, ('They', 'are'): 4, ('and', 'well-being.'): 4, ('and', 'nutritious'): 4, ('a', 'strong'): 4, ('a', 'healthy'): 4, ('rich', 'in'): 4, ('essential', 'for'): 4, ('water', 'is'): 4, ('especially', 'in'): 4, ('to', 'quench'): 4, ('slightly', 'sweet'): 4, ('a', 'thick'): 4, ('a', 'flavorful'): 4, ('taste.', 'It'): 4, ('beef', 'or'): 4, ('marinated', 'in'): 4, ('made', 'of'): 4, ('of', 'ground'): 4, ('chicken', 'is'): 4, ('Often', 'served'): 4, ('drawn', 'by'): 4, ('and', 'spices'): 4, ('accompanied', 'by'): 4, ('a', 'local'): 4, ('a', 'cup'): 4, ('traditional', 'South'): 4, ('street', 'vendor'): 4, ('with', 'ginger'): 4, ('slightly', 'tangy'): 4, ('a', 'long'): 4, ('is', 'cooked'): 4, ('(such', 'as'): 4, ('a', 'creamy'): 4, ('The', 'stew'): 4, ('stew', 'is'): 4, ('dish', 'often'): 4, ('enjoyed', 'as'): 4, ('enjoyed', 'with'): 4, ('fried', 'dough'): 4, ('and', 'Tanzania.'): 4, ('is', 'enjoyed'): 4, ('and', 'it'): 4, ('for', 'extra'): 4, ('spiced', 'with'): 4, ('is', 'commonly'): 4, ('cassava', 'leaves'): 4, ('Central', 'African'): 4, ('flavored', 'with'): 4, ('a', 'thick,'): 4, ('Southern', 'Africa.'): 4, ('enjoyed', 'at'): 4, ('plain', 'or'): 4, ('drink', 'made'): 4, ('drink', 'is'): 4, ('tea', 'is'): 4, ('square', 'kilometers'): 4, ('sq', 'mi)'): 4, ('herds', 'of'): 4, ('Park', 'is'): 4, ('including', 'the'): 4, ('thick', 'with'): 3, ('the', 'energy'): 3, ('of', 'energy'): 3, ('music', 'was'): 3, ('their', 'shared'): 3, ('vibrant', 'expression'): 3, ('adding', 'a'): 3, ('a', 'man'): 3, ('man', 'with'): 3, ('lost', 'in'): 3, ('music.', 'The'): 3, ('of', 'family'): 3, ('to', 'his'): 3, ('the', 'sounds'): 3, ('smile', 'and'): 3, ('in', 'her'): 3, ('the', 'sun'): 3, ('began', 'to'): 3, ('the', 'complex'): 3, ('their', 'faces'): 3, ('music', 'and'): 3, ('was', 'alive'): 3, ('a', 'group'): 3, ('They', 'were'): 3, ('with', 'their'): 3, ('The', 'vibrant'): 3, ('of', 'Ghanaian'): 3, ('geometric', 'designs,'): 3, ('and', 'ceremonies,'): 3, ('From', 'the'): 3, ('created', 'using'): 3, ('The', 'process'): 3, ('has', 'become'): 3, ('from', 'Nigeria,'): 3, (\"it's\", 'a'): 3, ('wide', 'range'): 3, ('and', 'South'): 3, ('unique', 'and'): 3, ('Rainfall', 'is'): 3, ('with', 'some'): 3, ('the', 'day,'): 3, ('contributing', 'to'): 3, ('year.', 'The'): 3, ('the', 'Sahara'): 3, ('a', 'hot,'): 3, ('a', 'distinct'): 3, ('distinct', 'wet'): 3, ('wet', 'and'): 3, ('and', 'dry'): 3, ('dry', 'season'): 3, ('living', 'in'): 3, ('temperate', 'climate,'): 3, ('combination', 'of'): 3, ('temperatures', 'and'): 3, ('of', 'North'): 3, ('summers', 'and'): 3, ('are', 'typically'): 3, ('with', 'warm'): 3, ('vegetables,', 'and'): 3, ('Southern', 'Africa'): 3, ('have', 'a'): 3, ('more', 'temperate'): 3, ('in', 'some'): 3, ('small', 'village'): 3, ('with', 'anticipation.'): 3, ('finely', 'chopped'): 3, ('the', 'air.'): 3, ('peppers,', 'and'): 3, ('a', 'secret'): 3, ('secret', 'blend'): 3, ('of', 'spices'): 3, ('down', 'through'): 3, ('with', 'each'): 3, ('she', 'would'): 3, ('the', 'Jollof'): 3, ('it', 'on'): 3, ('plantains', 'and'): 3, ('chicken.', 'The'): 3, ('the', 'fire'): 3, ('family,', 'and'): 3, ('a', 'boy'): 3, ('boy', 'with'): 3, ('Mama', 'Selamawit'): 3, ('that', 'gave'): 3, ('its', 'distinctive'): 3, ('fill', 'with'): 3, ('sour,', 'yeasty'): 3, ('comforting', 'and'): 3, ('to', 'tear'): 3, ('stews', 'and'): 3, ('Each', 'bite'): 3, ('a', 'symphony'): 3, ('symphony', 'of'): 3, ('a', 'girl'): 3, ('eyes', 'and'): 3, ('exploring', 'the'): 3, ('or', 'chicken'): 3, ('onions,', 'garlic,'): 3, ('fruits', 'like'): 3, ('the', 'tagine'): 3, ('of', 'Moroccan'): 3, ('infused', 'with'): 3, ('sun', 'beat'): 3, ('beat', 'down'): 3, ('the', 'dusty'): 3, ('Pap', 'en'): 3, ('a', 'South'): 3, ('and', 'juicy'): 3, ('a', 'hint'): 3, ('hint', 'of'): 3, ('the', 'meat'): 3, ('casting', 'long'): 3, ('the', 'smoky'): 3, ('a', 'mound'): 3, ('home,', 'a'): 3, ('the', 'afternoon'): 3, ('palm', 'nut'): 3, ('oil', 'and'): 3, ('off', 'a'): 3, ('piece', 'of'): 3, ('colors', 'of'): 3, ('the', 'local'): 3, ('over', 'charcoal,'): 3, ('that', 'promised'): 3, ('was', 'the'): 3, ('the', 'chicken'): 3, ('lemon', 'juice,'): 3, ('was', 'both'): 3, ('grilled', 'over'): 3, ('and', 'her'): 3, ('with', 'fresh'): 3, ('heat', 'and'): 3, ('the', 'warmth'): 3, ('warmth', 'of'): 3, ('tomato', 'sauce'): 3, ('of', 'both'): 3, ('and', 'shared'): 3, ('Doro', 'Wat,'): 3, ('and', 'spicy'): 3, ('the', 'air,'): 3, ('grilled', 'fish'): 3, ('fish', 'and'): 3, ('side', 'dish'): 3, ('of', 'community'): 3, ('air', 'as'): 3, ('of', 'Kenyan'): 3, ('life', '-'): 3, ('hearty', 'stew'): 3, ('body', 'and'): 3, ('and', 'spices,'): 3, ('meal', 'that'): 3, ('city', 'of'): 3, ('in', 'banana'): 3, ('and', 'flavorful'): 3, ('essential', 'nutrients'): 3, ('a', 'height'): 3, ('height', 'of'): 3, ('thousands', 'of'): 3, ('of', 'ecological'): 3, ('sense', 'of'): 3, (\"world's\", 'largest'): 3, ('teeming', 'with'): 3, ('Visitors', 'can'): 3, ('beauty', 'of'): 3, ('Egypt', 'and'): 3, ('among', 'the'): 3, ('the', 'oldest'): 3, ('the', 'ancient'): 3, ('insights', 'into'): 3, ('the', 'world,'): 3, ('destination', 'for'): 3, ('Park,', 'located'): 3, ('balance', 'of'): 3, ('Heritage', 'Site,'): 3, ('history', 'and'): 3, ('their', 'laughter'): 3, ('their', 'voices'): 3, ('presence', 'in'): 3, ('was', 'being'): 3, ('moved', 'at'): 3, ('The', 'warm,'): 3, ('the', 'villagers,'): 3, ('villagers,', 'who'): 3, ('who', 'lived'): 3, ('the', 'water'): 3, ('of', 'West'): 3, ('guided', 'by'): 3, ('are', 'characterized'): 3, ('the', 'cultural'): 3, ('Central', 'Africa,'): 3, ('Africa,', 'and'): 3, ('Africa.', 'The'): 3, ('in', 'parts'): 3, ('considered', 'a'): 3, ('southern', 'Africa,'): 3, ('and', 'then'): 3, ('of', 'human'): 3, ('sign', 'languages'): 3, ('the', 'continent.'): 3, ('often', 'depicting'): 3, ('artists', 'are'): 3, ('sculptures', 'are'): 3, ('is', 'renowned'): 3, ('that', 'are'): 3, ('the', 'social'): 3, ('the', 'body'): 3, ('cognitive', 'function.'): 3, ('Understanding', 'the'): 3, ('are', 'crucial'): 3, ('vitamins,', 'minerals,'): 3, ('minerals,', 'and'): 3, ('for', 'building'): 3, ('bodily', 'functions.'): 3, ('provide', 'a'): 3, ('and', 'fiber.'): 3, ('of', 'each'): 3, ('to', 'make'): 3, ('amounts', 'of'): 3, ('is', 'essential'): 3, ('body', 'temperature,'): 3, ('vitamins', 'and'): 3, ('or', 'after'): 3, ('a', 'delicious'): 3, ('delicious', 'and'): 3, ('a', 'soothing'): 3, ('and', 'can'): 3, ('you', 'to'): 3, ('hibiscus', 'tea'): 3, ('to', 'your'): 3, ('a', 'touch'): 3, ('touch', 'of'): 3, ('providing', 'a'): 3, ('thick', 'and'): 3, ('a', 'meal'): 3, ('the', 'perfect'): 3, ('rice', 'is'): 3, ('and', 'pepper'): 3, ('The', 'rice'): 3, ('meat', 'or'): 3, ('and', 'savory'): 3, ('and', 'local'): 3, ('or', 'pounded'): 3, ('consisting', 'of'): 3, ('and', 'Central'): 3, ('rice', 'or'): 3, ('a', 'classic'): 3, ('of', 'fish'): 3, ('often', 'considered'): 3, ('sauce', 'is'): 3, ('hearty', 'and'): 3, ('and', 'beans'): 3, ('breakfast', 'or'): 3, ('serving', 'of'): 3, ('grilled', 'meat'): 3, ('enticing', 'aroma'): 3, ('traditional', 'Ethiopian'): 3, ('ground', 'peanuts'): 3, ('tender', 'meat'): 3, ('promised', 'to'): 3, ('led', 'him'): 3, ('ginger', 'and'): 3, ('beverage', 'that'): 3, ('thirst', 'on'): 3, ('a', 'glass'): 3, ('tangy', 'flavor'): 3, ('to', 'cool'): 3, ('long', 'day'): 3, ('of', 'spiced'): 3, ('a', 'fermented'): 3, ('has', 'been'): 3, ('with', 'rice,'): 3, ('fish', 'or'): 3, ('and', 'onion'): 3, ('often', 'eaten'): 3, ('in', 'West'): 3, ('meat.', 'The'): 3, ('bell', 'peppers,'): 3, ('often', 'includes'): 3, ('spices', 'and'): 3, ('sweet,', 'and'): 3, ('a', 'quick'): 3, ('is', 'seasoned'): 3, ('African', 'fried'): 3, ('sugar,', 'and'): 3, ('deep-fried', 'until'): 3, ('golden', 'brown.'): 3, ('eaten', 'as'): 3, ('Kenya', 'and'): 3, ('until', 'it'): 3, ('meat', 'is'): 3, ('East', 'Africa'): 3, ('Tanzania.', 'The'): 3, ('as', 'cumin,'): 3, ('Africa', 'made'): 3, ('tomatoes,', 'onions,'): 3, ('are', 'boiled'): 3, ('its', 'nutritional'): 3, ('The', 'name'): 3, ('as', 'it'): 3, ('a', 'bit'): 3, ('bit', 'of'): 3, ('commonly', 'served'): 3, ('rice,', 'or'): 3, ('sauce.', 'The'): 3, ('in', 'countries'): 3, ('African', 'countries'): 3, ('served', 'as'): 3, ('in', 'North'): 3, ('chickpeas,', 'and'): 3, ('is', 'traditionally'): 3, ('spiced', 'meat'): 3, ('consists', 'of'): 3, (\"It's\", 'a'): 3, ('in', 'Afrikaans,'): 3, ('allowing', 'it'): 3, ('simmered', 'with'): 3, ('is', 'added'): 3, ('is', 'rich'): 3, ('Palm', 'wine'): 3, ('beverage', 'with'): 3, ('alcohol', 'content.'): 3, ('on', 'hot'): 3, ('a', 'mildly'): 3, ('to', 'ferment'): 3, ('Fura', 'da'): 3, ('The', 'drink'): 3, ('is', 'both'): 3, ('both', 'refreshing'): 3, ('a', 'light'): 3, ('fermented', 'milk'): 3, ('with', 'water,'): 3, ('and', 'sugar,'): 3, ('milk', 'is'): 3, ('water,', 'and'): 3, ('it', 'can'): 3, ('After', 'a'): 3, ('the', 'Kalahari'): 3, ('a', 'true'): 3, ('home', 'to'): 3, ('most', 'notably'): 3, ('millions', 'of'): 3, ('the', 'White'): 3, ('vast', 'herds'): 3, ('lions,', 'leopards,'): 3, ('a', 'premier'): 3, ('National', 'Park'): 3, ('park', 'is'): 3, ('along', 'the'): 3, ('famous', 'for'): 3, ('the', \"'Big\"): 3, ('the', 'endangered'): 3, ('endangered', 'African'): 3, ('African', 'wild'): 3, ('its', 'massive'): 3, ('As', 'a'): 3, ('distinguished', 'by'): 3, ('on', 'leaves'): 3, ('up', 'to'): 3, ('was', 'thick'): 2, ('the', 'drums'): 2, ('out', 'a'): 2, ('the', 'horns'): 2, ('woman', 'named'): 2, ('the', 'music,'): 2, ('time', 'with'): 2, ('rhythm.', 'The'): 2, ('the', 'infectious'): 2, ('of', 'life,'): 2, ('a', 'connection'): 2, ('connection', 'to'): 2, ('tucked', 'away'): 2, ('away', 'on'): 2, ('band', 'played,'): 2, ('played,', 'the'): 2, ('the', 'guitars'): 2, ('guitars', 'weaving'): 2, ('weaving', 'intricate'): 2, ('intricate', 'patterns,'): 2, ('a', 'table'): 2, ('the', 'music.'): 2, ('streets', 'of'): 2, ('From', 'a'): 2, ('market', 'stall,'): 2, ('stall,', 'the'): 2, ('vocals', 'of'): 2, ('feet', 'to'): 2, ('vegetables.', 'The'): 2, ('a', 'constant'): 2, ('tapestry', 'of'): 2, ('with', 'activity'): 2, ('activity', 'as'): 2, ('sun', 'began'): 2, ('to', 'set.'): 2, ('a', 'nearby'): 2, ('up', 'with'): 2, ('rhythms,', 'a'): 2, ('a', 'blend'): 2, ('influences,', 'created'): 2, ('and', 'joy,'): 2, ('joy,', 'a'): 2, ('of', 'Senegalese'): 2, ('night', 'was'): 2, ('energy', 'of'): 2, ('with', 'boundless'): 2, ('life', 'and'): 2, ('of', 'men'): 2, ('men', 'gathered'): 2, ('a', 'community'): 2, ('members', 'of'): 2, ('a', 'way'): 2, ('connect', 'with'): 2, ('and', 'intricate'): 2, ('patterns', 'of'): 2, ('of', 'Kente'): 2, ('tell', 'stories'): 2, ('culture,', 'and'): 2, ('Kente', 'is'): 2, ('and', 'artistry.'): 2, ('artistry.', 'The'): 2, ('represent', 'proverbs,'): 2, ('the', 'spirit'): 2, ('spirit', 'of'): 2, ('its', 'vibrant'): 2, ('the', 'deep'): 2, ('identity', 'and'): 2, ('from', 'Mali,'): 2, ('Mali,', 'is'): 2, ('Its', 'distinctive'): 2, ('patterns,', 'created'): 2, ('and', 'natural'): 2, ('of', 'Malian'): 2, ('process', 'of'): 2, ('is', 'as'): 2, ('stages', 'of'): 2, ('is', 'unique,'): 2, ('artistry', 'and'): 2, ('worn', 'by'): 2, ('become', 'a'): 2, ('the', 'enduring'): 2, ('cloth', 'from'): 2, ('Nigeria,', 'is'): 2, ('culture', 'and'): 2, ('and', 'applying'): 2, ('symbols', 'of'): 2, ('who', 'have'): 2, ('through', 'generations.'): 2, ('of', 'Adire'): 2, ('of', 'cultural'): 2, ('a', 'colorful'): 2, ('Tanzania', 'and'): 2, ('a', 'central'): 2, ('for', 'everyday'): 2, ('special', 'occasions,'): 2, ('and', 'as'): 2, ('vibrant', 'and'): 2, ('and', 'beyond.'): 2, ('are', 'produced'): 2, ('intricate', 'geometric'): 2, ('particularly', 'in'): 2, ('it', 'has'): 2, ('its', 'intricate'): 2, ('choice', 'for'): 2, ('its', 'beauty,'): 2, ('ability', 'to'): 2, ('heritage', 'and'): 2, ('Sahara', 'Desert'): 2, ('some', 'areas'): 2, ('lack', 'of'): 2, ('across', 'vast'): 2, ('the', 'landscape'): 2, ('landscape', 'and'): 2, ('experiences', 'a'): 2, ('a', 'tropical'): 2, ('tropical', 'rainforest'): 2, ('rainforest', 'climate,'): 2, ('climate,', 'characterized'): 2, ('the', 'dense'): 2, ('the', 'year.'): 2, ('high', 'humidity'): 2, ('humidity', 'and'): 2, ('that', 'supports'): 2, ('The', 'Sahel'): 2, ('a', 'semi-arid'): 2, ('between', 'the'): 2, ('the', 'savannas'): 2, ('hot,', 'dry'): 2, ('climate', 'with'): 2, ('can', 'vary'): 2, ('often', 'exceeding'): 2, ('prone', 'to'): 2, ('which', 'can'): 2, ('their', 'high'): 2, ('near', 'the'): 2, ('are', 'generally'): 2, ('vary', 'depending'): 2, ('depending', 'on'): 2, ('seasons.', 'The'): 2, ('the', 'combination'): 2, ('This', 'climate'): 2, ('of', 'plant'): 2, ('animal', 'species.'): 2, ('The', 'Mediterranean'): 2, ('Mediterranean', 'coast'): 2, ('North', 'Africa'): 2, ('concentrated', 'in'): 2, ('warm', 'summers'): 2, ('supports', 'a'): 2, ('unique', 'ecosystem,'): 2, ('adapted', 'to'): 2, ('the', 'dry'): 2, ('of', 'fruits,'): 2, ('thrive', 'in'): 2, ('a', 'diverse'): 2, ('diverse', 'range'): 2, ('The', 'western'): 2, ('western', 'coast'): 2, ('the', 'Namib'): 2, ('Earth.', 'The'): 2, ('a', 'more'): 2, ('The', 'eastern'): 2, ('eastern', 'coast'): 2, ('subtropical', 'climate'): 2, ('Africa', 'is'): 2, ('an', 'island'): 2, ('island', 'nation'): 2, ('nation', 'off'): 2, ('off', 'the'): 2, ('to', 'different'): 2, ('patterns.', 'The'): 2, ('climate', 'in'): 2, ('the', 'island'): 2, ('contributes', 'to'): 2, ('village', 'nestled'): 2, ('hummed', 'with'): 2, ('the', 'evening'): 2, ('the', 'rich,'): 2, ('of', 'Jollof'): 2, ('Jollof', 'Rice,'): 2, ('mother,', 'Mama'): 2, ('Abeni', 'would'): 2, ('the', 'cooking'): 2, ('her', 'eyes'): 2, ('Mama', 'Ada'): 2, ('Ada', 'would'): 2, ('would', 'start'): 2, ('start', 'by'): 2, ('palm', 'oil'): 2, ('oil', 'until'): 2, ('until', 'they'): 2, ('a', 'golden'): 2, ('filling', 'the'): 2, ('generations', 'of'): 2, ('would', 'simmer'): 2, ('each', 'passing'): 2, ('passing', 'moment.'): 2, ('would', 'add'): 2, ('each', 'grain'): 2, ('coated', 'in'): 2, ('the', 'fiery'): 2, ('Jollof', 'Rice'): 2, ('tales', 'of'): 2, ('spirits,', 'and'): 2, ('The', 'stories,'): 2, ('stories,', 'like'): 2, ('her', 'heritage.'): 2, ('heritage.', 'When'): 2, ('the', 'rice'): 2, ('rice', 'was'): 2, ('was', 'finally'): 2, ('plump', 'and'): 2, ('would', 'serve'): 2, ('serve', 'it'): 2, ('of', 'grilled'): 2, ('The', 'family'): 2, ('fire', 'and'): 2, ('Each', 'mouthful'): 2, ('mouthful', 'was'): 2, ('Alem,', 'a'): 2, ('a', 'mischievous'): 2, ('helping', 'his'): 2, ('his', 'mother,'): 2, ('sour', 'flatbread'): 2, ('the', 'base'): 2, ('base', 'of'): 2, ('Selamawit', 'would'): 2, ('would', 'begin'): 2, ('begin', 'by'): 2, ('by', 'mixing'): 2, ('unique', 'to'): 2, ('the', 'batter'): 2, ('ferment', 'for'): 2, ('for', 'several'): 2, ('several', 'days,'): 2, ('was', 'ready,'): 2, ('the', 'Injera'): 2, ('on', 'its'): 2, ('a', 'unique,'): 2, ('air', 'would'): 2, ('would', 'fill'): 2, ('slightly', 'sour,'): 2, ('Once', 'the'): 2, ('Injera', 'was'): 2, ('was', 'cooked,'): 2, ('a', 'platter,'): 2, ('loved', 'to'): 2, ('off', 'pieces'): 2, ('bite', 'was'): 2, ('of', 'flavors'): 2, ('flavors', 'and'): 2, ('the', 'soft,'): 2, ('soft,', 'slightly'): 2, ('rich,', 'savory'): 2, ('the', 'land'): 2, ('this', 'unique'): 2, ('bustling', 'souks'): 2, ('with', 'her'): 2, ('her', 'father,'): 2, ('fragrant', 'spices,'): 2, ('a', 'slow-cooked'): 2, ('slow-cooked', 'stew'): 2, ('stew', 'named'): 2, ('named', 'after'): 2, ('after', 'the'): 2, ('the', 'conical'): 2, ('pot', 'in'): 2, ('in', 'which'): 2, ('He', 'would'): 2, ('lamb', 'or'): 2, ('chicken', 'in'): 2, ('of', 'fragrant'): 2, ('spices', '-'): 2, ('ginger,', 'and'): 2, ('dried', 'fruits'): 2, ('apricots', 'or'): 2, ('with', 'vegetables'): 2, ('potatoes,', 'and'): 2, ('broth', 'and'): 2, ('place', 'the'): 2, ('on', 'top,'): 2, ('the', 'delicious'): 2, ('slowly', 'over'): 2, ('over', 'hot'): 2, ('the', 'lid,'): 2, ('hinting', 'at'): 2, ('tagine', 'was'): 2, ('The', 'meat'): 2, ('eat', 'the'): 2, ('a', 'meal;'): 2, ('meal;', 'it'): 2, ('heritage', 'of'): 2, ('down', 'warmly'): 2, ('warmly', 'on'): 2, ('as', 'he'): 2, ('dusty', 'road'): 2, ('dotted', 'with'): 2, ('a', 'special'): 2, ('building', 'a'): 2, ('the', 'pot'): 2, ('of', 'water'): 2, ('the', 'open'): 2, ('and', 'smoky'): 2, ('smoky', 'aroma'): 2, ('the', 'creamy'): 2, ('a', 'task'): 2, ('shadows', 'across'): 2, ('en', 'Vleis'): 2, ('Vleis', 'was'): 2, ('meat,', 'charred'): 2, ('charred', 'on'): 2, ('juicy', 'within,'): 2, ('within,', 'was'): 2, ('the', 'braai.'): 2, ('it', 'into'): 2, ('of', 'South'): 2, ('meat,', 'and'): 2, ('a', 'bright'): 2, ('Nana', 'Yaa,'): 2, ('a', 'Ghanaian'): 2, ('afternoon', 'sun.'): 2, ('strength', 'and'): 2, ('Nana', 'Yaa'): 2, ('and', 'cassava'): 2, ('air', 'filled'): 2, ('rhythm', 'of'): 2, ('the', 'history'): 2, ('history', 'of'): 2, ('were', 'a'): 2, ('Fufu', 'was'): 2, ('was', 'then'): 2, ('with', 'palm'): 2, ('and', 'chili'): 2, ('a', 'piece'): 2, ('flavors', 'of'): 2, ('a', 'love'): 2, ('love', 'for'): 2, ('than', 'the'): 2, ('Piri-Piri', 'Chicken'): 2, ('a', 'fiery'): 2, ('of', 'Piri-Piri,'): 2, ('Piri-Piri,', 'a'): 2, ('a', 'small,'): 2, ('garlic,', 'lemon'): 2, ('of', 'spices,'): 2, ('that', 'was'): 2, ('exterior', 'while'): 2, ('juicy', 'and'): 2, ('cooked,', 'the'): 2, ('would', 'eagerly'): 2, ('the', 'chicken,'): 2, ('the', 'crispy'): 2, ('followed', 'by'): 2, ('of', 'intense'): 2, ('the', 'sea,'): 2, ('Senegal.', 'The'): 2, ('The', 'rhythmic'): 2, ('sound', 'of'): 2, ('against', 'the'): 2, ('the', 'salty'): 2, ('Yaye', 'Awa,'): 2, ('Thieb', 'Toubab,'): 2, ('and', 'sea.'): 2, ('a', 'gentle'): 2, ('and', 'lemon'): 2, ('cooking', 'it'): 2, ('rich', 'tomato'): 2, ('carrots,', 'and'): 2, ('of', 'simmering'): 2, ('smell', 'of'): 2, ('then', 'placed'): 2, ('center', 'of'): 2, ('centerpiece', 'of'): 2, ('tender,', 'flavorful'): 2, ('the', 'fluffy'): 2, ('sauce,', 'and'): 2, ('buzzed', 'with'): 2, ('Inside', 'a'): 2, ('chicken', 'stew,'): 2, ('stew,', 'a'): 2, ('comforting', 'reminder'): 2, ('of', 'home.'): 2, ('the', 'clinking'): 2, ('clinking', 'of'): 2, ('and', 'simmering'): 2, ('students', 'and'): 2, ('their', 'bond'): 2, ('bond', 'as'): 2, ('as', 'friends'): 2, ('friends', 'in'): 2, ('this', 'vibrant'): 2, ('vibrant', 'city.'): 2, ('navigated', 'the'): 2, ('Bunny', 'Chow,'): 2, ('Chow,', 'a'): 2, ('a', 'hollowed-out'): 2, ('loaf', 'of'): 2, ('bread', 'filled'): 2, ('the', 'hurried'): 2, ('hurried', 'footsteps'): 2, ('footsteps', 'of'): 2, ('chatter', 'of'): 2, ('of', 'street'): 2, ('a', 'perfect'): 2, ('a', 'major'): 2, ('stopped', 'by'): 2, ('Attieke,', 'a'): 2, ('slightly', 'tangy,'): 2, ('sauce.', 'As'): 2, ('felt', 'the'): 2, ('city', 'life.'): 2, ('after', 'hours'): 2, ('millet', 'or'): 2, ('they', 'ate,'): 2, ('but', 'also'): 2, ('The', 'hearty'): 2, ('community', 'and'): 2, ('passion', 'for'): 2, ('of', 'sizzling'): 2, ('gathered', 'around'): 2, ('laden', 'with'): 2, ('goat', 'meat,'): 2, ('using', 'their'): 2, ('of', 'meat,'): 2, ('and', 'laughter,'): 2, ('laughter,', 'the'): 2, ('Nyama', 'Choma'): 2, ('the', 'busy'): 2, ('food', 'stall,'): 2, ('stall,', 'a'): 2, ('ripe', 'plantains'): 2, ('spicy', 'aroma'): 2, ('People', 'from'): 2, ('from', 'all'): 2, ('all', 'walks'): 2, ('walks', 'of'): 2, ('-', 'students,'): 2, ('students,', 'traders,'): 2, ('traders,', 'office'): 2, ('office', 'workers'): 2, ('workers', '-'): 2, ('-', 'stopped'): 2, ('a', 'portion'): 2, ('the', 'crispy,'): 2, ('a', 'quick,'): 2, ('the', \"country's\"): 2, ('On', 'a'): 2, ('a', 'family'): 2, ('Potjiekos,', 'a'): 2, ('South', \"Africa's\"): 2, ('that', 'warmed'): 2, ('the', 'inside'): 2, ('of', 'Lagos,'): 2, ('Moin', 'Moin,'): 2, ('Moin,', 'a'): 2, ('and', 'steamed'): 2, ('flavorful', 'way'): 2, ('the', 'day.'): 2, ('in', 'Tanzania,'): 2, ('the', 'East'): 2, ('witness', 'the'): 2, ('its', 'base'): 2, ('base', 'to'): 2, ('climates', 'in'): 2, ('the', 'summit'): 2, ('the', 'highest'): 2, ('panoramic', 'views'): 2, ('views', 'of'): 2, ('a', 'sense'): 2, ('the', 'mountain'): 2, ('Victoria', 'Falls,'): 2, ('most', 'spectacular'): 2, ('a', 'lush'): 2, ('lush', 'oasis'): 2, ('flora', 'and'): 2, ('and', 'fauna.'): 2, ('can', 'experience'): 2, ('experience', 'the'): 2, ('power', 'and'): 2, ('wildlife', 'and'): 2, ('Pyramids', 'of'): 2, ('located', 'on'): 2, ('are', 'iconic'): 2, ('of', 'ancient'): 2, ('the', 'pharaohs.'): 2, ('oldest', 'and'): 2, ('three', 'main'): 2, ('the', 'tallest'): 2, ('for', 'over'): 2, ('believed', 'to'): 2, ('Today,', 'the'): 2, ('and', 'one'): 2, ('the', 'mysteries'): 2, ('mysteries', 'of'): 2, ('a', 'natural'): 2, ('recognized', 'for'): 2, ('animal', 'species,'): 2, ('species,', 'making'): 2, ('natural', 'beauty'): 2, ('spectacular', 'natural'): 2, ('the', 'plains'): 2, ('lions,', 'cheetahs,'): 2, (\"park's\", 'diverse'): 2, ('from', 'open'): 2, ('vast', 'array'): 2, ('to', 'witness'): 2, ('plays', 'a'): 2, ('in', 'conservation'): 2, ('endangered', 'species'): 2, ('species', 'and'): 2, ('of', 'this'): 2, ('it', 'offers'): 2, ('offers', 'a'): 2, ('a', 'sensory'): 2, ('sights,', 'sounds,'): 2, ('sounds,', 'and'): 2, ('the', 'main'): 2, ('a', 'customary'): 2, ('and', 'traditional'): 2, ('rich', 'history'): 2, ('to', 'get'): 2, ('maze', 'of'): 2, ('of', 'ripe'): 2, ('Sunlight', 'streamed'): 2, ('streamed', 'through'): 2, ('the', 'market'): 2, ('laughter', 'echoing'): 2, ('the', 'abundance'): 2, ('abundance', 'of'): 2, ('simple', 'structure'): 2, ('structure', 'with'): 2, ('rolling', 'hills'): 2, ('hills', 'of'): 2, ('and', 'hope.'): 2, ('place', 'of'): 2, ('the', 'human'): 2, ('spirit', 'and'): 2, ('those', 'who'): 2, ('mint', 'tea'): 2, ('a', 'haven'): 2, ('the', 'desert'): 2, ('heat.', 'The'): 2, ('the', 'occasional'): 2, ('the', 'rhythms'): 2, ('rhythms', 'of'): 2, ('a', 'microcosm'): 2, ('microcosm', 'of'): 2, ('where', 'community'): 2, ('community', 'bonds'): 2, ('bonds', 'were'): 2, ('a', 'thirst'): 2, ('thirst', 'for'): 2, ('for', 'knowledge,'): 2, ('a', 'sanctuary'): 2, ('sanctuary', 'for'): 2, ('The', 'sun'): 2, ('Children', 'played'): 2, ('the', 'gentle'): 2, ('Life', 'in'): 2, ('a', 'slower'): 2, ('slower', 'pace,'): 2, ('climate', 'and'): 2, ('simple', 'but'): 2, ('fulfilling', 'existence'): 2, ('in', 'harmony'): 2, ('harmony', 'with'): 2, ('flocks', 'of'): 2, ('the', 'harsh'): 2, ('resilience', 'and'): 2, ('a', 'life'): 2, ('deeply', 'connected'): 2, ('connected', 'to'): 2, ('stretched', 'out'): 2, ('life', 'in'): 2, ('of', 'Lake'): 2, ('water.', 'The'): 2, ('life', 'moved'): 2, ('the', 'lake'): 2, ('The', 'street'): 2, ('the', 'fields,'): 2, ('traditions', 'and'): 2, ('fertile', 'land'): 2, ('world.', 'It'): 2, ('North', 'Africa,'): 2, ('Africa,', 'the'): 2, ('system', 'of'): 2, ('meaning', 'that'): 2, ('within', 'a'): 2, ('cultural', 'and'): 2, ('linguistic', 'landscape'): 2, ('landscape', 'of'): 2, ('most', 'of'): 2, ('Africa,', 'including'): 2, ('Africa,', 'Central'): 2, ('East', 'Africa.'): 2, ('the', 'continent,'): 2, ('continent,', 'demonstrating'): 2, ('demonstrating', 'the'): 2, ('the', 'historical'): 2, ('historical', 'migrations'): 2, ('migrations', 'and'): 2, ('Sahara', 'Desert.'): 2, ('of', 'Nilo-Saharan'): 2, ('Nilo-Saharan', 'languages'): 2, ('is', 'considered'): 2, ('that', 'the'): 2, ('These', 'languages'): 2, ('The', 'Khoisan'): 2, ('in', 'southern'): 2, ('their', 'distinctive'): 2, ('use', 'of'): 2, ('by', 'creating'): 2, ('Khoisan', 'languages'): 2, ('While', 'some'): 2, ('social', 'and'): 2, ('represent', 'a'): 2, ('valuable', 'insights'): 2, ('diversity', 'of'): 2, ('primarily', 'associated'): 2, ('associated', 'with'): 2, ('also', 'has'): 2, ('a', 'presence'): 2, ('highlights', 'the'): 2, ('African', 'continent,'): 2, ('but', 'it'): 2, ('languages', 'used'): 2, ('sign', 'languages,'): 2, ('the', 'linguistic'): 2, ('and', 'have'): 2, ('some', 'of'): 2, ('Africa.', 'These'): 2, ('human', 'figures'): 2, ('figures', 'and'): 2, ('a', 'remarkable'): 2, ('They', 'provide'): 2, ('provide', 'valuable'): 2, ('traditions', 'of'): 2, ('West', 'Africa'): 2, ('Mozambique,', 'is'): 2, ('carvings,', 'often'): 2, ('depicting', 'human'): 2, ('figures', 'with'): 2, ('with', 'elongated'): 2, ('Makonde', 'artists'): 2, ('intricate', 'details'): 2, ('details', 'and'): 2, ('sculpture', 'often'): 2, ('ancestors,', 'and'): 2, ('play', 'a'): 2, ('rituals', 'and'): 2, ('the', 'specific'): 2, ('connection', 'between'): 2, ('are', 'skilled'): 2, ('skilled', 'in'): 2, ('and', 'beliefs'): 2, ('the', 'Yoruba'): 2, ('Democratic', 'Republic'): 2, ('Republic', 'of'): 2, ('ivory,', 'and'): 2, ('sculptures', 'that'): 2, ('used', 'as'): 2, ('in', 'maintaining'): 2, ('maintaining', 'overall'): 2, ('overall', 'health'): 2, ('A', 'balanced'): 2, ('the', 'essential'): 2, ('and', 'development.'): 2, ('and', 'minerals,'): 2, ('of', 'nutrition'): 2, ('nutrition', 'and'): 2, ('informed', 'food'): 2, ('food', 'choices'): 2, ('food', 'groups'): 2, ('typically', 'includes'): 2, ('whole', 'grains,'): 2, ('proteins,', 'and'): 2, ('Fruits', 'and'): 2, ('provide', 'essential'): 2, ('and', 'fiber,'): 2, ('carbohydrates', 'and'): 2, ('and', 'supporting'): 2, ('beans,', 'and'): 2, ('and', 'nuts,'): 2, ('building', 'and'): 2, ('and', 'repairing'): 2, ('repairing', 'tissues.'): 2, ('olive', 'oil,'): 2, ('key', 'to'): 2, ('on', 'their'): 2, ('content', 'and'): 2, ('which', 'are'): 2, ('individuals', 'to'): 2, ('make', 'informed'): 2, ('their', 'nutritional'): 2, ('a', 'profound'): 2, ('growth', 'and'): 2, ('a', 'crucial'): 2, ('a', 'diet'): 2, ('dietary', 'choices'): 2, ('of', 'life.'): 2, ('is', 'crucial'): 2, ('Water', 'is'): 2, ('regulate', 'body'): 2, ('for', 'maintaining'): 2, ('the', 'best'): 2, ('to', 'daily'): 2, ('hydration', 'and'): 2, ('information', 'about'): 2, ('that', 'provide'): 2, ('essential', 'vitamins'): 2, ('in', 'hot'): 2, ('after', 'physical'): 2, ('plain', 'water.'): 2, ('offer', 'a'): 2, ('and', 'hydrating'): 2, ('quench', 'your'): 2, ('and', 'minerals.'): 2, ('Opt', 'for'): 2, ('sugar', 'to'): 2, ('naturally', 'caffeine-free'): 2, ('be', 'enjoyed'): 2, ('enjoyed', 'throughout'): 2, ('herbal', 'tea'): 2, ('and', 'sweetness.'): 2, ('tea', 'or'): 2, ('and', 'nutty'): 2, ('Infused', 'water'): 2, ('slices', 'of'): 2, ('you', 'can'): 2, ('can', 'create'): 2, ('lemon', 'and'): 2, ('them', 'to'): 2, ('thirst', 'and'): 2, ('So', 'she'): 2, ('or', 'would'): 2, ('had', 'heard'): 2, ('said', 'to'): 2, ('rumored', 'to'): 2, ('a', 'dense'): 2, ('set', 'out'): 2, ('out', 'on'): 2, ('on', 'an'): 2, ('So', 'he'): 2, ('his', 'quest'): 2, ('ancient', 'manuscript,'): 2, ('and', 'make'): 2, ('celebrations', 'and'): 2, ('plantains', 'or'): 2, ('Egusi', 'soup'): 2, ('African', 'stew'): 2, ('stew', 'made'): 2, ('with', 'ground'): 2, ('ground', 'melon'): 2, ('melon', 'seeds'): 2, ('or', 'fish.'): 2, ('enriched', 'with'): 2, ('local', 'spices.'): 2, ('This', 'comforting'): 2, ('fufu', 'or'): 2, ('for', 'dipping.'): 2, ('food', 'consisting'): 2, ('are', 'marinated'): 2, ('then', 'grilled'): 2, ('over', 'open'): 2, ('tender,', 'smoky'): 2, ('smoky', 'meat'): 2, ('onions', 'and'): 2, ('Fufu', 'is'): 2, ('a', 'soft,'): 2, ('West', 'and'): 2, ('by', 'boiling'): 2, ('foods', 'like'): 2, ('or', 'plantain'): 2, ('a', 'smooth'): 2, ('Chicken', 'Yassa'): 2, ('a', 'tangy'): 2, ('African', 'dish'): 2, ('The', 'chicken'): 2, ('savory', 'sauce'): 2, ('sauce', 'with'): 2, ('The', 'tender,'): 2, ('served', 'over'): 2, ('over', 'rice'): 2, ('and', 'seasoned'): 2, ('dish.', 'It'): 2, ('It', 'features'): 2, ('stuffed', 'with'): 2, ('Ghanaian', 'dish'): 2, ('rice', 'and'): 2, ('beans', 'cooked'): 2, ('a', 'reddish-brown'): 2, ('and', 'cooked'): 2, ('garri,', 'or'): 2, ('or', 'fried'): 2, ('a', 'filling'): 2, ('typically', 'eaten'): 2, ('for', 'breakfast'): 2, ('Jollof', 'rice,'): 2, ('tomatoes', 'and'): 2, ('of', 'Egusi'): 2, ('of', 'spiced,'): 2, ('a', 'serving'): 2, ('pounded', 'Fufu'): 2, ('Ibrahim', 'was'): 2, ('sauce', 'at'): 2, ('local', 'eatery.'): 2, ('tea,', 'and'): 2, ('and', 'soon'): 2, ('vegetable', 'stew'): 2, ('Moroccan', 'mint'): 2, ('the', 'aromatic'): 2, ('aromatic', 'blend'): 2, ('Banku', 'and'): 2, ('fermented', 'corn'): 2, ('beer,', 'and'): 2, ('gathering', 'where'): 2, ('and', 'tender'): 2, ('whose', 'spicy'): 2, ('naturally', 'sweet'): 2, ('quenched', 'her'): 2, ('her', 'thirst'): 2, ('the', 'tangy'): 2, ('drink', 'that'): 2, ('that', 'offered'): 2, ('a', 'cool'): 2, ('hot', 'day.'): 2, ('of', 'freshly'): 2, ('freshly', 'tapped'): 2, ('tapped', 'Palm'): 2, ('Ginger', 'beer,'): 2, ('Kenyan', 'chai,'): 2, ('spiced', 'tea'): 2, ('remedy', 'for'): 2, ('a', 'common'): 2, ('corn', 'and'): 2, ('sour', 'taste.'): 2, ('a', 'whole'): 2, ('that', 'has'): 2, ('pepper', 'sauce'): 2, ('by', 'simmering'): 2, ('meat', '(such'): 2, ('or', 'chicken)'): 2, ('butter.', 'The'): 2, ('slightly', 'sweet,'): 2, ('side', 'of'): 2, ('Attiéké', 'is'): 2, ('fermented', 'cassava'): 2, ('a', 'light,'): 2, ('or', 'meat'): 2, ('fresh', 'tomato'): 2, ('pudding', 'made'): 2, ('blended', 'black-eyed'): 2, ('black-eyed', 'peas.'): 2, ('peas.', 'The'): 2, ('batter', 'is'): 2, ('is', 'mixed'): 2, ('leaves', 'or'): 2, ('Africa,', 'known'): 2, ('with', 'local'): 2, ('herbs', 'and'): 2, ('It', 'can'): 2, ('be', 'made'): 2, ('with', 'various'): 2, ('various', 'meats'): 2, ('meats', 'or'): 2, ('or', 'fish'): 2, ('food', 'or'): 2, ('rich', 'palm'): 2, ('palm', 'fruit'): 2, ('it', 'with'): 2, ('with', 'spices,'): 2, ('and', 'typically'): 2, ('or', 'meat.'): 2, ('a', 'deep'): 2, ('flavor,', 'usually'): 2, ('pounded', 'yam.'): 2, ('stew', 'from'): 2, ('peppers,', 'onions,'): 2, ('tomatoes,', 'and'): 2, ('plantains', 'that'): 2, ('cut', 'into'): 2, ('bean', 'fritters'): 2, ('and', 'soft'): 2, ('a', 'breakfast'): 2, ('or', 'snack,'): 2, ('snack,', 'sometimes'): 2, ('popular', 'West'): 2, ('is', 'deep-fried'): 2, ('or', 'served'): 2, ('dusted', 'with'): 2, ('with', 'sugar.'): 2, ('Ugali', 'is'): 2, ('maize', 'porridge'): 2, ('porridge', 'that'): 2, ('in', 'Kenya'): 2, ('cornmeal', 'with'): 2, ('mound', 'and'): 2, ('and', 'eaten'): 2, ('goat', 'or'): 2, ('Injera', 'is'): 2, ('Ethiopian', 'chicken'): 2, ('is', 'prepared'): 2, ('prepared', 'with'): 2, ('with', 'chicken'): 2, ('sauce', 'made'): 2, ('and', 'spiced'): 2, ('color,', 'and'): 2, ('traditionally', 'served'): 2, ('refers', 'to'): 2, ('a', 'fragrant'): 2, ('aromatic', 'spices'): 2, ('and', 'rich'): 2, ('or', 'stew'): 2, ('a', 'peanut'): 2, ('flavor', 'that'): 2, ('To', 'make'): 2, ('make', 'a'): 2, ('a', 'thin'): 2, ('with', 'chopped'): 2, ('fried', 'with'): 2, ('extra', 'flavor.'): 2, ('many', 'Kenyan'): 2, ('is', 'prized'): 2, ('prized', 'for'): 2, ('dish', 'popular'): 2, ('name', 'means'): 2, ('in', 'Swahili,'): 2, ('served', 'alongside'): 2, ('Mandazi', 'are'): 2, ('milk', 'or'): 2, ('or', 'lightly'): 2, ('to', 'balance'): 2, ('balance', 'the'): 2, ('Ndolé', 'is'): 2, ('rich,', 'creamy'): 2, ('staple', 'dish'): 2, ('in', 'Central'): 2, ('boiled', 'with'): 2, ('with', 'ingredients'): 2, ('ingredients', 'like'): 2, ('oil,', 'garlic,'): 2, ('consistency', 'and'): 2, ('dish', 'is'): 2, ('national', 'dish'): 2, ('much', 'like'): 2, ('of', 'marinated'): 2, ('a', 'stick'): 2, ('are', 'cooked'): 2, ('a', 'spiced'): 2, ('enjoyed', 'in'): 2, ('clay', 'pot'): 2, ('with', 'bread.'): 2, ('food', 'dish'): 2, ('It', 'typically'): 2, ('topped', 'with'): 2, ('crispy', 'fried'): 2, ('spiced', 'tomato'): 2, ('poured', 'over'): 2, ('medames', 'is'): 2, ('slow-cooked', 'fava'): 2, ('beans.', 'The'): 2, ('beans', 'are'): 2, ('are', 'simmered'): 2, ('soft', 'and'): 2, ('a', 'crispy'): 2, ('egg', 'and'): 2, ('with', 'tomatoes,'): 2, ('lentils,', 'chickpeas,'): 2, ('small', 'amounts'): 2, ('layered', 'in'): 2, ('and', 'crushed'): 2, ('baked', 'until'): 2, ('a', 'green'): 2, ('in', 'Egypt'): 2, ('Africa,', 'made'): 2, ('The', 'leaves'): 2, ('often', 'flavored'): 2, ('thick,', 'slightly'): 2, ('or', 'with'): 2, ('names', 'like'): 2, ('curry', 'powder'): 2, ('powder', 'and'): 2, ('chili', 'for'): 2, ('a', 'tangy,'): 2, ('be', 'served'): 2, ('that', 'originated'): 2, ('originated', 'in'): 2, ('It', 'consists'): 2, ('curried', 'minced'): 2, ('creamy', 'egg'): 2, ('milk,', 'and'): 2, ('Biltong', 'is'): 2, ('meat', '(often'): 2, ('pepper,', 'then'): 2, ('in', 'protein'): 2, ('protein', 'and'): 2, ('a', 'communal'): 2, ('at', 'social'): 2, ('social', 'gatherings.'): 2, ('is', 'juicy'): 2, ('enjoyed', 'plain'): 2, ('Malva', 'pudding'): 2, ('pudding', 'is'): 2, ('of', 'heat'): 2, ('staple', 'at'): 2, ('Matapa', 'is'): 2, ('Kapenta', 'are'): 2, ('(similar', 'to'): 2, ('while', 'the'): 2, ('African', 'drink'): 2, ('from', 'dried'): 2, ('dried', 'hibiscus'): 2, ('sweetened', 'with'): 2, ('with', 'sugar'): 2, ('sugar', '(and'): 2, ('(and', 'sometimes'): 2, ('sometimes', 'flavored'): 2, ('ginger', 'or'): 2, ('gatherings', 'and'): 2, ('wine', 'is'): 2, ('the', 'tree'): 2, ('and', 'has'): 2, ('a', 'slight'): 2, ('low', 'alcohol'): 2, ('or', 'bottles'): 2, ('in', 'ceremonies'): 2, ('ceremonies', 'and'): 2, ('prepared', 'by'): 2, ('by', 'steeping'): 2, ('water', 'with'): 2, ('and', 'allowing'): 2, ('served', 'cold'): 2, ('hot', 'days.'): 2, ('Kunu', 'is'): 2, ('from', 'grains'): 2, ('and', 'mixed'): 2, ('and', 'nutritious,'): 2, ('da', 'nono'): 2, ('nono', 'is'): 2, ('beverage.', 'The'): 2, ('and', 'filling,'): 2, ('often', 'consumed'): 2, ('consumed', 'as'): 2, ('Chapman', 'is'): 2, ('sometimes', 'a'): 2, ('a', 'squeeze'): 2, ('squeeze', 'of'): 2, ('traditional', 'West'): 2, ('beer', 'made'): 2, ('sorghum', 'or'): 2, ('is', 'brewed'): 2, ('brewed', 'in'): 2, ('malting', 'the'): 2, ('a', 'sour,'): 2, ('low', 'to'): 2, ('to', 'moderate'): 2, ('moderate', 'alcohol'): 2, ('small', 'glasses'): 2, ('glasses', 'to'): 2, ('about', 'the'): 2, ('a', 'creamy,'): 2, ('sweet', 'drink'): 2, ('the', 'fruit'): 2, ('fruit', 'of'): 2, ('baobab', 'fruit'): 2, ('water,', 'then'): 2, ('with', 'milk'): 2, ('fruit', 'is'): 2, ('Ethiopian', 'coffee'): 2, ('The', 'Ethiopian'): 2, ('a', 'bowl'): 2, ('lured', 'by'): 2, ('Tej', 'is'): 2, ('by', 'fermenting'): 2, ('the', 'leaves'): 2, ('acts', 'as'): 2, ('Tella', 'is'): 2, ('beer', 'from'): 2, ('taste', 'with'): 2, ('often', 'brewed'): 2, ('brewed', 'for'): 2, ('Mursik', 'is'): 2, (\"cow's\", 'milk'): 2, ('days,', 'the'): 2, ('turns', 'into'): 2, ('thick,', 'sour'): 2, ('sour', 'yogurt-like'): 2, ('valued', 'for'): 2, ('its', 'refreshing'): 2, ('in', 'Kenya,'): 2, ('Urwagwa', 'is'): 2, ('added', 'to'): 2, ('Camel', 'milk'): 2, ('be', 'drunk'): 2, ('drunk', 'plain'): 2, ('or', 'used'): 2, ('in', 'arid'): 2, ('refreshing', 'drink'): 2, ('over', 'ice'): 2, ('drink', 'or'): 2, ('taste', 'and'): 2, ('juice', 'is'): 2, ('a', 'naturally'): 2, ('out', 'the'): 2, ('Umqombothi', 'is'): 2, ('from', 'maize'): 2, ('in', 'large'): 2, ('drink', 'popular'): 2, ('South', 'Africa'): 2, ('Cachupa', 'is'): 2, ('the', 'base,'): 2, ('by', 'his'): 2, ('offered', 'instant'): 2, ('sought', 'out'): 2, ('Kalahari', 'is'): 2, ('as', 'well'): 2, ('well', 'as'): 2, ('Africa.', 'Its'): 2, ('aptly', 'describes'): 2, ('its', 'iconic'): 2, ('sand', 'dunes'): 2, ('is', 'home'): 2, ('wildlife,', 'including'): 2, ('been', 'the'): 2, ('Great', 'Lakes'): 2, ('African', 'Rift'): 2, ('lake', 'in'): 2, ('lake', 'is'): 2, ('its', 'exceptional'): 2, ('species', 'of'): 2, ('serves', 'as'): 2, ('of', 'people'): 2, ('The', 'Nile'): 2, ('river', 'in'): 2, ('in', 'northeastern'): 2, ('Africa,', 'widely'): 2, ('Nile,', 'which'): 2, ('Ethiopian', 'Highlands.'): 2, ('in', 'northern'): 2, ('northern', 'Botswana,'): 2, ('Botswana,', 'is'): 2, ('is', 'world-renowned'): 2, ('world-renowned', 'for'): 2, ('the', 'Chobe'): 2, ('of', 'animals,'): 2, ('especially', 'during'): 2, ('floodplains', 'of'): 2, ('of', 'antelope'): 2, ('premier', 'destination'): 2, ('the', \"pan's\"): 2, ('the', 'long'): 2, ('long', 'dry'): 2, ('an', 'unparalleled'): 2, ('stronghold', 'for'): 2, ('elephant,', 'and'): 2, ('zebra,', 'and'): 2, ('grasslands', 'of'): 2, ('With', 'a'): 2, ('network', 'of'): 2, (\"world's\", 'most'): 2, ('dry', 'season,'): 2, ('populations', 'of'): 2, ('of', 'elephants,'): 2, ('wild', 'dog.'): 2, ('Mount', 'Kenya'): 2, ('Kenya', 'is'): 2, ('is', \"Africa's\"): 2, ('also', 'a'): 2, ('the', 'eastern'): 2, ('Its', 'name'): 2, ('edge', 'of'): 2, ('over', '100'): 2, ('the', 'southern'): 2, ('powerful', 'symbol'): 2, ('desert', 'in'): 2, ('land', 'of'): 2, ('on', 'Earth,'): 2, ('the', 'iconic'): 2, ('feature', 'is'): 2, ('Timbuktu', 'is'): 2, ('iconic', 'and'): 2, ('often', 'called'): 2, ('called', 'the'): 2, ('recognizable', 'by'): 2, ('are', 'renowned'): 2, ('a', 'keystone'): 2, ('live', 'in'): 2, ('The', 'African'): 2, ('elephant', 'is'): 2, ('and', 'are'): 2, ('like', 'a'): 2, ('There', 'are'): 2, ('species:', 'the'): 2, ('long', 'neck'): 2, ('neck', 'and'): 2, ('food', 'source'): 2, ('as', 'camouflage'): 2, ('eastern', 'and'): 2, ('and', 'southern'): 2, ('are', 'highly'): 2, (\"Africa's\", 'large'): 2, ('White', 'Rhino'): 2, ('the', 'Black'): 2, ('Rhino', 'has'): 2, ('lip', 'for'): 2, (\"'Big\", \"Five.'\"): 2, ('large', 'cats'): 2, ('marked', 'with'): 2, ('the', 'fastest'): 2, ('legs,', 'and'): 2, ('distinctive', 'black'): 2, ('Ethiopian', 'Wolf'): 2, ('Wolf', 'is'): 2, ('native', 'to'): 2, ('the', 'greater'): 2, ('greater', 'kudu'): 2, ('are', 'famous'): 2, ('The', 'Lagos'): 1, ('Lagos', 'air'): 1, ('with', 'humidity,'): 1, ('humidity,', 'but'): 1, ('but', 'the'): 1, ('energy', 'in'): 1, ('the', 'club'): 1, ('club', 'was'): 1, ('was', 'electric.'): 1, ('electric.', 'The'): 1, ('The', 'band'): 1, ('band', 'launched'): 1, ('launched', 'into'): 1, ('a', 'hypnotic'): 1, ('hypnotic', 'Afrobeat'): 1, ('Afrobeat', 'groove,'): 1, ('groove,', 'the'): 1, ('drums', 'pounding'): 1, ('pounding', 'out'): 1, ('complex', 'polyrhythm,'): 1, ('polyrhythm,', 'the'): 1, ('horns', 'blaring'): 1, ('blaring', 'a'): 1, ('a', 'soaring'): 1, ('soaring', 'melody,'): 1, ('melody,', 'and'): 1, ('the', 'bass'): 1, ('bass', 'laying'): 1, ('laying', 'down'): 1, ('down', 'a'): 1, ('a', 'deep,'): 1, ('deep,', 'funky'): 1, ('funky', 'foundation.'): 1, ('foundation.', 'A'): 1, ('A', 'woman'): 1, ('named', 'Imani'): 1, ('Imani', 'moved'): 1, ('moved', 'effortlessly'): 1, ('effortlessly', 'to'): 1, ('music,', 'her'): 1, ('her', 'body'): 1, ('body', 'swaying'): 1, ('swaying', 'in'): 1, ('in', 'time'): 1, ('the', 'rhythm.'): 1, ('music', 'seemed'): 1, ('seemed', 'to'): 1, ('to', 'flow'): 1, ('flow', 'through'): 1, ('through', 'her,'): 1, ('her,', 'a'): 1, ('powerful', 'current'): 1, ('current', 'of'): 1, ('and', 'joy.'): 1, ('joy.', 'All'): 1, ('All', 'around'): 1, ('around', 'her,'): 1, ('her,', 'people'): 1, ('people', 'were'): 1, ('were', 'dancing,'): 1, ('dancing,', 'singing,'): 1, ('singing,', 'and'): 1, ('and', 'clapping,'): 1, ('clapping,', 'caught'): 1, ('caught', 'up'): 1, ('up', 'in'): 1, ('infectious', 'rhythm.'): 1, ('just', 'entertainment;'): 1, ('entertainment;', 'it'): 1, ('shared', 'heritage,'): 1, ('the', 'soul'): 1, ('soul', 'of'): 1, ('of', 'Lagos.'): 1, ('The', 'warm'): 1, ('warm', 'evening'): 1, ('evening', 'air'): 1, ('air', 'in'): 1, ('in', 'Accra'): 1, ('Accra', 'was'): 1, ('the', 'lilting'): 1, ('lilting', 'melodies'): 1, ('melodies', 'of'): 1, ('of', 'Highlife'): 1, ('Highlife', 'music.'): 1, ('music.', 'At'): 1, ('small', 'bar'): 1, ('bar', 'tucked'): 1, ('side', 'street,'): 1, ('street,', 'a'): 1, ('a', 'band'): 1, ('patterns,', 'the'): 1, ('horns', 'adding'): 1, ('a', 'bright,'): 1, ('bright,', 'joyful'): 1, ('joyful', 'counterpoint.'): 1, ('counterpoint.', 'Kwame,'): 1, ('Kwame,', 'a'): 1, ('a', 'wistful'): 1, ('wistful', 'smile,'): 1, ('smile,', 'sat'): 1, ('sat', 'at'): 1, ('table', 'nursing'): 1, ('nursing', 'a'): 1, ('a', 'beer,'): 1, ('beer,', 'lost'): 1, ('The', 'Highlife'): 1, ('Highlife', 'tunes'): 1, ('tunes', 'evoked'): 1, ('evoked', 'memories'): 1, ('memories', 'of'): 1, ('his', 'childhood,'): 1, ('childhood,', 'of'): 1, ('family', 'gatherings,'): 1, ('gatherings,', 'of'): 1, ('of', 'dancing'): 1, ('dancing', 'under'): 1, ('the', 'stars.'): 1, ('stars.', 'The'): 1, ('a', 'soundtrack'): 1, ('soundtrack', 'to'): 1, ('his', 'life,'): 1, ('his', 'roots,'): 1, ('roots,', 'a'): 1, ('of', 'comfort'): 1, ('comfort', 'and'): 1, ('and', 'joy'): 1, ('joy', 'in'): 1, ('bustling', 'city.'): 1, ('The', 'bustling'): 1, ('bustling', 'streets'): 1, ('of', 'Lagos'): 1, ('Lagos', 'were'): 1, ('were', 'alive'): 1, ('of', 'Juju'): 1, ('Juju', 'music.'): 1, ('music.', 'From'): 1, ('small', 'radio'): 1, ('radio', 'in'): 1, ('a', 'market'): 1, ('distinctive', 'rhythms'): 1, ('rhythms', 'and'): 1, ('and', 'vocals'): 1, ('of', 'King'): 1, ('King', 'Sunny'): 1, ('Sunny', 'Adé'): 1, ('Adé', 'poured'): 1, ('poured', 'out,'): 1, ('out,', 'drawing'): 1, ('drawing', 'a'): 1, ('a', 'crowd'): 1, ('crowd', 'of'): 1, ('of', 'listeners.'): 1, ('listeners.', 'Mama'): 1, ('Mama', 'Bisi,'): 1, ('Bisi,', 'a'): 1, ('warm', 'smile'): 1, ('a', 'contagious'): 1, ('contagious', 'laugh,'): 1, ('laugh,', 'tapped'): 1, ('tapped', 'her'): 1, ('her', 'feet'): 1, ('the', 'beat'): 1, ('beat', 'as'): 1, ('as', 'she'): 1, ('she', 'haggled'): 1, ('haggled', 'for'): 1, ('for', 'vegetables.'): 1, ('constant', 'companion'): 1, ('companion', 'in'): 1, ('her', 'life,'): 1, ('and', 'inspiration,'): 1, ('inspiration,', 'a'): 1, ('cultural', 'tapestry'): 1, ('of', 'Nigeria.'): 1, ('The', 'Dakar'): 1, ('Dakar', 'waterfront'): 1, ('waterfront', 'was'): 1, ('was', 'buzzing'): 1, ('buzzing', 'with'): 1, ('set.', 'From'): 1, ('nearby', 'restaurant,'): 1, ('restaurant,', 'the'): 1, ('vibrant', 'sounds'): 1, ('of', 'Mbalax'): 1, ('Mbalax', 'music'): 1, ('music', 'spilled'): 1, ('spilled', 'out,'): 1, ('out,', 'the'): 1, ('distinctive', 'vocals'): 1, ('of', 'Youssou'): 1, ('Youssou', \"N'Dour\"): 1, (\"N'Dour\", 'soaring'): 1, ('soaring', 'over'): 1, ('complex', 'percussion'): 1, ('percussion', 'and'): 1, ('the', 'hypnotic'): 1, ('hypnotic', 'basslines.'): 1, ('basslines.', 'A'): 1, ('A', 'group'): 1, ('of', 'friends,'): 1, ('friends,', 'gathered'): 1, ('gathered', 'for'): 1, ('for', 'an'): 1, ('an', 'evening'): 1, ('evening', 'meal,'): 1, ('meal,', 'swayed'): 1, ('swayed', 'to'): 1, ('music,', 'their'): 1, ('faces', 'lit'): 1, ('lit', 'up'): 1, ('with', 'smiles.'): 1, ('smiles.', 'The'): 1, ('The', 'Mbalax'): 1, ('Mbalax', 'rhythms,'): 1, ('of', 'traditional'): 1, ('traditional', 'Senegalese'): 1, ('Senegalese', 'music'): 1, ('and', 'modern'): 1, ('modern', 'influences,'): 1, ('created', 'an'): 1, ('an', 'atmosphere'): 1, ('atmosphere', 'of'): 1, ('of', 'celebration'): 1, ('celebration', 'and'): 1, ('Senegalese', 'culture.'): 1, ('The', 'Kinshasa'): 1, ('Kinshasa', 'night'): 1, ('infectious', 'energy'): 1, ('of', 'Soukous'): 1, ('Soukous', 'music.'): 1, ('music.', 'In'): 1, ('a', 'crowded'): 1, ('crowded', 'nightclub,'): 1, ('nightclub,', 'the'): 1, ('the', 'band'): 1, ('intricate', 'melodies,'): 1, ('melodies,', 'the'): 1, ('drums', 'driving'): 1, ('driving', 'the'): 1, ('the', 'rhythm,'): 1, ('rhythm,', 'and'): 1, ('the', \"singers'\"): 1, (\"singers'\", 'voices'): 1, ('voices', 'urging'): 1, ('urging', 'everyone'): 1, ('everyone', 'to'): 1, ('to', 'dance.'): 1, ('dance.', 'Jean-Pierre,'): 1, ('Jean-Pierre,', 'a'): 1, ('boundless', 'energy,'): 1, ('energy,', 'moved'): 1, ('moved', 'his'): 1, ('his', 'feet'): 1, ('the', 'beat,'): 1, ('beat,', 'lost'): 1, ('The', 'Soukous'): 1, ('Soukous', 'rhythms,'): 1, ('a', 'fusion'): 1, ('fusion', 'of'): 1, ('of', 'Congolese'): 1, ('Congolese', 'rumba'): 1, ('rumba', 'and'): 1, ('other', 'influences,'): 1, ('created', 'a'): 1, ('a', 'whirlwind'): 1, ('whirlwind', 'of'): 1, ('of', 'movement'): 1, ('movement', 'and'): 1, ('and', 'music'): 1, ('music', 'in'): 1, ('small', 'township'): 1, ('township', 'outside'): 1, ('outside', 'Durban,'): 1, ('Durban,', 'a'): 1, ('gathered', 'in'): 1, ('community', 'hall.'): 1, ('hall.', 'They'): 1, ('were', 'members'): 1, ('an', 'Isicathamiya'): 1, ('Isicathamiya', 'choir,'): 1, ('choir,', 'practicing'): 1, ('practicing', 'their'): 1, ('their', 'intricate'): 1, ('intricate', 'harmonies'): 1, ('harmonies', 'and'): 1, ('and', 'synchronized'): 1, ('synchronized', 'dance'): 1, ('dance', 'moves.'): 1, ('moves.', 'The'): 1, ('The', 'music,'): 1, ('music,', 'characterized'): 1, ('its', 'a'): 1, ('a', 'cappella'): 1, ('cappella', 'vocals'): 1, ('vocals', 'and'): 1, ('and', 'close'): 1, ('close', 'harmonies,'): 1, ('harmonies,', 'filled'): 1, ('the', 'hall'): 1, ('hall', 'with'): 1, ('powerful', 'and'): 1, ('and', 'moving'): 1, ('moving', 'sound.'): 1, ('sound.', 'For'): 1, ('For', 'these'): 1, ('these', 'men,'): 1, ('men,', 'Isicathamiya'): 1, ('Isicathamiya', 'was'): 1, ('just', 'music;'): 1, ('music;', 'it'): 1, ('to', 'express'): 1, ('express', 'their'): 1, ('their', 'emotions,'): 1, ('emotions,', 'to'): 1, ('to', 'connect'): 1, ('their', 'Zulu'): 1, ('Zulu', 'heritage,'): 1, ('heritage,', 'and'): 1, ('and', 'to'): 1, ('to', 'find'): 1, ('find', 'solace'): 1, ('solace', 'and'): 1, ('and', 'strength'): 1, ('strength', 'in'): 1, ('the', 'face'): 1, ('face', 'of'): 1, ('of', 'adversity.'): 1, ('colors', 'and'): 1, ('intricate', 'patterns'): 1, ('Kente', 'cloth,'): 1, ('cloth,', 'a'): 1, ('Ghanaian', 'royalty'): 1, ('royalty', 'and'): 1, ('and', 'prestige,'): 1, ('prestige,', 'tell'): 1, ('of', 'history,'): 1, ('history,', 'culture,'): 1, ('social', 'status.'): 1, ('status.', 'Woven'): 1, ('Woven', 'on'): 1, ('on', 'narrow'): 1, ('narrow', 'looms'): 1, ('looms', 'by'): 1, ('by', 'skilled'): 1, ('skilled', 'artisans,'): 1, ('artisans,', 'each'): 1, ('each', 'strip'): 1, ('strip', 'of'): 1, ('to', 'patience'): 1, ('patience', 'and'): 1, ('The', 'geometric'): 1, ('designs,', 'rich'): 1, ('rich', 'with'): 1, ('with', 'symbolism,'): 1, ('symbolism,', 'represent'): 1, ('proverbs,', 'historical'): 1, ('historical', 'events,'): 1, ('events,', 'and'): 1, ('and', 'important'): 1, ('important', 'figures.'): 1, ('figures.', 'Worn'): 1, ('Worn', 'during'): 1, ('during', 'special'): 1, ('special', 'occasions'): 1, ('occasions', 'and'): 1, ('ceremonies,', 'Kente'): 1, ('Kente', 'cloth'): 1, ('cloth', 'embodies'): 1, ('embodies', 'the'): 1, ('of', 'Ghana,'): 1, ('Ghana,', 'its'): 1, ('vibrant', 'culture,'): 1, ('its', 'rich'): 1, ('rich', 'history.'): 1, ('history.', 'From'): 1, ('the', 'bright'): 1, ('bright', 'yellows'): 1, ('yellows', 'and'): 1, ('and', 'golds'): 1, ('golds', 'representing'): 1, ('representing', 'royalty'): 1, ('royalty', 'to'): 1, ('deep', 'blues'): 1, ('blues', 'and'): 1, ('and', 'greens'): 1, ('greens', 'symbolizing'): 1, ('symbolizing', 'spirituality,'): 1, ('spirituality,', 'Kente'): 1, ('a', 'visual'): 1, ('visual', 'language,'): 1, ('language,', 'a'): 1, ('a', 'wearable'): 1, ('wearable', 'expression'): 1, ('Ghanaian', 'identity'): 1, ('and', 'heritage.'): 1, ('Bogolanfini,', 'or'): 1, ('or', 'mud'): 1, ('mud', 'cloth,'): 1, ('cloth,', 'from'): 1, ('a', 'textile'): 1, ('textile', 'steeped'): 1, ('steeped', 'in'): 1, ('in', 'tradition'): 1, ('tradition', 'and'): 1, ('and', 'symbolism.'): 1, ('symbolism.', 'Its'): 1, ('distinctive', 'patterns,'): 1, ('using', 'fermented'): 1, ('fermented', 'mud'): 1, ('mud', 'and'): 1, ('natural', 'dyes,'): 1, ('dyes,', 'tell'): 1, ('Malian', 'culture,'): 1, ('culture,', 'history,'): 1, ('history,', 'and'): 1, ('and', 'beliefs.'): 1, ('beliefs.', 'The'): 1, ('of', 'creating'): 1, ('creating', 'Bogolanfini'): 1, ('Bogolanfini', 'is'): 1, ('as', 'rich'): 1, ('and', 'complex'): 1, ('complex', 'as'): 1, ('the', 'designs'): 1, ('designs', 'themselves,'): 1, ('themselves,', 'involving'): 1, ('involving', 'multiple'): 1, ('multiple', 'stages'): 1, ('of', 'dyeing,'): 1, ('dyeing,', 'painting,'): 1, ('painting,', 'and'): 1, ('and', 'sun-drying.'): 1, ('sun-drying.', 'Each'): 1, ('Each', 'piece'): 1, ('piece', 'is'): 1, ('unique,', 'reflecting'): 1, ('the', 'artistry'): 1, ('and', 'skill'): 1, ('skill', 'of'): 1, ('the', 'maker.'): 1, ('maker.', 'Traditionally'): 1, ('Traditionally', 'worn'): 1, ('by', 'hunters'): 1, ('hunters', 'and'): 1, ('and', 'warriors,'): 1, ('warriors,', 'Bogolanfini'): 1, ('Bogolanfini', 'has'): 1, ('Malian', 'identity'): 1, ('enduring', 'power'): 1, ('of', 'indigenous'): 1, ('indigenous', 'art'): 1, ('art', 'forms.'): 1, ('Adire,', 'a'): 1, ('a', 'resist-dyed'): 1, ('resist-dyed', 'indigo'): 1, ('indigo', 'cloth'): 1, ('Yoruba', 'culture'): 1, ('and', 'creativity.'): 1, ('creativity.', 'The'): 1, ('The', 'intricate'): 1, ('using', 'various'): 1, ('various', 'techniques'): 1, ('techniques', 'such'): 1, ('as', 'stitching,'): 1, ('stitching,', 'tying,'): 1, ('tying,', 'and'): 1, ('applying', 'starch'): 1, ('starch', 'paste,'): 1, ('paste,', 'represent'): 1, ('proverbs,', 'stories,'): 1, ('stories,', 'and'): 1, ('and', 'symbols'): 1, ('Yoruba', 'cosmology.'): 1, ('cosmology.', 'Adire,'): 1, ('Adire,', 'meaning'): 1, ('meaning', '“tied'): 1, ('“tied', 'and'): 1, ('and', 'dyed,”'): 1, ('dyed,”', 'is'): 1, ('the', 'ingenuity'): 1, ('ingenuity', 'and'): 1, ('and', 'artistry'): 1, ('artistry', 'of'): 1, ('Yoruba', 'women,'): 1, ('women,', 'who'): 1, ('have', 'passed'): 1, ('down', 'these'): 1, ('these', 'techniques'): 1, ('techniques', 'through'): 1, ('generations.', 'From'): 1, ('the', 'bold,'): 1, ('bold,', 'geometric'): 1, ('geometric', 'designs'): 1, ('designs', 'of'): 1, ('Adire', 'Eleko'): 1, ('Eleko', 'to'): 1, ('the', 'more'): 1, ('more', 'fluid'): 1, ('fluid', 'patterns'): 1, ('Adire', 'Oniko,'): 1, ('Oniko,', 'Adire'): 1, ('Adire', 'cloth'): 1, ('cloth', 'is'): 1, ('Yoruba', 'artistry'): 1, ('cultural', 'pride.'): 1, ('Kanga,', 'a'): 1, ('colorful', 'printed'): 1, ('printed', 'cloth'): 1, ('from', 'East'): 1, ('particularly', 'Tanzania'): 1, ('and', 'Kenya,'): 1, ('Kenya,', 'is'): 1, ('is', 'more'): 1, ('a', 'fabric;'): 1, ('fabric;', \"it's\"): 1, ('a', 'form'): 1, ('form', 'of'): 1, ('of', 'communication'): 1, ('communication', 'and'): 1, ('social', 'expression.'): 1, ('expression.', 'Each'): 1, ('Each', 'Kanga'): 1, ('Kanga', 'features'): 1, ('features', 'a'): 1, ('central', 'design'): 1, ('design', 'surrounded'): 1, ('surrounded', 'by'): 1, ('a', 'border'): 1, ('border', 'and'): 1, ('a', 'proverb'): 1, ('proverb', 'or'): 1, ('or', 'saying,'): 1, ('saying,', 'often'): 1, ('often', 'written'): 1, ('written', 'in'): 1, ('in', 'Swahili.'): 1, ('Swahili.', 'These'): 1, ('These', 'proverbs'): 1, ('proverbs', 'offer'): 1, ('offer', 'advice,'): 1, ('advice,', 'commentary'): 1, ('commentary', 'on'): 1, ('on', 'social'): 1, ('social', 'issues,'): 1, ('issues,', 'or'): 1, ('or', 'expressions'): 1, ('expressions', 'of'): 1, ('of', 'love'): 1, ('love', 'and'): 1, ('and', 'friendship.'): 1, ('friendship.', 'Kanga'): 1, ('Kanga', 'are'): 1, ('are', 'worn'): 1, ('by', 'women'): 1, ('women', 'for'): 1, ('everyday', 'wear,'): 1, ('wear,', 'special'): 1, ('occasions,', 'and'): 1, ('as', 'gifts,'): 1, ('gifts,', 'serving'): 1, ('vibrant', 'symbol'): 1, ('African', 'culture'): 1, ('of', 'language'): 1, ('language', 'and'): 1, ('and', 'visual'): 1, ('visual', 'expression.'): 1, ('Ankara,', 'also'): 1, ('as', 'African'): 1, ('African', 'wax'): 1, ('wax', 'print'): 1, ('print', 'fabric,'): 1, ('fabric,', 'is'): 1, ('and', 'versatile'): 1, ('versatile', 'textile'): 1, ('textile', 'popular'): 1, ('popular', 'across'): 1, ('across', 'Africa'): 1, ('beyond.', 'Its'): 1, ('Its', 'bold,'): 1, ('bold,', 'colorful'): 1, ('colorful', 'patterns,'): 1, ('patterns,', 'often'): 1, ('often', 'featuring'): 1, ('featuring', 'geometric'): 1, ('designs,', 'floral'): 1, ('floral', 'motifs,'): 1, ('motifs,', 'and'): 1, ('intricate', 'details,'): 1, ('details,', 'are'): 1, ('produced', 'through'): 1, ('through', 'a'): 1, ('complex', 'process'): 1, ('of', 'wax-resist'): 1, ('wax-resist', 'dyeing.'): 1, ('dyeing.', 'While'): 1, ('While', 'not'): 1, ('not', 'originally'): 1, ('originally', 'from'): 1, ('from', 'Africa,'): 1, ('Africa,', 'Ankara'): 1, ('Ankara', 'has'): 1, ('African', 'fashion'): 1, ('fashion', 'and'): 1, ('cultural', 'expression,'): 1, ('expression,', 'adapted'): 1, ('adapted', 'and'): 1, ('and', 'embraced'): 1, ('embraced', 'by'): 1, ('by', 'diverse'): 1, ('diverse', 'communities.'): 1, ('communities.', 'Its'): 1, ('Its', 'versatility'): 1, ('versatility', 'allows'): 1, ('allows', 'for'): 1, ('of', 'styles'): 1, ('styles', 'and'): 1, ('and', 'garments,'): 1, ('garments,', 'reflecting'): 1, ('reflecting', 'individual'): 1, ('individual', 'creativity'): 1, ('creativity', 'and'): 1, ('cultural', 'identity.'): 1, ('identity.', 'Ankara'): 1, ('Ankara', 'is'): 1, ('of', 'cross-cultural'): 1, ('cross-cultural', 'exchange'): 1, ('exchange', 'and'): 1, ('the', 'dynamic'): 1, ('dynamic', 'evolution'): 1, ('evolution', 'of'): 1, ('African', 'fashion.'): 1, ('Shweshwe,', 'a'): 1, ('a', 'printed'): 1, ('printed', 'cotton'): 1, ('cotton', 'fabric'): 1, ('fabric', 'characterized'): 1, ('by', 'intricate'): 1, ('geometric', 'patterns,'): 1, ('patterns,', 'is'): 1, ('beloved', 'textile'): 1, ('textile', 'in'): 1, ('in', 'Lesotho'): 1, ('Lesotho', 'and'): 1, ('Africa.', 'Originally'): 1, ('Originally', 'introduced'): 1, ('introduced', 'by'): 1, ('by', 'German'): 1, ('German', 'settlers'): 1, ('settlers', 'in'): 1, ('the', '19th'): 1, ('19th', 'century,'): 1, ('century,', 'it'): 1, ('become', 'deeply'): 1, ('deeply', 'ingrained'): 1, ('ingrained', 'in'): 1, ('in', 'local'): 1, ('local', 'cultures,'): 1, ('cultures,', 'evolving'): 1, ('evolving', 'into'): 1, ('and', 'distinctive'): 1, ('distinctive', 'fabric.'): 1, ('fabric.', \"Shweshwe's\"): 1, (\"Shweshwe's\", 'vibrant'): 1, ('vibrant', 'indigo,'): 1, ('indigo,', 'brown,'): 1, ('brown,', 'and'): 1, ('and', 'red'): 1, ('red', 'hues,'): 1, ('hues,', 'along'): 1, ('with', 'its'): 1, ('designs,', 'have'): 1, ('have', 'made'): 1, ('made', 'it'): 1, ('popular', 'choice'): 1, ('for', 'traditional'): 1, ('traditional', 'garments,'): 1, ('garments,', 'contemporary'): 1, ('contemporary', 'fashion,'): 1, ('fashion,', 'and'): 1, ('and', 'home'): 1, ('home', 'décor.'): 1, ('décor.', 'The'): 1, ('The', \"fabric's\"): 1, (\"fabric's\", 'enduring'): 1, ('enduring', 'popularity'): 1, ('popularity', 'is'): 1, ('beauty,', 'versatility,'): 1, ('versatility,', 'and'): 1, ('its', 'ability'): 1, ('to', 'represent'): 1, ('represent', 'cultural'): 1, ('and', 'identity.'): 1, ('The', 'Sahara'): 1, ('Desert', 'is'): 1, ('by', 'an'): 1, ('an', 'extremely'): 1, ('extremely', 'arid'): 1, ('arid', 'climate,'): 1, ('with', 'scorching'): 1, ('scorching', 'hot'): 1, ('hot', 'days'): 1, ('days', 'and'): 1, ('and', 'surprisingly'): 1, ('surprisingly', 'cold'): 1, ('cold', 'nights.'): 1, ('nights.', 'Rainfall'): 1, ('is', 'scarce'): 1, ('scarce', 'and'): 1, ('and', 'unpredictable,'): 1, ('unpredictable,', 'with'): 1, ('areas', 'receiving'): 1, ('receiving', 'less'): 1, ('less', 'than'): 1, ('than', '25'): 1, ('25', 'millimeters'): 1, ('millimeters', '(1'): 1, ('(1', 'inch)'): 1, ('inch)', 'annually.'): 1, ('annually.', 'Temperatures'): 1, ('Temperatures', 'can'): 1, ('can', 'soar'): 1, ('soar', 'above'): 1, ('above', '50°C'): 1, ('50°C', '(122°F)'): 1, ('(122°F)', 'during'): 1, ('day,', 'while'): 1, ('while', 'at'): 1, ('at', 'night,'): 1, ('night,', 'the'): 1, ('the', 'lack'): 1, ('of', 'cloud'): 1, ('cloud', 'cover'): 1, ('cover', 'allows'): 1, ('allows', 'heat'): 1, ('heat', 'to'): 1, ('to', 'escape'): 1, ('escape', 'rapidly,'): 1, ('rapidly,', 'causing'): 1, ('causing', 'temperatures'): 1, ('temperatures', 'to'): 1, ('to', 'plummet,'): 1, ('plummet,', 'sometimes'): 1, ('sometimes', 'even'): 1, ('even', 'below'): 1, ('below', 'freezing.'): 1, ('freezing.', 'Strong'): 1, ('Strong', 'winds,'): 1, ('winds,', 'known'): 1, ('the', 'Harmattan,'): 1, ('Harmattan,', 'often'): 1, ('often', 'carry'): 1, ('carry', 'dust'): 1, ('dust', 'and'): 1, ('and', 'sand'): 1, ('sand', 'across'): 1, ('vast', 'distances,'): 1, ('distances,', 'shaping'): 1, ('shaping', 'the'): 1, ('and', 'impacting'): 1, ('impacting', 'visibility.'): 1, ('The', 'Congo'): 1, ('Congo', 'Basin'): 1, ('Basin', 'experiences'): 1, ('by', 'high'): 1, ('high', 'humidity,'): 1, ('humidity,', 'abundant'): 1, ('abundant', 'rainfall,'): 1, ('rainfall,', 'and'): 1, ('and', 'consistently'): 1, ('consistently', 'warm'): 1, ('warm', 'temperatures.'): 1, ('temperatures.', 'Rainfall'): 1, ('is', 'heavy'): 1, ('heavy', 'throughout'): 1, ('the', 'year,'): 1, ('year,', 'exceeding'): 1, ('exceeding', '2,000'): 1, ('2,000', 'millimeters'): 1, ('millimeters', '(79'): 1, ('(79', 'inches)'): 1, ('inches)', 'annually,'): 1, ('annually,', 'contributing'): 1, ('dense', 'vegetation'): 1, ('vegetation', 'of'): 1, ('the', 'rainforest.'): 1, ('rainforest.', 'Temperatures'): 1, ('Temperatures', 'remain'): 1, ('remain', 'relatively'): 1, ('relatively', 'constant,'): 1, ('constant,', 'typically'): 1, ('typically', 'ranging'): 1, ('ranging', 'from'): 1, ('from', '24°C'): 1, ('24°C', 'to'): 1, ('to', '27°C'): 1, ('27°C', '(75°F'): 1, ('(75°F', 'to'): 1, ('to', '81°F)'): 1, ('81°F)', 'throughout'): 1, ('The', 'high'): 1, ('and', 'lack'): 1, ('of', 'seasonal'): 1, ('seasonal', 'variation'): 1, ('variation', 'create'): 1, ('a', 'stable,'): 1, ('stable,', 'warm,'): 1, ('warm,', 'and'): 1, ('and', 'wet'): 1, ('wet', 'environment'): 1, ('environment', 'that'): 1, ('supports', 'incredible'): 1, ('incredible', 'biodiversity.'): 1, ('Sahel', 'region,'): 1, ('region,', 'a'): 1, ('semi-arid', 'transitional'): 1, ('transitional', 'zone'): 1, ('zone', 'between'): 1, ('Desert', 'and'): 1, ('savannas', 'to'): 1, ('the', 'south,'): 1, ('south,', 'is'): 1, ('dry', 'climate'): 1, ('dry', 'season.'): 1, ('season.', 'The'): 1, ('The', 'wet'): 1, ('wet', 'season,'): 1, ('season,', 'typically'): 1, ('typically', 'lasting'): 1, ('lasting', 'a'): 1, ('few', 'months,'): 1, ('months,', 'brings'): 1, ('brings', 'much-needed'): 1, ('much-needed', 'rainfall,'): 1, ('rainfall,', 'though'): 1, ('though', 'the'): 1, ('the', 'amount'): 1, ('amount', 'can'): 1, ('vary', 'significantly'): 1, ('significantly', 'from'): 1, ('from', 'year'): 1, ('year', 'to'): 1, ('to', 'year.'): 1, ('The', 'dry'): 1, ('season', 'is'): 1, ('is', 'long'): 1, ('long', 'and'): 1, ('and', 'hot,'): 1, ('hot,', 'with'): 1, ('with', 'temperatures'): 1, ('temperatures', 'often'): 1, ('exceeding', '40°C'): 1, ('40°C', '(104°F).'): 1, ('(104°F).', 'The'): 1, ('Sahel', 'is'): 1, ('is', 'prone'): 1, ('to', 'droughts,'): 1, ('droughts,', 'which'): 1, ('can', 'have'): 1, ('have', 'devastating'): 1, ('devastating', 'impacts'): 1, ('impacts', 'on'): 1, ('on', 'agriculture'): 1, ('agriculture', 'and'): 1, ('and', 'livelihoods,'): 1, ('livelihoods,', 'highlighting'): 1, ('highlighting', 'the'): 1, ('the', 'challenges'): 1, ('challenges', 'of'): 1, ('of', 'living'): 1, ('this', 'harsh'): 1, ('harsh', 'and'): 1, ('and', 'unpredictable'): 1, ('unpredictable', 'environment.'): 1, ('The', 'East'): 1, ('African', 'Highlands'): 1, ('Highlands', 'enjoy'): 1, ('enjoy', 'a'): 1, ('a', 'temperate'): 1, ('climate,', 'moderated'): 1, ('moderated', 'by'): 1, ('high', 'altitude.'): 1, ('altitude.', 'Despite'): 1, ('Despite', 'being'): 1, ('being', 'located'): 1, ('located', 'near'): 1, ('the', 'equator,'): 1, ('equator,', 'temperatures'): 1, ('temperatures', 'are'): 1, ('generally', 'cooler'): 1, ('cooler', 'than'): 1, ('than', 'in'): 1, ('surrounding', 'lowlands,'): 1, ('lowlands,', 'particularly'): 1, ('particularly', 'at'): 1, ('at', 'night.'): 1, ('night.', 'Rainfall'): 1, ('Rainfall', 'patterns'): 1, ('patterns', 'vary'): 1, ('on', 'location'): 1, ('location', 'and'): 1, ('and', 'elevation,'): 1, ('elevation,', 'with'): 1, ('areas', 'experiencing'): 1, ('experiencing', 'two'): 1, ('two', 'wet'): 1, ('wet', 'seasons.'): 1, ('The', 'highlands'): 1, ('highlands', 'are'): 1, ('their', 'fertile'): 1, ('fertile', 'soils'): 1, ('soils', 'and'): 1, ('and', 'agricultural'): 1, ('agricultural', 'productivity,'): 1, ('productivity,', 'benefiting'): 1, ('benefiting', 'from'): 1, ('of', 'moderate'): 1, ('moderate', 'temperatures'): 1, ('and', 'adequate'): 1, ('adequate', 'rainfall.'): 1, ('rainfall.', 'This'): 1, ('climate', 'has'): 1, ('has', 'also'): 1, ('also', 'contributed'): 1, ('contributed', 'to'): 1, ('the', \"region's\"): 1, (\"region's\", 'rich'): 1, ('rich', 'biodiversity,'): 1, ('biodiversity,', 'supporting'): 1, ('supporting', 'a'): 1, ('Africa', 'enjoys'): 1, ('enjoys', 'a'): 1, ('a', 'Mediterranean'): 1, ('Mediterranean', 'climate,'): 1, ('by', 'hot,'): 1, ('dry', 'summers'): 1, ('and', 'mild,'): 1, ('mild,', 'wet'): 1, ('wet', 'winters.'): 1, ('winters.', 'Rainfall'): 1, ('is', 'concentrated'): 1, ('the', 'winter'): 1, ('winter', 'months,'): 1, ('months,', 'while'): 1, ('while', 'summers'): 1, ('summers', 'are'): 1, ('typically', 'dry'): 1, ('dry', 'and'): 1, ('and', 'sunny.'): 1, ('sunny.', 'Temperatures'): 1, ('Temperatures', 'are'): 1, ('are', 'moderate,'): 1, ('moderate,', 'with'): 1, ('and', 'cool,'): 1, ('cool,', 'but'): 1, ('but', 'rarely'): 1, ('rarely', 'freezing,'): 1, ('freezing,', 'winters.'): 1, ('winters.', 'This'): 1, ('climate', 'supports'): 1, ('ecosystem,', 'with'): 1, ('with', 'vegetation'): 1, ('vegetation', 'adapted'): 1, ('dry', 'summer'): 1, ('summer', 'conditions.'): 1, ('conditions.', 'The'): 1, ('its', 'agricultural'): 1, ('agricultural', 'production,'): 1, ('production,', 'particularly'): 1, ('particularly', 'of'): 1, ('and', 'olives,'): 1, ('olives,', 'which'): 1, ('which', 'thrive'): 1, ('this', 'climate.'): 1, ('Africa', 'experiences'): 1, ('of', 'climates,'): 1, ('climates,', 'from'): 1, ('from', 'arid'): 1, ('arid', 'deserts'): 1, ('deserts', 'in'): 1, ('the', 'west'): 1, ('west', 'to'): 1, ('to', 'subtropical'): 1, ('subtropical', 'regions'): 1, ('regions', 'in'): 1, ('the', 'east.'): 1, ('east.', 'The'): 1, ('Namib', 'Desert,'): 1, ('Desert,', 'one'): 1, ('the', 'driest'): 1, ('driest', 'places'): 1, ('places', 'on'): 1, ('The', 'interior'): 1, ('interior', 'regions'): 1, ('regions', 'have'): 1, ('and', 'cool'): 1, ('cool', 'winters.'): 1, ('winters.', 'The'): 1, ('is', 'influenced'): 1, ('influenced', 'by'): 1, ('warm', 'Agulhas'): 1, ('Agulhas', 'Current,'): 1, ('Current,', 'resulting'): 1, ('a', 'subtropical'): 1, ('warm', 'temperatures'): 1, ('and', 'higher'): 1, ('higher', 'rainfall.'): 1, ('rainfall.', 'Southern'): 1, ('also', 'prone'): 1, ('to', 'seasonal'): 1, ('seasonal', 'variations,'): 1, ('variations,', 'with'): 1, ('with', 'distinct'): 1, ('dry', 'seasons'): 1, ('seasons', 'in'): 1, ('many', 'areas.'): 1, ('Madagascar,', 'an'): 1, ('the', 'southeast'): 1, ('southeast', 'coast'): 1, ('Africa,', 'has'): 1, ('a', 'varied'): 1, ('varied', 'climate'): 1, ('climate', 'due'): 1, ('its', 'diverse'): 1, ('diverse', 'topography'): 1, ('topography', 'and'): 1, ('and', 'exposure'): 1, ('exposure', 'to'): 1, ('different', 'weather'): 1, ('weather', 'patterns.'): 1, ('with', 'high'): 1, ('and', 'abundant'): 1, ('abundant', 'rainfall.'): 1, ('rainfall.', 'The'): 1, ('The', 'central'): 1, ('central', 'highlands'): 1, ('highlands', 'have'): 1, ('with', 'cooler'): 1, ('cooler', 'temperatures'): 1, ('and', 'distinct'): 1, ('dry', 'seasons.'): 1, ('is', 'drier,'): 1, ('drier,', 'with'): 1, ('semi-arid', 'climate'): 1, ('some', 'areas.'): 1, ('areas.', 'The'): 1, ('The', 'southern'): 1, ('southern', 'part'): 1, ('island', 'is'): 1, ('the', 'driest,'): 1, ('driest,', 'with'): 1, ('a', 'desert'): 1, ('desert', 'climate'): 1, ('some', 'regions.'): 1, ('regions.', 'This'): 1, ('This', 'climatic'): 1, ('climatic', 'diversity'): 1, ('diversity', 'contributes'): 1, ('to', \"Madagascar's\"): 1, (\"Madagascar's\", 'unique'): 1, ('unique', 'biodiversity,'): 1, ('biodiversity,', 'making'): 1, ('a', 'hotspot'): 1, ('hotspot', 'for'): 1, ('for', 'endemic'): 1, ('endemic', 'plant'): 1, ('Abeni,', 'a'): 1, ('a', 'bright-eyed'): 1, ('bright-eyed', 'girl'): 1, ('with', 'braids'): 1, ('braids', 'adorned'): 1, ('adorned', 'with'): 1, ('with', 'colorful'): 1, ('colorful', 'beads,'): 1, ('beads,', 'lived'): 1, ('nestled', 'beside'): 1, ('beside', 'a'): 1, ('a', 'sparkling'): 1, ('sparkling', 'river.'): 1, ('river.', 'The'): 1, ('air', 'often'): 1, ('often', 'hummed'): 1, ('rhythmic', 'pounding'): 1, ('pounding', 'of'): 1, ('of', 'mortars'): 1, ('mortars', 'and'): 1, ('and', 'pestles'): 1, ('pestles', 'as'): 1, ('as', 'women'): 1, ('women', 'prepared'): 1, ('prepared', 'the'): 1, ('evening', 'meal.'): 1, ('meal.', 'But'): 1, ('But', 'no'): 1, ('no', 'aroma'): 1, ('aroma', 'was'): 1, ('was', 'as'): 1, ('as', 'enticing'): 1, ('enticing', 'to'): 1, ('to', 'Abeni'): 1, ('Abeni', 'as'): 1, ('rich,', 'smoky'): 1, ('smoky', 'fragrance'): 1, ('fragrance', 'of'): 1, ('Rice,', 'her'): 1, ('her', 'absolute'): 1, ('absolute', 'favorite.'): 1, ('favorite.', 'When'): 1, ('When', 'her'): 1, ('her', 'mother,'): 1, ('Mama', 'Ada,'): 1, ('Ada,', 'began'): 1, ('to', 'prepare'): 1, ('prepare', 'it,'): 1, ('it,', 'Abeni'): 1, ('would', 'abandon'): 1, ('abandon', 'her'): 1, ('her', 'games'): 1, ('games', 'with'): 1, ('the', 'other'): 1, ('other', 'children'): 1, ('children', 'and'): 1, ('and', 'perch'): 1, ('perch', 'herself'): 1, ('herself', 'on'): 1, ('a', 'stool'): 1, ('stool', 'by'): 1, ('cooking', 'fire,'): 1, ('fire,', 'her'): 1, ('eyes', 'wide'): 1, ('wide', 'with'): 1, ('anticipation.', 'Mama'): 1, ('by', 'sautéing'): 1, ('sautéing', 'finely'): 1, ('chopped', 'onions'): 1, ('onions', 'in'): 1, ('in', 'palm'): 1, ('they', 'turned'): 1, ('turned', 'a'): 1, ('golden', 'brown,'): 1, ('brown,', 'their'): 1, ('their', 'sweet'): 1, ('sweet', 'smell'): 1, ('smell', 'filling'): 1, ('air.', 'Then,'): 1, ('Then,', \"she'd\"): 1, (\"she'd\", 'add'): 1, ('add', 'crushed'): 1, ('crushed', 'tomatoes,'): 1, ('tomatoes,', 'fiery'): 1, ('fiery', 'scotch'): 1, ('scotch', 'bonnet'): 1, ('bonnet', 'peppers,'): 1, ('spices', 'passed'): 1, ('through', 'generations'): 1, ('of', 'women'): 1, ('women', 'in'): 1, ('their', 'family.'): 1, ('family.', 'The'): 1, ('red', 'sauce'): 1, ('sauce', 'would'): 1, ('simmer', 'and'): 1, ('and', 'bubble,'): 1, ('bubble,', 'its'): 1, ('its', 'aroma'): 1, ('aroma', 'becoming'): 1, ('becoming', 'richer'): 1, ('richer', 'and'): 1, ('and', 'more'): 1, ('more', 'complex'): 1, ('complex', 'with'): 1, ('moment.', 'Finally,'): 1, ('Finally,', 'she'): 1, ('add', 'long-grain'): 1, ('long-grain', 'rice,'): 1, ('rice,', 'stirring'): 1, ('stirring', 'it'): 1, ('it', 'gently'): 1, ('gently', 'into'): 1, ('the', 'sauce'): 1, ('sauce', 'until'): 1, ('until', 'each'): 1, ('grain', 'was'): 1, ('was', 'coated'): 1, ('fiery', 'red'): 1, ('red', 'hue.'): 1, ('hue.', 'As'): 1, ('Rice', 'cooked,'): 1, ('cooked,', 'Abeni'): 1, ('would', 'listen'): 1, ('listen', 'intently'): 1, ('intently', 'to'): 1, ('to', 'Mama'): 1, ('Mama', \"Ada's\"): 1, (\"Ada's\", 'stories,'): 1, ('stories,', 'tales'): 1, ('of', 'brave'): 1, ('brave', 'ancestors,'): 1, ('ancestors,', 'mischievous'): 1, ('mischievous', 'spirits,'): 1, ('and', 'wise'): 1, ('wise', 'proverbs.'): 1, ('proverbs.', 'The'): 1, ('the', 'spices'): 1, ('spices', 'in'): 1, ('Rice,', 'added'): 1, ('added', 'layers'): 1, ('layers', 'of'): 1, ('and', 'richness'): 1, ('richness', 'to'): 1, ('to', \"Abeni's\"): 1, (\"Abeni's\", 'understanding'): 1, ('finally', 'cooked,'): 1, ('cooked,', 'each'): 1, ('grain', 'plump'): 1, ('and', 'glistening,'): 1, ('glistening,', 'Mama'): 1, ('on', 'large'): 1, ('large', 'platters,'): 1, ('platters,', 'garnished'): 1, ('with', 'fried'): 1, ('and', 'succulent'): 1, ('succulent', 'pieces'): 1, ('grilled', 'chicken.'): 1, ('family', 'would'): 1, ('would', 'gather'): 1, ('gather', 'around,'): 1, ('around,', 'their'): 1, ('faces', 'illuminated'): 1, ('illuminated', 'by'): 1, ('warm', 'glow'): 1, ('glow', 'of'): 1, ('red', 'of'): 1, ('Jollof', 'Rice.'): 1, ('Rice.', 'Each'): 1, ('flavor', '-'): 1, ('-', 'smoky,'): 1, ('smoky,', 'spicy,'): 1, ('spicy,', 'savory,'): 1, ('savory,', 'and'): 1, ('slightly', 'sweet.'): 1, ('sweet.', 'To'): 1, ('To', 'Abeni,'): 1, ('Abeni,', 'Jollof'): 1, ('Rice', 'was'): 1, ('home,', 'family,'): 1, ('rich', 'tapestry'): 1, ('her', 'culture.'): 1, ('mischievous', 'grin,'): 1, ('grin,', 'lived'): 1, ('a', 'village'): 1, ('village', 'high'): 1, ('Ethiopian', 'highlands,'): 1, ('highlands,', 'where'): 1, ('was', 'thin'): 1, ('thin', 'and'): 1, ('the', 'views'): 1, ('views', 'stretched'): 1, ('stretched', 'forever.'): 1, ('forever.', 'He'): 1, ('He', 'loved'): 1, ('loved', 'helping'): 1, ('Mama', 'Selamawit,'): 1, ('Selamawit,', 'in'): 1, ('their', 'traditional'): 1, ('traditional', 'roundhouse'): 1, ('roundhouse', 'kitchen.'): 1, ('kitchen.', 'But'): 1, ('But', 'his'): 1, ('his', 'favorite'): 1, ('favorite', 'task'): 1, ('task', 'was'): 1, ('was', 'watching'): 1, ('watching', 'her'): 1, ('her', 'make'): 1, ('make', 'Injera,'): 1, ('Injera,', 'the'): 1, ('the', 'spongy,'): 1, ('spongy,', 'slightly'): 1, ('flatbread', 'that'): 1, ('that', 'formed'): 1, ('formed', 'the'): 1, ('of', 'every'): 1, ('every', 'Ethiopian'): 1, ('Ethiopian', 'meal.'): 1, ('meal.', 'Mama'): 1, ('mixing', 'teff'): 1, ('teff', 'flour'): 1, ('flour', '-'): 1, ('a', 'tiny'): 1, ('tiny', 'grain'): 1, ('grain', 'unique'): 1, ('to', 'Ethiopia'): 1, ('Ethiopia', '-'): 1, ('-', 'with'): 1, ('with', 'water.'): 1, ('water.', \"She'd\"): 1, (\"She'd\", 'then'): 1, ('then', 'let'): 1, ('let', 'the'): 1, ('batter', 'ferment'): 1, ('days,', 'a'): 1, ('a', 'process'): 1, ('process', 'that'): 1, ('gave', 'Injera'): 1, ('Injera', 'its'): 1, ('distinctive', 'tangy'): 1, ('tangy', 'flavor.'): 1, ('flavor.', 'When'): 1, ('When', 'it'): 1, ('ready,', 'she'): 1, ('would', 'skillfully'): 1, ('skillfully', 'pour'): 1, ('pour', 'the'): 1, ('batter', 'onto'): 1, ('onto', 'a'): 1, ('large,', 'circular'): 1, ('circular', 'griddle'): 1, ('griddle', 'called'): 1, ('a', \"'mitad,'\"): 1, (\"'mitad,'\", 'creating'): 1, ('large,', 'thin'): 1, ('thin', 'pancake.'): 1, ('pancake.', 'As'): 1, ('Injera', 'cooked,'): 1, ('cooked,', 'small'): 1, ('small', 'bubbles'): 1, ('bubbles', 'would'): 1, ('would', 'form'): 1, ('form', 'on'): 1, ('its', 'surface,'): 1, ('surface,', 'creating'): 1, ('unique,', 'porous'): 1, ('porous', 'texture.'): 1, ('texture.', 'The'): 1, ('yeasty', 'aroma'): 1, ('aroma', 'that'): 1, ('that', 'Alem'): 1, ('Alem', 'found'): 1, ('found', 'comforting'): 1, ('and', 'familiar.'): 1, ('familiar.', 'Once'): 1, ('cooked,', 'Mama'): 1, ('carefully', 'peel'): 1, ('peel', 'it'): 1, ('it', 'off'): 1, ('the', 'mitad'): 1, ('mitad', 'and'): 1, ('and', 'stack'): 1, ('stack', 'it'): 1, ('platter,', 'ready'): 1, ('ready', 'to'): 1, ('be', 'served.'): 1, ('served.', 'Alem'): 1, ('Alem', 'loved'): 1, ('warm', 'Injera'): 1, ('Injera', 'and'): 1, ('and', 'use'): 1, ('use', 'it'): 1, ('the', 'colorful'): 1, ('colorful', 'array'): 1, ('of', 'stews'): 1, ('vegetables', 'that'): 1, ('that', 'Mama'): 1, ('Selamawit', 'had'): 1, ('had', 'prepared'): 1, ('prepared', '-'): 1, ('-', 'spicy'): 1, ('spicy', \"'doro\"): 1, (\"'doro\", \"wat'\"): 1, (\"wat'\", '(chicken'): 1, ('(chicken', 'stew),'): 1, ('stew),', 'flavorful'): 1, ('flavorful', \"'misir\"): 1, (\"'misir\", \"wat'\"): 1, (\"wat'\", '(lentil'): 1, ('(lentil', 'stew),'): 1, ('stew),', 'and'): 1, ('and', 'vibrant'): 1, ('vibrant', \"'gomen'\"): 1, (\"'gomen'\", '(collard'): 1, ('(collard', 'greens).'): 1, ('greens).', 'Each'): 1, ('and', 'textures,'): 1, ('textures,', 'the'): 1, ('sour', 'Injera'): 1, ('Injera', 'complementing'): 1, ('complementing', 'the'): 1, ('savory', 'dishes.'): 1, ('dishes.', 'Alem'): 1, ('Alem', 'believed'): 1, ('believed', 'that'): 1, ('that', 'Injera'): 1, ('his', 'heritage,'): 1, ('the', 'generations'): 1, ('of', 'Ethiopians'): 1, ('Ethiopians', 'who'): 1, ('who', 'had'): 1, ('had', 'enjoyed'): 1, ('enjoyed', 'this'): 1, ('unique', 'bread'): 1, ('bread', 'before'): 1, ('before', 'him.'): 1, ('Fatima,', 'a'): 1, ('with', 'sparkling'): 1, ('sparkling', 'eyes'): 1, ('vibrant', 'headscarf,'): 1, ('headscarf,', 'loved'): 1, ('loved', 'exploring'): 1, ('souks', 'of'): 1, ('of', 'Marrakech'): 1, ('Marrakech', 'with'): 1, ('father,', 'Baba'): 1, ('Baba', 'Ali.'): 1, ('Ali.', 'The'): 1, ('was', 'always'): 1, ('always', 'filled'): 1, ('a', 'kaleidoscope'): 1, ('kaleidoscope', 'of'): 1, ('of', 'scents'): 1, ('scents', '-'): 1, ('-', 'fragrant'): 1, ('spices,', 'sweet'): 1, ('sweet', 'pastries,'): 1, ('pastries,', 'and'): 1, ('the', 'earthy'): 1, ('earthy', 'aroma'): 1, ('of', 'cooking'): 1, ('cooking', 'tagines.'): 1, ('tagines.', 'Tagine,'): 1, ('Tagine,', 'a'): 1, ('conical', 'earthenware'): 1, ('earthenware', 'pot'): 1, ('which', 'it'): 1, ('is', 'prepared,'): 1, ('prepared,', 'was'): 1, ('was', \"Fatima's\"): 1, (\"Fatima's\", 'favorite'): 1, ('favorite', 'food.'): 1, ('food.', 'Baba'): 1, ('Baba', 'Ali,'): 1, ('Ali,', 'a'): 1, ('a', 'skilled'): 1, ('skilled', 'cook,'): 1, ('cook,', 'would'): 1, ('would', 'often'): 1, ('often', 'prepare'): 1, ('prepare', 'tagine'): 1, ('tagine', 'for'): 1, ('their', 'family,'): 1, ('family,', 'using'): 1, ('using', 'recipes'): 1, ('recipes', 'passed'): 1, ('generations.', 'He'): 1, ('by', 'arranging'): 1, ('arranging', 'pieces'): 1, ('of', 'tender'): 1, ('tender', 'lamb'): 1, ('the', 'tagine,'): 1, ('tagine,', 'layering'): 1, ('layering', 'them'): 1, ('them', 'with'): 1, ('a', 'medley'): 1, ('medley', 'of'): 1, ('fragrant', 'spices'): 1, ('-', 'cumin,'): 1, ('cumin,', 'coriander,'): 1, ('coriander,', 'turmeric,'): 1, ('turmeric,', 'ginger,'): 1, ('and', 'saffron.'): 1, ('saffron.', 'Then,'): 1, ('Then,', 'he'): 1, ('he', 'would'): 1, ('add', 'dried'): 1, ('like', 'apricots'): 1, ('or', 'prunes,'): 1, ('prunes,', 'along'): 1, ('vegetables', 'such'): 1, ('as', 'carrots,'): 1, ('carrots,', 'potatoes,'): 1, ('and', 'zucchini.'): 1, ('zucchini.', 'Finally,'): 1, ('Finally,', \"he'd\"): 1, (\"he'd\", 'pour'): 1, ('pour', 'in'): 1, ('a', 'little'): 1, ('little', 'water'): 1, ('water', 'or'): 1, ('or', 'broth'): 1, ('and', 'place'): 1, ('conical', 'lid'): 1, ('lid', 'on'): 1, ('top,', 'sealing'): 1, ('sealing', 'in'): 1, ('in', 'all'): 1, ('all', 'the'): 1, ('delicious', 'aromas.'): 1, ('aromas.', 'The'): 1, ('The', 'tagine'): 1, ('tagine', 'would'): 1, ('simmer', 'slowly'): 1, ('hot', 'coals'): 1, ('coals', 'or'): 1, ('or', 'in'): 1, ('low', 'oven,'): 1, ('oven,', 'the'): 1, ('the', 'fragrant'): 1, ('fragrant', 'steam'): 1, ('steam', 'escaping'): 1, ('escaping', 'from'): 1, ('from', 'under'): 1, ('lid,', 'hinting'): 1, ('the', 'culinary'): 1, ('culinary', 'magic'): 1, ('magic', 'happening'): 1, ('happening', 'inside.'): 1, ('inside.', 'As'): 1, ('tagine', 'cooked,'): 1, ('cooked,', 'Fatima'): 1, ('Fatima', 'would'): 1, ('would', 'sit'): 1, ('sit', 'beside'): 1, ('beside', 'her'): 1, ('father,', 'listening'): 1, ('listening', 'to'): 1, ('his', 'stories'): 1, ('of', 'desert'): 1, ('desert', 'caravans,'): 1, ('caravans,', 'ancient'): 1, ('ancient', 'cities,'): 1, ('cities,', 'and'): 1, ('the', 'magic'): 1, ('magic', 'of'): 1, ('Moroccan', 'hospitality.'): 1, ('hospitality.', 'When'): 1, ('ready,', 'Baba'): 1, ('Baba', 'Ali'): 1, ('Ali', 'would'): 1, ('carefully', 'remove'): 1, ('remove', 'the'): 1, ('lid,', 'releasing'): 1, ('releasing', 'a'): 1, ('a', 'cloud'): 1, ('cloud', 'of'): 1, ('fragrant', 'steam.'): 1, ('steam.', 'The'): 1, ('meat', 'would'): 1, ('would', 'be'): 1, ('be', 'meltingly'): 1, ('meltingly', 'tender,'): 1, ('tender,', 'the'): 1, ('the', 'vegetables'): 1, ('vegetables', 'infused'): 1, ('rich', 'spices,'): 1, ('the', 'dried'): 1, ('fruits', 'plump'): 1, ('and', 'juicy.'): 1, ('juicy.', 'They'): 1, ('They', 'would'): 1, ('would', 'eat'): 1, ('tagine', 'communally,'): 1, ('communally,', 'dipping'): 1, ('dipping', 'pieces'): 1, ('of', 'crusty'): 1, ('crusty', 'bread'): 1, ('bread', 'into'): 1, ('flavorful', 'sauce.'): 1, ('sauce.', 'For'): 1, ('For', 'Fatima,'): 1, ('Fatima,', 'tagine'): 1, ('of', 'warmth,'): 1, ('warmth,', 'family,'): 1, ('of', 'Morocco.'): 1, ('The', 'South'): 1, ('African', 'sun'): 1, ('on', \"Thabo's\"): 1, (\"Thabo's\", 'face'): 1, ('face', 'as'): 1, ('he', 'bounced'): 1, ('bounced', 'in'): 1, ('the', 'back'): 1, ('back', 'of'): 1, ('his', \"grandfather's\"): 1, (\"grandfather's\", 'bakkie,'): 1, ('bakkie,', 'the'): 1, ('road', 'rumbling'): 1, ('rumbling', 'beneath'): 1, ('beneath', 'them.'): 1, ('them.', 'They'): 1, ('were', 'headed'): 1, ('headed', 'to'): 1, ('their', 'favorite'): 1, ('favorite', 'picnic'): 1, ('picnic', 'spot,'): 1, ('spot,', 'a'): 1, ('a', 'grassy'): 1, ('grassy', 'clearing'): 1, ('clearing', 'overlooking'): 1, ('overlooking', 'a'): 1, ('a', 'valley'): 1, ('valley', 'dotted'): 1, ('with', 'acacia'): 1, ('acacia', 'trees.'): 1, ('trees.', 'Today'): 1, ('Today', 'was'): 1, ('special', 'day'): 1, ('day', '-'): 1, ('-', 'Grandpa'): 1, ('Grandpa', 'was'): 1, ('was', 'making'): 1, ('making', 'Pap'): 1, ('en', 'Vleis,'): 1, ('Vleis,', 'a'): 1, ('African', 'braai'): 1, ('braai', 'classic.'): 1, ('classic.', 'As'): 1, ('they', 'arrived,'): 1, ('arrived,', 'Grandpa,'): 1, ('Grandpa,', 'a'): 1, ('with', 'weathered'): 1, ('weathered', 'hands'): 1, ('hands', 'and'): 1, ('warm', 'smile,'): 1, ('smile,', 'set'): 1, ('set', 'about'): 1, ('about', 'building'): 1, ('a', 'fire'): 1, ('fire', 'with'): 1, ('with', 'seasoned'): 1, ('seasoned', 'wood,'): 1, ('wood,', 'the'): 1, ('the', 'smoke'): 1, ('smoke', 'curling'): 1, ('curling', 'lazily'): 1, ('lazily', 'into'): 1, ('the', 'clear'): 1, ('clear', 'blue'): 1, ('blue', 'sky.'): 1, ('sky.', 'Thabo'): 1, ('Thabo', 'helped'): 1, ('helped', 'gather'): 1, ('gather', 'smooth'): 1, ('smooth', 'stones'): 1, ('stones', 'to'): 1, ('a', 'makeshift'): 1, ('makeshift', 'braai,'): 1, ('braai,', 'his'): 1, ('his', 'excitement'): 1, ('excitement', 'bubbling'): 1, ('bubbling', 'like'): 1, ('pot', 'of'): 1, ('water', 'Grandpa'): 1, ('Grandpa', 'set'): 1, ('set', 'to'): 1, ('to', 'boil'): 1, ('boil', 'for'): 1, ('the', \"'pap'\"): 1, (\"'pap'\", '(maize'): 1, ('(maize', 'meal).'): 1, ('meal).', 'While'): 1, ('fire', 'crackled'): 1, ('crackled', 'merrily,'): 1, ('merrily,', 'Grandpa'): 1, ('Grandpa', 'marinated'): 1, ('marinated', 'thick'): 1, ('thick', 'cuts'): 1, ('cuts', 'of'): 1, ('of', 'boerewors'): 1, ('boerewors', '(South'): 1, ('(South', 'African'): 1, ('African', 'sausage)'): 1, ('sausage)', 'and'): 1, ('juicy', 'lamb'): 1, ('lamb', 'chops'): 1, ('chops', 'in'): 1, ('-', 'coriander,'): 1, ('coriander,', 'cumin,'): 1, ('cumin,', 'garlic,'): 1, ('of', 'chili.'): 1, ('chili.', 'Thabo'): 1, ('Thabo', 'watched,'): 1, ('watched,', 'mesmerized,'): 1, ('mesmerized,', 'as'): 1, ('as', 'Grandpa'): 1, ('Grandpa', 'expertly'): 1, ('expertly', 'grilled'): 1, ('grilled', 'the'): 1, ('meat', 'over'): 1, ('open', 'flames,'): 1, ('flames,', 'the'): 1, ('the', 'sizzling'): 1, ('sizzling', 'sound'): 1, ('sound', 'and'): 1, ('aroma', 'making'): 1, ('making', 'his'): 1, ('his', 'mouth'): 1, ('mouth', 'water.'): 1, ('water.', 'Meanwhile,'): 1, ('Meanwhile,', 'he'): 1, ('he', 'stirred'): 1, ('stirred', 'the'): 1, ('creamy', 'white'): 1, ('white', 'pap,'): 1, ('pap,', 'ensuring'): 1, ('ensuring', 'it'): 1, ('was', 'smooth'): 1, ('smooth', 'and'): 1, ('and', 'lump-free,'): 1, ('lump-free,', 'a'): 1, ('task', 'he'): 1, ('he', 'took'): 1, ('took', 'with'): 1, ('with', 'utmost'): 1, ('utmost', 'seriousness.'): 1, ('seriousness.', 'As'): 1, ('sun', 'dipped'): 1, ('dipped', 'towards'): 1, ('towards', 'the'): 1, ('the', 'horizon,'): 1, ('horizon,', 'casting'): 1, ('the', 'valley,'): 1, ('valley,', 'the'): 1, ('the', 'Pap'): 1, ('was', 'ready.'): 1, ('ready.', 'The'): 1, ('The', 'meat,'): 1, ('was', 'piled'): 1, ('piled', 'high'): 1, ('high', 'on'): 1, ('platter,', 'its'): 1, ('its', 'savory'): 1, ('savory', 'juices'): 1, ('juices', 'mingling'): 1, ('mingling', 'with'): 1, ('braai.', 'Thabo'): 1, ('Thabo', 'eagerly'): 1, ('eagerly', 'spooned'): 1, ('spooned', 'a'): 1, ('mound', 'of'): 1, ('of', 'steaming'): 1, ('steaming', 'pap'): 1, ('pap', 'onto'): 1, ('onto', 'his'): 1, ('his', 'plate,'): 1, ('plate,', 'shaping'): 1, ('shaping', 'it'): 1, ('small', 'well'): 1, ('well', 'to'): 1, ('to', 'hold'): 1, ('hold', 'the'): 1, ('delicious', 'gravy'): 1, ('gravy', 'from'): 1, ('the', 'meat.'): 1, ('meat.', 'Each'): 1, ('African', 'sunshine'): 1, ('sunshine', '-'): 1, ('creamy', 'pap,'): 1, ('pap,', 'the'): 1, ('flavorful', 'meat,'): 1, ('smoky', 'char'): 1, ('char', 'of'): 1, ('braai.', 'For'): 1, ('For', 'Thabo,'): 1, ('Thabo,', 'Pap'): 1, ('of', 'family,'): 1, ('the', 'simple'): 1, ('simple', 'joys'): 1, ('joys', 'of'): 1, ('life', 'under'): 1, ('African', 'sky.'): 1, ('Esi,', 'a'): 1, ('bright', 'smile'): 1, ('and', 'nimble'): 1, ('nimble', 'fingers,'): 1, ('fingers,', 'loved'): 1, ('loved', 'spending'): 1, ('spending', 'time'): 1, ('her', 'grandmother,'): 1, ('grandmother,', 'Nana'): 1, ('Yaa,', 'in'): 1, ('their', 'cozy'): 1, ('cozy', 'kitchen'): 1, ('kitchen', 'in'): 1, ('Ghanaian', 'village.'): 1, ('village.', 'Nana'): 1, ('Yaa,', 'a'): 1, ('boundless', 'energy'): 1, ('a', 'wealth'): 1, ('wealth', 'of'): 1, ('of', 'culinary'): 1, ('culinary', 'knowledge,'): 1, ('knowledge,', 'was'): 1, ('was', 'teaching'): 1, ('teaching', 'Esi'): 1, ('Esi', 'the'): 1, ('the', 'art'): 1, ('art', 'of'): 1, ('of', 'making'): 1, ('making', 'Fufu,'): 1, ('Fufu,', 'a'): 1, ('staple', 'food'): 1, ('food', 'in'): 1, ('their', 'community.'): 1, ('community.', 'The'): 1, ('process', 'began'): 1, ('began', 'with'): 1, ('with', 'peeling'): 1, ('peeling', 'and'): 1, ('and', 'chopping'): 1, ('chopping', 'plantains'): 1, ('and', 'cassava,'): 1, ('cassava,', 'their'): 1, ('their', 'starchy'): 1, ('starchy', 'flesh'): 1, ('flesh', 'gleaming'): 1, ('gleaming', 'in'): 1, ('sun.', 'Then'): 1, ('Then', 'came'): 1, ('came', 'the'): 1, ('rhythmic', 'pounding,'): 1, ('pounding,', 'a'): 1, ('task', 'that'): 1, ('that', 'required'): 1, ('required', 'strength'): 1, ('and', 'precision.'): 1, ('precision.', 'Esi'): 1, ('Esi', 'and'): 1, ('and', 'Nana'): 1, ('Yaa', 'took'): 1, ('took', 'turns,'): 1, ('turns,', 'their'): 1, ('their', 'wooden'): 1, ('wooden', 'pestles'): 1, ('pestles', 'rising'): 1, ('rising', 'and'): 1, ('and', 'falling'): 1, ('falling', 'in'): 1, ('a', 'harmonious'): 1, ('harmonious', 'dance,'): 1, ('dance,', 'crushing'): 1, ('crushing', 'the'): 1, ('the', 'plantains'): 1, ('cassava', 'into'): 1, ('smooth,', 'sticky'): 1, ('sticky', 'paste.'): 1, ('paste.', 'The'): 1, ('the', 'thud'): 1, ('thud', 'of'): 1, ('of', 'pestles'): 1, ('pestles', 'against'): 1, ('against', 'mortars,'): 1, ('mortars,', 'a'): 1, ('a', 'sound'): 1, ('sound', 'that'): 1, ('that', 'echoed'): 1, ('echoed', 'throughout'): 1, ('the', 'village,'): 1, ('village,', 'a'): 1, ('a', 'familiar'): 1, ('familiar', 'rhythm'): 1, ('of', 'daily'): 1, ('daily', 'life.'): 1, ('life.', 'As'): 1, ('they', 'pounded,'): 1, ('pounded,', 'Nana'): 1, ('Yaa', 'shared'): 1, ('stories', 'with'): 1, ('with', 'Esi'): 1, ('Esi', '-'): 1, ('-', 'folktales'): 1, ('folktales', 'of'): 1, ('of', 'cunning'): 1, ('cunning', 'tricksters,'): 1, ('tricksters,', 'wise'): 1, ('wise', 'proverbs,'): 1, ('proverbs,', 'and'): 1, ('their', 'ancestors.'): 1, ('ancestors.', 'The'): 1, ('the', 'Fufu,'): 1, ('Fufu,', 'were'): 1, ('of', 'nourishment,'): 1, ('nourishment,', 'connecting'): 1, ('connecting', 'Esi'): 1, ('Esi', 'to'): 1, ('to', 'her'): 1, ('the', 'pounding'): 1, ('pounding', 'was'): 1, ('was', 'complete,'): 1, ('complete,', 'the'): 1, ('the', 'paste'): 1, ('paste', 'was'): 1, ('was', 'kneaded'): 1, ('kneaded', 'and'): 1, ('and', 'shaped'): 1, ('shaped', 'into'): 1, ('into', 'smooth,'): 1, ('smooth,', 'round'): 1, ('round', 'balls,'): 1, ('balls,', 'their'): 1, ('their', 'surfaces'): 1, ('surfaces', 'glistening'): 1, ('glistening', 'with'): 1, ('a', 'subtle'): 1, ('subtle', 'sheen.'): 1, ('sheen.', 'The'): 1, ('The', 'Fufu'): 1, ('then', 'served'): 1, ('of', 'flavorful'): 1, ('flavorful', 'soups'): 1, ('soups', 'and'): 1, ('and', 'stews'): 1, ('stews', '-'): 1, ('-', 'light'): 1, ('light', 'and'): 1, ('and', 'tomato-based,'): 1, ('tomato-based,', 'rich'): 1, ('and', 'peanut-infused,'): 1, ('peanut-infused,', 'or'): 1, ('or', 'spicy'): 1, ('spicy', 'with'): 1, ('nut', 'oil'): 1, ('chili', 'peppers.'): 1, ('peppers.', 'Esi'): 1, ('Esi', 'loved'): 1, ('of', 'Fufu,'): 1, ('Fufu,', 'dip'): 1, ('dip', 'it'): 1, ('flavorful', 'soup,'): 1, ('soup,', 'and'): 1, ('and', 'savor'): 1, ('savor', 'the'): 1, ('of', 'textures'): 1, ('textures', 'and'): 1, ('and', 'tastes'): 1, ('tastes', '-'): 1, ('slightly', 'elastic'): 1, ('elastic', 'Fufu'): 1, ('Fufu', 'absorbing'): 1, ('absorbing', 'the'): 1, ('rich', 'flavors'): 1, ('the', 'stew.'): 1, ('stew.', 'For'): 1, ('For', 'Esi,'): 1, ('Esi,', 'Fufu'): 1, ('of', 'community,'): 1, ('community,', 'a'): 1, ('that', 'brought'): 1, ('brought', 'people'): 1, ('people', 'together,'): 1, ('together,', 'a'): 1, ('home,', 'and'): 1, ('the', 'love'): 1, ('love', 'that'): 1, ('that', 'went'): 1, ('went', 'into'): 1, ('into', 'its'): 1, ('its', 'preparation.'): 1, ('Sofia,', 'a'): 1, ('mischievous', 'glint'): 1, ('glint', 'in'): 1, ('for', 'all'): 1, ('all', 'things'): 1, ('things', 'spicy,'): 1, ('spicy,', 'lived'): 1, ('small', 'coastal'): 1, ('coastal', 'town'): 1, ('town', 'in'): 1, ('in', 'Mozambique.'): 1, ('Mozambique.', 'The'): 1, ('The', 'salty'): 1, ('salty', 'air,'): 1, ('air,', 'the'): 1, ('warm', 'sunshine,'): 1, ('sunshine,', 'and'): 1, ('local', 'market'): 1, ('market', 'were'): 1, ('were', 'part'): 1, ('her', 'everyday'): 1, ('everyday', 'life.'): 1, ('life.', 'But'): 1, ('But', 'nothing'): 1, ('nothing', 'excited'): 1, ('excited', 'Sofia'): 1, ('Sofia', 'more'): 1, ('of', 'Piri-Piri'): 1, ('Chicken', 'grilling'): 1, ('grilling', 'over'): 1, ('charcoal,', 'a'): 1, ('a', 'scent'): 1, ('scent', 'that'): 1, ('promised', 'a'): 1, ('fiery', 'feast.'): 1, ('feast.', 'Her'): 1, ('Her', 'father,'): 1, ('father,', 'Papa'): 1, ('Papa', 'Joaquim,'): 1, ('Joaquim,', 'was'): 1, ('the', 'master'): 1, ('master', 'of'): 1, ('small,', 'potent'): 1, ('potent', 'chili'): 1, ('chili', 'pepper'): 1, ('pepper', 'that'): 1, ('gave', 'the'): 1, ('chicken', 'its'): 1, ('unique', 'flavor.'): 1, ('flavor.', 'He'): 1, ('carefully', 'grind'): 1, ('grind', 'the'): 1, ('fiery', 'peppers'): 1, ('peppers', 'with'): 1, ('with', 'garlic,'): 1, ('spices,', 'creating'): 1, ('red', 'marinade'): 1, ('marinade', 'that'): 1, ('both', 'tangy'): 1, ('tangy', 'and'): 1, ('and', 'intensely'): 1, ('intensely', 'hot.'): 1, ('hot.', 'The'): 1, ('The', 'chicken,'): 1, ('chicken,', 'marinated'): 1, ('marinated', 'for'): 1, ('for', 'hours,'): 1, ('hours,', 'would'): 1, ('would', 'then'): 1, ('then', 'be'): 1, ('be', 'grilled'): 1, ('hot', 'coals,'): 1, ('coals,', 'the'): 1, ('the', 'flames'): 1, ('flames', 'licking'): 1, ('licking', 'at'): 1, ('its', 'skin,'): 1, ('skin,', 'creating'): 1, ('a', 'crispy,'): 1, ('crispy,', 'charred'): 1, ('charred', 'exterior'): 1, ('while', 'keeping'): 1, ('keeping', 'the'): 1, ('meat', 'juicy'): 1, ('and', 'tender.'): 1, ('tender.', 'As'): 1, ('chicken', 'cooked,'): 1, ('a', 'smoky'): 1, ('smoky', 'aroma,'): 1, ('aroma,', 'laced'): 1, ('laced', 'with'): 1, ('the', 'pungent'): 1, ('pungent', 'scent'): 1, ('a', 'smell'): 1, ('smell', 'that'): 1, ('that', 'made'): 1, ('made', \"Sofia's\"): 1, (\"Sofia's\", 'mouth'): 1, ('mouth', 'water'): 1, ('her', 'stomach'): 1, ('stomach', 'rumble'): 1, ('rumble', 'with'): 1, ('anticipation.', 'When'): 1, ('chicken', 'was'): 1, ('finally', 'ready,'): 1, ('ready,', 'Papa'): 1, ('Papa', 'Joaquim'): 1, ('Joaquim', 'would'): 1, ('large', 'platter,'): 1, ('platter,', 'garnished'): 1, ('fresh', 'cilantro'): 1, ('cilantro', 'and'): 1, ('and', 'lime'): 1, ('lime', 'wedges.'): 1, ('wedges.', 'Sofia'): 1, ('Sofia', 'would'): 1, ('eagerly', 'tear'): 1, ('chicken,', 'the'): 1, ('crispy', 'skin'): 1, ('skin', 'crackling'): 1, ('crackling', 'under'): 1, ('under', 'her'): 1, ('her', 'teeth,'): 1, ('teeth,', 'followed'): 1, ('intense', 'heat'): 1, ('and', 'flavor.'): 1, ('flavor.', 'The'): 1, ('The', 'Piri-Piri'): 1, ('Piri-Piri', 'sauce,'): 1, ('sauce,', 'clinging'): 1, ('clinging', 'to'): 1, ('chicken,', 'ignited'): 1, ('ignited', 'a'): 1, ('a', 'delightful'): 1, ('delightful', 'fire'): 1, ('fire', 'on'): 1, ('on', 'her'): 1, ('her', 'tongue,'): 1, ('tongue,', 'a'): 1, ('a', 'sensation'): 1, ('sensation', 'she'): 1, ('she', 'relished.'): 1, ('relished.', 'For'): 1, ('For', 'Sofia,'): 1, ('Sofia,', 'Piri-Piri'): 1, ('Chicken', 'was'): 1, ('her', 'Mozambican'): 1, ('Mozambican', 'heritage,'): 1, ('the', 'sun-drenched'): 1, ('sun-drenched', 'coast,'): 1, ('coast,', 'and'): 1, ('family', 'gatherings.'): 1, ('Mamadou,', 'a'): 1, ('a', 'boundless'): 1, ('boundless', 'curiosity'): 1, ('curiosity', 'and'): 1, ('sea,', 'lived'): 1, ('bustling', 'fishing'): 1, ('fishing', 'village'): 1, ('village', 'on'): 1, ('the', 'coast'): 1, ('of', 'Senegal.'): 1, ('rhythmic', 'sound'): 1, ('of', 'waves'): 1, ('waves', 'crashing'): 1, ('crashing', 'against'): 1, ('the', 'shore,'): 1, ('shore,', 'the'): 1, ('salty', 'breeze,'): 1, ('breeze,', 'and'): 1, ('the', 'cries'): 1, ('cries', 'of'): 1, ('of', 'seagulls'): 1, ('seagulls', 'were'): 1, ('were', 'the'): 1, ('the', 'soundtrack'): 1, ('soundtrack', 'of'): 1, ('his', 'life.'): 1, ('life.', 'One'): 1, ('One', 'of'): 1, ('of', \"Mamadou's\"): 1, (\"Mamadou's\", 'favorite'): 1, ('favorite', 'things'): 1, ('things', 'was'): 1, ('was', 'helping'): 1, ('mother,', 'Yaye'): 1, ('Awa,', 'prepare'): 1, ('prepare', 'Thieb'): 1, ('Toubab,', 'a'): 1, ('that', 'embodied'): 1, ('embodied', 'the'): 1, ('of', 'Senegal'): 1, ('Senegal', '-'): 1, ('vibrant', 'blend'): 1, ('of', 'land'): 1, ('sea.', 'Yaye'): 1, ('Awa,', 'a'): 1, ('gentle', 'smile'): 1, ('and', 'skillful'): 1, ('skillful', 'hands,'): 1, ('hands,', 'would'): 1, ('by', 'marinating'): 1, ('marinating', 'a'): 1, ('large,', 'freshly'): 1, ('freshly', 'caught'): 1, ('caught', 'fish'): 1, ('fish', 'in'): 1, ('of', 'herbs,'): 1, ('herbs,', 'spices,'): 1, ('lemon', 'juice.'): 1, ('juice.', 'The'): 1, ('The', 'marinade,'): 1, ('marinade,', 'a'): 1, ('a', 'closely'): 1, ('closely', 'guarded'): 1, ('guarded', 'family'): 1, ('family', 'secret,'): 1, ('secret,', 'was'): 1, ('flavors', '-'): 1, ('-', 'pungent'): 1, ('pungent', 'garlic,'): 1, ('garlic,', 'fragrant'): 1, ('fragrant', 'parsley,'): 1, ('parsley,', 'earthy'): 1, ('earthy', 'cumin,'): 1, ('cumin,', 'and'): 1, ('of', 'fiery'): 1, ('fiery', 'chili.'): 1, ('chili.', 'While'): 1, ('the', 'fish'): 1, ('fish', 'marinated,'): 1, ('marinated,', 'she'): 1, ('would', 'prepare'): 1, ('prepare', 'a'): 1, ('a', 'bed'): 1, ('bed', 'of'): 1, ('of', 'fluffy'): 1, ('fluffy', 'rice,'): 1, ('rice,', 'cooking'): 1, ('it', 'in'): 1, ('sauce', 'infused'): 1, ('onions,', 'carrots,'): 1, ('other', 'vegetables.'): 1, ('savory', 'aroma'): 1, ('simmering', 'sauce'): 1, ('the', 'tantalizing'): 1, ('tantalizing', 'smell'): 1, ('of', 'grilling'): 1, ('grilling', 'fish.'): 1, ('fish.', 'Once'): 1, ('cooked,', 'Yaye'): 1, ('Yaye', 'Awa'): 1, ('Awa', 'would'): 1, ('carefully', 'place'): 1, ('the', 'marinated'): 1, ('marinated', 'fish'): 1, ('fish', 'on'): 1, ('top,', 'adding'): 1, ('adding', 'stuffed'): 1, ('stuffed', 'vegetables'): 1, ('vegetables', 'and'): 1, ('and', 'hard-boiled'): 1, ('hard-boiled', 'eggs'): 1, ('eggs', 'around'): 1, ('around', 'it,'): 1, ('it,', 'creating'): 1, ('colorful', 'and'): 1, ('and', 'inviting'): 1, ('inviting', 'presentation.'): 1, ('presentation.', 'The'): 1, ('The', 'Thieb'): 1, ('Toubab,', 'steaming'): 1, ('steaming', 'and'): 1, ('and', 'fragrant,'): 1, ('fragrant,', 'was'): 1, ('placed', 'in'): 1, ('the', 'center'): 1, ('the', 'table,'): 1, ('table,', 'a'): 1, ('a', 'centerpiece'): 1, ('family', 'meals.'): 1, ('meals.', 'Mamadou'): 1, ('Mamadou', 'would'): 1, ('eagerly', 'dig'): 1, ('dig', 'in,'): 1, ('in,', 'savoring'): 1, ('savoring', 'the'): 1, ('the', 'tender,'): 1, ('flavorful', 'fish,'): 1, ('fish,', 'the'): 1, ('fluffy', 'rice'): 1, ('rice', 'soaked'): 1, ('soaked', 'in'): 1, ('rich', 'sauce,'): 1, ('the', 'burst'): 1, ('of', 'freshness'): 1, ('freshness', 'from'): 1, ('the', 'vegetables.'): 1, ('vegetables.', 'For'): 1, ('For', 'Mamadou,'): 1, ('Mamadou,', 'Thieb'): 1, ('Thieb', 'Toubab'): 1, ('Toubab', 'was'): 1, ('his', 'home,'): 1, ('Senegalese', 'hospitality,'): 1, ('hospitality,', 'and'): 1, ('the', 'bounty'): 1, ('bounty', 'of'): 1, ('both', 'land'): 1, ('The', 'Addis'): 1, ('Addis', 'Ababa'): 1, ('Ababa', 'air'): 1, ('air', 'buzzed'): 1, ('a', 'Friday'): 1, ('Friday', 'night.'): 1, ('night.', 'Inside'): 1, ('small,', 'brightly'): 1, ('brightly', 'lit'): 1, ('lit', 'restaurant'): 1, ('restaurant', 'tucked'): 1, ('bustling', 'street,'): 1, ('street,', 'Hanna,'): 1, ('Hanna,', 'a'): 1, ('a', 'university'): 1, ('university', 'student,'): 1, ('student,', 'eagerly'): 1, ('eagerly', 'awaited'): 1, ('awaited', 'her'): 1, ('her', 'friends.'): 1, ('friends.', 'They'): 1, ('They', 'met'): 1, ('met', 'here'): 1, ('here', 'every'): 1, ('every', 'week,'): 1, ('week,', 'a'): 1, ('a', 'ritual'): 1, ('ritual', 'of'): 1, ('of', 'friendship'): 1, ('friendship', 'and'): 1, ('shared', 'meals.'): 1, ('meals.', 'Tonight,'): 1, ('Tonight,', 'Hanna'): 1, ('Hanna', 'had'): 1, ('had', 'ordered'): 1, ('ordered', 'Doro'): 1, ('Wat,', 'a'): 1, ('spicy', 'chicken'): 1, ('home.', 'As'): 1, ('As', 'her'): 1, ('her', 'friends'): 1, ('friends', 'arrived,'): 1, ('arrived,', 'the'): 1, ('the', 'restaurant'): 1, ('restaurant', 'filled'): 1, ('with', 'laughter'): 1, ('laughter', 'and'): 1, ('of', 'silverware.'): 1, ('silverware.', 'The'): 1, ('The', 'aroma'): 1, ('of', 'berbere'): 1, ('berbere', 'spice,'): 1, ('spice,', 'onions,'): 1, ('simmering', 'chicken'): 1, ('chicken', 'filled'): 1, ('air,', 'a'): 1, ('a', 'tantalizing'): 1, ('tantalizing', 'invitation'): 1, ('invitation', 'to'): 1, ('to', 'indulge.'): 1, ('indulge.', 'Hanna'): 1, ('Hanna', 'and'): 1, ('her', 'friends,'): 1, ('friends,', 'a'): 1, ('a', 'mix'): 1, ('mix', 'of'): 1, ('of', 'students'): 1, ('and', 'professionals,'): 1, ('professionals,', 'shared'): 1, ('their', 'week,'): 1, ('week,', 'their'): 1, ('their', 'dreams,'): 1, ('dreams,', 'and'): 1, ('their', 'anxieties.'): 1, ('anxieties.', 'The'): 1, ('The', 'Doro'): 1, ('Wat,', 'served'): 1, ('with', 'injera,'): 1, ('injera,', 'a'): 1, ('a', 'spongy'): 1, ('spongy', 'flatbread,'): 1, ('flatbread,', 'was'): 1, ('the', 'centerpiece'): 1, ('their', 'gathering,'): 1, ('gathering,', 'a'): 1, ('shared', 'Ethiopian'): 1, ('Ethiopian', 'heritage'): 1, ('The', 'Durban'): 1, ('Durban', 'sun'): 1, ('down', 'on'): 1, ('city', 'streets,'): 1, ('streets,', 'casting'): 1, ('shadows', 'as'): 1, ('as', 'Sipho,'): 1, ('Sipho,', 'a'): 1, ('a', 'delivery'): 1, ('delivery', 'driver,'): 1, ('driver,', 'navigated'): 1, ('afternoon', 'traffic.'): 1, ('traffic.', 'He'): 1, ('He', 'was'): 1, ('was', 'on'): 1, ('on', 'his'): 1, ('his', 'lunch'): 1, ('lunch', 'break,'): 1, ('break,', 'his'): 1, ('his', 'stomach'): 1, ('stomach', 'rumbling'): 1, ('rumbling', 'with'): 1, ('anticipation.', 'He'): 1, ('He', 'pulled'): 1, ('pulled', 'over'): 1, ('over', 'to'): 1, ('a', 'roadside'): 1, ('roadside', 'stall,'): 1, ('of', 'curry'): 1, ('curry', 'and'): 1, ('and', 'freshly'): 1, ('freshly', 'baked'): 1, ('baked', 'bread'): 1, ('bread', 'wafting'): 1, ('wafting', 'through'): 1, ('air.', 'He'): 1, ('He', 'ordered'): 1, ('ordered', 'a'): 1, ('a', 'Bunny'): 1, ('a', 'Durban'): 1, ('Durban', 'specialty'): 1, ('specialty', '-'): 1, ('hollowed-out', 'loaf'): 1, ('of', 'white'): 1, ('white', 'bread'): 1, ('a', 'generous'): 1, ('generous', 'portion'): 1, ('of', 'spicy'): 1, ('spicy', 'Durban'): 1, ('Durban', 'curry.'): 1, ('curry.', 'As'): 1, ('As', 'he'): 1, ('he', 'sat'): 1, ('sat', 'on'): 1, ('the', 'curb,'): 1, ('curb,', 'savoring'): 1, ('savoring', 'each'): 1, ('each', 'mouthful,'): 1, ('mouthful,', 'Sipho'): 1, ('Sipho', 'watched'): 1, ('watched', 'the'): 1, ('city', 'life'): 1, ('life', 'unfold'): 1, ('unfold', 'around'): 1, ('around', 'him'): 1, ('him', '-'): 1, ('of', 'office'): 1, ('office', 'workers,'): 1, ('workers,', 'the'): 1, ('vibrant', 'chatter'): 1, ('of', 'market'): 1, ('market', 'vendors,'): 1, ('vendors,', 'and'): 1, ('street', 'music.'): 1, ('The', 'Bunny'): 1, ('a', 'messy'): 1, ('messy', 'but'): 1, ('but', 'delicious'): 1, ('delicious', 'meal,'): 1, ('meal,', 'was'): 1, ('perfect', 'reflection'): 1, ('reflection', 'of'): 1, ('of', 'Durban'): 1, ('Durban', 'itself'): 1, ('itself', '-'): 1, ('a', 'vibrant,'): 1, ('vibrant,', 'multicultural'): 1, ('multicultural', 'city'): 1, ('city', 'with'): 1, ('a', 'flavor'): 1, ('flavor', 'all'): 1, ('all', 'its'): 1, ('its', 'own.'): 1, ('The', 'Abidjan'): 1, ('Abidjan', 'skyline'): 1, ('skyline', 'shimmered'): 1, ('shimmered', 'in'): 1, ('evening', 'light'): 1, ('light', 'as'): 1, ('as', 'Ami,'): 1, ('Ami,', 'a'): 1, ('a', 'fashion'): 1, ('fashion', 'designer,'): 1, ('designer,', 'hurried'): 1, ('hurried', 'home'): 1, ('home', 'from'): 1, ('from', 'her'): 1, ('her', 'studio.'): 1, ('studio.', 'She'): 1, ('She', 'was'): 1, ('was', 'exhausted'): 1, ('exhausted', 'but'): 1, ('but', 'excited,'): 1, ('excited,', 'having'): 1, ('having', 'just'): 1, ('just', 'finished'): 1, ('finished', 'a'): 1, ('major', 'project.'): 1, ('project.', 'She'): 1, ('She', 'stopped'): 1, ('food', 'vendor,'): 1, ('vendor,', 'the'): 1, ('the', 'smell'): 1, ('and', 'fried'): 1, ('plantains', 'drawing'): 1, ('drawing', 'her'): 1, ('her', 'in.'): 1, ('in.', 'She'): 1, ('She', 'ordered'): 1, ('ordered', 'Attieke,'): 1, ('fermented', 'cassava,'): 1, ('cassava,', 'a'): 1, ('in', 'Ivorian'): 1, ('Ivorian', 'cuisine.'): 1, ('cuisine.', 'The'): 1, ('The', 'Attieke,'): 1, ('Attieke,', 'fluffy'): 1, ('fluffy', 'and'): 1, ('tangy,', 'was'): 1, ('was', 'served'): 1, ('spicy', 'tomato'): 1, ('tomato', 'sauce.'): 1, ('As', 'she'): 1, ('she', 'ate,'): 1, ('ate,', 'sitting'): 1, ('sitting', 'at'): 1, ('small', 'plastic'): 1, ('plastic', 'table,'): 1, ('table,', 'Ami'): 1, ('Ami', 'felt'): 1, ('the', 'stress'): 1, ('stress', 'of'): 1, ('day', 'melt'): 1, ('melt', 'away.'): 1, ('away.', 'The'): 1, ('The', 'familiar'): 1, ('familiar', 'taste'): 1, ('of', 'Attieke,'): 1, ('home,', 'was'): 1, ('her', 'roots'): 1, ('roots', 'amidst'): 1, ('the', 'hustle'): 1, ('hustle', 'and'): 1, ('and', 'bustle'): 1, ('bustle', 'of'): 1, ('of', 'city'): 1, ('The', 'Bamako'): 1, ('Bamako', 'night'): 1, ('with', 'music'): 1, ('and', 'laughter.'): 1, ('laughter.', 'Inside'): 1, ('small', 'restaurant,'): 1, ('restaurant,', 'Moussa,'): 1, ('Moussa,', 'a'): 1, ('a', 'musician,'): 1, ('musician,', 'sat'): 1, ('sat', 'with'): 1, ('with', 'his'): 1, ('his', 'bandmates'): 1, ('bandmates', 'after'): 1, ('a', 'rehearsal.'): 1, ('rehearsal.', 'They'): 1, ('were', 'hungry,'): 1, ('hungry,', 'their'): 1, ('their', 'energy'): 1, ('energy', 'depleted'): 1, ('depleted', 'after'): 1, ('hours', 'of'): 1, ('of', 'playing.'): 1, ('playing.', 'They'): 1, ('They', 'ordered'): 1, ('ordered', 'To,'): 1, ('To,', 'a'): 1, ('traditional', 'Malian'): 1, ('Malian', 'couscous'): 1, ('couscous', 'dish'): 1, ('with', 'steamed'): 1, ('steamed', 'millet'): 1, ('or', 'sorghum'): 1, ('sorghum', 'and'): 1, ('savory', 'sauce.'): 1, ('ate,', 'sharing'): 1, ('sharing', 'stories'): 1, ('and', 'jokes,'): 1, ('jokes,', 'the'): 1, ('the', 'To'): 1, ('To', 'nourished'): 1, ('nourished', 'not'): 1, ('not', 'just'): 1, ('just', 'their'): 1, ('their', 'bodies'): 1, ('bodies', 'but'): 1, ('also', 'their'): 1, ('their', 'souls.'): 1, ('souls.', 'The'): 1, ('hearty', 'meal,'): 1, ('meal,', 'a'): 1, ('in', 'Malian'): 1, ('Malian', 'cuisine,'): 1, ('cuisine,', 'was'): 1, ('and', 'connection,'): 1, ('connection,', 'a'): 1, ('shared', 'passion'): 1, ('for', 'music'): 1, ('of', 'Nairobi,'): 1, ('Nairobi,', 'the'): 1, ('sizzling', 'meat'): 1, ('meat', 'filled'): 1, ('as', 'evening'): 1, ('evening', 'descended.'): 1, ('descended.', 'At'): 1, ('bustling', 'open-air'): 1, ('open-air', 'restaurant,'): 1, ('restaurant,', 'a'): 1, ('of', 'friends'): 1, ('friends', 'gathered'): 1, ('table', 'laden'): 1, ('with', 'Nyama'): 1, ('Nyama', 'Choma,'): 1, ('Choma,', 'grilled'): 1, ('grilled', 'meat,'): 1, ('meat,', 'a'): 1, ('a', 'Kenyan'): 1, ('Kenyan', 'staple.'): 1, ('staple.', 'The'): 1, ('The', 'succulent'): 1, ('succulent', 'goat'): 1, ('a', 'feast'): 1, ('feast', 'for'): 1, ('the', 'senses.'): 1, ('senses.', 'As'): 1, ('ate,', 'using'): 1, ('their', 'hands'): 1, ('hands', 'to'): 1, ('meat,', 'they'): 1, ('they', 'shared'): 1, ('the', 'Nyama'): 1, ('Choma', 'fueling'): 1, ('fueling', 'their'): 1, ('their', 'conversations'): 1, ('conversations', 'and'): 1, ('and', 'strengthening'): 1, ('strengthening', 'their'): 1, ('their', 'bonds.'): 1, ('bonds.', 'More'): 1, ('More', 'than'): 1, ('a', 'meal,'): 1, ('meal,', 'Nyama'): 1, ('Choma', 'represented'): 1, ('represented', 'a'): 1, ('Kenyan', 'culture,'): 1, ('culture,', 'a'): 1, ('a', 'tradition'): 1, ('tradition', 'passed'): 1, ('through', 'generations,'): 1, ('generations,', 'a'): 1, ('shared', 'enjoyment,'): 1, ('enjoyment,', 'providing'): 1, ('providing', 'nourishment'): 1, ('nourishment', 'and'): 1, ('and', 'energy'): 1, ('energy', 'for'): 1, ('busy', 'city'): 1, ('The', 'Accra'): 1, ('Accra', 'streets'): 1, ('streets', 'buzzed'): 1, ('set.', 'At'): 1, ('a', 'corner'): 1, ('corner', 'food'): 1, ('named', 'Akosua'): 1, ('Akosua', 'expertly'): 1, ('expertly', 'fried'): 1, ('fried', 'Kelewele,'): 1, ('Kelewele,', 'ripe'): 1, ('plantains', 'seasoned'): 1, ('with', 'ginger,'): 1, ('ginger,', 'peppers,'): 1, ('spices.', 'The'): 1, ('The', 'sweet'): 1, ('aroma', 'wafted'): 1, ('wafted', 'through'): 1, ('air,', 'attracting'): 1, ('attracting', 'passersby.'): 1, ('passersby.', 'People'): 1, ('stopped', 'to'): 1, ('to', 'buy'): 1, ('buy', 'a'): 1, ('crispy,', 'flavorful'): 1, ('flavorful', 'Kelewele.'): 1, ('Kelewele.', 'It'): 1, ('quick,', 'affordable,'): 1, ('affordable,', 'and'): 1, ('satisfying', 'snack'): 1, ('snack', 'that'): 1, ('that', 'provided'): 1, ('Ghanaian', 'culture.'): 1, ('culture.', 'Each'): 1, (\"country's\", 'rich'): 1, ('rich', 'culinary'): 1, ('culinary', 'heritage,'): 1, ('to', 'how'): 1, ('how', 'simple'): 1, ('simple', 'ingredients,'): 1, ('ingredients,', 'skillfully'): 1, ('skillfully', 'prepared,'): 1, ('prepared,', 'could'): 1, ('could', 'nourish'): 1, ('nourish', 'and'): 1, ('and', 'delight.'): 1, ('a', 'chilly'): 1, ('chilly', 'evening'): 1, ('evening', 'in'): 1, ('in', 'Johannesburg,'): 1, ('Johannesburg,', 'a'): 1, ('family', 'gathered'): 1, ('a', 'crackling'): 1, ('crackling', 'fire'): 1, ('fire', 'in'): 1, ('their', 'backyard.'): 1, ('backyard.', 'The'): 1, ('The', 'three-legged'): 1, ('three-legged', 'pot,'): 1, ('pot,', 'known'): 1, ('a', 'potjie,'): 1, ('potjie,', 'simmered'): 1, ('simmered', 'over'): 1, ('the', 'flames,'): 1, ('flames,', 'filled'): 1, ('stew', 'of'): 1, ('vegetables', '-'): 1, ('-', 'Potjiekos,'): 1, ('African', 'culinary'): 1, ('culinary', 'tradition.'): 1, ('tradition.', 'As'): 1, ('the', 'stew'): 1, ('stew', 'slowly'): 1, ('slowly', 'cooked,'): 1, ('the', 'family'): 1, ('family', 'shared'): 1, ('the', 'anticipation'): 1, ('anticipation', 'of'): 1, ('the', 'meal'): 1, ('meal', 'bringing'): 1, ('bringing', 'them'): 1, ('them', 'closer.'): 1, ('closer.', 'The'): 1, ('The', 'Potjiekos,'): 1, ('dish', 'born'): 1, ('born', 'from'): 1, (\"Africa's\", 'history'): 1, ('of', 'outdoor'): 1, ('outdoor', 'cooking,'): 1, ('cooking,', 'was'): 1, ('just', 'food.'): 1, ('food.', 'It'): 1, ('of', 'resilience,'): 1, ('resilience,', 'resourcefulness,'): 1, ('resourcefulness,', 'and'): 1, ('of', 'shared'): 1, ('shared', 'meals'): 1, ('meals', 'to'): 1, ('to', 'nourish'): 1, ('nourish', 'both'): 1, ('both', 'body'): 1, ('and', 'soul.'): 1, ('soul.', 'The'): 1, ('The', 'slow-cooked'): 1, ('slow-cooked', 'flavors,'): 1, ('flavors,', 'a'): 1, ('meat,', 'vegetables,'): 1, ('spices,', 'provided'): 1, ('satisfying', 'meal'): 1, ('warmed', 'them'): 1, ('them', 'from'): 1, ('inside', 'out.'): 1, ('bustling', 'city'): 1, ('Lagos,', 'the'): 1, ('of', 'steamed'): 1, ('steamed', 'bean'): 1, ('bean', 'pudding'): 1, ('pudding', 'filled'): 1, ('day', 'began.'): 1, ('began.', 'At'): 1, ('small', 'food'): 1, ('woman', 'skillfully'): 1, ('skillfully', 'scooped'): 1, ('scooped', 'portions'): 1, ('portions', 'of'): 1, ('of', 'Moin'): 1, ('a', 'Nigerian'): 1, ('Nigerian', 'breakfast'): 1, ('breakfast', 'staple,'): 1, ('staple,', 'onto'): 1, ('onto', 'plates.'): 1, ('plates.', 'Wrapped'): 1, ('Wrapped', 'in'): 1, ('banana', 'leaves'): 1, ('steamed', 'to'): 1, ('to', 'perfection,'): 1, ('perfection,', 'the'): 1, ('the', 'Moin'): 1, ('Moin', 'Moin'): 1, ('Moin', 'was'): 1, ('nutritious', 'and'): 1, ('to', 'start'): 1, ('start', 'the'): 1, ('day.', 'People'): 1, ('by', 'to'): 1, ('to', 'grab'): 1, ('grab', 'a'): 1, ('a', 'portion,'): 1, ('portion,', 'fueling'): 1, ('fueling', 'themselves'): 1, ('themselves', 'for'): 1, ('day', 'ahead.'): 1, ('ahead.', 'The'): 1, ('The', 'Moin'): 1, ('dish', 'rooted'): 1, ('rooted', 'in'): 1, ('in', 'Nigerian'): 1, ('Nigerian', 'culinary'): 1, ('culinary', 'tradition,'): 1, ('tradition,', 'provided'): 1, ('provided', 'essential'): 1, ('nutrients', 'and'): 1, ('heritage', 'amidst'): 1, ('the', 'fast-paced'): 1, ('fast-paced', 'urban'): 1, ('urban', 'environment.'): 1, ('Mount', 'Kilimanjaro,'): 1, ('Kilimanjaro,', 'a'): 1, ('a', 'dormant'): 1, ('dormant', 'volcano'): 1, ('volcano', 'in'): 1, ('Tanzania,', 'dominates'): 1, ('dominates', 'the'): 1, ('African', 'landscape'): 1, ('and', 'holds'): 1, ('holds', 'the'): 1, ('the', 'title'): 1, ('title', 'of'): 1, (\"Africa's\", 'highest'): 1, ('highest', 'peak.'): 1, ('peak.', 'Reaching'): 1, ('Reaching', 'a'): 1, ('of', '5,895'): 1, ('5,895', 'meters'): 1, ('meters', '(19,341'): 1, ('(19,341', 'feet)'): 1, ('feet)', 'above'): 1, ('above', 'sea'): 1, ('sea', 'level,'): 1, ('level,', 'it'): 1, ('it', 'attracts'): 1, ('attracts', 'thousands'): 1, ('of', 'climbers'): 1, ('climbers', 'annually,'): 1, ('annually,', 'eager'): 1, ('to', 'conquer'): 1, ('conquer', 'its'): 1, ('its', 'challenging'): 1, ('challenging', 'slopes'): 1, ('slopes', 'and'): 1, ('and', 'witness'): 1, ('the', 'breathtaking'): 1, ('breathtaking', 'sunrise'): 1, ('sunrise', 'from'): 1, ('from', 'its'): 1, ('its', 'summit.'): 1, ('summit.', 'Composed'): 1, ('Composed', 'of'): 1, ('of', 'three'): 1, ('three', 'distinct'): 1, ('distinct', 'volcanic'): 1, ('volcanic', 'cones'): 1, ('cones', '-'): 1, ('-', 'Kibo,'): 1, ('Kibo,', 'Mawenzi,'): 1, ('Mawenzi,', 'and'): 1, ('and', 'Shira'): 1, ('Shira', '-'): 1, ('-', 'Kilimanjaro'): 1, ('Kilimanjaro', 'boasts'): 1, ('boasts', 'a'): 1, ('ecological', 'zones,'): 1, ('zones,', 'from'): 1, ('from', 'lush'): 1, ('lush', 'rainforests'): 1, ('rainforests', 'at'): 1, ('to', 'alpine'): 1, ('alpine', 'deserts'): 1, ('deserts', 'and'): 1, ('and', 'glacial'): 1, ('glacial', 'ice'): 1, ('ice', 'at'): 1, ('its', 'peak.'): 1, ('peak.', 'Its'): 1, ('Its', 'unique'): 1, ('unique', 'location'): 1, ('location', 'near'): 1, ('the', 'equator'): 1, ('equator', 'allows'): 1, ('allows', 'climbers'): 1, ('climbers', 'to'): 1, ('to', 'experience'): 1, ('experience', 'diverse'): 1, ('diverse', 'climates'): 1, ('a', 'single'): 1, ('single', 'ascent.'): 1, ('ascent.', 'While'): 1, ('summit', 'attempt'): 1, ('attempt', 'is'): 1, ('is', 'physically'): 1, ('physically', 'demanding,'): 1, ('demanding,', 'the'): 1, ('the', 'reward'): 1, ('reward', 'of'): 1, ('of', 'reaching'): 1, ('reaching', 'Uhuru'): 1, ('Uhuru', 'Peak,'): 1, ('Peak,', 'the'): 1, ('highest', 'point'): 1, ('point', 'on'): 1, ('on', 'Kibo,'): 1, ('Kibo,', 'is'): 1, ('an', 'unforgettable'): 1, ('unforgettable', 'experience,'): 1, ('experience,', 'offering'): 1, ('offering', 'panoramic'): 1, ('surrounding', 'plains'): 1, ('plains', 'and'): 1, ('of', 'accomplishment'): 1, ('accomplishment', 'that'): 1, ('that', 'few'): 1, ('few', 'other'): 1, ('other', 'climbs'): 1, ('climbs', 'can'): 1, ('can', 'match.'): 1, ('match.', 'Beyond'): 1, ('Beyond', 'its'): 1, ('its', 'allure'): 1, ('allure', 'for'): 1, ('for', 'adventurers,'): 1, ('adventurers,', 'Kilimanjaro'): 1, ('Kilimanjaro', 'holds'): 1, ('holds', 'deep'): 1, ('deep', 'cultural'): 1, ('cultural', 'significance'): 1, ('significance', 'for'): 1, ('the', 'indigenous'): 1, ('indigenous', 'Chagga'): 1, ('Chagga', 'people,'): 1, ('people,', 'who'): 1, ('have', 'lived'): 1, ('lived', 'on'): 1, ('its', 'slopes'): 1, ('slopes', 'for'): 1, ('for', 'centuries'): 1, ('centuries', 'and'): 1, ('and', 'regard'): 1, ('regard', 'the'): 1, ('mountain', 'as'): 1, ('a', 'sacred'): 1, ('sacred', 'place.'): 1, ('Falls,', 'one'): 1, ('spectacular', 'waterfalls,'): 1, ('waterfalls,', 'straddles'): 1, ('straddles', 'the'): 1, ('the', 'border'): 1, ('border', 'between'): 1, ('between', 'Zambia'): 1, ('Zambia', 'and'): 1, ('and', 'Zimbabwe.'): 1, ('Zimbabwe.', 'Locally'): 1, ('Locally', 'known'): 1, ('as', \"'Mosi-oa-Tunya'\"): 1, (\"'Mosi-oa-Tunya'\", '-'): 1, ('-', \"'The\"): 1, (\"'The\", 'Smoke'): 1, ('Smoke', 'that'): 1, ('that', \"Thunders'\"): 1, (\"Thunders'\", '-'): 1, ('-', 'it'): 1, ('it', 'earns'): 1, ('earns', 'its'): 1, ('its', 'name'): 1, ('name', 'from'): 1, ('the', 'deafening'): 1, ('deafening', 'roar'): 1, ('roar', 'and'): 1, ('and', 'immense'): 1, ('immense', 'spray'): 1, ('spray', 'cloud'): 1, ('cloud', 'created'): 1, ('created', 'as'): 1, ('the', 'Zambezi'): 1, ('Zambezi', 'River'): 1, ('River', 'plunges'): 1, ('plunges', 'over'): 1, ('a', 'basalt'): 1, ('basalt', 'cliff'): 1, ('cliff', 'into'): 1, ('a', 'narrow'): 1, ('narrow', 'gorge.'): 1, ('gorge.', 'The'): 1, ('The', 'falls'): 1, ('falls', 'are'): 1, ('are', 'over'): 1, ('a', 'mile'): 1, ('mile', 'wide,'): 1, ('wide,', 'with'): 1, ('of', 'more'): 1, ('than', '100'): 1, ('100', 'meters'): 1, ('meters', '(328'): 1, ('(328', 'feet),'): 1, ('feet),', 'making'): 1, ('making', 'them'): 1, ('them', 'roughly'): 1, ('roughly', 'twice'): 1, ('twice', 'the'): 1, ('the', 'height'): 1, ('of', 'Niagara'): 1, ('Niagara', 'Falls.'): 1, ('Falls.', 'The'): 1, ('The', 'constant'): 1, ('constant', 'spray'): 1, ('spray', 'nourishes'): 1, ('nourishes', 'the'): 1, ('surrounding', 'rainforest,'): 1, ('rainforest,', 'creating'): 1, ('oasis', 'teeming'): 1, ('with', 'diverse'): 1, ('diverse', 'flora'): 1, ('fauna.', 'Visitors'): 1, ('the', 'falls'): 1, ('falls', 'from'): 1, ('from', 'various'): 1, ('various', 'viewpoints,'): 1, ('viewpoints,', 'each'): 1, ('each', 'offering'): 1, ('unique', 'perspective'): 1, ('perspective', 'on'): 1, ('on', 'this'): 1, ('this', 'natural'): 1, ('natural', 'wonder.'): 1, ('wonder.', 'Activities'): 1, ('Activities', 'such'): 1, ('as', 'white-water'): 1, ('white-water', 'rafting,'): 1, ('rafting,', 'bungee'): 1, ('bungee', 'jumping,'): 1, ('jumping,', 'and'): 1, ('and', 'helicopter'): 1, ('helicopter', 'tours'): 1, ('tours', 'provide'): 1, ('provide', 'thrilling'): 1, ('thrilling', 'ways'): 1, ('ways', 'to'): 1, ('to', 'appreciate'): 1, ('appreciate', 'the'): 1, ('and', 'beauty'): 1, ('of', 'Victoria'): 1, ('Falls,', 'while'): 1, ('while', 'guided'): 1, ('guided', 'walks'): 1, ('walks', 'and'): 1, ('and', 'boat'): 1, ('boat', 'trips'): 1, ('trips', 'allow'): 1, ('allow', 'for'): 1, ('a', 'closer'): 1, ('closer', 'look'): 1, ('look', 'at'): 1, ('surrounding', 'wildlife'): 1, ('and', 'stunning'): 1, ('stunning', 'landscapes.'): 1, ('The', 'Pyramids'): 1, ('of', 'Giza,'): 1, ('Giza,', 'located'): 1, ('the', 'outskirts'): 1, ('outskirts', 'of'): 1, ('of', 'modern-day'): 1, ('modern-day', 'Cairo,'): 1, ('Cairo,', 'are'): 1, ('iconic', 'symbols'): 1, ('ancient', 'Egypt'): 1, ('and', 'enduring'): 1, ('enduring', 'testaments'): 1, ('testaments', 'to'): 1, ('and', 'ingenuity'): 1, ('ingenuity', 'of'): 1, ('pharaohs.', 'These'): 1, ('These', 'massive'): 1, ('massive', 'stone'): 1, ('stone', 'structures,'): 1, ('structures,', 'built'): 1, ('built', 'as'): 1, ('as', 'tombs'): 1, ('tombs', 'for'): 1, ('the', 'kings'): 1, ('kings', 'of'): 1, ('the', 'Fourth'): 1, ('Fourth', 'Dynasty,'): 1, ('Dynasty,', 'are'): 1, ('are', 'among'): 1, ('most', 'impressive'): 1, ('impressive', 'man-made'): 1, ('man-made', 'structures'): 1, ('structures', 'on'): 1, ('The', 'largest'): 1, ('largest', 'of'): 1, ('the', 'three'): 1, ('main', 'pyramids,'): 1, ('pyramids,', 'the'): 1, ('Great', 'Pyramid'): 1, ('Pyramid', 'of'): 1, ('of', 'Khufu,'): 1, ('Khufu,', 'was'): 1, ('tallest', 'structure'): 1, ('structure', 'in'): 1, ('the', 'world'): 1, ('world', 'for'): 1, ('over', '3,800'): 1, ('3,800', 'years.'): 1, ('years.', 'The'): 1, ('The', 'pyramids'): 1, ('pyramids', 'were'): 1, ('were', 'meticulously'): 1, ('meticulously', 'designed'): 1, ('designed', 'and'): 1, ('and', 'constructed'): 1, ('constructed', 'using'): 1, ('using', 'massive'): 1, ('massive', 'blocks'): 1, ('blocks', 'of'): 1, ('of', 'stone,'): 1, ('stone,', 'reflecting'): 1, ('the', 'advanced'): 1, ('advanced', 'engineering'): 1, ('engineering', 'and'): 1, ('and', 'mathematical'): 1, ('mathematical', 'knowledge'): 1, ('knowledge', 'of'): 1, ('ancient', 'Egyptians.'): 1, ('Egyptians.', 'They'): 1, ('They', 'also'): 1, ('also', 'offer'): 1, ('offer', 'insights'): 1, ('complex', 'religious'): 1, ('religious', 'beliefs'): 1, ('the', 'time,'): 1, ('time,', 'as'): 1, ('as', 'they'): 1, ('they', 'were'): 1, ('were', 'believed'): 1, ('be', 'passageways'): 1, ('passageways', 'to'): 1, ('the', 'afterlife'): 1, ('afterlife', 'for'): 1, ('pharaohs.', 'Today,'): 1, ('the', 'Pyramids'): 1, ('of', 'Giza'): 1, ('Giza', 'are'): 1, ('Site', 'and'): 1, ('most', 'visited'): 1, ('visited', 'tourist'): 1, ('tourist', 'destinations'): 1, ('destinations', 'in'): 1, ('world,', 'drawing'): 1, ('drawing', 'millions'): 1, ('millions', 'who'): 1, ('who', 'come'): 1, ('come', 'to'): 1, ('to', 'marvel'): 1, ('marvel', 'at'): 1, ('at', 'their'): 1, ('their', 'grandeur'): 1, ('grandeur', 'and'): 1, ('and', 'contemplate'): 1, ('contemplate', 'the'): 1, ('ancient', 'civilizations.'): 1, ('Table', 'Mountain,'): 1, ('Mountain,', 'a'): 1, ('a', 'flat-topped'): 1, ('flat-topped', 'landmark'): 1, ('landmark', 'overlooking'): 1, ('overlooking', 'Cape'): 1, ('Cape', 'Town,'): 1, ('Town,', 'South'): 1, ('Africa,', 'is'): 1, ('city', 'and'): 1, ('natural', 'wonder'): 1, ('wonder', 'recognized'): 1, ('unique', 'geology'): 1, ('geology', 'and'): 1, ('and', 'biodiversity.'): 1, ('biodiversity.', 'Its'): 1, ('distinctive', 'plateau,'): 1, ('plateau,', 'formed'): 1, ('formed', 'by'): 1, ('by', 'resistant'): 1, ('resistant', 'sandstone'): 1, ('sandstone', 'layers,'): 1, ('layers,', 'provides'): 1, ('provides', 'panoramic'): 1, ('the', 'city,'): 1, ('city,', 'the'): 1, ('the', 'coastline,'): 1, ('coastline,', 'and'): 1, ('surrounding', 'ocean.'): 1, ('ocean.', 'Accessible'): 1, ('Accessible', 'by'): 1, ('a', 'rotating'): 1, ('rotating', 'cable'): 1, ('cable', 'car,'): 1, ('car,', 'the'): 1, ('summit', 'offers'): 1, ('offers', 'breathtaking'): 1, ('breathtaking', 'vistas'): 1, ('vistas', 'and'): 1, ('and', 'opportunities'): 1, ('opportunities', 'for'): 1, ('for', 'hiking'): 1, ('hiking', 'and'): 1, ('and', 'exploring'): 1, ('the', 'diverse'): 1, ('diverse', 'fynbos'): 1, ('fynbos', 'vegetation,'): 1, ('vegetation,', 'a'): 1, ('a', 'type'): 1, ('type', 'of'): 1, ('of', 'shrubland'): 1, ('shrubland', 'endemic'): 1, ('endemic', 'to'): 1, ('the', 'Cape'): 1, ('Cape', 'Floral'): 1, ('Floral', 'Region.'): 1, ('Region.', 'Table'): 1, ('Table', 'Mountain'): 1, ('Mountain', 'National'): 1, ('Park,', 'which'): 1, ('which', 'encompasses'): 1, ('encompasses', 'the'): 1, ('the', 'mountain,'): 1, ('mountain,', 'protects'): 1, ('protects', 'a'): 1, ('a', 'valuable'): 1, ('valuable', 'conservation'): 1, ('conservation', 'area.'): 1, ('area.', 'From'): 1, ('the', 'top,'): 1, ('top,', 'visitors'): 1, ('visitors', 'can'): 1, ('can', 'see'): 1, ('see', 'Robben'): 1, ('Robben', 'Island,'): 1, ('Island,', 'where'): 1, ('where', 'Nelson'): 1, ('Nelson', 'Mandela'): 1, ('Mandela', 'was'): 1, ('was', 'imprisoned,'): 1, ('imprisoned,', 'adding'): 1, ('a', 'layer'): 1, ('layer', 'of'): 1, ('of', 'historical'): 1, ('historical', 'significance'): 1, ('significance', 'to'): 1, ('the', 'experience.'): 1, ('experience.', 'Table'): 1, ('Table', \"Mountain's\"): 1, (\"Mountain's\", 'iconic'): 1, ('iconic', 'presence'): 1, ('presence', 'and'): 1, ('beauty', 'make'): 1, ('make', 'it'): 1, ('it', 'an'): 1, ('an', 'essential'): 1, ('essential', 'destination'): 1, ('for', 'anyone'): 1, ('anyone', 'visiting'): 1, ('visiting', 'Cape'): 1, ('Cape', 'Town.'): 1, ('The', 'Serengeti'): 1, ('Serengeti', 'National'): 1, ('Tanzania,', 'is'): 1, ('vast', 'ecosystem'): 1, ('ecosystem', 'teeming'): 1, ('with', 'wildlife'): 1, ('and', 'renowned'): 1, ('the', 'annual'): 1, ('annual', 'Great'): 1, ('Great', 'Migration,'): 1, ('Migration,', 'one'): 1, ('natural', 'events'): 1, ('events', 'on'): 1, ('Earth.', 'Millions'): 1, ('Millions', 'of'): 1, ('of', 'wildebeest,'): 1, ('wildebeest,', 'zebras,'): 1, ('zebras,', 'and'): 1, ('other', 'herbivores'): 1, ('herbivores', 'traverse'): 1, ('traverse', 'the'): 1, ('plains', 'in'): 1, ('in', 'search'): 1, ('search', 'of'): 1, ('of', 'fresh'): 1, ('fresh', 'grazing,'): 1, ('grazing,', 'followed'): 1, ('by', 'carnivores'): 1, ('carnivores', 'such'): 1, ('as', 'lions,'): 1, ('cheetahs,', 'and'): 1, ('and', 'hyenas.'): 1, ('hyenas.', 'The'): 1, ('diverse', 'landscapes,'): 1, ('landscapes,', 'from'): 1, ('open', 'grasslands'): 1, ('grasslands', 'to'): 1, ('to', 'acacia'): 1, ('acacia', 'woodlands'): 1, ('woodlands', 'and'): 1, ('and', 'riverine'): 1, ('riverine', 'forests,'): 1, ('forests,', 'support'): 1, ('support', 'a'): 1, ('of', 'animal'): 1, ('a', 'paradise'): 1, ('paradise', 'for'): 1, ('for', 'wildlife'): 1, ('wildlife', 'enthusiasts'): 1, ('enthusiasts', 'and'): 1, ('and', 'photographers.'): 1, ('photographers.', 'Visitors'): 1, ('can', 'embark'): 1, ('embark', 'on'): 1, ('on', 'game'): 1, ('game', 'drives,'): 1, ('drives,', 'guided'): 1, ('guided', 'walks,'): 1, ('walks,', 'and'): 1, ('and', 'hot'): 1, ('hot', 'air'): 1, ('air', 'balloon'): 1, ('balloon', 'safaris'): 1, ('safaris', 'to'): 1, ('the', 'incredible'): 1, ('incredible', 'wildlife'): 1, ('wildlife', 'spectacles'): 1, ('spectacles', 'and'): 1, ('and', 'experience'): 1, ('the', 'raw'): 1, ('raw', 'beauty'): 1, ('the', 'Serengeti.'): 1, ('Serengeti.', 'The'): 1, ('park', 'plays'): 1, ('conservation', 'efforts,'): 1, ('efforts,', 'protecting'): 1, ('protecting', 'endangered'): 1, ('and', 'preserving'): 1, ('preserving', 'the'): 1, ('the', 'delicate'): 1, ('delicate', 'balance'): 1, ('unique', 'ecosystem.'): 1, ('The', 'Marrakech'): 1, ('Marrakech', 'Medina,'): 1, ('Medina,', 'the'): 1, ('the', 'old'): 1, ('old', 'walled'): 1, ('walled', 'city'): 1, ('of', 'Marrakech,'): 1, ('Marrakech,', 'Morocco,'): 1, ('Morocco,', 'is'): 1, ('vibrant', 'labyrinth'): 1, ('labyrinth', 'of'): 1, ('of', 'narrow'): 1, ('narrow', 'streets,'): 1, ('streets,', 'bustling'): 1, ('souks', '(markets),'): 1, ('(markets),', 'and'): 1, ('and', 'historic'): 1, ('historic', 'landmarks.'): 1, ('landmarks.', 'A'): 1, ('A', 'UNESCO'): 1, ('Site,', 'it'): 1, ('sensory', 'overload'): 1, ('overload', 'of'): 1, ('of', 'sights,'): 1, ('and', 'smells,'): 1, ('smells,', 'transporting'): 1, ('transporting', 'visitors'): 1, ('visitors', 'back'): 1, ('back', 'in'): 1, ('in', 'time.'): 1, ('time.', 'The'): 1, ('The', 'Djemaa'): 1, ('Djemaa', 'el-Fna,'): 1, ('el-Fna,', 'the'): 1, ('main', 'square,'): 1, ('square,', 'is'): 1, ('the', 'Medina,'): 1, ('Medina,', 'filled'): 1, ('with', 'storytellers,'): 1, ('storytellers,', 'musicians,'): 1, ('musicians,', 'snake'): 1, ('snake', 'charmers,'): 1, ('charmers,', 'and'): 1, ('and', 'food'): 1, ('food', 'stalls.'): 1, ('stalls.', 'The'): 1, ('The', 'souks'): 1, ('souks', 'are'): 1, ('a', 'treasure'): 1, ('treasure', 'trove'): 1, ('trove', 'of'): 1, ('of', 'handcrafted'): 1, ('handcrafted', 'goods,'): 1, ('goods,', 'spices,'): 1, ('spices,', 'textiles,'): 1, ('textiles,', 'and'): 1, ('and', 'leather'): 1, ('leather', 'goods,'): 1, ('goods,', 'where'): 1, ('where', 'bargaining'): 1, ('bargaining', 'is'): 1, ('customary', 'part'): 1, ('the', 'shopping'): 1, ('shopping', 'experience.'): 1, ('experience.', 'Hidden'): 1, ('Hidden', 'within'): 1, ('within', 'the'): 1, ('the', \"Medina's\"): 1, (\"Medina's\", 'walls'): 1, ('walls', 'are'): 1, ('are', 'beautiful'): 1, ('beautiful', 'mosques,'): 1, ('mosques,', 'palaces,'): 1, ('palaces,', 'and'): 1, ('traditional', 'riads'): 1, ('riads', '(guesthouses),'): 1, ('(guesthouses),', 'offering'): 1, ('offering', 'glimpses'): 1, ('glimpses', 'into'): 1, ('of', 'Marrakech.'): 1, ('Marrakech.', 'Exploring'): 1, ('Exploring', 'the'): 1, ('the', 'Medina'): 1, ('Medina', 'is'): 1, ('an', 'adventure'): 1, ('adventure', 'in'): 1, ('in', 'itself,'): 1, ('itself,', 'a'): 1, ('a', 'chance'): 1, ('chance', 'to'): 1, ('get', 'lost'): 1, ('the', 'maze'): 1, ('of', 'alleyways'): 1, ('alleyways', 'and'): 1, ('and', 'discover'): 1, ('discover', 'hidden'): 1, ('hidden', 'gems'): 1, ('gems', 'around'): 1, ('around', 'every'): 1, ('every', 'corner.'): 1, ('air', 'hung'): 1, ('hung', 'thick'): 1, ('ripe', 'mangoes,'): 1, ('mangoes,', 'fragrant'): 1, ('and', 'smoked'): 1, ('smoked', 'fish.'): 1, ('fish.', 'Sunlight'): 1, ('the', 'gaps'): 1, ('gaps', 'in'): 1, ('the', 'corrugated'): 1, ('corrugated', 'iron'): 1, ('iron', 'roof,'): 1, ('roof,', 'illuminating'): 1, ('illuminating', 'the'): 1, ('the', 'textiles,'): 1, ('textiles,', 'the'): 1, ('the', 'glistening'): 1, ('glistening', 'scales'): 1, ('scales', 'of'): 1, ('the', 'fish,'): 1, ('fish,', 'and'): 1, ('the', 'smiling'): 1, ('smiling', 'faces'): 1, ('faces', 'of'): 1, ('market', 'vendors.'): 1, ('vendors.', 'Aunostine,'): 1, ('Aunostine,', 'a'): 1, ('a', 'brightly'): 1, ('brightly', 'patterned'): 1, ('patterned', 'headscarf,'): 1, ('headscarf,', 'expertly'): 1, ('expertly', 'navigated'): 1, ('the', 'crowded'): 1, ('crowded', 'aisles,'): 1, ('aisles,', 'haggling'): 1, ('haggling', 'good-naturedly'): 1, ('good-naturedly', 'with'): 1, ('the', 'traders.'): 1, ('traders.', 'Children'): 1, ('Children', 'darted'): 1, ('darted', 'through'): 1, ('the', 'throng,'): 1, ('throng,', 'their'): 1, ('echoing', 'amidst'): 1, ('the', 'calls'): 1, ('calls', 'of'): 1, ('the', 'vendors'): 1, ('vendors', 'and'): 1, ('the', 'chatter'): 1, ('the', 'shoppers.'): 1, ('shoppers.', 'The'): 1, ('The', 'market'): 1, ('market', 'was'): 1, ('vibrant', 'hub'): 1, ('hub', 'where'): 1, ('the', 'community'): 1, ('community', 'gathered'): 1, ('gathered', 'to'): 1, ('to', 'trade,'): 1, ('trade,', 'socialize,'): 1, ('socialize,', 'and'): 1, ('and', 'celebrate'): 1, ('celebrate', 'the'): 1, ('of', 'Ghana.'): 1, ('Dust', 'swirled'): 1, ('swirled', 'in'): 1, ('the', 'children,'): 1, ('children,', 'dressed'): 1, ('dressed', 'in'): 1, ('in', 'crisp'): 1, ('crisp', 'uniforms,'): 1, ('uniforms,', 'poured'): 1, ('poured', 'out'): 1, ('out', 'of'): 1, ('small', 'schoolhouse,'): 1, ('schoolhouse,', 'their'): 1, ('voices', 'a'): 1, ('a', 'chorus'): 1, ('chorus', 'of'): 1, ('of', 'excitement.'): 1, ('excitement.', 'The'): 1, ('The', 'school,'): 1, ('school,', 'a'): 1, ('with', 'mud'): 1, ('mud', 'walls'): 1, ('walls', 'and'): 1, ('a', 'thatched'): 1, ('thatched', 'roof,'): 1, ('roof,', 'stood'): 1, ('stood', 'proudly'): 1, ('proudly', 'amidst'): 1, ('the', 'rolling'): 1, ('the', 'Tanzanian'): 1, ('Tanzanian', 'countryside.'): 1, ('countryside.', 'Inside,'): 1, ('Inside,', 'Mr.'): 1, ('Mr.', 'Kimaro,'): 1, ('Kimaro,', 'the'): 1, ('the', 'teacher,'): 1, ('teacher,', 'patiently'): 1, ('patiently', 'guided'): 1, ('guided', 'his'): 1, ('his', 'students'): 1, ('students', 'through'): 1, ('through', 'their'): 1, ('their', 'lessons,'): 1, ('lessons,', 'his'): 1, ('his', 'voice'): 1, ('voice', 'a'): 1, ('a', 'calming'): 1, ('calming', 'presence'): 1, ('small', 'classroom.'): 1, ('classroom.', 'The'): 1, ('The', 'children,'): 1, ('children,', 'eager'): 1, ('to', 'learn,'): 1, ('learn,', 'leaned'): 1, ('leaned', 'forward'): 1, ('forward', 'in'): 1, ('their', 'desks,'): 1, ('desks,', 'their'): 1, ('their', 'eyes'): 1, ('eyes', 'shining'): 1, ('shining', 'with'): 1, ('with', 'curiosity.'): 1, ('curiosity.', 'The'): 1, ('The', 'school'): 1, ('school', 'was'): 1, ('a', 'beacon'): 1, ('beacon', 'of'): 1, ('of', 'hope,'): 1, ('hope,', 'a'): 1, ('where', 'knowledge'): 1, ('knowledge', 'was'): 1, ('was', 'imparted,'): 1, ('imparted,', 'dreams'): 1, ('dreams', 'were'): 1, ('were', 'nurtured,'): 1, ('nurtured,', 'and'): 1, ('the', 'future'): 1, ('future', 'of'): 1, ('of', 'Tanzania'): 1, ('Tanzania', 'was'): 1, ('being', 'shaped,'): 1, ('shaped,', 'one'): 1, ('one', 'lesson'): 1, ('lesson', 'at'): 1, ('a', 'time.'): 1, ('The', 'hum'): 1, ('hum', 'of'): 1, ('of', 'activity'): 1, ('activity', 'filled'): 1, ('air', '-'): 1, ('the', 'beeping'): 1, ('beeping', 'of'): 1, ('of', 'machines,'): 1, ('machines,', 'the'): 1, ('of', 'nurses,'): 1, ('nurses,', 'the'): 1, ('the', 'hushed'): 1, ('hushed', 'conversations'): 1, ('conversations', 'of'): 1, ('of', 'doctors.'): 1, ('doctors.', 'In'): 1, ('the', 'waiting'): 1, ('waiting', 'room,'): 1, ('room,', 'patients'): 1, ('patients', 'sat'): 1, ('sat', 'patiently,'): 1, ('patiently,', 'their'): 1, ('faces', 'etched'): 1, ('etched', 'with'): 1, ('with', 'worry'): 1, ('worry', 'and'): 1, ('hope.', 'Dr.'): 1, ('Dr.', 'Adebayo,'): 1, ('Adebayo,', 'a'): 1, ('a', 'doctor'): 1, ('doctor', 'with'): 1, ('a', 'calm'): 1, ('calm', 'demeanor,'): 1, ('demeanor,', 'moved'): 1, ('moved', 'purposefully'): 1, ('purposefully', 'through'): 1, ('the', 'corridors,'): 1, ('corridors,', 'attending'): 1, ('attending', 'to'): 1, ('his', 'patients'): 1, ('patients', 'with'): 1, ('with', 'care'): 1, ('care', 'and'): 1, ('and', 'compassion.'): 1, ('compassion.', 'The'): 1, ('The', 'hospital,'): 1, ('hospital,', 'a'): 1, ('a', 'sprawling'): 1, ('sprawling', 'complex'): 1, ('complex', 'in'): 1, ('Lagos,', 'was'): 1, ('intense', 'emotions'): 1, ('emotions', '-'): 1, ('where', 'lives'): 1, ('lives', 'were'): 1, ('were', 'saved,'): 1, ('saved,', 'battles'): 1, ('battles', 'were'): 1, ('were', 'fought,'): 1, ('fought,', 'and'): 1, ('and', 'miracles'): 1, ('miracles', 'sometimes'): 1, ('sometimes', 'happened.'): 1, ('happened.', 'It'): 1, ('the', 'resilience'): 1, ('resilience', 'of'): 1, ('human', 'spirit'): 1, ('the', 'dedication'): 1, ('dedication', 'of'): 1, ('of', 'those'): 1, ('who', 'worked'): 1, ('worked', 'tirelessly'): 1, ('tirelessly', 'to'): 1, ('to', 'heal'): 1, ('heal', 'and'): 1, ('and', 'comfort.'): 1, ('The', 'afternoon'): 1, ('afternoon', 'sun'): 1, ('sun', 'cast'): 1, ('cast', 'long'): 1, ('road', 'as'): 1, ('gathered', 'at'): 1, ('small', 'cafe,'): 1, ('cafe,', 'sipping'): 1, ('sipping', 'sweet'): 1, ('sweet', 'mint'): 1, ('and', 'sharing'): 1, ('sharing', 'stories.'): 1, ('stories.', 'The'): 1, ('The', 'cafe,'): 1, ('cafe,', 'a'): 1, ('few', 'tables'): 1, ('tables', 'and'): 1, ('and', 'chairs'): 1, ('chairs', 'under'): 1, ('under', 'a'): 1, ('a', 'canvas'): 1, ('canvas', 'awning,'): 1, ('awning,', 'was'): 1, ('haven', 'from'): 1, ('desert', 'heat.'): 1, ('air', 'hummed'): 1, ('of', 'conversation,'): 1, ('conversation,', 'the'): 1, ('of', 'glasses,'): 1, ('glasses,', 'and'): 1, ('occasional', 'rumble'): 1, ('rumble', 'of'): 1, ('a', 'passing'): 1, ('passing', 'truck.'): 1, ('truck.', 'The'): 1, ('The', 'cafe'): 1, ('cafe', 'was'): 1, ('of', 'respite,'): 1, ('respite,', 'a'): 1, ('where', 'travelers'): 1, ('travelers', 'and'): 1, ('and', 'locals'): 1, ('locals', 'alike'): 1, ('alike', 'could'): 1, ('could', 'pause,'): 1, ('pause,', 'refresh'): 1, ('refresh', 'themselves,'): 1, ('themselves,', 'and'): 1, ('and', 'connect'): 1, ('Moroccan', 'life.'): 1, ('of', 'Afrobeat'): 1, ('Afrobeat', 'music'): 1, ('music', 'filled'): 1, ('small', 'barbershop,'): 1, ('barbershop,', 'punctuated'): 1, ('punctuated', 'by'): 1, ('the', 'buzz'): 1, ('buzz', 'of'): 1, ('of', 'clippers'): 1, ('clippers', 'and'): 1, ('the', 'friendly'): 1, ('friendly', 'banter'): 1, ('banter', 'between'): 1, ('the', 'barbers'): 1, ('barbers', 'and'): 1, ('their', 'customers.'): 1, ('customers.', 'Posters'): 1, ('Posters', 'of'): 1, ('of', 'football'): 1, ('football', 'stars'): 1, ('stars', 'adorned'): 1, ('adorned', 'the'): 1, ('the', 'walls,'): 1, ('walls,', 'and'): 1, ('of', 'aftershave.'): 1, ('aftershave.', 'Kenneth,'): 1, ('Kenneth,', 'the'): 1, ('the', 'barber,'): 1, ('barber,', 'skillfully'): 1, ('skillfully', 'shaped'): 1, ('shaped', 'his'): 1, ('his', \"client's\"): 1, (\"client's\", 'hair,'): 1, ('hair,', 'his'): 1, ('his', 'hands'): 1, ('hands', 'moving'): 1, ('moving', 'with'): 1, ('with', 'precision'): 1, ('precision', 'and'): 1, ('The', 'barbershop'): 1, ('barbershop', 'was'): 1, ('place', 'to'): 1, ('get', 'a'): 1, ('a', 'haircut;'): 1, ('haircut;', 'it'): 1, ('a', 'social'): 1, ('social', 'hub,'): 1, ('hub,', 'a'): 1, ('where', 'men'): 1, ('men', 'exchanged'): 1, ('exchanged', 'news,'): 1, ('news,', 'debated'): 1, ('debated', 'politics,'): 1, ('politics,', 'and'): 1, ('shared', 'laughter.'): 1, ('laughter.', 'It'): 1, ('of', 'Nairobi'): 1, ('Nairobi', 'life,'): 1, ('and', 'energetic'): 1, ('energetic', 'space'): 1, ('space', 'where'): 1, ('were', 'strengthened'): 1, ('strengthened', 'with'): 1, ('each', 'snip'): 1, ('snip', 'of'): 1, ('the', 'clippers.'): 1, ('the', 'windows'): 1, ('windows', 'of'): 1, ('small', 'library,'): 1, ('library,', 'illuminating'): 1, ('illuminating', 'rows'): 1, ('rows', 'of'): 1, ('of', 'well-worn'): 1, ('well-worn', 'books.'): 1, ('books.', 'The'): 1, ('was', 'quiet,'): 1, ('quiet,', 'filled'): 1, ('filled', 'only'): 1, ('only', 'with'): 1, ('the', 'rustling'): 1, ('rustling', 'of'): 1, ('of', 'pages'): 1, ('pages', 'and'): 1, ('occasional', 'cough'): 1, ('cough', 'of'): 1, ('a', 'reader.'): 1, ('reader.', 'Alem,'): 1, ('knowledge,', 'sat'): 1, ('sat', 'absorbed'): 1, ('absorbed', 'in'): 1, ('a', 'book,'): 1, ('book,', 'his'): 1, ('his', 'brow'): 1, ('brow', 'furrowed'): 1, ('furrowed', 'in'): 1, ('in', 'concentration.'): 1, ('concentration.', 'The'): 1, ('The', 'library,'): 1, ('library,', 'a'): 1, ('simple', 'mud-brick'): 1, ('mud-brick', 'building'): 1, ('building', 'in'): 1, ('a', 'rural'): 1, ('rural', 'Ethiopian'): 1, ('Ethiopian', 'village,'): 1, ('village,', 'was'): 1, ('for', 'learning,'): 1, ('learning,', 'a'): 1, ('where', 'worlds'): 1, ('worlds', 'could'): 1, ('could', 'be'): 1, ('be', 'explored,'): 1, ('explored,', 'imaginations'): 1, ('imaginations', 'ignited,'): 1, ('ignited,', 'and'): 1, ('and', 'futures'): 1, ('futures', 'shaped.'): 1, ('shaped.', 'It'): 1, ('of', 'literacy'): 1, ('literacy', 'and'): 1, ('enduring', 'human'): 1, ('human', 'desire'): 1, ('desire', 'for'): 1, ('for', 'knowledge.'): 1, ('the', 'golden'): 1, ('golden', 'sands'): 1, ('sands', 'of'): 1, ('the', 'Gambian'): 1, ('Gambian', 'coast.'): 1, ('coast.', 'Fishing'): 1, ('Fishing', 'boats'): 1, ('boats', 'bobbed'): 1, ('bobbed', 'gently'): 1, ('gently', 'in'): 1, ('the', 'turquoise'): 1, ('turquoise', 'waters,'): 1, ('waters,', 'and'): 1, ('salty', 'tang'): 1, ('tang', 'of'): 1, ('the', 'ocean'): 1, ('ocean', 'and'): 1, ('of', 'drums'): 1, ('drums', 'from'): 1, ('nearby', 'village.'): 1, ('village.', 'Children'): 1, ('played', 'in'): 1, ('the', 'shallows,'): 1, ('shallows,', 'their'): 1, ('laughter', 'carried'): 1, ('carried', 'on'): 1, ('gentle', 'breeze.'): 1, ('breeze.', 'Fishermen'): 1, ('Fishermen', 'mended'): 1, ('mended', 'their'): 1, ('their', 'nets,'): 1, ('nets,', 'their'): 1, ('their', 'weathered'): 1, ('weathered', 'faces'): 1, ('faces', 'reflecting'): 1, ('reflecting', 'years'): 1, ('years', 'of'): 1, ('of', 'working'): 1, ('working', 'under'): 1, ('African', 'sun.'): 1, ('sun.', 'Life'): 1, ('the', 'village'): 1, ('village', 'moved'): 1, ('pace,', 'dictated'): 1, ('dictated', 'by'): 1, ('the', 'tides'): 1, ('tides', 'and'): 1, ('the', 'rhythm'): 1, ('of', 'nature.'): 1, ('nature.', 'The'): 1, ('warm,', 'tropical'): 1, ('tropical', 'climate'): 1, ('the', 'sea'): 1, ('sea', 'provided'): 1, ('but', 'fulfilling'): 1, ('existence', 'for'): 1, ('their', 'surroundings.'): 1, ('The', 'crisp'): 1, ('crisp', 'mountain'): 1, ('mountain', 'air'): 1, ('air', 'carried'): 1, ('carried', 'the'): 1, ('of', 'pine'): 1, ('pine', 'and'): 1, ('and', 'wildflowers.'): 1, ('wildflowers.', 'Clouds'): 1, ('Clouds', 'clung'): 1, ('clung', 'to'): 1, ('the', 'rugged'): 1, ('rugged', 'peaks,'): 1, ('peaks,', 'casting'): 1, ('shadows', 'over'): 1, ('the', 'valleys'): 1, ('valleys', 'below.'): 1, ('below.', 'In'): 1, ('nestled', 'high'): 1, ('the', 'mountains'): 1, ('mountains', 'of'): 1, ('of', 'Lesotho,'): 1, ('Lesotho,', 'villagers'): 1, ('villagers', 'wrapped'): 1, ('wrapped', 'themselves'): 1, ('themselves', 'in'): 1, ('in', 'thick'): 1, ('thick', 'blankets'): 1, ('blankets', 'against'): 1, ('the', 'morning'): 1, ('morning', 'chill.'): 1, ('chill.', 'Shepherds'): 1, ('Shepherds', 'led'): 1, ('led', 'their'): 1, ('their', 'flocks'): 1, ('of', 'sheep'): 1, ('sheep', 'along'): 1, ('along', 'winding'): 1, ('winding', 'paths,'): 1, ('paths,', 'their'): 1, ('voices', 'echoing'): 1, ('echoing', 'through'): 1, ('the', 'valleys.'): 1, ('valleys.', 'The'): 1, ('The', 'rugged'): 1, ('rugged', 'terrain'): 1, ('terrain', 'and'): 1, ('harsh', 'climate'): 1, ('climate', 'demanded'): 1, ('demanded', 'resilience'): 1, ('and', 'resourcefulness'): 1, ('resourcefulness', 'from'): 1, ('lived', 'a'): 1, ('life', 'deeply'): 1, ('its', 'rhythms.'): 1, ('rhythms.', 'The'): 1, ('The', 'breathtaking'): 1, ('breathtaking', 'scenery'): 1, ('scenery', 'and'): 1, ('the', 'sense'): 1, ('community', 'provided'): 1, ('and', 'fulfilling'): 1, ('existence', 'in'): 1, ('this', 'remote'): 1, ('remote', 'corner'): 1, ('corner', 'of'): 1, ('sun', 'blazed'): 1, ('blazed', 'down'): 1, ('down', 'mercilessly'): 1, ('mercilessly', 'on'): 1, ('dusty', 'streets'): 1, ('the', 'Djiboutian'): 1, ('Djiboutian', 'town.'): 1, ('town.', 'The'): 1, ('air', 'shimmered'): 1, ('shimmered', 'with'): 1, ('with', 'heat,'): 1, ('heat,', 'and'): 1, ('landscape', 'stretched'): 1, ('out', 'in'): 1, ('a', 'seemingly'): 1, ('seemingly', 'endless'): 1, ('endless', 'expanse'): 1, ('expanse', 'of'): 1, ('of', 'sand'): 1, ('sand', 'and'): 1, ('and', 'rock.'): 1, ('rock.', 'Camels,'): 1, ('Camels,', 'laden'): 1, ('with', 'goods,'): 1, ('goods,', 'plodded'): 1, ('plodded', 'slowly'): 1, ('slowly', 'through'): 1, ('the', 'streets,'): 1, ('streets,', 'their'): 1, ('their', 'riders'): 1, ('riders', 'seeking'): 1, ('seeking', 'shelter'): 1, ('shelter', 'from'): 1, ('the', 'midday'): 1, ('midday', 'sun.'): 1, ('sun.', 'Shopkeepers'): 1, ('Shopkeepers', 'sat'): 1, ('sat', 'in'): 1, ('the', 'shade'): 1, ('shade', 'of'): 1, ('their', 'stalls,'): 1, ('stalls,', 'patiently'): 1, ('patiently', 'waiting'): 1, ('waiting', 'for'): 1, ('for', 'customers.'): 1, ('customers.', 'Life'): 1, ('desert', 'town'): 1, ('town', 'was'): 1, ('constant', 'negotiation'): 1, ('negotiation', 'with'): 1, ('the', 'elements,'): 1, ('elements,', 'a'): 1, ('a', 'test'): 1, ('test', 'of'): 1, ('of', 'endurance'): 1, ('endurance', 'and'): 1, ('and', 'adaptability.'): 1, ('adaptability.', 'Despite'): 1, ('Despite', 'the'): 1, ('harsh', 'conditions,'): 1, ('conditions,', 'the'): 1, ('the', 'people'): 1, ('people', 'of'): 1, ('of', 'Djibouti'): 1, ('Djibouti', 'had'): 1, ('had', 'carved'): 1, ('carved', 'out'): 1, ('this', 'unforgiving'): 1, ('unforgiving', 'landscape,'): 1, ('landscape,', 'their'): 1, ('their', 'resilience'): 1, ('resilience', 'a'): 1, ('human', 'spirit.'): 1, ('The', 'calm'): 1, ('calm', 'waters'): 1, ('waters', 'of'): 1, ('Lake', 'Malawi'): 1, ('Malawi', 'sparkled'): 1, ('sparkled', 'in'): 1, ('sun.', 'Fishermen'): 1, ('Fishermen', 'cast'): 1, ('cast', 'their'): 1, ('their', 'nets'): 1, ('nets', 'from'): 1, ('from', 'brightly'): 1, ('brightly', 'painted'): 1, ('painted', 'wooden'): 1, ('wooden', 'boats,'): 1, ('boats,', 'their'): 1, ('their', 'rhythmic'): 1, ('rhythmic', 'movements'): 1, ('movements', 'a'): 1, ('a', 'timeless'): 1, ('timeless', 'dance.'): 1, ('dance.', 'Children'): 1, ('played', 'on'): 1, ('the', 'sandy'): 1, ('sandy', 'shores,'): 1, ('shores,', 'their'): 1, ('echoing', 'across'): 1, ('the', 'water.'): 1, ('of', 'birdsong'): 1, ('birdsong', 'and'): 1, ('gentle', 'lapping'): 1, ('lapping', 'of'): 1, ('of', 'waves.'): 1, ('waves.', 'The'): 1, ('The', 'town,'): 1, ('town,', 'nestled'): 1, ('nestled', 'on'): 1, ('the', 'shores'): 1, ('shores', 'of'): 1, ('the', 'lake,'): 1, ('lake,', 'was'): 1, ('haven', 'of'): 1, ('of', 'tranquility,'): 1, ('tranquility,', 'a'): 1, ('where', 'life'): 1, ('pace,', 'and'): 1, ('the', 'beauty'): 1, ('of', 'nature'): 1, ('nature', 'was'): 1, ('was', 'ever-present.'): 1, ('ever-present.', 'The'): 1, ('The', 'fertile'): 1, ('fertile', 'lands'): 1, ('lands', 'surrounding'): 1, ('surrounding', 'the'): 1, ('lake', 'provided'): 1, ('provided', 'sustenance'): 1, ('sustenance', 'for'): 1, ('water', 'that'): 1, ('gave', 'them'): 1, ('them', 'life.'): 1, ('street', 'pulsed'): 1, ('pulsed', 'with'): 1, ('with', 'life'): 1, ('of', 'clothing,'): 1, ('clothing,', 'the'): 1, ('enticing', 'aromas'): 1, ('aromas', 'of'): 1, ('street', 'food,'): 1, ('food,', 'the'): 1, ('of', 'music'): 1, ('music', 'spilling'): 1, ('spilling', 'from'): 1, ('open', 'doorways.'): 1, ('doorways.', 'Motorcycles'): 1, ('Motorcycles', 'zipped'): 1, ('zipped', 'through'): 1, ('the', 'crowds,'): 1, ('crowds,', 'their'): 1, ('their', 'horns'): 1, ('horns', 'beeping'): 1, ('beeping', 'in'): 1, ('a', 'chaotic'): 1, ('chaotic', 'symphony.'): 1, ('symphony.', 'Vendors'): 1, ('Vendors', 'hawked'): 1, ('hawked', 'their'): 1, ('their', 'wares,'): 1, ('wares,', 'their'): 1, ('voices', 'rising'): 1, ('rising', 'above'): 1, ('above', 'the'): 1, ('the', 'din.'): 1, ('din.', 'The'): 1, ('street', 'was'): 1, ('of', 'Togo,'): 1, ('Togo,', 'a'): 1, ('a', 'country'): 1, ('country', 'bursting'): 1, ('bursting', 'with'): 1, ('with', 'energy'): 1, ('and', 'dynamism.'): 1, ('dynamism.', 'The'): 1, ('warm,', 'humid'): 1, ('humid', 'air'): 1, ('the', 'sights,'): 1, ('and', 'smells'): 1, ('smells', 'of'): 1, ('Africa,', 'a'): 1, ('sensory', 'experience'): 1, ('experience', 'that'): 1, ('both', 'exhilarating'): 1, ('exhilarating', 'and'): 1, ('and', 'overwhelming.'): 1, ('The', 'rolling'): 1, ('of', 'Swaziland'): 1, ('Swaziland', '(Eswatini)'): 1, ('(Eswatini)', 'stretched'): 1, ('out', 'as'): 1, ('as', 'far'): 1, ('far', 'as'): 1, ('the', 'eye'): 1, ('eye', 'could'): 1, ('could', 'see,'): 1, ('see,', 'dotted'): 1, ('with', 'traditional'): 1, ('traditional', 'homesteads.'): 1, ('homesteads.', 'Cattle'): 1, ('Cattle', 'grazed'): 1, ('grazed', 'peacefully'): 1, ('peacefully', 'in'): 1, ('fields,', 'and'): 1, ('the', 'chirping'): 1, ('chirping', 'of'): 1, ('of', 'birds'): 1, ('birds', 'and'): 1, ('the', 'distant'): 1, ('distant', 'sound'): 1, ('of', 'children'): 1, ('children', 'singing.'): 1, ('singing.', 'In'): 1, ('small', 'village,'): 1, ('village,', 'life'): 1, ('gentle', 'pace,'): 1, ('pace,', 'guided'): 1, ('the', 'traditions'): 1, ('and', 'customs'): 1, ('customs', 'of'): 1, ('the', 'Swazi'): 1, ('Swazi', 'people.'): 1, ('people.', 'The'): 1, ('warm,', 'subtropical'): 1, ('the', 'fertile'): 1, ('land', 'provided'): 1, ('a', 'peaceful'): 1, ('peaceful', 'and'): 1, ('and', 'harmonious'): 1, ('harmonious', 'existence,'): 1, ('existence,', 'where'): 1, ('were', 'strong'): 1, ('strong', 'and'): 1, ('of', 'rural'): 1, ('rural', 'life'): 1, ('life', 'were'): 1, ('were', 'deeply'): 1, ('deeply', 'respected.'): 1, ('The', 'Afro-Asiatic'): 1, ('Afro-Asiatic', 'language'): 1, ('most', 'geographically'): 1, ('geographically', 'widespread'): 1, ('widespread', 'language'): 1, ('language', 'families'): 1, ('families', 'in'): 1, ('It', 'encompasses'): 1, ('encompasses', 'languages'): 1, ('languages', 'spoken'): 1, ('spoken', 'across'): 1, ('across', 'North'): 1, ('the', 'Horn'): 1, ('Horn', 'of'): 1, ('the', 'Arabian'): 1, ('Arabian', 'Peninsula,'): 1, ('Peninsula,', 'and'): 1, ('the', 'Middle'): 1, ('Middle', 'East.'): 1, ('East.', 'Major'): 1, ('Major', 'branches'): 1, ('branches', 'include'): 1, ('include', 'Semitic'): 1, ('Semitic', '(Arabic,'): 1, ('(Arabic,', 'Hebrew,'): 1, ('Hebrew,', 'Amharic),'): 1, ('Amharic),', 'Berber,'): 1, ('Berber,', 'Cushitic'): 1, ('Cushitic', '(Somali,'): 1, ('(Somali,', 'Oromo),'): 1, ('Oromo),', 'Chadic'): 1, ('Chadic', '(Hausa),'): 1, ('(Hausa),', 'and'): 1, ('and', 'Egyptian'): 1, ('Egyptian', '(extinct,'): 1, ('(extinct,', 'but'): 1, ('but', 'ancestor'): 1, ('ancestor', 'of'): 1, ('of', 'Coptic).'): 1, ('Coptic).', 'Afro-Asiatic'): 1, ('Afro-Asiatic', 'languages'): 1, ('complex', 'system'): 1, ('of', 'consonant'): 1, ('consonant', 'sounds'): 1, ('sounds', 'and'): 1, ('often', 'employ'): 1, ('employ', 'non-concatenative'): 1, ('non-concatenative', 'morphology,'): 1, ('morphology,', 'meaning'): 1, ('that', 'word'): 1, ('word', 'formation'): 1, ('formation', 'involves'): 1, ('involves', 'changes'): 1, ('changes', 'to'): 1, ('the', 'vowels'): 1, ('vowels', 'within'): 1, ('a', 'root,'): 1, ('root,', 'rather'): 1, ('rather', 'than'): 1, ('than', 'adding'): 1, ('adding', 'prefixes'): 1, ('prefixes', 'or'): 1, ('or', 'suffixes.'): 1, ('suffixes.', 'The'): 1, ('The', \"family's\"): 1, (\"family's\", 'vast'): 1, ('vast', 'geographic'): 1, ('geographic', 'distribution'): 1, ('distribution', 'and'): 1, ('and', 'deep'): 1, ('deep', 'historical'): 1, ('historical', 'roots'): 1, ('roots', 'reflect'): 1, ('reflect', 'its'): 1, ('its', 'significant'): 1, ('significant', 'influence'): 1, ('influence', 'on'): 1, ('and', 'linguistic'): 1, ('of', 'Africa'): 1, ('The', 'Niger-Congo'): 1, ('Niger-Congo', 'language'): 1, ('largest', 'language'): 1, ('family', 'in'): 1, ('Africa', 'in'): 1, ('in', 'terms'): 1, ('terms', 'of'): 1, ('the', 'number'): 1, ('number', 'of'): 1, ('of', 'languages'): 1, ('languages', 'and'): 1, ('and', 'speakers.'): 1, ('speakers.', 'It'): 1, ('It', 'covers'): 1, ('covers', 'most'): 1, ('of', 'sub-Saharan'): 1, ('sub-Saharan', 'Africa,'): 1, ('including', 'West'): 1, ('Africa,', 'Southern'): 1, ('is', 'incredibly'): 1, ('incredibly', 'diverse,'): 1, ('diverse,', 'with'): 1, ('with', 'major'): 1, ('major', 'branches'): 1, ('branches', 'like'): 1, ('like', 'Bantu'): 1, ('Bantu', '(Swahili,'): 1, ('(Swahili,', 'Zulu,'): 1, ('Zulu,', 'Xhosa),'): 1, ('Xhosa),', 'Atlantic'): 1, ('Atlantic', '(Wolof,'): 1, ('(Wolof,', 'Fula),'): 1, ('Fula),', 'Mande'): 1, ('Mande', '(Bambara,'): 1, ('(Bambara,', 'Mandinka),'): 1, ('Mandinka),', 'and'): 1, ('and', 'Kwa'): 1, ('Kwa', '(Akan,'): 1, ('(Akan,', 'Igbo,'): 1, ('Igbo,', 'Yoruba).'): 1, ('Yoruba).', 'Niger-Congo'): 1, ('Niger-Congo', 'languages'): 1, ('a', 'system'): 1, ('of', 'noun'): 1, ('noun', 'classes,'): 1, ('classes,', 'where'): 1, ('where', 'nouns'): 1, ('nouns', 'are'): 1, ('are', 'grouped'): 1, ('grouped', 'into'): 1, ('into', 'categories'): 1, ('categories', 'that'): 1, ('that', 'trigger'): 1, ('trigger', 'agreement'): 1, ('agreement', 'on'): 1, ('on', 'verbs'): 1, ('verbs', 'and'): 1, ('other', 'words.'): 1, ('words.', 'The'): 1, ('The', 'Bantu'): 1, ('Bantu', 'languages,'): 1, ('languages,', 'in'): 1, ('in', 'particular,'): 1, ('particular,', 'have'): 1, ('have', 'spread'): 1, ('spread', 'extensively'): 1, ('extensively', 'across'): 1, ('and', 'interactions'): 1, ('interactions', 'of'): 1, ('of', 'Bantu-speaking'): 1, ('Bantu-speaking', 'peoples.'): 1, ('The', 'Nilo-Saharan'): 1, ('Nilo-Saharan', 'language'): 1, ('is', 'spoken'): 1, ('Desert.', 'It'): 1, ('It', 'includes'): 1, ('includes', 'languages'): 1, ('languages', 'such'): 1, ('as', 'Maasai,'): 1, ('Maasai,', 'Luo,'): 1, ('Luo,', 'Dinka,'): 1, ('Dinka,', 'Nuer,'): 1, ('Nuer,', 'Songhay,'): 1, ('Songhay,', 'and'): 1, ('and', 'Fur.'): 1, ('Fur.', 'While'): 1, ('the', 'classification'): 1, ('classification', 'of'): 1, ('languages', 'is'): 1, ('is', 'still'): 1, ('still', 'debated'): 1, ('debated', 'among'): 1, ('among', 'linguists,'): 1, ('linguists,', 'it'): 1, ('a', 'relatively'): 1, ('relatively', 'old'): 1, ('old', 'language'): 1, ('family', 'with'): 1, ('complex', 'internal'): 1, ('internal', 'structure.'): 1, ('structure.', 'Many'): 1, ('Many', 'Nilo-Saharan'): 1, ('are', 'tonal,'): 1, ('tonal,', 'meaning'): 1, ('the', 'pitch'): 1, ('pitch', 'of'): 1, ('a', 'syllable'): 1, ('syllable', 'can'): 1, ('can', 'change'): 1, ('change', 'the'): 1, ('the', 'meaning'): 1, ('meaning', 'of'): 1, ('a', 'word.'): 1, ('word.', 'These'): 1, ('often', 'spoken'): 1, ('in', 'regions'): 1, ('regions', 'with'): 1, ('with', 'significant'): 1, ('significant', 'cultural'): 1, ('and', 'ecological'): 1, ('ecological', 'diversity,'): 1, ('diversity,', 'reflecting'): 1, ('the', 'adaptation'): 1, ('adaptation', 'of'): 1, ('Nilo-Saharan', 'communities'): 1, ('communities', 'to'): 1, ('of', 'environments.'): 1, ('Khoisan', 'languages,'): 1, ('languages,', 'spoken'): 1, ('spoken', 'primarily'): 1, ('primarily', 'in'): 1, ('Africa,', 'are'): 1, ('distinctive', 'use'): 1, ('of', 'click'): 1, ('click', 'consonants.'): 1, ('consonants.', 'Click'): 1, ('Click', 'sounds'): 1, ('sounds', 'are'): 1, ('produced', 'by'): 1, ('a', 'vacuum'): 1, ('vacuum', 'with'): 1, ('the', 'tongue'): 1, ('tongue', 'and'): 1, ('then', 'releasing'): 1, ('releasing', 'it,'): 1, ('it,', 'resulting'): 1, ('a', 'sharp,'): 1, ('sharp,', 'percussive'): 1, ('percussive', 'sound.'): 1, ('sound.', 'The'): 1, ('are', 'relatively'): 1, ('relatively', 'small'): 1, ('small', 'in'): 1, ('in', 'number'): 1, ('number', 'compared'): 1, ('compared', 'to'): 1, ('to', 'other'): 1, ('other', 'African'): 1, ('African', 'language'): 1, ('language', 'families,'): 1, ('families,', 'and'): 1, ('and', 'they'): 1, ('are', 'geographically'): 1, ('geographically', 'concentrated'): 1, ('in', 'southwestern'): 1, ('southwestern', 'Africa.'): 1, ('Africa.', 'While'): 1, ('some', 'Khoisan'): 1, ('are', 'endangered'): 1, ('endangered', 'due'): 1, ('to', 'social'): 1, ('and', 'economic'): 1, ('economic', 'pressures,'): 1, ('pressures,', 'they'): 1, ('they', 'represent'): 1, ('and', 'ancient'): 1, ('ancient', 'linguistic'): 1, ('linguistic', 'heritage,'): 1, ('heritage,', 'providing'): 1, ('providing', 'valuable'): 1, ('and', 'diversity'): 1, ('human', 'language.'): 1, ('While', 'primarily'): 1, ('with', 'Southeast'): 1, ('Southeast', 'Asia'): 1, ('Asia', 'and'): 1, ('the', 'Pacific,'): 1, ('Pacific,', 'the'): 1, ('the', 'Austronesian'): 1, ('Austronesian', 'language'): 1, ('family', 'also'): 1, ('Africa', 'through'): 1, ('the', 'Malagasy'): 1, ('Malagasy', 'language,'): 1, ('language,', 'spoken'): 1, ('in', 'Madagascar.'): 1, ('Madagascar.', 'Malagasy'): 1, ('Malagasy', 'is'): 1, ('is', 'believed'): 1, ('to', 'have'): 1, ('have', 'arrived'): 1, ('arrived', 'in'): 1, ('in', 'Madagascar'): 1, ('Madagascar', 'around'): 1, ('around', 'the'): 1, ('the', '5th'): 1, ('5th', 'century'): 1, ('century', 'AD,'): 1, ('AD,', 'brought'): 1, ('brought', 'by'): 1, ('by', 'seafaring'): 1, ('seafaring', 'Austronesian'): 1, ('Austronesian', 'peoples'): 1, ('peoples', 'from'): 1, ('the', 'Malay'): 1, ('Malay', 'Archipelago.'): 1, ('Archipelago.', 'This'): 1, ('This', 'linguistic'): 1, ('linguistic', 'connection'): 1, ('connection', 'highlights'): 1, ('cultural', 'exchanges'): 1, ('exchanges', 'that'): 1, ('that', 'have'): 1, ('have', 'shaped'): 1, ('shaped', 'the'): 1, ('the', 'influence'): 1, ('influence', 'of'): 1, ('of', 'maritime'): 1, ('maritime', 'trade'): 1, ('trade', 'and'): 1, ('cultural', 'diffusion'): 1, ('diffusion', 'across'): 1, ('vast', 'distances.'): 1, ('The', 'Indo-European'): 1, ('Indo-European', 'language'): 1, ('is', 'primarily'): 1, ('with', 'Europe'): 1, ('Europe', 'and'): 1, ('and', 'Asia,'): 1, ('Asia,', 'but'): 1, ('it', 'also'): 1, ('Africa', 'due'): 1, ('to', 'colonial'): 1, ('colonial', 'history.'): 1, ('history.', 'Languages'): 1, ('Languages', 'such'): 1, ('as', 'English,'): 1, ('English,', 'French,'): 1, ('French,', 'Portuguese,'): 1, ('Portuguese,', 'Spanish,'): 1, ('Spanish,', 'and'): 1, ('and', 'Afrikaans'): 1, ('Afrikaans', 'are'): 1, ('are', 'spoken'): 1, ('in', 'various'): 1, ('various', 'parts'): 1, ('Africa,', 'reflecting'): 1, ('the', 'legacy'): 1, ('legacy', 'of'): 1, ('of', 'European'): 1, ('European', 'colonization.'): 1, ('colonization.', 'These'): 1, ('languages', 'often'): 1, ('often', 'serve'): 1, ('serve', 'as'): 1, ('as', 'official'): 1, ('official', 'languages'): 1, ('languages', 'or'): 1, ('or', 'languages'): 1, ('languages', 'of'): 1, ('of', 'education'): 1, ('education', 'and'): 1, ('and', 'commerce,'): 1, ('commerce,', 'alongside'): 1, ('alongside', 'indigenous'): 1, ('indigenous', 'African'): 1, ('African', 'languages.'): 1, ('languages.', 'The'): 1, ('The', 'presence'): 1, ('presence', 'of'): 1, ('of', 'Indo-European'): 1, ('Indo-European', 'languages'): 1, ('languages', 'in'): 1, ('Africa', 'highlights'): 1, ('complex', 'linguistic'): 1, ('continent,', 'shaped'): 1, ('shaped', 'by'): 1, ('by', 'historical'): 1, ('historical', 'interactions'): 1, ('interactions', 'and'): 1, ('and', 'globalization.'): 1, ('Sign', 'languages'): 1, ('Africa', 'are'): 1, ('are', 'diverse'): 1, ('diverse', 'and'): 1, ('often', 'unrelated'): 1, ('unrelated', 'to'): 1, ('to', 'sign'): 1, ('used', 'elsewhere.'): 1, ('elsewhere.', 'Many'): 1, ('Many', 'countries'): 1, ('countries', 'have'): 1, ('have', 'their'): 1, ('their', 'own'): 1, ('own', 'distinct'): 1, ('distinct', 'sign'): 1, ('languages,', 'reflecting'): 1, ('linguistic', 'and'): 1, ('cultural', 'variations'): 1, ('variations', 'across'): 1, ('continent.', 'While'): 1, ('some', 'sign'): 1, ('languages', 'may'): 1, ('may', 'have'): 1, ('have', 'influences'): 1, ('influences', 'from'): 1, ('from', 'European'): 1, ('European', 'or'): 1, ('or', 'international'): 1, ('international', 'sign'): 1, ('languages,', 'others'): 1, ('others', 'are'): 1, ('are', 'indigenous'): 1, ('indigenous', 'and'): 1, ('have', 'developed'): 1, ('developed', 'independently.'): 1, ('independently.', 'Research'): 1, ('Research', 'and'): 1, ('and', 'documentation'): 1, ('documentation', 'of'): 1, ('African', 'sign'): 1, ('are', 'ongoing,'): 1, ('ongoing,', 'contributing'): 1, ('a', 'better'): 1, ('better', 'understanding'): 1, ('linguistic', 'diversity'): 1, ('diversity', 'and'): 1, ('and', 'communication'): 1, ('communication', 'systems'): 1, ('systems', 'used'): 1, ('used', 'by'): 1, ('by', 'deaf'): 1, ('deaf', 'communities'): 1, ('communities', 'across'): 1, ('across', 'Africa.'): 1, ('Nok', 'sculpture,'): 1, ('from', 'ancient'): 1, ('ancient', 'Nigeria'): 1, ('Nigeria', '(c.'): 1, ('(c.', '1000'): 1, ('1000', 'BCE'): 1, ('BCE', '-'): 1, ('-', '200'): 1, ('200', 'CE),'): 1, ('CE),', 'represents'): 1, ('represents', 'some'): 1, ('the', 'earliest'): 1, ('earliest', 'known'): 1, ('known', 'figurative'): 1, ('figurative', 'art'): 1, ('art', 'in'): 1, ('in', 'sub-Saharan'): 1, ('sub-Saharan', 'Africa.'): 1, ('These', 'terracotta'): 1, ('terracotta', 'sculptures,'): 1, ('sculptures,', 'often'): 1, ('often', 'fragmented,'): 1, ('fragmented,', 'depict'): 1, ('depict', 'human'): 1, ('and', 'animals'): 1, ('animals', 'with'): 1, ('with', 'stylized'): 1, ('stylized', 'features,'): 1, ('features,', 'including'): 1, ('including', 'large,'): 1, ('large,', 'almond-shaped'): 1, ('almond-shaped', 'eyes'): 1, ('and', 'elaborate'): 1, ('elaborate', 'hairstyles.'): 1, ('hairstyles.', 'Nok'): 1, ('Nok', 'sculptures'): 1, ('sculptures', 'were'): 1, ('were', 'created'): 1, ('using', 'a'): 1, ('a', 'sophisticated'): 1, ('sophisticated', 'firing'): 1, ('firing', 'process'): 1, ('process', 'and'): 1, ('and', 'demonstrate'): 1, ('demonstrate', 'a'): 1, ('remarkable', 'understanding'): 1, ('human', 'anatomy'): 1, ('anatomy', 'and'): 1, ('and', 'form.'): 1, ('form.', 'They'): 1, ('the', 'early'): 1, ('early', 'artistic'): 1, ('artistic', 'traditions'): 1, ('cultural', 'practices'): 1, ('practices', 'of'): 1, ('the', 'Nok'): 1, ('Nok', 'civilization.'): 1, ('Makonde', 'sculpture,'): 1, ('from', 'Tanzania'): 1, ('and', 'Mozambique,'): 1, ('distinctive', 'ebony'): 1, ('ebony', 'carvings,'): 1, ('elongated', 'limbs'): 1, ('limbs', 'and'): 1, ('and', 'expressive'): 1, ('expressive', 'features.'): 1, ('features.', 'Makonde'): 1, ('their', 'skillful'): 1, ('skillful', 'use'): 1, ('of', 'ebony'): 1, ('ebony', 'wood,'): 1, ('wood,', 'creating'): 1, ('creating', 'intricate'): 1, ('and', 'smooth,'): 1, ('smooth,', 'polished'): 1, ('polished', 'surfaces.'): 1, ('surfaces.', 'Traditional'): 1, ('Traditional', 'Makonde'): 1, ('Makonde', 'sculpture'): 1, ('often', 'represents'): 1, ('represents', 'spirits,'): 1, ('spirits,', 'ancestors,'): 1, ('and', 'mythological'): 1, ('mythological', 'figures,'): 1, ('figures,', 'reflecting'): 1, ('cultural', 'beliefs'): 1, ('beliefs', 'and'): 1, ('and', 'storytelling'): 1, ('storytelling', 'traditions'): 1, ('the', 'Makonde'): 1, ('Makonde', 'people.'): 1, ('people.', 'Contemporary'): 1, ('Contemporary', 'Makonde'): 1, ('artists', 'continue'): 1, ('continue', 'to'): 1, ('to', 'innovate,'): 1, ('innovate,', 'exploring'): 1, ('exploring', 'new'): 1, ('new', 'themes'): 1, ('themes', 'and'): 1, ('and', 'styles'): 1, ('styles', 'while'): 1, ('while', 'maintaining'): 1, ('maintaining', 'the'): 1, ('distinctive', 'aesthetic'): 1, ('aesthetic', 'of'): 1, ('this', 'sculptural'): 1, ('sculptural', 'tradition.'): 1, ('Dogon', 'sculpture,'): 1, ('is', 'closely'): 1, ('closely', 'linked'): 1, ('linked', 'to'): 1, ('the', 'religious'): 1, ('religious', 'and'): 1, ('and', 'cosmological'): 1, ('cosmological', 'beliefs'): 1, ('the', 'Dogon'): 1, ('Dogon', 'people.'): 1, ('people.', 'Wooden'): 1, ('Wooden', 'masks'): 1, ('masks', 'and'): 1, ('and', 'figures'): 1, ('figures', 'play'): 1, ('central', 'role'): 1, ('in', 'Dogon'): 1, ('Dogon', 'rituals'): 1, ('ceremonies,', 'representing'): 1, ('representing', 'ancestors,'): 1, ('ancestors,', 'spirits,'): 1, ('and', 'mythical'): 1, ('mythical', 'beings.'): 1, ('beings.', 'Dogon'): 1, ('Dogon', 'sculptures'): 1, ('sculptures', 'often'): 1, ('often', 'feature'): 1, ('feature', 'stylized'): 1, ('stylized', 'and'): 1, ('and', 'abstract'): 1, ('abstract', 'forms,'): 1, ('forms,', 'with'): 1, ('elongated', 'figures'): 1, ('and', 'geometric'): 1, ('geometric', 'patterns.'): 1, ('The', 'materials'): 1, ('materials', 'used,'): 1, ('used,', 'the'): 1, ('the', 'carving'): 1, ('carving', 'techniques,'): 1, ('techniques,', 'and'): 1, ('specific', 'forms'): 1, ('forms', 'of'): 1, ('the', 'sculptures'): 1, ('are', 'all'): 1, ('all', 'imbued'): 1, ('imbued', 'with'): 1, ('with', 'symbolic'): 1, ('symbolic', 'meaning,'): 1, ('meaning,', 'reflecting'): 1, ('deep', 'connection'): 1, ('between', 'Dogon'): 1, ('Dogon', 'art'): 1, ('art', 'and'): 1, ('their', 'spiritual'): 1, ('spiritual', 'worldview.'): 1, ('Yoruba', 'sculpture,'): 1, ('its', 'naturalistic'): 1, ('naturalistic', 'representation'): 1, ('representation', 'of'): 1, ('human', 'figures,'): 1, ('figures,', 'often'): 1, ('depicting', 'deities,'): 1, ('deities,', 'ancestors,'): 1, ('and', 'rulers.'): 1, ('rulers.', 'Yoruba'): 1, ('Yoruba', 'artists'): 1, ('in', 'carving'): 1, ('carving', 'wood,'): 1, ('wood,', 'bronze,'): 1, ('bronze,', 'and'): 1, ('and', 'terracotta,'): 1, ('terracotta,', 'creating'): 1, ('creating', 'works'): 1, ('works', 'that'): 1, ('are', 'both'): 1, ('both', 'aesthetically'): 1, ('aesthetically', 'beautiful'): 1, ('beautiful', 'and'): 1, ('and', 'spiritually'): 1, ('spiritually', 'significant.'): 1, ('significant.', 'Yoruba'): 1, ('Yoruba', 'sculpture'): 1, ('often', 'emphasizes'): 1, ('emphasizes', 'the'): 1, ('the', 'head'): 1, ('head', 'and'): 1, ('and', 'face,'): 1, ('face,', 'conveying'): 1, ('conveying', 'a'): 1, ('of', 'dignity,'): 1, ('dignity,', 'power,'): 1, ('power,', 'and'): 1, ('and', 'inner'): 1, ('inner', 'strength.'): 1, ('strength.', 'The'): 1, ('The', 'sculptures'): 1, ('often', 'used'): 1, ('in', 'religious'): 1, ('religious', 'rituals'): 1, ('ceremonies,', 'embodying'): 1, ('embodying', 'the'): 1, ('cultural', 'traditions'): 1, ('Yoruba', 'people.'): 1, ('Chokwe', 'sculpture,'): 1, ('from', 'Angola,'): 1, ('Angola,', 'Democratic'): 1, ('of', 'Congo,'): 1, ('Congo,', 'and'): 1, ('and', 'Zambia,'): 1, ('Zambia,', 'is'): 1, ('intricate', 'carvings,'): 1, ('human', 'and'): 1, ('animal', 'figures'): 1, ('with', 'elaborate'): 1, ('elaborate', 'details.'): 1, ('details.', 'Chokwe'): 1, ('Chokwe', 'artists'): 1, ('in', 'working'): 1, ('working', 'with'): 1, ('with', 'wood,'): 1, ('wood,', 'ivory,'): 1, ('other', 'materials,'): 1, ('materials,', 'creating'): 1, ('creating', 'sculptures'): 1, ('that', 'serve'): 1, ('serve', 'both'): 1, ('both', 'aesthetic'): 1, ('aesthetic', 'and'): 1, ('and', 'ritual'): 1, ('ritual', 'purposes.'): 1, ('purposes.', 'Masks,'): 1, ('Masks,', 'figures,'): 1, ('figures,', 'and'): 1, ('other', 'objects'): 1, ('objects', 'are'): 1, ('are', 'used'): 1, ('in', 'initiation'): 1, ('initiation', 'ceremonies,'): 1, ('ceremonies,', 'divination'): 1, ('divination', 'practices,'): 1, ('practices,', 'and'): 1, ('other', 'cultural'): 1, ('cultural', 'events,'): 1, ('events,', 'reflecting'): 1, ('and', 'spiritual'): 1, ('spiritual', 'significance'): 1, ('significance', 'of'): 1, ('of', 'Chokwe'): 1, ('Chokwe', 'art.'): 1, ('Asante', 'goldweights,'): 1, ('goldweights,', 'from'): 1, ('from', 'Ghana,'): 1, ('Ghana,', 'are'): 1, ('are', 'miniature'): 1, ('miniature', 'brass'): 1, ('brass', 'sculptures'): 1, ('that', 'were'): 1, ('were', 'used'): 1, ('as', 'counterbalances'): 1, ('counterbalances', 'in'): 1, ('in', 'weighing'): 1, ('weighing', 'gold'): 1, ('gold', 'dust.'): 1, ('dust.', 'While'): 1, ('While', 'serving'): 1, ('serving', 'a'): 1, ('a', 'practical'): 1, ('practical', 'function,'): 1, ('function,', 'these'): 1, ('these', 'small'): 1, ('small', 'sculptures'): 1, ('are', 'also'): 1, ('also', 'remarkable'): 1, ('remarkable', 'works'): 1, ('works', 'of'): 1, ('of', 'art,'): 1, ('art,', 'displaying'): 1, ('displaying', 'intricate'): 1, ('and', 'symbolic'): 1, ('symbolic', 'imagery.'): 1, ('imagery.', 'Asante'): 1, ('Asante', 'goldweights'): 1, ('goldweights', 'often'): 1, ('often', 'depict'): 1, ('depict', 'animals,'): 1, ('animals,', 'proverbs,'): 1, ('proverbs,', 'or'): 1, ('or', 'everyday'): 1, ('everyday', 'objects,'): 1, ('objects,', 'reflecting'): 1, ('cultural', 'values'): 1, ('values', 'and'): 1, ('the', 'Asante'): 1, ('Asante', 'people.'): 1, ('people.', 'They'): 1, ('the', \"Asante's\"): 1, (\"Asante's\", 'artistic'): 1, ('artistic', 'skill'): 1, ('skill', 'and'): 1, ('their', 'sophisticated'): 1, ('sophisticated', 'understanding'): 1, ('of', 'metalworking'): 1, ('metalworking', 'techniques.'): 1, ('Nutrition', 'plays'): 1, ('well-being.', 'A'): 1, ('balanced', 'and'): 1, ('nutritious', 'diet'): 1, ('diet', 'provides'): 1, ('provides', 'the'): 1, ('body', 'with'): 1, ('nutrients', 'it'): 1, ('it', 'needs'): 1, ('needs', 'to'): 1, ('to', 'function'): 1, ('function', 'properly,'): 1, ('properly,', 'supporting'): 1, ('supporting', 'growth,'): 1, ('growth,', 'and'): 1, ('development.', 'Nutrients,'): 1, ('Nutrients,', 'such'): 1, ('as', 'carbohydrates,'): 1, ('carbohydrates,', 'proteins,'): 1, ('proteins,', 'fats,'): 1, ('fats,', 'vitamins,'): 1, ('vitamins,', 'and'): 1, ('minerals,', 'act'): 1, ('act', 'as'): 1, ('as', 'building'): 1, ('building', 'blocks'): 1, ('blocks', 'for'): 1, ('for', 'cells,'): 1, ('cells,', 'tissues,'): 1, ('tissues,', 'and'): 1, ('and', 'organs,'): 1, ('organs,', 'fueling'): 1, ('fueling', 'bodily'): 1, ('bodily', 'processes'): 1, ('processes', 'and'): 1, ('and', 'enabling'): 1, ('enabling', 'the'): 1, ('body', 'to'): 1, ('to', 'perform'): 1, ('perform', 'its'): 1, ('its', 'various'): 1, ('various', 'functions.'): 1, ('functions.', 'Proper'): 1, ('Proper', 'nutrition'): 1, ('nutrition', 'contributes'): 1, ('strong', 'immune'): 1, ('immune', 'system,'): 1, ('system,', 'healthy'): 1, ('healthy', 'weight'): 1, ('weight', 'management,'): 1, ('management,', 'increased'): 1, ('increased', 'energy'): 1, ('energy', 'levels,'): 1, ('levels,', 'and'): 1, ('and', 'improved'): 1, ('improved', 'cognitive'): 1, ('function.', 'Understanding'): 1, ('the', 'role'): 1, ('role', 'of'): 1, ('and', 'making'): 1, ('making', 'informed'): 1, ('choices', 'are'): 1, ('for', 'achieving'): 1, ('achieving', 'and'): 1, ('and', 'sustaining'): 1, ('sustaining', 'optimal'): 1, ('optimal', 'health'): 1, ('health', 'throughout'): 1, ('throughout', 'life.'): 1, ('Healthy', 'eating'): 1, ('eating', 'involves'): 1, ('involves', 'consuming'): 1, ('consuming', 'a'): 1, ('of', 'nutrient-rich'): 1, ('nutrient-rich', 'foods'): 1, ('foods', 'from'): 1, ('from', 'different'): 1, ('different', 'food'): 1, ('groups', 'in'): 1, ('in', 'appropriate'): 1, ('appropriate', 'portions.'): 1, ('portions.', 'A'): 1, ('balanced', 'diet'): 1, ('diet', 'typically'): 1, ('includes', 'fruits,'): 1, ('vegetables,', 'whole'): 1, ('grains,', 'lean'): 1, ('lean', 'proteins,'): 1, ('and', 'healthy'): 1, ('healthy', 'fats.'): 1, ('fats.', 'Fruits'): 1, ('vegetables', 'provide'): 1, ('essential', 'vitamins,'): 1, ('fiber,', 'contributing'): 1, ('to', 'overall'): 1, ('overall', 'health.'): 1, ('health.', 'Whole'): 1, ('Whole', 'grains'): 1, ('grains', 'offer'): 1, ('offer', 'complex'): 1, ('complex', 'carbohydrates'): 1, ('fiber,', 'promoting'): 1, ('promoting', 'satiety'): 1, ('satiety', 'and'): 1, ('supporting', 'digestive'): 1, ('digestive', 'health.'): 1, ('health.', 'Lean'): 1, ('Lean', 'proteins,'): 1, ('proteins,', 'such'): 1, ('as', 'fish,'): 1, ('fish,', 'poultry,'): 1, ('poultry,', 'beans,'): 1, ('nuts,', 'are'): 1, ('tissues.', 'Healthy'): 1, ('Healthy', 'fats,'): 1, ('fats,', 'found'): 1, ('found', 'in'): 1, ('in', 'avocados,'): 1, ('avocados,', 'nuts,'): 1, ('nuts,', 'and'): 1, ('and', 'olive'): 1, ('oil,', 'provide'): 1, ('essential', 'fatty'): 1, ('fatty', 'acids'): 1, ('acids', 'and'): 1, ('and', 'support'): 1, ('support', 'various'): 1, ('various', 'bodily'): 1, ('functions.', 'Limiting'): 1, ('Limiting', 'processed'): 1, ('processed', 'foods,'): 1, ('foods,', 'sugary'): 1, ('sugary', 'drinks,'): 1, ('drinks,', 'and'): 1, ('and', 'excessive'): 1, ('excessive', 'intake'): 1, ('intake', 'of'): 1, ('of', 'saturated'): 1, ('saturated', 'and'): 1, ('and', 'unhealthy'): 1, ('unhealthy', 'fats'): 1, ('fats', 'is'): 1, ('also', 'key'): 1, ('to', 'maintaining'): 1, ('maintaining', 'a'): 1, ('healthy', 'diet.'): 1, ('Food', 'groups'): 1, ('groups', 'categorize'): 1, ('categorize', 'foods'): 1, ('foods', 'based'): 1, ('based', 'on'): 1, ('their', 'nutrient'): 1, ('nutrient', 'content'): 1, ('and', 'provide'): 1, ('a', 'framework'): 1, ('framework', 'for'): 1, ('a', 'balanced'): 1, ('balanced', 'diet.'): 1, ('diet.', 'The'): 1, ('The', 'major'): 1, ('major', 'food'): 1, ('groups', 'include'): 1, ('include', 'fruits,'): 1, ('vegetables,', 'grains,'): 1, ('grains,', 'protein'): 1, ('protein', 'foods,'): 1, ('foods,', 'and'): 1, ('and', 'dairy'): 1, ('dairy', '(or'): 1, ('(or', 'dairy'): 1, ('dairy', 'alternatives).'): 1, ('alternatives).', 'Fruits'): 1, ('vegetables', 'are'): 1, ('are', 'rich'): 1, ('in', 'vitamins,'): 1, ('fiber.', 'Grains,'): 1, ('Grains,', 'particularly'): 1, ('particularly', 'whole'): 1, ('grains,', 'provide'): 1, ('provide', 'carbohydrates'): 1, ('fiber.', 'Protein'): 1, ('Protein', 'foods,'): 1, ('foods,', 'such'): 1, ('as', 'meat,'): 1, ('meat,', 'poultry,'): 1, ('poultry,', 'fish,'): 1, ('fish,', 'beans,'): 1, ('nuts,', 'supply'): 1, ('supply', 'essential'): 1, ('essential', 'amino'): 1, ('amino', 'acids'): 1, ('acids', 'for'): 1, ('tissues.', 'Dairy'): 1, ('Dairy', 'products'): 1, ('products', '(or'): 1, ('(or', 'alternatives)'): 1, ('alternatives)', 'offer'): 1, ('offer', 'calcium'): 1, ('calcium', 'and'): 1, ('and', 'vitamin'): 1, ('vitamin', 'D,'): 1, ('D,', 'which'): 1, ('for', 'bone'): 1, ('bone', 'health.'): 1, ('health.', 'Understanding'): 1, ('the', 'nutrient'): 1, ('nutrient', 'contributions'): 1, ('contributions', 'of'): 1, ('each', 'food'): 1, ('food', 'group'): 1, ('group', 'enables'): 1, ('enables', 'individuals'): 1, ('informed', 'choices'): 1, ('choices', 'and'): 1, ('and', 'create'): 1, ('create', 'meals'): 1, ('meals', 'that'): 1, ('that', 'meet'): 1, ('meet', 'their'): 1, ('nutritional', 'needs.'): 1, ('The', 'food'): 1, ('food', 'we'): 1, ('we', 'consume'): 1, ('consume', 'has'): 1, ('profound', 'impact'): 1, ('impact', 'on'): 1, ('on', 'our'): 1, ('our', 'physical'): 1, ('physical', 'and'): 1, ('and', 'mental'): 1, ('mental', 'well-being.'): 1, ('well-being.', 'Nutrients'): 1, ('Nutrients', 'from'): 1, ('from', 'food'): 1, ('food', 'provide'): 1, ('provide', 'the'): 1, ('energy', 'needed'): 1, ('needed', 'for'): 1, ('for', 'daily'): 1, ('daily', 'activities,'): 1, ('activities,', 'support'): 1, ('support', 'growth'): 1, ('and', 'development,'): 1, ('development,', 'and'): 1, ('and', 'play'): 1, ('crucial', 'role'): 1, ('maintaining', 'bodily'): 1, ('functions.', 'A'): 1, ('A', 'healthy'): 1, ('healthy', 'diet'): 1, ('diet', 'can'): 1, ('can', 'boost'): 1, ('boost', 'the'): 1, ('the', 'immune'): 1, ('immune', 'system'): 1, ('system', 'and'): 1, ('and', 'improve'): 1, ('improve', 'cognitive'): 1, ('function.', 'Conversely,'): 1, ('Conversely,', 'a'): 1, ('diet', 'lacking'): 1, ('lacking', 'in'): 1, ('in', 'essential'): 1, ('nutrients', 'or'): 1, ('or', 'high'): 1, ('in', 'unhealthy'): 1, ('unhealthy', 'components'): 1, ('components', 'can'): 1, ('can', 'lead'): 1, ('lead', 'to'): 1, ('to', 'nutrient'): 1, ('nutrient', 'deficiencies,'): 1, ('deficiencies,', 'weakened'): 1, ('weakened', 'immunity'): 1, ('immunity', 'and'): 1, ('and', 'weight'): 1, ('weight', 'gain.'): 1, ('gain.', 'Understanding'): 1, ('the', 'connection'): 1, ('between', 'food'): 1, ('food', 'and'): 1, ('and', 'health'): 1, ('health', 'empowers'): 1, ('empowers', 'individuals'): 1, ('make', 'dietary'): 1, ('choices', 'that'): 1, ('that', 'promote'): 1, ('promote', 'well-being'): 1, ('well-being', 'and'): 1, ('and', 'enhance'): 1, ('enhance', 'quality'): 1, ('quality', 'of'): 1, ('Nutritional', 'needs'): 1, ('needs', 'vary'): 1, ('vary', 'throughout'): 1, ('throughout', 'different'): 1, ('different', 'stages'): 1, ('life.', 'During'): 1, ('During', 'childhood'): 1, ('childhood', 'and'): 1, ('and', 'adolescence,'): 1, ('adolescence,', 'adequate'): 1, ('adequate', 'nutrition'): 1, ('nutrition', 'is'): 1, ('for', 'growth'): 1, ('development.', 'Pregnant'): 1, ('Pregnant', 'and'): 1, ('and', 'breastfeeding'): 1, ('breastfeeding', 'women'): 1, ('women', 'require'): 1, ('require', 'increased'): 1, ('increased', 'amounts'): 1, ('of', 'certain'): 1, ('certain', 'nutrients'): 1, ('nutrients', 'to'): 1, ('to', 'support'): 1, ('support', 'the'): 1, ('the', 'health'): 1, ('health', 'of'): 1, ('both', 'mother'): 1, ('mother', 'and'): 1, ('and', 'child.'): 1, ('child.', 'As'): 1, ('As', 'individuals'): 1, ('individuals', 'age,'): 1, ('age,', 'their'): 1, ('their', 'metabolism'): 1, ('metabolism', 'slows'): 1, ('slows', 'down,'): 1, ('down,', 'and'): 1, ('nutritional', 'requirements'): 1, ('requirements', 'may'): 1, ('may', 'change.'): 1, ('change.', 'Older'): 1, ('Older', 'adults'): 1, ('adults', 'may'): 1, ('may', 'need'): 1, ('need', 'to'): 1, ('to', 'focus'): 1, ('focus', 'on'): 1, ('on', 'consuming'): 1, ('consuming', 'nutrient-dense'): 1, ('nutrient-dense', 'foods'): 1, ('foods', 'to'): 1, ('to', 'maintain'): 1, ('maintain', 'muscle'): 1, ('muscle', 'mass,'): 1, ('mass,', 'bone'): 1, ('bone', 'health,'): 1, ('health,', 'and'): 1, ('and', 'cognitive'): 1, ('function.', 'Adapting'): 1, ('Adapting', 'dietary'): 1, ('choices', 'to'): 1, ('to', 'meet'): 1, ('meet', 'the'): 1, ('specific', 'nutritional'): 1, ('nutritional', 'needs'): 1, ('needs', 'of'): 1, ('each', 'life'): 1, ('life', 'stage'): 1, ('stage', 'is'): 1, ('for', 'promoting'): 1, ('promoting', 'health'): 1, ('for', 'life,'): 1, ('life,', 'playing'): 1, ('playing', 'a'): 1, ('in', 'numerous'): 1, ('numerous', 'bodily'): 1, ('functions.', 'It'): 1, ('It', 'helps'): 1, ('helps', 'regulate'): 1, ('temperature,', 'transport'): 1, ('transport', 'nutrients,'): 1, ('nutrients,', 'remove'): 1, ('remove', 'waste'): 1, ('waste', 'products,'): 1, ('products,', 'and'): 1, ('and', 'lubricate'): 1, ('lubricate', 'joints.'): 1, ('joints.', 'Staying'): 1, ('Staying', 'adequately'): 1, ('adequately', 'hydrated'): 1, ('hydrated', 'is'): 1, ('well-being.', 'Fluid'): 1, ('Fluid', 'needs'): 1, ('needs', 'can'): 1, ('on', 'factors'): 1, ('factors', 'such'): 1, ('as', 'activity'): 1, ('activity', 'level,'): 1, ('level,', 'climate,'): 1, ('climate,', 'and'): 1, ('and', 'individual'): 1, ('individual', 'health'): 1, ('health', 'conditions.'): 1, ('conditions.', 'Water'): 1, ('best', 'choice'): 1, ('for', 'hydration,'): 1, ('hydration,', 'but'): 1, ('but', 'other'): 1, ('other', 'beverages,'): 1, ('beverages,', 'such'): 1, ('as', 'unsweetened'): 1, ('unsweetened', 'tea'): 1, ('and', 'fruit-infused'): 1, ('fruit-infused', 'water,'): 1, ('water,', 'can'): 1, ('can', 'also'): 1, ('also', 'contribute'): 1, ('contribute', 'to'): 1, ('daily', 'fluid'): 1, ('fluid', 'intake.'): 1, ('intake.', 'Paying'): 1, ('Paying', 'attention'): 1, ('attention', 'to'): 1, ('to', 'thirst'): 1, ('thirst', 'cues'): 1, ('cues', 'and'): 1, ('and', 'consuming'): 1, ('consuming', 'fluids'): 1, ('fluids', 'throughout'): 1, ('day', 'is'): 1, ('maintaining', 'proper'): 1, ('proper', 'hydration'): 1, ('supporting', 'optimal'): 1, ('optimal', 'bodily'): 1, ('bodily', 'function.'): 1, ('Making', 'informed'): 1, ('choices', 'involves'): 1, ('involves', 'reading'): 1, ('reading', 'food'): 1, ('food', 'labels,'): 1, ('labels,', 'understanding'): 1, ('understanding', 'portion'): 1, ('portion', 'sizes,'): 1, ('sizes,', 'and'): 1, ('and', 'being'): 1, ('being', 'aware'): 1, ('aware', 'of'): 1, ('the', 'nutritional'): 1, ('nutritional', 'content'): 1, ('content', 'of'): 1, ('of', 'different'): 1, ('different', 'foods.'): 1, ('foods.', 'Food'): 1, ('Food', 'labels'): 1, ('labels', 'provide'): 1, ('valuable', 'information'): 1, ('about', 'serving'): 1, ('serving', 'sizes,'): 1, ('sizes,', 'calories,'): 1, ('calories,', 'macronutrients'): 1, ('macronutrients', '(carbohydrates,'): 1, ('(carbohydrates,', 'proteins,'): 1, ('and', 'fats),'): 1, ('fats),', 'and'): 1, ('and', 'micronutrients'): 1, ('micronutrients', '(vitamins'): 1, ('(vitamins', 'and'): 1, ('and', 'minerals).'): 1, ('minerals).', 'Portion'): 1, ('Portion', 'control'): 1, ('control', 'helps'): 1, ('helps', 'manage'): 1, ('manage', 'calorie'): 1, ('calorie', 'intake'): 1, ('intake', 'and'): 1, ('and', 'maintain'): 1, ('maintain', 'a'): 1, ('healthy', 'weight.'): 1, ('weight.', 'Choosing'): 1, ('Choosing', 'nutrient-dense'): 1, ('nutrient-dense', 'foods,'): 1, ('foods,', 'those'): 1, ('those', 'that'): 1, ('a', 'high'): 1, ('high', 'amount'): 1, ('amount', 'of'): 1, ('of', 'nutrients'): 1, ('nutrients', 'relative'): 1, ('relative', 'to'): 1, ('their', 'calorie'): 1, ('calorie', 'content,'): 1, ('content,', 'ensures'): 1, ('ensures', 'that'): 1, ('body', 'receives'): 1, ('receives', 'the'): 1, ('and', 'minerals'): 1, ('minerals', 'it'): 1, ('it', 'needs.'): 1, ('needs.', 'By'): 1, ('By', 'developing'): 1, ('developing', 'an'): 1, ('an', 'understanding'): 1, ('applying', 'this'): 1, ('this', 'knowledge'): 1, ('knowledge', 'to'): 1, ('daily', 'food'): 1, ('food', 'choices,'): 1, ('choices,', 'individuals'): 1, ('individuals', 'can'): 1, ('can', 'make'): 1, ('informed', 'decisions'): 1, ('decisions', 'that'): 1, ('that', 'support'): 1, ('support', 'their'): 1, ('their', 'health'): 1, ('When', 'thirst'): 1, ('thirst', 'strikes,'): 1, ('strikes,', 'the'): 1, ('most', 'obvious'): 1, ('obvious', 'and'): 1, ('and', 'effective'): 1, ('effective', 'solution'): 1, ('solution', 'is'): 1, ('is', 'water.'): 1, ('water.', 'Pure,'): 1, ('Pure,', 'clean'): 1, ('clean', 'water'): 1, ('best', 'way'): 1, ('to', 'rehydrate'): 1, ('rehydrate', 'your'): 1, ('your', 'body'): 1, ('and', 'replenish'): 1, ('replenish', 'lost'): 1, ('lost', 'fluids.'): 1, ('fluids.', \"It's\"): 1, (\"It's\", 'essential'): 1, ('for', 'regulating'): 1, ('regulating', 'body'): 1, ('temperature,', 'transporting'): 1, ('transporting', 'nutrients,'): 1, ('nutrients,', 'and'): 1, ('and', 'keeping'): 1, ('keeping', 'your'): 1, ('your', 'organs'): 1, ('organs', 'functioning'): 1, ('functioning', 'properly.'): 1, ('properly.', 'Keep'): 1, ('Keep', 'a'): 1, ('a', 'reusable'): 1, ('reusable', 'water'): 1, ('water', 'bottle'): 1, ('bottle', 'with'): 1, ('with', 'you'): 1, ('you', 'and'): 1, ('and', 'refill'): 1, ('refill', 'it'): 1, ('it', 'throughout'): 1, ('day,', 'especially'): 1, ('hot', 'weather'): 1, ('weather', 'or'): 1, ('physical', 'activity.'): 1, ('activity.', \"There's\"): 1, (\"There's\", 'no'): 1, ('no', 'substitute'): 1, ('substitute', 'for'): 1, ('the', 'refreshing'): 1, ('and', 'revitalizing'): 1, ('revitalizing', 'power'): 1, ('of', 'plain'): 1, ('Freshly', 'squeezed'): 1, ('squeezed', 'fruit'): 1, ('fruit', 'juices'): 1, ('juices', 'offer'): 1, ('hydrating', 'way'): 1, ('your', 'thirst.'): 1, ('thirst.', 'They'): 1, ('flavor', 'along'): 1, ('with', 'essential'): 1, ('minerals.', 'Opt'): 1, ('for', 'juices'): 1, ('juices', 'with'): 1, ('with', 'no'): 1, ('no', 'added'): 1, ('added', 'sugar'): 1, ('to', 'avoid'): 1, ('avoid', 'unnecessary'): 1, ('unnecessary', 'calories.'): 1, ('calories.', 'Citrus'): 1, ('Citrus', 'fruits'): 1, ('like', 'oranges'): 1, ('oranges', 'and'): 1, ('and', 'grapefruit'): 1, ('grapefruit', 'are'): 1, ('are', 'particularly'): 1, ('particularly', 'refreshing,'): 1, ('refreshing,', 'as'): 1, ('as', 'are'): 1, ('are', 'tropical'): 1, ('tropical', 'fruits'): 1, ('like', 'mangoes'): 1, ('mangoes', 'and'): 1, ('and', 'pineapples.'): 1, ('pineapples.', 'A'): 1, ('A', 'glass'): 1, ('of', 'chilled'): 1, ('chilled', 'fruit'): 1, ('fruit', 'juice'): 1, ('juice', 'can'): 1, ('a', 'revitalizing'): 1, ('revitalizing', 'treat'): 1, ('treat', 'on'): 1, ('hot', 'day'): 1, ('day', 'or'): 1, ('a', 'workout.'): 1, ('Herbal', 'teas,'): 1, ('teas,', 'both'): 1, ('both', 'hot'): 1, ('hot', 'and'): 1, ('and', 'iced,'): 1, ('iced,', 'can'): 1, ('soothing', 'and'): 1, ('to', 'address'): 1, ('address', 'thirst.'): 1, ('thirst.', 'Teas'): 1, ('Teas', 'like'): 1, ('like', 'peppermint,'): 1, ('peppermint,', 'chamomile,'): 1, ('chamomile,', 'and'): 1, ('and', 'hibiscus'): 1, ('hibiscus', 'offer'): 1, ('of', 'tastes'): 1, ('tastes', 'and'): 1, ('and', 'potential'): 1, ('potential', 'health'): 1, ('health', 'benefits.'): 1, ('benefits.', 'They'): 1, ('are', 'naturally'): 1, ('caffeine-free', 'and'): 1, ('day.', 'Brewing'): 1, ('Brewing', 'your'): 1, ('your', 'own'): 1, ('own', 'herbal'): 1, ('tea', 'allows'): 1, ('allows', 'you'): 1, ('to', 'control'): 1, ('control', 'the'): 1, ('the', 'strength'): 1, ('sweetness.', 'A'): 1, ('A', 'cool'): 1, ('cool', 'glass'): 1, ('of', 'iced'): 1, ('iced', 'hibiscus'): 1, ('warm', 'cup'): 1, ('of', 'chamomile'): 1, ('chamomile', 'can'): 1, ('hydrating', 'choice'): 1, ('choice', 'when'): 1, ('when', \"you're\"): 1, (\"you're\", 'feeling'): 1, ('feeling', 'thirsty.'): 1, ('Coconut', 'water,'): 1, ('water,', 'naturally'): 1, ('naturally', 'extracted'): 1, ('extracted', 'from'): 1, ('from', 'coconuts,'): 1, ('coconuts,', 'is'): 1, ('and', 'electrolyte-rich'): 1, ('electrolyte-rich', 'beverage'): 1, ('beverage', \"that's\"): 1, (\"that's\", 'perfect'): 1, ('perfect', 'for'): 1, ('for', 'rehydration.'): 1, ('rehydration.', 'It'): 1, ('It', 'contains'): 1, ('contains', 'potassium,'): 1, ('potassium,', 'sodium,'): 1, ('sodium,', 'and'): 1, ('and', 'magnesium,'): 1, ('magnesium,', 'which'): 1, ('are', 'lost'): 1, ('lost', 'through'): 1, ('through', 'sweat.'): 1, ('sweat.', 'Coconut'): 1, ('Coconut', 'water'): 1, ('healthy', 'alternative'): 1, ('alternative', 'to'): 1, ('to', 'sugary'): 1, ('sugary', 'sports'): 1, ('sports', 'drinks,'): 1, ('drinks,', 'providing'): 1, ('providing', 'natural'): 1, ('natural', 'hydration'): 1, ('hydration', 'without'): 1, ('without', 'the'): 1, ('the', 'added'): 1, ('added', 'calories'): 1, ('calories', 'and'): 1, ('and', 'artificial'): 1, ('artificial', 'ingredients.'): 1, ('ingredients.', 'Its'): 1, ('Its', 'slightly'): 1, ('nutty', 'flavor'): 1, ('flavor', 'makes'): 1, ('makes', 'it'): 1, ('and', 'thirst-quenching'): 1, ('thirst-quenching', 'option,'): 1, ('option,', 'especially'): 1, ('especially', 'after'): 1, ('physical', 'exertion.'): 1, ('simple', 'and'): 1, ('and', 'customizable'): 1, ('customizable', 'way'): 1, ('to', 'add'): 1, ('add', 'flavor'): 1, ('and', 'enjoyment'): 1, ('enjoyment', 'to'): 1, ('your', 'hydration'): 1, ('hydration', 'routine.'): 1, ('routine.', 'By'): 1, ('By', 'adding'): 1, ('adding', 'slices'): 1, ('vegetables,', 'or'): 1, ('or', 'herbs'): 1, ('herbs', 'to'): 1, ('your', 'water,'): 1, ('water,', 'you'): 1, ('create', 'refreshing'): 1, ('flavorful', 'combinations'): 1, ('combinations', 'that'): 1, ('that', 'encourage'): 1, ('encourage', 'you'): 1, ('to', 'drink'): 1, ('drink', 'more.'): 1, ('more.', 'Cucumber'): 1, ('Cucumber', 'and'): 1, ('and', 'mint,'): 1, ('mint,', 'lemon'): 1, ('and', 'ginger,'): 1, ('ginger,', 'or'): 1, ('or', 'strawberry'): 1, ('strawberry', 'and'): 1, ('and', 'basil'): 1, ('basil', 'are'): 1, ('are', 'popular'): 1, ('popular', 'choices.'): 1, ('choices.', 'Infused'): 1, ('healthy', 'and'): 1, ('and', 'low-calorie'): 1, ('low-calorie', 'way'): 1, ('to', 'stay'): 1, ('stay', 'hydrated'): 1, ('hydrated', 'throughout'): 1, ('day,', 'adding'): 1, ('of', 'variety'): 1, ('variety', 'and'): 1, ('and', 'excitement'): 1, ('excitement', 'to'): 1, ('to', 'plain'): 1, ('Smoothies', 'can'): 1, ('nutritious', 'way'): 1, ('to', 'combat'): 1, ('combat', 'thirst'): 1, ('thirst', 'while'): 1, ('while', 'also'): 1, ('also', 'providing'): 1, ('a', 'substantial'): 1, ('substantial', 'boost'): 1, ('boost', 'of'): 1, ('of', 'vitamins,'): 1, ('fiber.', 'By'): 1, ('By', 'blending'): 1, ('blending', 'fruits,'): 1, ('vegetables,', 'yogurt,'): 1, ('yogurt,', 'or'): 1, ('or', 'milk,'): 1, ('milk,', 'you'): 1, ('satisfying', 'drink'): 1, ('drink', \"that's\"): 1, (\"that's\", 'packed'): 1, ('packed', 'with'): 1, ('with', 'nutrients.'): 1, ('nutrients.', 'Smoothies'): 1, ('Smoothies', 'are'): 1, ('a', 'versatile'): 1, ('versatile', 'option,'): 1, ('option,', 'allowing'): 1, ('allowing', 'you'): 1, ('to', 'experiment'): 1, ('experiment', 'with'): 1, ('with', 'different'): 1, ('different', 'flavor'): 1, ('flavor', 'combinations'): 1, ('combinations', 'and'): 1, ('and', 'tailor'): 1, ('tailor', 'them'): 1, ('your', 'dietary'): 1, ('dietary', 'needs.'): 1, ('needs.', 'A'): 1, ('A', 'refreshing'): 1, ('refreshing', 'smoothie'): 1, ('smoothie', 'can'): 1, ('meal', 'replacement,'): 1, ('replacement,', 'a'): 1, ('a', 'post-workout'): 1, ('post-workout', 'recovery'): 1, ('recovery', 'drink,'): 1, ('drink,', 'or'): 1, ('or', 'simply'): 1, ('simply', 'a'): 1, ('a', 'tasty'): 1, ('tasty', 'way'): 1, ('your', 'thirst'): 1, ('and', 'nourish'): 1, ('nourish', 'your'): 1, ('your', 'body.'): 1, ('Sports', 'drinks,'): 1, ('drinks,', 'designed'): 1, ('designed', 'to'): 1, ('to', 'replenish'): 1, ('replenish', 'electrolytes'): 1, ('electrolytes', 'lost'): 1, ('lost', 'during'): 1, ('during', 'intense'): 1, ('intense', 'physical'): 1, ('physical', 'activity,'): 1, ('activity,', 'can'): 1, ('be', 'helpful'): 1, ('helpful', 'in'): 1, ('in', 'specific'): 1, ('specific', 'situations.'): 1, ('situations.', 'However,'): 1, ('However,', \"it's\"): 1, (\"it's\", 'important'): 1, ('important', 'to'): 1, ('to', 'consume'): 1, ('consume', 'them'): 1, ('them', 'in'): 1, ('in', 'moderation'): 1, ('moderation', 'due'): 1, ('high', 'sugar'): 1, ('sugar', 'content.'): 1, ('content.', 'If'): 1, ('If', \"you've\"): 1, (\"you've\", 'engaged'): 1, ('engaged', 'in'): 1, ('in', 'prolonged'): 1, ('prolonged', 'or'): 1, ('or', 'strenuous'): 1, ('strenuous', 'exercise,'): 1, ('exercise,', 'a'): 1, ('a', 'sports'): 1, ('sports', 'drink'): 1, ('drink', 'can'): 1, ('can', 'help'): 1, ('help', 'replace'): 1, ('replace', 'electrolytes'): 1, ('electrolytes', 'and'): 1, ('and', 'fluids.'): 1, ('fluids.', 'But'): 1, ('But', 'for'): 1, ('everyday', 'hydration,'): 1, ('hydration,', 'water'): 1, ('other', 'healthier'): 1, ('healthier', 'options'): 1, ('options', 'are'): 1, ('generally', 'recommended.'): 1, ('recommended.', 'Opt'): 1, ('for', 'low-sugar'): 1, ('low-sugar', 'or'): 1, ('or', 'electrolyte-enhanced'): 1, ('electrolyte-enhanced', 'water'): 1, ('water', 'instead'): 1, ('instead', 'if'): 1, ('if', \"you're\"): 1, (\"you're\", 'not'): 1, ('not', 'engaging'): 1, ('engaging', 'in'): 1, ('in', 'intense'): 1, ('intense', 'exercise.'): 1, ('Aisha', 'treasured'): 1, ('treasured', 'the'): 1, ('the', 'necklace'): 1, ('necklace', 'her'): 1, ('her', 'grandmother'): 1, ('grandmother', 'had'): 1, ('had', 'given'): 1, ('given', 'her.'): 1, ('her.', 'It'): 1, ('simple', 'string'): 1, ('string', 'of'): 1, ('of', 'beads,'): 1, ('beads,', 'but'): 1, ('it', 'held'): 1, ('held', 'immense'): 1, ('immense', 'sentimental'): 1, ('sentimental', 'value.'): 1, ('value.', 'One'): 1, ('One', 'day,'): 1, ('day,', 'she'): 1, ('she', 'realized'): 1, ('realized', 'it'): 1, ('was', 'missing.'): 1, ('missing.', 'Panic'): 1, ('Panic', 'welled'): 1, ('welled', 'up'): 1, ('up', 'inside'): 1, ('inside', 'her.'): 1, ('her.', 'So'): 1, ('the', 'necklace,'): 1, ('necklace,', 'retracing'): 1, ('retracing', 'her'): 1, ('her', 'steps,'): 1, ('steps,', 'searching'): 1, ('searching', 'every'): 1, ('every', 'nook'): 1, ('nook', 'and'): 1, ('and', 'cranny'): 1, ('cranny', 'of'): 1, ('her', 'home.'): 1, ('home.', 'She'): 1, ('She', 'looked'): 1, ('looked', 'under'): 1, ('under', 'furniture,'): 1, ('furniture,', 'in'): 1, ('in', 'drawers,'): 1, ('drawers,', 'and'): 1, ('and', 'even'): 1, ('even', 'in'): 1, ('the', 'garden,'): 1, ('garden,', 'her'): 1, ('her', 'heart'): 1, ('heart', 'pounding'): 1, ('pounding', 'with'): 1, ('moment.', 'Would'): 1, ('Would', 'she'): 1, ('she', 'find'): 1, ('find', 'her'): 1, ('her', 'precious'): 1, ('precious', 'necklace,'): 1, ('necklace,', 'or'): 1, ('would', 'it'): 1, ('it', 'be'): 1, ('be', 'lost'): 1, ('lost', 'forever?'): 1, ('Musa,', 'an'): 1, ('an', 'adventurer'): 1, ('adventurer', 'with'): 1, ('for', 'exploration,'): 1, ('exploration,', 'had'): 1, ('heard', 'tales'): 1, ('a', 'hidden'): 1, ('hidden', 'waterfall,'): 1, ('waterfall,', 'said'): 1, ('to', 'possess'): 1, ('possess', 'magical'): 1, ('magical', 'properties.'): 1, ('properties.', 'The'): 1, ('The', 'waterfall,'): 1, ('waterfall,', 'shrouded'): 1, ('shrouded', 'in'): 1, ('in', 'mist'): 1, ('mist', 'and'): 1, ('and', 'legend,'): 1, ('legend,', 'was'): 1, ('was', 'rumored'): 1, ('be', 'located'): 1, ('located', 'deep'): 1, ('deep', 'within'): 1, ('dense', 'forest.'): 1, ('forest.', 'Intrigued'): 1, ('Intrigued', 'by'): 1, ('the', 'stories'): 1, ('and', 'eager'): 1, ('witness', 'its'): 1, ('beauty,', 'Musa'): 1, ('Musa', 'set'): 1, ('an', 'expedition.'): 1, ('expedition.', 'So'): 1, ('the', 'legendary'): 1, ('legendary', 'waterfall,'): 1, ('waterfall,', 'navigating'): 1, ('navigating', 'through'): 1, ('through', 'thick'): 1, ('thick', 'vegetation,'): 1, ('vegetation,', 'crossing'): 1, ('crossing', 'treacherous'): 1, ('treacherous', 'rivers,'): 1, ('rivers,', 'and'): 1, ('and', 'facing'): 1, ('facing', 'unknown'): 1, ('unknown', 'dangers.'): 1, ('dangers.', 'Would'): 1, ('Would', 'his'): 1, ('quest', 'lead'): 1, ('lead', 'him'): 1, ('the', 'mythical'): 1, ('mythical', 'falls,'): 1, ('falls,', 'or'): 1, ('would', 'the'): 1, ('the', 'forest'): 1, ('forest', 'keep'): 1, ('keep', 'its'): 1, ('its', 'secrets'): 1, ('secrets', 'hidden?'): 1, ('Professor', 'Abimbola,'): 1, ('Abimbola,', 'a'): 1, ('a', 'renowned'): 1, ('renowned', 'historian,'): 1, ('historian,', 'had'): 1, ('had', 'dedicated'): 1, ('dedicated', 'her'): 1, ('her', 'life'): 1, ('life', 'to'): 1, ('to', 'unraveling'): 1, ('unraveling', 'the'): 1, (\"Africa's\", 'past.'): 1, ('past.', 'She'): 1, ('She', 'had'): 1, ('heard', 'whispers'): 1, ('whispers', 'of'): 1, ('an', 'ancient'): 1, ('manuscript,', 'rumored'): 1, ('to', 'contain'): 1, ('contain', 'valuable'): 1, ('valuable', 'historical'): 1, ('historical', 'information'): 1, ('about', 'a'): 1, ('a', 'lost'): 1, ('lost', 'civilization.'): 1, ('civilization.', 'The'): 1, ('The', 'manuscript,'): 1, ('manuscript,', 'said'): 1, ('be', 'hidden'): 1, ('hidden', 'in'): 1, ('a', 'forgotten'): 1, ('forgotten', 'library,'): 1, ('library,', 'held'): 1, ('held', 'the'): 1, ('the', 'key'): 1, ('to', 'unlocking'): 1, ('unlocking', 'a'): 1, ('crucial', 'piece'): 1, ('African', 'history.'): 1, ('history.', 'Driven'): 1, ('Driven', 'by'): 1, ('by', 'her'): 1, ('her', 'passion'): 1, ('knowledge,', 'Professor'): 1, ('Professor', 'Abimbola'): 1, ('Abimbola', 'embarked'): 1, ('embarked', 'on'): 1, ('a', 'quest.'): 1, ('quest.', 'So'): 1, ('manuscript,', 'traveling'): 1, ('traveling', 'to'): 1, ('to', 'remote'): 1, ('remote', 'villages,'): 1, ('villages,', 'exploring'): 1, ('exploring', 'dusty'): 1, ('dusty', 'archives,'): 1, ('archives,', 'and'): 1, ('and', 'interviewing'): 1, ('interviewing', 'local'): 1, ('local', 'elders,'): 1, ('elders,', 'hoping'): 1, ('hoping', 'to'): 1, ('to', 'uncover'): 1, ('uncover', 'the'): 1, ('the', 'truth'): 1, ('truth', 'behind'): 1, ('behind', 'the'): 1, ('the', 'legend.'): 1, ('Kofi', 'loved'): 1, ('loved', 'mangoes'): 1, ('mangoes', 'more'): 1, ('than', 'anything.'): 1, ('anything.', 'He'): 1, ('He', 'dreamt'): 1, ('dreamt', 'of'): 1, ('of', 'finding'): 1, ('finding', 'the'): 1, ('perfect', 'mango'): 1, ('mango', '-'): 1, ('the', 'ripest,'): 1, ('ripest,', 'juiciest,'): 1, ('juiciest,', 'most'): 1, ('most', 'flavorful'): 1, ('flavorful', 'mango'): 1, ('mango', 'imaginable.'): 1, ('imaginable.', 'One'): 1, ('One', 'sunny'): 1, ('sunny', 'afternoon,'): 1, ('afternoon,', 'with'): 1, ('of', 'mangoes'): 1, ('mangoes', 'filling'): 1, ('air,', 'Kofi'): 1, ('Kofi', 'set'): 1, ('set', 'off'): 1, ('off', 'on'): 1, ('an', 'adventure.'): 1, ('adventure.', 'So'): 1, ('perfect', 'mango,'): 1, ('mango,', 'exploring'): 1, ('market', 'stalls,'): 1, ('stalls,', 'inspecting'): 1, ('inspecting', 'each'): 1, ('each', 'fruit'): 1, ('fruit', 'with'): 1, ('with', 'meticulous'): 1, ('meticulous', 'care,'): 1, ('care,', 'his'): 1, ('his', 'senses'): 1, ('senses', 'heightened'): 1, ('heightened', 'by'): 1, ('by', 'anticipation.'): 1, ('anticipation.', 'Would'): 1, ('Would', 'he'): 1, ('he', 'find'): 1, ('find', 'the'): 1, ('the', 'mango'): 1, ('mango', 'of'): 1, ('his', 'dreams,'): 1, ('dreams,', 'the'): 1, ('the', 'one'): 1, ('one', 'that'): 1, ('that', 'would'): 1, ('would', 'satisfy'): 1, ('satisfy', 'his'): 1, ('his', 'craving'): 1, ('craving', 'and'): 1, ('make', 'this'): 1, ('this', 'day'): 1, ('day', 'truly'): 1, ('truly', 'special?'): 1, ('Jollof', 'rice'): 1, ('beloved', 'West'): 1, ('African', 'one-pot'): 1, ('one-pot', 'rice'): 1, ('rice', 'dish'): 1, ('dish', 'cooked'): 1, ('flavorful', 'tomato'): 1, ('pepper', 'stew.'): 1, ('stew.', 'The'): 1, ('rice', 'absorbs'): 1, ('absorbs', 'a'): 1, ('rich', 'blend'): 1, ('spices,', 'giving'): 1, ('vibrant', 'red-orange'): 1, ('red-orange', 'color'): 1, ('a', 'smoky,'): 1, ('smoky,', 'spicy'): 1, ('spicy', 'taste.'): 1, ('at', 'celebrations'): 1, ('and', 'gatherings'): 1, ('gatherings', 'alongside'): 1, ('alongside', 'fried'): 1, ('or', 'coleslaw.'): 1, ('hearty', 'West'): 1, ('seeds', '(egusi),'): 1, ('(egusi),', 'leafy'): 1, ('leafy', 'greens,'): 1, ('greens,', 'and'): 1, ('often', 'meat'): 1, ('fish.', 'It'): 1, ('thick', 'texture'): 1, ('savory', 'flavor'): 1, ('flavor', 'enriched'): 1, ('spices.', 'This'): 1, ('comforting', 'soup'): 1, ('a', 'starchy'): 1, ('starchy', 'side'): 1, ('side', 'like'): 1, ('like', 'fufu'): 1, ('pounded', 'yam'): 1, ('yam', 'for'): 1, ('Suya', 'is'): 1, ('popular', 'Nigerian'): 1, ('Nigerian', 'street'): 1, ('of', 'skewered,'): 1, ('skewered,', 'spiced'): 1, ('spiced', 'grilled'): 1, ('grilled', 'meat.'): 1, ('meat.', 'Thin'): 1, ('Thin', 'strips'): 1, ('strips', 'of'): 1, ('of', 'beef'): 1, ('chicken', 'are'): 1, ('a', 'dry'): 1, ('dry', 'rub'): 1, ('rub', 'made'): 1, ('ground', 'peanuts,'): 1, ('peanuts,', 'chili'): 1, ('chili', 'powder,'): 1, ('powder,', 'and'): 1, ('spices,', 'then'): 1, ('open', 'flames.'): 1, ('flames.', 'The'): 1, ('is', 'tender,'): 1, ('meat', 'with'): 1, ('spicy', 'kick,'): 1, ('kick,', 'often'): 1, ('fresh', 'onions'): 1, ('and', 'tomatoes.'): 1, ('soft,', 'dough-like'): 1, ('dough-like', 'staple'): 1, ('staple', 'common'): 1, ('common', 'in'): 1, ('many', 'parts'): 1, ('especially', 'West'): 1, ('Central', 'Africa.'): 1, ('boiling', 'starchy'): 1, ('starchy', 'foods'): 1, ('like', 'cassava,'): 1, ('cassava,', 'yam,'): 1, ('yam,', 'or'): 1, ('plantain', 'and'): 1, ('and', 'pounding'): 1, ('pounding', 'them'): 1, ('them', 'into'): 1, ('smooth', 'mash.'): 1, ('mash.', 'Fufu'): 1, ('usually', 'formed'): 1, ('formed', 'into'): 1, ('into', 'balls'): 1, ('balls', 'and'): 1, ('with', 'soups'): 1, ('soups', 'or'): 1, ('or', 'stews,'): 1, ('stews,', 'used'): 1, ('flavorful', 'sauces.'): 1, ('Yassa', 'is'): 1, ('tangy', 'West'): 1, ('dish', 'from'): 1, ('from', 'Senegal'): 1, ('Senegal', 'made'): 1, ('with', 'marinated'): 1, ('marinated', 'chicken.'): 1, ('is', 'slow-cooked'): 1, ('slow-cooked', 'with'): 1, ('with', 'lots'): 1, ('lots', 'of'): 1, ('of', 'onions,'): 1, ('onions,', 'lemon'): 1, ('and', 'mustard,'): 1, ('mustard,', 'creating'): 1, ('a', 'citrus'): 1, ('citrus', 'kick.'): 1, ('kick.', 'The'): 1, ('flavorful', 'chicken'): 1, ('or', 'couscous.'): 1, ('Thieboudienne', 'is'): 1, ('classic', 'Senegalese'): 1, ('Senegalese', 'dish'): 1, ('seasoned', 'rice,'): 1, ('rice,', 'often'): 1, ('considered', \"Senegal's\"): 1, (\"Senegal's\", 'national'): 1, ('national', 'dish.'): 1, ('features', 'pieces'): 1, ('fish', 'stuffed'): 1, ('with', 'herbs,'): 1, ('herbs,', 'cooked'): 1, ('rich', 'tomato-based'): 1, ('tomato-based', 'sauce'): 1, ('vegetables', 'like'): 1, ('like', 'carrots,'): 1, ('carrots,', 'cabbage,'): 1, ('cabbage,', 'and'): 1, ('and', 'cassava.'): 1, ('cassava.', 'The'): 1, ('The', 'flavorful'): 1, ('flavorful', 'sauce'): 1, ('is', 'absorbed'): 1, ('absorbed', 'by'): 1, ('the', 'rice,'): 1, ('rice,', 'making'): 1, ('satisfying', 'meal.'): 1, ('Waakye', 'is'): 1, ('popular', 'Ghanaian'): 1, ('of', 'rice'): 1, ('cooked', 'together.'): 1, ('together.', 'The'): 1, ('is', 'colored'): 1, ('colored', 'with'): 1, ('with', 'sorghum'): 1, ('sorghum', 'leaves,'): 1, ('leaves,', 'giving'): 1, ('reddish-brown', 'tint,'): 1, ('tint,', 'and'): 1, ('with', 'black-eyed'): 1, ('black-eyed', 'peas'): 1, ('peas', 'or'): 1, ('or', 'red'): 1, ('red', 'beans.'): 1, ('beans.', 'Often'): 1, ('a', 'stew,'): 1, ('stew,', 'spaghetti,'): 1, ('spaghetti,', 'garri,'): 1, ('plantains', 'on'): 1, ('the', 'side,'): 1, ('side,', 'waakye'): 1, ('waakye', 'is'): 1, ('filling', 'meal'): 1, ('meal', 'typically'): 1, ('eaten', 'for'): 1, ('or', 'lunch.'): 1, ('Teju', 'was'): 1, ('hot', 'serving'): 1, ('rice,', 'drawn'): 1, ('rich', 'aroma'): 1, ('of', 'tomatoes'): 1, ('spices', 'at'): 1, ('bustling', 'street'): 1, ('street', 'market.'): 1, ('Kwame', 'was'): 1, ('comforting', 'bowl'): 1, ('Egusi', 'soup,'): 1, ('soup,', 'eager'): 1, ('to', 'enjoy'): 1, ('enjoy', 'its'): 1, ('its', 'blend'): 1, ('melon', 'seeds,'): 1, ('seeds,', 'tender'): 1, ('tender', 'meat,'): 1, ('Kofi', 'was'): 1, ('sizzling', 'Suya,'): 1, ('Suya,', 'attracted'): 1, ('attracted', 'by'): 1, ('smoky', 'scent'): 1, ('spiced,', 'grilled'): 1, ('meat', 'cooking'): 1, ('cooking', 'over'): 1, ('over', 'an'): 1, ('an', 'open'): 1, ('open', 'flame.'): 1, ('Amina', 'was'): 1, ('of', 'soft,'): 1, ('soft,', 'pounded'): 1, ('Fufu', 'accompanied'): 1, ('savory', 'stew,'): 1, ('promised', 'the'): 1, ('of', 'home-cooked'): 1, ('home-cooked', 'comfort.'): 1, ('a', 'steaming'): 1, ('steaming', 'bowl'): 1, ('of', 'matoke,'): 1, ('matoke,', 'drawn'): 1, ('of', 'cooked'): 1, ('cooked', 'green'): 1, ('green', 'plantains'): 1, ('plantains', 'simmered'): 1, ('simmered', 'in'): 1, ('tangy', 'tomato'): 1, ('Fatima', 'was'): 1, ('refreshing', 'cup'): 1, ('of', 'Rooibos'): 1, ('Rooibos', 'tea,'): 1, ('soon', 'discovered'): 1, ('discovered', 'a'): 1, ('a', 'quaint'): 1, ('quaint', 'tea'): 1, ('tea', 'shop'): 1, ('shop', 'in'): 1, ('in', 'Cape'): 1, ('Cape', 'Town'): 1, ('Town', 'serving'): 1, ('serving', 'the'): 1, ('the', 'naturally'): 1, ('naturally', 'sweet,'): 1, ('sweet,', 'caffeine-free'): 1, ('caffeine-free', 'brew.'): 1, ('Ahmed', 'was'): 1, ('of', 'couscous,'): 1, ('couscous,', 'guided'): 1, ('spiced,', 'fluffy'): 1, ('fluffy', 'semolina'): 1, ('semolina', 'paired'): 1, ('hearty', 'vegetable'): 1, ('stew', 'at'): 1, ('bustling', 'Moroccan'): 1, ('Moroccan', 'restaurant.'): 1, ('Salma', 'was'): 1, ('mint', 'tea,'): 1, ('and', 'in'): 1, ('a', 'sunlit'): 1, ('sunlit', 'courtyard'): 1, ('courtyard', 'café,'): 1, ('café,', 'she'): 1, ('she', 'savored'): 1, ('savored', 'the'): 1, ('of', 'green'): 1, ('and', 'fresh'): 1, ('fresh', 'mint'): 1, ('mint', 'leaves'): 1, ('leaves', 'with'): 1, ('with', 'just'): 1, ('just', 'the'): 1, ('the', 'right'): 1, ('right', 'sweetness.'): 1, ('Bolanle', 'was'): 1, ('for', 'Banku'): 1, ('and', 'tilapia,'): 1, ('tilapia,', 'and'): 1, ('soon', 'she'): 1, ('she', 'was'): 1, ('was', 'enjoying'): 1, ('enjoying', 'the'): 1, ('the', 'traditional'): 1, ('traditional', 'Ghanaian'): 1, ('of', 'fermented'): 1, ('corn', 'dough'): 1, ('dough', 'paired'): 1, ('with', 'perfectly'): 1, ('perfectly', 'grilled,'): 1, ('grilled,', 'spice-rubbed'): 1, ('spice-rubbed', 'tilapia.'): 1, ('Chinedu', 'was'): 1, ('for', 'Tella,'): 1, ('Tella,', 'a'): 1, ('Ethiopian', 'beer,'): 1, ('and', 'discovered'): 1, ('discovered', 'it'): 1, ('it', 'at'): 1, ('local', 'gathering'): 1, ('where', 'its'): 1, ('its', 'tangy,'): 1, ('tangy,', 'malty'): 1, ('malty', 'flavor'): 1, ('flavor', 'provided'): 1, ('refreshing', 'pause'): 1, ('pause', 'from'): 1, ('from', 'his'): 1, ('his', 'day.'): 1, ('Ngozi', 'was'): 1, ('for', 'Maafe,'): 1, ('Maafe,', 'a'): 1, ('rich', 'peanut'): 1, ('peanut', 'stew,'): 1, ('stew,', 'and'): 1, ('her', 'search'): 1, ('search', 'led'): 1, ('led', 'her'): 1, ('her', 'to'): 1, ('small', 'diner'): 1, ('diner', 'where'): 1, ('savory', 'blend'): 1, ('peanuts', 'and'): 1, ('meat', 'promised'): 1, ('to', 'satisfy'): 1, ('satisfy', 'her'): 1, ('her', 'appetite.'): 1, ('Siyabonga', 'was'): 1, ('for', 'Umqombothi,'): 1, ('Umqombothi,', 'a'): 1, ('African', 'beer,'): 1, ('and', 'found'): 1, ('found', 'it'): 1, ('it', 'being'): 1, ('being', 'shared'): 1, ('shared', 'at'): 1, ('community', 'gathering,'): 1, ('gathering,', 'offering'): 1, ('unique', 'taste'): 1, ('of', 'local'): 1, ('local', 'heritage.'): 1, ('Lamin', 'was'): 1, ('of', 'Kelewele,'): 1, ('Kelewele,', 'and'): 1, ('and', 'his'): 1, ('quest', 'led'): 1, ('vendor', 'whose'): 1, ('spicy', 'fried'): 1, ('fried', 'plantains,'): 1, ('plantains,', 'seasoned'): 1, ('and', 'chili,'): 1, ('chili,', 'were'): 1, ('popular', 'local'): 1, ('local', 'snack.'): 1, ('Sade', 'was'): 1, ('for', 'sugarcane'): 1, ('sugarcane', 'juice,'): 1, ('and', 'at'): 1, ('vibrant', 'market'): 1, ('stall,', 'she'): 1, ('she', 'found'): 1, ('found', 'the'): 1, ('the', 'fresh,'): 1, ('fresh,', 'naturally'): 1, ('sweet', 'beverage'): 1, ('that', 'quenched'): 1, ('a', 'sweltering'): 1, ('sweltering', 'day.'): 1, ('Zuri', 'was'): 1, ('of', 'refreshing'): 1, ('refreshing', 'Bissap,'): 1, ('Bissap,', 'the'): 1, ('tangy', 'hibiscus'): 1, ('hibiscus', 'drink'): 1, ('offered', 'a'): 1, ('cool', 'burst'): 1, ('flavor', 'on'): 1, ('Laila', 'was'): 1, ('Palm', 'wine,'): 1, ('wine,', 'drawn'): 1, ('its', 'sweet'): 1, ('flavor', 'cherished'): 1, ('cherished', 'in'): 1, ('her', 'community.'): 1, ('Musa', 'was'): 1, ('a', 'chilled'): 1, ('chilled', 'glass'): 1, ('of', 'Ginger'): 1, ('beer,', 'its'): 1, ('its', 'spicy'): 1, ('spicy', 'and'): 1, ('and', 'fizzy'): 1, ('fizzy', 'allure'): 1, ('allure', 'promising'): 1, ('promising', 'to'): 1, ('cool', 'him'): 1, ('him', 'down'): 1, ('down', 'after'): 1, ('day', 'in'): 1, ('the', 'sun.'): 1, ('Amara', 'was'): 1, ('chai,', 'the'): 1, ('and', 'milk'): 1, ('milk', 'serving'): 1, ('soothing', 'remedy'): 1, ('for', 'her'): 1, ('her', 'parched'): 1, ('parched', 'senses.'): 1, ('and', 'tilapia'): 1, ('tilapia', 'is'): 1, ('common', 'dish'): 1, ('in', 'Ghana,'): 1, ('Ghana,', 'featuring'): 1, ('featuring', 'a'): 1, ('cassava', 'dough'): 1, ('dough', '(banku)'): 1, ('(banku)', 'served'): 1, ('grilled', 'fish.'): 1, ('fish.', 'The'): 1, ('The', 'banku'): 1, ('banku', 'is'): 1, ('cooked', 'into'): 1, ('into', 'smooth'): 1, ('smooth', 'white'): 1, ('white', 'balls'): 1, ('balls', 'with'): 1, ('is', 'paired'): 1, ('whole', 'tilapia'): 1, ('tilapia', 'fish'): 1, ('fish', 'that'): 1, ('been', 'spiced'): 1, ('spiced', 'and'): 1, ('and', 'grilled,'): 1, ('grilled,', 'and'): 1, ('and', 'usually'): 1, ('usually', 'accompanied'): 1, ('spicy', 'pepper'): 1, ('sauce', 'for'): 1, ('Maafe,', 'also'): 1, ('as', 'groundnut'): 1, ('groundnut', 'stew,'): 1, ('stew,', 'is'): 1, ('rich', 'West'): 1, ('African', 'peanut-based'): 1, ('peanut-based', 'stew.'): 1, ('stew.', 'It'): 1, ('simmering', 'meat'): 1, ('as', 'beef,'): 1, ('beef,', 'lamb,'): 1, ('lamb,', 'or'): 1, ('chicken)', 'and'): 1, ('vegetables', 'in'): 1, ('creamy', 'sauce'): 1, ('sauce', 'of'): 1, ('peanuts', 'or'): 1, ('or', 'peanut'): 1, ('peanut', 'butter.'): 1, ('is', 'savory'): 1, ('savory', 'and'): 1, ('sweet,', 'often'): 1, ('rice,', 'couscous,'): 1, ('couscous,', 'or'): 1, ('of', 'fufu.'): 1, ('traditional', 'Ivorian'): 1, ('Ivorian', 'side'): 1, ('cassava', 'pulp'): 1, ('pulp', 'that'): 1, ('is', 'grated'): 1, ('grated', 'into'): 1, ('into', 'couscous-like'): 1, ('couscous-like', 'grains.'): 1, ('grains.', 'It'): 1, ('light,', 'slightly'): 1, ('a', 'texture'): 1, ('texture', 'similar'): 1, ('to', 'couscous.'): 1, ('couscous.', 'Attiéké'): 1, ('a', 'fresh'): 1, ('onion', 'relish.'): 1, ('Moimoi', 'is'): 1, ('savory', 'Nigerian'): 1, ('Nigerian', 'steamed'): 1, ('steamed', 'pudding'): 1, ('from', 'blended'): 1, ('The', 'bean'): 1, ('bean', 'batter'): 1, ('onions,', 'peppers,'): 1, ('sometimes', 'enriched'): 1, ('with', 'fish,'): 1, ('fish,', 'egg,'): 1, ('egg,', 'or'): 1, ('or', 'meat,'): 1, ('meat,', 'then'): 1, ('then', 'steamed'): 1, ('steamed', 'in'): 1, ('in', 'leaves'): 1, ('or', 'small'): 1, ('small', 'containers.'): 1, ('containers.', 'The'): 1, ('a', 'protein-rich,'): 1, ('protein-rich,', 'flavorful'): 1, ('flavorful', 'side'): 1, ('rice,', 'garri,'): 1, ('or', 'bread.'): 1, ('Pepper', 'soup'): 1, ('light,', 'spicy'): 1, ('spicy', 'soup'): 1, ('soup', 'popular'): 1, ('its', 'fiery'): 1, ('fiery', 'broth'): 1, ('broth', 'infused'): 1, ('local', 'herbs'): 1, ('spices.', 'It'): 1, ('fish', '-'): 1, ('-', 'common'): 1, ('common', 'versions'): 1, ('versions', 'include'): 1, ('include', 'goat'): 1, ('meat,', 'catfish,'): 1, ('catfish,', 'or'): 1, ('or', 'chicken.'): 1, ('The', 'clear'): 1, ('clear', 'broth'): 1, ('broth', 'is'): 1, ('is', 'intensely'): 1, ('intensely', 'flavored'): 1, ('flavored', 'and'): 1, ('warm', 'comfort'): 1, ('comfort', 'food'): 1, ('a', 'remedy'): 1, ('for', 'colds.'): 1, ('Banga', 'soup'): 1, ('nut', 'soup'): 1, ('soup', 'from'): 1, ('from', 'southern'): 1, ('southern', 'Nigeria.'): 1, ('Nigeria.', 'It'): 1, ('by', 'extracting'): 1, ('extracting', 'the'): 1, ('the', 'juice'): 1, ('juice', 'from'): 1, ('from', 'palm'): 1, ('fruit', 'and'): 1, ('and', 'cooking'): 1, ('spices,', 'aromatic'): 1, ('aromatic', 'herbs,'): 1, ('herbs,', 'and'): 1, ('typically', 'fish'): 1, ('The', 'soup'): 1, ('soup', 'has'): 1, ('deep', 'reddish-orange'): 1, ('reddish-orange', 'color'): 1, ('unique', 'earthy'): 1, ('earthy', 'flavor,'): 1, ('usually', 'enjoyed'): 1, ('with', 'starches'): 1, ('starches', 'like'): 1, ('like', 'fufu,'): 1, ('fufu,', 'eba,'): 1, ('eba,', 'or'): 1, ('Efo', 'riro'): 1, ('riro', 'is'): 1, ('flavorful', 'vegetable'): 1, ('Nigeria,', 'particularly'): 1, ('particularly', 'the'): 1, ('Yoruba', 'cuisine.'): 1, ('cuisine.', 'It'): 1, ('features', 'leafy'): 1, ('leafy', 'greens'): 1, ('greens', 'such'): 1, ('as', 'spinach'): 1, ('spinach', 'or'): 1, ('or', 'amaranth'): 1, ('amaranth', 'cooked'): 1, ('with', 'bell'): 1, ('and', 'tomatoes,'): 1, ('includes', 'bits'): 1, ('bits', 'of'): 1, ('fish.', 'Seasoned'): 1, ('Seasoned', 'with'): 1, ('local', 'spices'): 1, ('and', 'crayfish,'): 1, ('crayfish,', 'this'): 1, ('this', 'thick'): 1, ('thick', 'stew'): 1, ('with', 'fufu'): 1, ('Kelewele', 'is'): 1, ('Ghanaian', 'snack'): 1, ('snack', 'made'): 1, ('are', 'seasoned'): 1, ('seasoned', 'and'): 1, ('and', 'fried.'): 1, ('fried.', 'The'): 1, ('The', 'plantain'): 1, ('plantain', 'pieces'): 1, ('pieces', 'are'): 1, ('are', 'cut'): 1, ('into', 'cubes'): 1, ('cubes', 'or'): 1, ('or', 'slices'): 1, ('slices', 'and'): 1, ('and', 'marinated'): 1, ('like', 'ginger,'): 1, ('ginger,', 'chili,'): 1, ('chili,', 'and'): 1, ('and', 'garlic'): 1, ('garlic', 'before'): 1, ('before', 'deep-frying.'): 1, ('deep-frying.', 'The'): 1, ('of', 'golden-brown,'): 1, ('golden-brown,', 'crispy'): 1, ('crispy', 'plantain'): 1, ('plantain', 'bites'): 1, ('bites', 'that'): 1, ('are', 'spicy,'): 1, ('spicy,', 'slightly'): 1, ('often', 'sold'): 1, ('sold', 'by'): 1, ('by', 'street'): 1, ('street', 'vendors'): 1, ('vendors', 'as'): 1, ('quick', 'snack.'): 1, ('Akara', 'are'): 1, ('are', 'West'): 1, ('African', 'bean'): 1, ('fritters', 'made'): 1, ('from', 'puréed'): 1, ('puréed', 'black-eyed'): 1, ('The', 'batter'): 1, ('onions,', 'salt,'): 1, ('salt,', 'and'): 1, ('sometimes', 'peppers,'): 1, ('peppers,', 'then'): 1, ('then', 'deep-fried'): 1, ('deep-fried', 'into'): 1, ('into', 'ball'): 1, ('ball', 'or'): 1, ('or', 'patty'): 1, ('patty', 'shapes.'): 1, ('shapes.', 'Crispy'): 1, ('Crispy', 'on'): 1, ('soft', 'on'): 1, ('the', 'inside,'): 1, ('inside,', 'akara'): 1, ('akara', 'are'): 1, ('breakfast', 'item'): 1, ('item', 'or'): 1, ('sometimes', 'sandwiched'): 1, ('sandwiched', 'in'): 1, ('in', 'bread.'): 1, ('Puff-puff', 'is'): 1, ('dough', 'snack.'): 1, ('snack.', 'Made'): 1, ('Made', 'from'): 1, ('a', 'yeast-raised'): 1, ('yeast-raised', 'batter'): 1, ('batter', 'of'): 1, ('of', 'flour,'): 1, ('flour,', 'sugar,'): 1, ('and', 'water,'): 1, ('water,', 'it'): 1, ('until', 'golden'): 1, ('brown.', 'The'): 1, ('The', 'bite-sized'): 1, ('bite-sized', 'balls'): 1, ('balls', 'are'): 1, ('are', 'slightly'): 1, ('and', 'chewy,'): 1, ('chewy,', 'often'): 1, ('street', 'snack'): 1, ('snack', 'or'): 1, ('at', 'parties,'): 1, ('parties,', 'sometimes'): 1, ('sometimes', 'dusted'): 1, ('dense', 'maize'): 1, ('Tanzania.', 'It'): 1, ('by', 'cooking'): 1, ('cooking', 'cornmeal'): 1, ('water', 'until'): 1, ('it', 'thickens'): 1, ('thickens', 'into'): 1, ('a', 'stiff'): 1, ('stiff', 'dough-like'): 1, ('dough-like', 'consistency.'): 1, ('consistency.', 'Ugali'): 1, ('the', 'hands,'): 1, ('hands,', 'alongside'): 1, ('alongside', 'stews'): 1, ('stews', 'or'): 1, ('or', 'sauces,'): 1, ('sauces,', 'to'): 1, ('up', 'flavorful'): 1, ('flavorful', 'bites.'): 1, ('Nyama', 'choma'): 1, ('choma', 'means'): 1, ('means', '\"grilled'): 1, ('\"grilled', 'meat\"'): 1, ('meat\"', 'in'): 1, ('in', 'Swahili'): 1, ('Swahili', 'and'): 1, ('a', 'favorite'): 1, ('favorite', 'East'): 1, ('African', 'barbecue'): 1, ('barbecue', 'dish.'): 1, ('dish.', 'Typically'): 1, ('Typically', 'made'): 1, ('with', 'goat'): 1, ('or', 'beef,'): 1, ('beef,', 'the'): 1, ('is', 'lightly'): 1, ('lightly', 'seasoned,'): 1, ('seasoned,', 'slow-roasted'): 1, ('slow-roasted', 'over'): 1, ('charcoal,', 'and'): 1, ('served', 'chopped'): 1, ('chopped', 'into'): 1, ('into', 'pieces.'): 1, ('pieces.', 'The'): 1, ('with', 'sides'): 1, ('sides', 'like'): 1, ('like', 'ugali'): 1, ('ugali', 'and'): 1, ('and', 'kachumbari'): 1, ('kachumbari', '(a'): 1, ('(a', 'fresh'): 1, ('onion', 'salad).'): 1, ('a', 'spongy,'): 1, ('spongy,', 'sour'): 1, ('flatbread', 'made'): 1, ('fermented', 'teff'): 1, ('teff', 'flour,'): 1, ('flour,', 'a'): 1, ('in', 'Ethiopia'): 1, ('Ethiopia', 'and'): 1, ('and', 'Eritrea.'): 1, ('Eritrea.', 'It'): 1, ('unique,', 'slightly'): 1, ('soft,', 'pancake-like'): 1, ('pancake-like', 'texture'): 1, ('texture', 'full'): 1, ('full', 'of'): 1, ('of', 'tiny'): 1, ('tiny', 'air'): 1, ('air', 'pockets.'): 1, ('pockets.', 'Injera'): 1, ('as', 'both'): 1, ('both', 'a'): 1, ('plate', 'and'): 1, ('and', 'utensil:'): 1, ('utensil:', 'various'): 1, ('various', 'stews'): 1, ('and', 'curries'): 1, ('curries', 'are'): 1, ('are', 'served'): 1, ('served', 'on'): 1, ('on', 'top'): 1, ('top', 'of'): 1, ('of', 'it,'): 1, ('it,', 'and'): 1, ('and', 'pieces'): 1, ('the', 'bread'): 1, ('bread', 'are'): 1, ('are', 'torn'): 1, ('torn', 'off'): 1, ('off', 'to'): 1, ('the', 'food.'): 1, ('Doro', 'Wat'): 1, ('Wat', 'is'): 1, ('spicy', 'Ethiopian'): 1, ('stew,', 'often'): 1, ('considered', 'the'): 1, (\"country's\", 'signature'): 1, ('signature', 'dish.'): 1, ('chicken', 'pieces'): 1, ('pieces', 'slow-cooked'): 1, ('slow-cooked', 'in'): 1, ('a', 'berbere'): 1, ('berbere', 'spice-infused'): 1, ('spice-infused', 'sauce'): 1, ('from', 'onions,'): 1, ('spiced', 'butter.'): 1, ('is', 'rich,'): 1, ('rich,', 'deep'): 1, ('deep', 'red'): 1, ('red', 'in'): 1, ('in', 'color,'): 1, ('and', 'traditionally'): 1, ('with', 'boiled'): 1, ('boiled', 'eggs'): 1, ('eggs', 'and'): 1, ('and', 'injera,'): 1, ('injera,', 'which'): 1, ('the', 'thick'): 1, ('thick', 'sauce.'): 1, ('Pilau', 'in'): 1, ('Africa', 'refers'): 1, ('fragrant', 'spiced'): 1, ('spiced', 'rice'): 1, ('rice', 'dish,'): 1, ('dish,', 'especially'): 1, ('especially', 'popular'): 1, ('with', 'meat'): 1, ('meat', '(like'): 1, ('(like', 'beef'): 1, ('or', 'goat),'): 1, ('goat),', 'broth,'): 1, ('broth,', 'and'): 1, ('and', 'aromatic'): 1, ('cumin,', 'cardamom,'): 1, ('cardamom,', 'and'): 1, ('and', 'cloves,'): 1, ('cloves,', 'giving'): 1, ('a', 'brown'): 1, ('brown', 'color'): 1, ('rich', 'flavor.'): 1, ('flavor.', 'Often'): 1, ('at', 'special'): 1, ('occasions,', 'Swahili'): 1, ('Swahili', 'pilau'): 1, ('pilau', 'is'): 1, ('of', 'kachumbari'): 1, ('kachumbari', 'salad.'): 1, ('Matoke', 'is'): 1, ('beloved', 'dish'): 1, ('in', 'Uganda'): 1, ('Uganda', 'and'): 1, ('from', 'green'): 1, ('green', 'plantains.'): 1, ('plantains.', 'The'): 1, ('The', 'plantains'): 1, ('plantains', 'are'): 1, ('are', 'peeled,'): 1, ('peeled,', 'wrapped'): 1, ('wrapped', 'in'): 1, ('banana', 'leaves,'): 1, ('leaves,', 'and'): 1, ('steamed', 'or'): 1, ('or', 'boiled'): 1, ('boiled', 'until'): 1, ('until', 'soft,'): 1, ('soft,', 'then'): 1, ('then', 'mashed.'): 1, ('mashed.', 'Often,'): 1, ('Often,', 'matoke'): 1, ('matoke', 'is'): 1, ('is', 'served'): 1, ('a', 'sauce'): 1, ('sauce', 'or'): 1, ('stew', '(such'): 1, ('peanut', 'or'): 1, ('meat', 'sauce),'): 1, ('sauce),', 'and'): 1, ('a', 'mild,'): 1, ('mild,', 'starchy'): 1, ('starchy', 'flavor'): 1, ('that', 'complements'): 1, ('complements', 'flavorful'): 1, ('flavorful', 'curries'): 1, ('curries', 'and'): 1, ('and', 'stews.'): 1, ('Rolex', 'is'): 1, ('popular', 'Ugandan'): 1, ('Ugandan', 'street'): 1, ('an', 'omelette'): 1, ('omelette', 'rolled'): 1, ('rolled', 'inside'): 1, ('inside', 'a'): 1, ('a', 'chapati'): 1, ('chapati', 'flatbread.'): 1, ('flatbread.', 'To'): 1, ('a', 'rolex,'): 1, ('rolex,', 'a'): 1, ('thin', 'omelette'): 1, ('omelette', 'is'): 1, ('chopped', 'tomatoes,'): 1, ('and', 'cabbage,'): 1, ('cabbage,', 'then'): 1, ('placed', 'on'): 1, ('warm', 'chapati'): 1, ('chapati', 'and'): 1, ('and', 'rolled'): 1, ('rolled', 'up.'): 1, ('up.', 'It'): 1, ('a', 'convenient,'): 1, ('convenient,', 'tasty'): 1, ('tasty', 'meal-on-the-go,'): 1, ('meal-on-the-go,', 'especially'): 1, ('especially', 'loved'): 1, ('loved', 'by'): 1, ('by', 'students'): 1, ('and', 'travelers.'): 1, ('Githeri', 'is'): 1, ('but', 'hearty'): 1, ('hearty', 'Kenyan'): 1, ('Kenyan', 'dish'): 1, ('of', 'corn'): 1, ('and', 'beans.'): 1, ('beans.', 'Traditionally,'): 1, ('Traditionally,', 'maize'): 1, ('maize', 'kernels'): 1, ('kernels', 'and'): 1, ('and', 'kidney'): 1, ('kidney', 'beans'): 1, ('beans', '(or'): 1, ('(or', 'local'): 1, ('local', 'beans)'): 1, ('beans)', 'are'): 1, ('boiled', 'together'): 1, ('together', 'and'): 1, ('be', 'eaten'): 1, ('as', 'is'): 1, ('is', 'or'): 1, ('with', 'onions'): 1, ('vegetables', 'for'): 1, ('flavor.', 'This'): 1, ('This', 'filling'): 1, ('filling', 'one-pot'): 1, ('one-pot', 'meal'): 1, ('meal', 'is'): 1, ('Kenyan', 'households'): 1, ('households', 'and'): 1, ('nutritional', 'value'): 1, ('value', 'and'): 1, ('and', 'simplicity.'): 1, ('Sukuma', 'wiki'): 1, ('wiki', 'is'): 1, ('savory', 'collard'): 1, ('collard', 'greens'): 1, ('greens', 'dish'): 1, ('particularly', 'Kenya'): 1, ('means', '\"stretch'): 1, ('\"stretch', 'the'): 1, ('the', 'week\"'): 1, ('week\"', 'in'): 1, ('Swahili,', 'as'): 1, ('an', 'affordable'): 1, ('affordable', 'way'): 1, ('to', 'extend'): 1, ('extend', 'meals.'): 1, ('meals.', 'The'): 1, ('The', 'greens'): 1, ('greens', 'are'): 1, ('are', 'chopped'): 1, ('chopped', 'and'): 1, ('and', 'sautéed'): 1, ('sautéed', 'with'): 1, ('onions,', 'tomatoes,'): 1, ('of', 'oil'): 1, ('until', 'tender.'): 1, ('tender.', 'Often'): 1, ('alongside', 'ugali'): 1, ('ugali', 'or'): 1, ('or', 'other'): 1, ('other', 'staples,'): 1, ('staples,', \"it's\"): 1, ('nutritious', 'accompaniment'): 1, ('accompaniment', 'to'): 1, ('to', 'many'): 1, ('many', 'meals.'): 1, ('are', 'East'): 1, ('dough', 'buns,'): 1, ('buns,', 'similar'): 1, ('to', 'donuts'): 1, ('donuts', 'but'): 1, ('but', 'less'): 1, ('less', 'sweet.'): 1, ('sweet.', 'The'): 1, ('The', 'dough'): 1, ('dough', 'is'): 1, ('from', 'flour,'): 1, ('flour,', 'yeast,'): 1, ('yeast,', 'sugar,'): 1, ('and', 'coconut'): 1, ('coconut', 'milk'): 1, ('or', 'water,'): 1, ('water,', 'sometimes'): 1, ('sometimes', 'spiced'): 1, ('with', 'cardamom.'): 1, ('cardamom.', 'It'): 1, ('is', 'cut'): 1, ('into', 'triangular'): 1, ('triangular', 'or'): 1, ('or', 'round'): 1, ('round', 'shapes'): 1, ('shapes', 'and'): 1, ('and', 'deep-fried'): 1, ('until', 'puffy'): 1, ('puffy', 'and'): 1, ('and', 'golden'): 1, ('brown.', 'Mandazi'): 1, ('breakfast', 'treat'): 1, ('treat', 'or'): 1, ('sometimes', 'paired'): 1, ('with', 'chai'): 1, ('chai', 'tea.'): 1, ('Kitfo', 'is'): 1, ('Ethiopian', 'dish'): 1, ('of', 'finely'): 1, ('finely', 'minced'): 1, ('minced', 'beef,'): 1, ('beef,', 'often'): 1, ('served', 'raw'): 1, ('raw', 'or'): 1, ('lightly', 'sautéed.'): 1, ('sautéed.', 'The'): 1, ('with', 'niter'): 1, ('niter', 'kibbeh'): 1, ('kibbeh', '(Ethiopian'): 1, ('(Ethiopian', 'spiced'): 1, ('spiced', 'butter)'): 1, ('butter)', 'and'): 1, ('with', 'mitmita,'): 1, ('mitmita,', 'a'): 1, ('spicy', 'chili'): 1, ('chili', 'powder.'): 1, ('powder.', 'Rich'): 1, ('Rich', 'and'): 1, ('and', 'buttery,'): 1, ('buttery,', 'kitfo'): 1, ('kitfo', 'is'): 1, ('typically', 'accompanied'): 1, ('by', 'injera'): 1, ('injera', 'or'): 1, ('a', 'mild'): 1, ('mild', 'cheese'): 1, ('cheese', 'called'): 1, ('called', 'ayib'): 1, ('ayib', 'to'): 1, ('the', 'heat.'): 1, ('flavorful', 'Cameroonian'): 1, ('Cameroonian', 'stew'): 1, ('with', 'bitter'): 1, ('bitter', 'greens'): 1, ('greens', '(often'): 1, ('(often', 'bitterleaf'): 1, ('bitterleaf', 'or'): 1, ('or', 'spinach)'): 1, ('spinach)', 'and'): 1, ('and', 'ground'): 1, ('ground', 'peanuts.'): 1, ('peanuts.', 'The'): 1, ('stew', 'often'): 1, ('includes', 'pieces'): 1, ('of', 'beef,'): 1, ('beef,', 'shrimp,'): 1, ('shrimp,', 'or'): 1, ('or', 'fish,'): 1, ('fish,', 'which'): 1, ('which', 'simmer'): 1, ('simmer', 'in'): 1, ('creamy', 'peanut'): 1, ('peanut', 'sauce'): 1, ('sauce', 'that'): 1, ('that', 'balances'): 1, ('balances', 'the'): 1, ('the', 'slight'): 1, ('slight', 'bitterness'): 1, ('bitterness', 'of'): 1, ('the', 'greens.'): 1, ('greens.', 'Ndolé'): 1, ('with', 'plantains,'): 1, ('plantains,', 'rice,'): 1, ('or', 'fufu,'): 1, ('fufu,', 'making'): 1, ('making', 'a'): 1, ('traditional', 'meal.'): 1, ('Saka-saka,', 'also'): 1, ('as', 'cassava'): 1, ('leaves', 'stew'): 1, ('stew', 'or'): 1, ('or', 'pondu,'): 1, ('pondu,', 'is'): 1, ('the', 'Congo'): 1, ('Congo', 'region.'): 1, ('region.', 'Fresh'): 1, ('Fresh', 'cassava'): 1, ('are', 'pounded'): 1, ('pounded', 'and'): 1, ('and', 'boiled'): 1, ('like', 'peanut'): 1, ('peanut', 'paste,'): 1, ('paste,', 'palm'): 1, ('palm', 'oil,'): 1, ('sometimes', 'fish'): 1, ('a', 'green,'): 1, ('green,', 'hearty'): 1, ('stew', 'with'): 1, ('slightly', 'nutty'): 1, ('nutty', 'flavor,'): 1, ('with', 'fufu,'): 1, ('fufu,', 'rice,'): 1, ('or', 'plantains.'): 1, ('Chicken', 'Moambe'): 1, ('Moambe', '(Poulet'): 1, ('(Poulet', 'Moambé)'): 1, ('Moambé)', 'is'): 1, ('a', 'famous'): 1, ('famous', 'Central'): 1, ('of', 'chicken'): 1, ('chicken', 'cooked'): 1, ('nut', 'sauce.'): 1, ('The', 'sauce'): 1, ('from', 'red'): 1, ('red', 'palm'): 1, ('fruit', 'pulp,'): 1, ('pulp,', 'giving'): 1, ('thick', 'consistency'): 1, ('and', 'reddish'): 1, ('reddish', 'color,'): 1, ('and', 'aromatics.'): 1, ('aromatics.', 'The'): 1, ('The', 'tender'): 1, ('tender', 'chicken'): 1, ('chicken', 'absorbs'): 1, ('absorbs', 'the'): 1, ('savory', 'sauce,'): 1, ('the', 'dish'): 1, ('rice,', 'cassava,'): 1, ('cassava,', 'or'): 1, ('or', 'plantain.'): 1, ('plantain.', \"It's\"): 1, (\"It's\", 'considered'): 1, ('a', 'national'): 1, ('the', 'Democratic'): 1, ('of', 'Congo.'): 1, ('Chikwangue', '(also'): 1, ('(also', 'called'): 1, ('called', 'kwanga)'): 1, ('kwanga)', 'is'): 1, ('cassava', 'loaf'): 1, ('loaf', 'popular'): 1, ('the', 'Congo.'): 1, ('Congo.', 'To'): 1, ('make', 'chikwangue,'): 1, ('chikwangue,', 'cassava'): 1, ('cassava', 'is'): 1, ('is', 'fermented,'): 1, ('fermented,', 'pounded'): 1, ('pounded', 'into'): 1, ('a', 'dough,'): 1, ('dough,', 'then'): 1, ('then', 'wrapped'): 1, ('wrapped', 'tightly'): 1, ('tightly', 'in'): 1, ('banana', 'or'): 1, ('plantain', 'leaves'): 1, ('and', 'boiled.'): 1, ('boiled.', 'The'): 1, ('a', 'firm,'): 1, ('firm,', 'sticky'): 1, ('sticky', 'tube'): 1, ('tube', 'of'): 1, ('of', 'starch'): 1, ('starch', 'with'): 1, ('sour', 'taste,'): 1, ('taste,', 'sliced'): 1, ('sliced', 'and'): 1, ('side', 'to'): 1, ('to', 'stews'): 1, ('and', 'sauces,'): 1, ('sauces,', 'much'): 1, ('like', 'fufu.'): 1, ('Brochettes', 'are'): 1, ('popular', 'East'): 1, ('East', 'and'): 1, ('African', 'grilled'): 1, ('meat', 'skewer,'): 1, ('skewer,', 'similar'): 1, ('to', 'kebabs.'): 1, ('kebabs.', 'In'): 1, ('In', 'countries'): 1, ('like', 'Rwanda'): 1, ('Rwanda', 'and'): 1, ('and', 'Burundi,'): 1, ('Burundi,', 'brochettes'): 1, ('brochettes', 'usually'): 1, ('usually', 'feature'): 1, ('feature', 'chunks'): 1, ('chunks', 'of'): 1, ('marinated', 'goat'): 1, ('or', 'beef'): 1, ('beef', 'threaded'): 1, ('threaded', 'on'): 1, ('stick', 'and'): 1, ('and', 'grilled'): 1, ('open', 'coals.'): 1, ('coals.', 'They'): 1, ('They', 'come'): 1, ('come', 'out'): 1, ('out', 'smoky'): 1, ('smoky', 'and'): 1, ('and', 'juicy,'): 1, ('juicy,', 'often'): 1, ('grilled', 'plantains'): 1, ('or', 'potatoes,'): 1, ('make', 'for'): 1, ('common', 'barbecued'): 1, ('barbecued', 'street'): 1, ('or', 'bar'): 1, ('bar', 'snack.'): 1, ('Couscous', 'is'): 1, ('from', 'tiny'): 1, ('tiny', 'steamed'): 1, ('steamed', 'balls'): 1, ('balls', 'of'): 1, ('of', 'semolina'): 1, ('semolina', 'wheat.'): 1, ('wheat.', 'It'): 1, ('a', 'base'): 1, ('base', 'for'): 1, ('hearty', 'meal:'): 1, ('meal:', 'tender'): 1, ('tender', 'vegetables,'): 1, ('vegetables,', 'chickpeas,'): 1, ('and', 'meat'): 1, ('as', 'lamb'): 1, ('chicken)', 'are'): 1, ('spiced', 'broth'): 1, ('and', 'spooned'): 1, ('spooned', 'over'): 1, ('fluffy', 'couscous.'): 1, ('couscous.', 'This'): 1, ('comforting', 'dish'): 1, ('commonly', 'enjoyed'): 1, ('like', 'Morocco,'): 1, ('Morocco,', 'Algeria,'): 1, ('Algeria,', 'and'): 1, ('and', 'Tunisia.'): 1, ('Tagine', 'is'): 1, ('slow-cooked', 'Moroccan'): 1, ('Moroccan', 'stew'): 1, ('the', 'cone-lidded'): 1, ('cone-lidded', 'clay'): 1, ('which', \"it's\"): 1, (\"it's\", 'cooked.'): 1, ('cooked.', 'A'): 1, ('A', 'tagine'): 1, ('tagine', 'can'): 1, ('meats', '(like'): 1, ('(like', 'lamb,'): 1, ('lamb,', 'chicken,'): 1, ('chicken,', 'or'): 1, ('or', 'beef)'): 1, ('beef)', 'and'): 1, ('and', 'vegetables,'): 1, ('vegetables,', 'simmered'): 1, ('simmered', 'gently'): 1, ('gently', 'with'): 1, ('cumin,', 'ginger,'): 1, ('and', 'turmeric.'): 1, ('turmeric.', 'The'): 1, ('a', 'tender,'): 1, ('tender,', 'aromatic'): 1, ('aromatic', 'dish'): 1, ('often', 'combining'): 1, ('combining', 'sweet'): 1, ('savory', 'elements'): 1, ('elements', '(for'): 1, ('(for', 'example,'): 1, ('example,', 'apricots'): 1, ('or', 'olives'): 1, ('olives', 'with'): 1, ('with', 'meat),'): 1, ('meat),', 'traditionally'): 1, ('Koshary', '(Koshari)'): 1, ('(Koshari)', 'is'): 1, ('filling', 'Egyptian'): 1, ('Egyptian', 'street'): 1, ('that', 'layers'): 1, ('layers', 'various'): 1, ('various', 'staples'): 1, ('staples', 'together.'): 1, ('together.', 'It'): 1, ('includes', 'rice,'): 1, ('rice,', 'macaroni'): 1, ('macaroni', 'pasta,'): 1, ('pasta,', 'and'): 1, ('and', 'lentils'): 1, ('lentils', 'at'): 1, ('its', 'base,'): 1, ('base,', 'topped'): 1, ('with', 'chickpeas'): 1, ('chickpeas', 'and'): 1, ('and', 'crispy'): 1, ('fried', 'onions.'): 1, ('onions.', 'A'): 1, ('A', 'tangy'): 1, ('tangy', 'spiced'): 1, ('a', 'splash'): 1, ('splash', 'of'): 1, ('of', 'garlic-vinegar'): 1, ('garlic-vinegar', 'dressing'): 1, ('dressing', 'are'): 1, ('are', 'poured'): 1, ('the', 'mix.'): 1, ('mix.', 'The'): 1, ('a', 'comforting,'): 1, ('comforting,', 'carb-rich'): 1, ('carb-rich', 'bowl'): 1, ('bowl', \"that's\"): 1, (\"that's\", 'enjoyed'): 1, ('quick', 'meal'): 1, ('meal', 'by'): 1, ('by', 'many'): 1, ('many', 'in'): 1, ('in', 'Egypt.'): 1, ('Ful', 'medames'): 1, ('traditional', 'Egyptian'): 1, ('Egyptian', 'breakfast'): 1, ('breakfast', 'dish'): 1, ('from', 'slow-cooked'): 1, ('fava', 'beans.'): 1, ('The', 'beans'): 1, ('simmered', 'until'): 1, ('until', 'soft'): 1, ('then', 'mashed'): 1, ('mashed', 'or'): 1, ('or', 'left'): 1, ('left', 'whole,'): 1, ('whole,', 'typically'): 1, ('typically', 'seasoned'): 1, ('with', 'olive'): 1, ('and', 'salt.'): 1, ('salt.', 'Often'): 1, ('Often', 'garnished'): 1, ('chopped', 'parsley,'): 1, ('parsley,', 'tomato,'): 1, ('tomato,', 'or'): 1, ('a', 'boiled'): 1, ('boiled', 'egg,'): 1, ('egg,', 'ful'): 1, ('ful', 'medames'): 1, ('nutritious', 'meal'): 1, ('meal', 'usually'): 1, ('usually', 'scooped'): 1, ('scooped', 'up'): 1, ('Shakshuka', 'is'): 1, ('a', 'North'): 1, ('North', 'African'): 1, ('African', 'and'): 1, ('and', 'Middle'): 1, ('Middle', 'Eastern'): 1, ('Eastern', 'dish'): 1, ('of', 'eggs'): 1, ('eggs', 'poached'): 1, ('poached', 'in'): 1, ('pepper', 'sauce.'): 1, ('The', 'base'): 1, ('base', 'is'): 1, ('simmering', 'tomatoes,'): 1, ('tomatoes,', 'bell'): 1, ('like', 'cumin'): 1, ('cumin', 'and'): 1, ('and', 'paprika'): 1, ('paprika', 'until'): 1, ('until', 'thick'): 1, ('and', 'rich.'): 1, ('rich.', 'Eggs'): 1, ('Eggs', 'are'): 1, ('are', 'cracked'): 1, ('cracked', 'into'): 1, ('into', 'this'): 1, ('this', 'savory'): 1, ('cooked', 'until'): 1, ('until', 'just'): 1, ('just', 'set.'): 1, ('set.', 'Served'): 1, ('Served', 'hot,'): 1, ('hot,', 'often'): 1, ('often', 'in'): 1, ('the', 'same'): 1, ('same', 'pan,'): 1, ('pan,', 'shakshuka'): 1, ('shakshuka', 'is'): 1, ('commonly', 'eaten'): 1, ('with', 'bread'): 1, ('bread', 'to'): 1, ('to', 'mop'): 1, ('mop', 'up'): 1, ('flavorful', 'sauce,'): 1, ('sauce,', 'making'): 1, ('popular', 'breakfast'): 1, ('or', 'brunch.'): 1, ('Brik', 'is'): 1, ('crispy', 'Tunisian'): 1, ('Tunisian', 'pastry'): 1, ('pastry', 'turnover'): 1, ('turnover', 'commonly'): 1, ('commonly', 'filled'): 1, ('with', 'egg'): 1, ('and', 'tuna.'): 1, ('tuna.', 'A'): 1, ('A', 'thin'): 1, ('thin', 'dough'): 1, ('dough', 'called'): 1, ('called', 'malsouka'): 1, ('malsouka', 'or'): 1, ('or', 'warqa'): 1, ('warqa', 'is'): 1, ('to', 'encase'): 1, ('encase', 'a'): 1, ('mixture', 'that'): 1, ('that', 'often'): 1, ('includes', 'a'): 1, ('whole', 'egg,'): 1, ('egg,', 'chopped'): 1, ('chopped', 'onions,'): 1, ('onions,', 'parsley,'): 1, ('parsley,', 'and'): 1, ('sometimes', 'capers'): 1, ('capers', 'or'): 1, ('or', 'ground'): 1, ('ground', 'meat.'): 1, ('The', 'filled'): 1, ('filled', 'packet'): 1, ('packet', 'is'): 1, ('is', 'then'): 1, ('then', 'deep'): 1, ('deep', 'fried'): 1, ('fried', 'to'): 1, ('brown.', 'Eaten'): 1, ('Eaten', 'hot,'): 1, ('hot,', 'brik'): 1, ('brik', 'has'): 1, ('a', 'satisfying'): 1, ('satisfying', 'crunch'): 1, ('crunch', 'on'): 1, ('a', 'savory,'): 1, ('savory,', 'soft'): 1, ('soft', 'filling.'): 1, ('Harira', 'is'): 1, ('a', 'warming'): 1, ('warming', 'Moroccan'): 1, ('Moroccan', 'soup'): 1, ('soup', 'made'): 1, ('tomatoes,', 'lentils,'): 1, ('often', 'small'): 1, ('meat', 'like'): 1, ('like', 'lamb.'): 1, ('lamb.', \"It's\"): 1, (\"It's\", 'seasoned'): 1, ('cumin,', 'turmeric,'): 1, ('turmeric,', 'and'): 1, ('and', 'cinnamon,'): 1, ('cinnamon,', 'giving'): 1, ('fragrant', 'aroma.'): 1, ('aroma.', 'This'): 1, ('This', 'hearty'): 1, ('hearty', 'soup'): 1, ('traditionally', 'eaten'): 1, ('eaten', 'to'): 1, ('to', 'break'): 1, ('break', 'the'): 1, ('the', 'fast'): 1, ('fast', 'during'): 1, ('during', 'Ramadan,'): 1, ('Ramadan,', 'often'): 1, ('often', 'accompanied'): 1, ('by', 'dates'): 1, ('dates', 'or'): 1, ('or', 'honeyed'): 1, ('honeyed', 'pastries,'): 1, ('pastries,', 'but'): 1, ('but', \"it's\"): 1, (\"it's\", 'enjoyed'): 1, ('enjoyed', 'year-round'): 1, ('year-round', 'as'): 1, ('as', 'well.'): 1, ('Pastilla', \"(B'stilla)\"): 1, (\"(B'stilla)\", 'is'): 1, ('savory', 'Moroccan'): 1, ('Moroccan', 'meat'): 1, ('meat', 'pie.'): 1, ('pie.', 'It'): 1, ('traditionally', 'made'): 1, ('with', 'pigeon'): 1, ('pigeon', 'or'): 1, ('chicken', 'meat'): 1, ('meat', 'cooked'): 1, ('and', 'layered'): 1, ('thin', 'flaky'): 1, ('flaky', 'pastry'): 1, ('pastry', 'called'): 1, ('called', 'warqa'): 1, ('warqa', 'along'): 1, ('with', 'an'): 1, ('an', 'egg-based'): 1, ('egg-based', 'sauce'): 1, ('crushed', 'almonds.'): 1, ('almonds.', 'The'): 1, ('The', 'pie'): 1, ('pie', 'is'): 1, ('is', 'baked'): 1, ('until', 'crisp'): 1, ('crisp', 'and'): 1, ('and', 'golden,'): 1, ('golden,', 'then'): 1, ('then', 'dusted'): 1, ('with', 'powdered'): 1, ('powdered', 'sugar'): 1, ('sugar', 'and'): 1, ('and', 'cinnamon.'): 1, ('cinnamon.', 'The'): 1, ('The', 'combination'): 1, ('and', 'sweet'): 1, ('sweet', 'topping'): 1, ('topping', 'makes'): 1, ('makes', 'pastilla'): 1, ('pastilla', 'a'): 1, ('unique', 'dish'): 1, ('often', 'reserved'): 1, ('reserved', 'for'): 1, ('for', 'special'): 1, ('special', 'occasions.'): 1, ('Molokhia', 'is'): 1, ('green', 'leafy'): 1, ('leafy', 'soup'): 1, ('soup', 'or'): 1, ('stew', 'popular'): 1, ('from', 'finely'): 1, ('chopped', 'jute'): 1, ('jute', 'leaves.'): 1, ('leaves.', 'The'): 1, ('a', 'broth'): 1, ('broth', 'often'): 1, ('with', 'garlic'): 1, ('garlic', 'and'): 1, ('and', 'coriander,'): 1, ('coriander,', 'resulting'): 1, ('slightly', 'viscous'): 1, ('viscous', 'soup.'): 1, ('soup.', 'It'): 1, ('commonly', 'prepared'): 1, ('chicken', 'or'): 1, ('or', 'rabbit,'): 1, ('rabbit,', 'and'): 1, ('with', 'flatbread,'): 1, ('flatbread,', 'offering'): 1, ('distinct', 'earthy'): 1, ('earthy', 'flavor'): 1, ('nutritious', 'meal.'): 1, ('Pap', 'is'): 1, ('thick', 'maize'): 1, ('staple', 'throughout'): 1, ('throughout', 'Southern'): 1, ('boiling', 'cornmeal'): 1, ('and', 'stirring'): 1, ('stirring', 'until'): 1, ('it', 'becomes'): 1, ('becomes', 'a'): 1, ('smooth,', 'stiff'): 1, ('stiff', 'porridge.'): 1, ('porridge.', 'Pap'): 1, ('Pap', '(known'): 1, ('(known', 'by'): 1, ('by', 'different'): 1, ('different', 'names'): 1, ('like', 'sadza'): 1, ('sadza', 'or'): 1, ('or', 'nshima'): 1, ('nshima', 'in'): 1, ('in', 'other'): 1, ('other', 'countries)'): 1, ('countries)', 'is'): 1, ('with', 'flavorful'): 1, ('flavorful', 'relishes,'): 1, ('relishes,', 'stews,'): 1, ('stews,', 'or'): 1, ('or', 'grilled'): 1, ('grilled', 'meats.'): 1, ('meats.', 'Diners'): 1, ('Diners', 'pinch'): 1, ('pinch', 'off'): 1, ('of', 'pap'): 1, ('pap', 'with'): 1, ('their', 'fingers'): 1, ('fingers', 'to'): 1, ('the', 'accompanying'): 1, ('accompanying', 'dishes.'): 1, ('Chakalaka', 'is'): 1, ('spicy', 'South'): 1, ('African', 'vegetable'): 1, ('vegetable', 'relish'): 1, ('relish', 'often'): 1, ('at', 'barbecues'): 1, ('barbecues', '(braais)'): 1, ('(braais)', 'and'): 1, ('and', 'with'): 1, ('with', 'staple'): 1, ('staple', 'foods'): 1, ('like', 'pap.'): 1, ('pap.', 'It'): 1, ('typically', 'consists'): 1, ('of', 'tomatoes,'): 1, ('onions,', 'bell'): 1, ('peppers,', 'carrots,'): 1, ('cooked', 'down'): 1, ('down', 'with'): 1, ('with', 'curry'): 1, ('for', 'heat.'): 1, ('tangy,', 'mildly'): 1, ('mildly', 'hot'): 1, ('hot', 'relish'): 1, ('relish', 'that'): 1, ('that', 'adds'): 1, ('adds', 'flavor'): 1, ('and', 'kick'): 1, ('kick', 'to'): 1, ('to', 'grilled'): 1, ('or', 'starches.'): 1, ('starches.', 'It'): 1, ('served', 'hot'): 1, ('hot', 'or'): 1, ('or', 'at'): 1, ('at', 'room'): 1, ('room', 'temperature'): 1, ('temperature', 'as'): 1, ('side', 'dish.'): 1, ('Bunny', 'chow'): 1, ('chow', 'is'): 1, ('African', 'fast'): 1, ('fast', 'food'): 1, ('of', 'Durban.'): 1, ('Durban.', 'It'): 1, ('hollowed-out', 'half'): 1, ('half', 'or'): 1, ('or', 'quarter'): 1, ('quarter', 'loaf'): 1, ('of', 'bread'): 1, ('filled', 'to'): 1, ('the', 'brim'): 1, ('brim', 'with'): 1, ('spicy', 'curry,'): 1, ('curry,', 'often'): 1, ('often', 'made'): 1, ('with', 'chicken,'): 1, ('chicken,', 'mutton,'): 1, ('mutton,', 'or'): 1, ('or', 'beans.'): 1, ('The', 'curry'): 1, ('curry', 'soaks'): 1, ('soaks', 'into'): 1, ('the', 'soft'): 1, ('soft', 'bread'): 1, ('bread', 'bowl,'): 1, ('bowl,', 'and'): 1, ('the', 'scooped-out'): 1, ('scooped-out', 'bread'): 1, ('bread', 'chunk'): 1, ('chunk', '(called'): 1, ('(called', 'the'): 1, ('the', '\"virgin\")'): 1, ('\"virgin\")', 'is'): 1, ('to', 'dip'): 1, ('dip', 'and'): 1, ('and', 'eat'): 1, ('flavorful', 'filling.'): 1, ('filling.', \"It's\"): 1, ('a', 'hearty,'): 1, ('hearty,', 'portable'): 1, ('portable', 'meal'): 1, ('meal', 'popular'): 1, ('popular', 'for'): 1, ('its', 'bold'): 1, ('bold', 'flavors.'): 1, ('Bobotie', 'is'): 1, ('classic', 'South'): 1, ('African', 'casserole'): 1, ('casserole', 'made'): 1, ('with', 'curried'): 1, ('minced', 'meat,'): 1, ('meat,', 'fruit,'): 1, ('fruit,', 'and'): 1, ('egg', 'topping.'): 1, ('topping.', 'Ground'): 1, ('Ground', 'beef'): 1, ('or', 'lamb'): 1, ('lamb', 'is'): 1, ('like', 'curry'): 1, ('and', 'turmeric,'): 1, ('turmeric,', 'plus'): 1, ('plus', 'additions'): 1, ('additions', 'such'): 1, ('as', 'onions,'): 1, ('and', 'dried'): 1, ('dried', 'fruit'): 1, ('fruit', '(often'): 1, ('(often', 'raisins'): 1, ('raisins', 'or'): 1, ('or', 'apricots)'): 1, ('apricots)', 'for'): 1, ('of', 'sweetness.'): 1, ('sweetness.', 'The'): 1, ('The', 'mixture'): 1, ('mixture', 'is'): 1, ('is', 'spread'): 1, ('spread', 'in'): 1, ('a', 'baking'): 1, ('baking', 'dish,'): 1, ('dish,', 'topped'): 1, ('of', 'egg'): 1, ('and', 'milk,'): 1, ('and', 'baked'): 1, ('until', 'set'): 1, ('set', 'and'): 1, ('and', 'golden.'): 1, ('golden.', 'The'): 1, ('a', 'savory-sweet'): 1, ('savory-sweet', 'dish,'): 1, ('dish,', 'usually'): 1, ('with', 'yellow'): 1, ('yellow', 'rice'): 1, ('and', 'chutney.'): 1, ('popular', 'Southern'): 1, ('Southern', 'African'): 1, ('African', 'snack'): 1, ('snack', 'of'): 1, ('of', 'cured,'): 1, ('cured,', 'dried'): 1, ('dried', 'meat,'): 1, ('meat,', 'similar'): 1, ('to', 'beef'): 1, ('beef', 'jerky.'): 1, ('jerky.', 'Strips'): 1, ('Strips', 'of'): 1, ('(often', 'beef,'): 1, ('beef,', 'but'): 1, ('also', 'game'): 1, ('game', 'like'): 1, ('like', 'kudu'): 1, ('kudu', 'or'): 1, ('or', 'ostrich)'): 1, ('ostrich)', 'are'): 1, ('in', 'vinegar'): 1, ('vinegar', 'and'): 1, ('as', 'salt,'): 1, ('salt,', 'coriander,'): 1, ('coriander,', 'and'): 1, ('and', 'pepper,'): 1, ('then', 'air-dried'): 1, ('air-dried', 'until'): 1, ('they', 'become'): 1, ('become', 'chewy'): 1, ('chewy', 'and'): 1, ('and', 'shelf-stable.'): 1, ('shelf-stable.', 'Biltong'): 1, ('is', 'high'): 1, ('and', 'flavor,'): 1, ('flavor,', 'making'): 1, ('a', 'favored'): 1, ('favored', 'snack'): 1, ('snack', 'for'): 1, ('for', 'road'): 1, ('road', 'trips,'): 1, ('trips,', 'hiking,'): 1, ('hiking,', 'or'): 1, ('or', 'enjoying'): 1, ('enjoying', 'with'): 1, ('a', 'drink.'): 1, ('Potjiekos,', 'meaning'): 1, ('meaning', '\"pot'): 1, ('\"pot', 'food\"'): 1, ('food\"', 'in'): 1, ('Afrikaans,', 'is'): 1, ('stew', 'cooked'): 1, ('cooked', 'outdoors'): 1, ('outdoors', 'in'): 1, ('a', 'cast-iron'): 1, ('cast-iron', 'pot.'): 1, ('pot.', 'Ingredients'): 1, ('Ingredients', 'like'): 1, ('like', 'meat'): 1, ('(often', 'beef'): 1, ('or', 'mutton),'): 1, ('mutton),', 'vegetables,'): 1, ('and', 'potatoes'): 1, ('potatoes', 'are'): 1, ('are', 'layered'): 1, ('pot', 'with'): 1, ('and', 'some'): 1, ('some', 'liquid,'): 1, ('liquid,', 'then'): 1, ('then', 'simmered'): 1, ('simmered', 'slowly'): 1, ('over', 'coals'): 1, ('coals', 'without'): 1, ('without', 'stirring.'): 1, ('stirring.', 'The'): 1, ('The', 'slow'): 1, ('slow', 'cooking'): 1, ('cooking', 'infuses'): 1, ('infuses', 'flavors'): 1, ('and', 'yields'): 1, ('yields', 'tender'): 1, ('tender', 'results.'): 1, ('results.', 'Served'): 1, ('Served', 'directly'): 1, ('directly', 'from'): 1, ('the', 'pot,'): 1, ('pot,', 'potjiekos'): 1, ('potjiekos', 'is'): 1, ('communal', 'dish'): 1, ('Boerewors', 'is'): 1, ('thick,', 'spiral-shaped'): 1, ('spiral-shaped', 'sausage'): 1, ('sausage', 'that'): 1, ('staple', 'of'): 1, ('African', 'cuisine,'): 1, ('cuisine,', 'especially'): 1, ('especially', 'at'): 1, ('at', 'braais'): 1, ('braais', '(barbecues).'): 1, ('(barbecues).', 'The'): 1, ('means', '\"farmer\\'s'): 1, ('\"farmer\\'s', 'sausage\"'): 1, ('sausage\"', 'in'): 1, ('Afrikaans,', 'and'): 1, ('from', 'coarsely'): 1, ('coarsely', 'ground'): 1, ('ground', 'beef'): 1, ('beef', '(sometimes'): 1, ('(sometimes', 'mixed'): 1, ('with', 'pork'): 1, ('pork', 'or'): 1, ('or', 'lamb)'): 1, ('lamb)', 'and'): 1, ('and', 'generously'): 1, ('generously', 'seasoned'): 1, ('like', 'coriander,'): 1, ('coriander,', 'black'): 1, ('black', 'pepper,'): 1, ('pepper,', 'and'): 1, ('and', 'nutmeg.'): 1, ('nutmeg.', 'Grilled'): 1, ('Grilled', 'over'): 1, ('charcoal,', 'boerewors'): 1, ('boerewors', 'is'): 1, ('and', 'flavorful,'): 1, ('flavorful,', 'often'): 1, ('with', 'pap'): 1, ('pap', 'or'): 1, ('or', 'on'): 1, ('a', 'bread'): 1, ('bread', 'roll'): 1, ('roll', 'with'): 1, ('with', 'mustard'): 1, ('mustard', 'and'): 1, ('and', 'relish.'): 1, ('Vetkoek', 'is'): 1, ('dough', 'bread.'): 1, ('bread.', 'The'): 1, ('The', 'word'): 1, ('word', '\"vetkoek\"'): 1, ('\"vetkoek\"', 'means'): 1, ('means', '\"fat'): 1, ('\"fat', 'cake\"'): 1, ('cake\"', 'in'): 1, ('Afrikaans,', 'reflecting'): 1, ('cooking', 'method'): 1, ('method', 'of'): 1, ('of', 'deep-frying'): 1, ('deep-frying', 'yeasted'): 1, ('yeasted', 'dough.'): 1, ('dough.', 'The'): 1, ('a', 'round,'): 1, ('round,', 'golden-brown'): 1, ('golden-brown', 'bread'): 1, ('bread', 'with'): 1, ('crispy', 'outside'): 1, ('soft', 'inside.'): 1, ('inside.', 'Vetkoek'): 1, ('Vetkoek', 'can'): 1, ('or', 'split'): 1, ('split', 'open'): 1, ('open', 'and'): 1, ('and', 'filled'): 1, ('with', 'savory'): 1, ('savory', 'mince'): 1, ('mince', 'curry'): 1, ('curry', 'or'): 1, ('or', 'spread'): 1, ('spread', 'with'): 1, ('with', 'butter'): 1, ('butter', 'and'): 1, ('and', 'jam'): 1, ('jam', 'for'): 1, ('sweet', 'treat.'): 1, ('sweet', 'dessert'): 1, ('dessert', 'from'): 1, ('its', 'moist'): 1, ('moist', 'texture'): 1, ('rich', 'taste.'): 1, ('a', 'baked'): 1, ('baked', 'sponge'): 1, ('sponge', 'pudding'): 1, ('with', 'apricot'): 1, ('apricot', 'jam'): 1, ('jam', 'in'): 1, ('the', 'batter,'): 1, ('batter,', 'which'): 1, ('which', 'gives'): 1, ('gives', 'it'): 1, ('distinct', 'flavor'): 1, ('and', 'caramelized'): 1, ('caramelized', 'exterior.'): 1, ('exterior.', 'After'): 1, ('After', 'baking,'): 1, ('baking,', 'a'): 1, ('warm', 'butter-cream'): 1, ('butter-cream', 'sauce'): 1, ('is', 'poured'): 1, ('the', 'pudding,'): 1, ('pudding,', 'allowing'): 1, ('to', 'soak'): 1, ('soak', 'in'): 1, ('in', 'and'): 1, ('and', 'become'): 1, ('become', 'sticky'): 1, ('sticky', 'and'): 1, ('and', 'soft.'): 1, ('soft.', 'Malva'): 1, ('served', 'warm'): 1, ('warm', 'with'): 1, ('with', 'custard'): 1, ('custard', 'or'): 1, ('or', 'ice'): 1, ('ice', 'cream.'): 1, ('Peri-peri', 'chicken'): 1, ('spicy', 'grilled'): 1, ('grilled', 'chicken'): 1, ('chicken', 'dish'): 1, ('of', 'Southern'): 1, ('especially', 'Mozambique'): 1, ('Mozambique', 'and'): 1, ('is', 'marinated'): 1, ('fiery', 'sauce'): 1, ('from', 'peri-peri'): 1, ('peri-peri', 'chili'): 1, ('chili', 'peppers'): 1, ('peppers', '(also'): 1, ('(also', 'known'): 1, ('as', 'piri-piri),'): 1, ('piri-piri),', 'garlic,'): 1, ('garlic,', 'lemon,'): 1, ('lemon,', 'and'): 1, ('and', 'herbs,'): 1, ('herbs,', 'then'): 1, ('grilled', 'or'): 1, ('or', 'roasted.'): 1, ('roasted.', 'The'): 1, ('juicy', 'chicken'): 1, ('chicken', 'with'): 1, ('flavorful', 'kick'): 1, ('kick', 'of'): 1, ('and', 'tang.'): 1, ('tang.', 'Often'): 1, ('with', 'fries,'): 1, ('fries,', 'rice,'): 1, ('a', 'salad,'): 1, ('salad,', 'peri-peri'): 1, ('peri-peri', 'chicken'): 1, ('chicken', 'has'): 1, ('has', 'gained'): 1, ('gained', 'international'): 1, ('international', 'fame'): 1, ('fame', 'and'): 1, ('at', 'many'): 1, ('many', 'barbecues.'): 1, ('traditional', 'Mozambican'): 1, ('Mozambican', 'dish'): 1, ('from', 'cassava'): 1, ('leaves', 'cooked'): 1, ('peanut', 'sauce.'): 1, ('The', 'finely'): 1, ('chopped', 'cassava'): 1, ('peanuts', '(or'): 1, ('(or', 'peanut'): 1, ('peanut', 'butter),'): 1, ('butter),', 'garlic,'): 1, ('often', 'coconut'): 1, ('coconut', 'milk,'): 1, ('milk,', 'which'): 1, ('which', 'creates'): 1, ('creates', 'a'): 1, ('creamy', 'green'): 1, ('green', 'stew.'): 1, ('stew.', 'Sometimes'): 1, ('Sometimes', 'shrimp'): 1, ('shrimp', 'or'): 1, ('or', 'crab'): 1, ('crab', 'is'): 1, ('added', 'for'): 1, ('flavor.', 'Matapa'): 1, ('with', 'rice'): 1, ('or', 'xima'): 1, ('xima', '(a'): 1, ('(a', 'cornmeal'): 1, ('cornmeal', 'porridge),'): 1, ('porridge),', 'offering'): 1, ('hearty', 'meal'): 1, ('meal', 'with'): 1, ('a', 'nutty'): 1, ('nutty', 'and'): 1, ('sweet', 'taste.'): 1, ('are', 'small'): 1, ('small', 'dried'): 1, ('dried', 'freshwater'): 1, ('freshwater', 'fish,'): 1, ('fish,', 'a'): 1, ('popular', 'staple'): 1, ('in', 'Zimbabwe'): 1, ('Zimbabwe', 'and'): 1, ('and', 'Zambia.'): 1, ('Zambia.', 'The'): 1, ('The', 'tiny'): 1, ('tiny', 'fish'): 1, ('fish', '(similar'): 1, ('to', 'sardines)'): 1, ('sardines)', 'are'): 1, ('often', 'sun-dried'): 1, ('sun-dried', 'to'): 1, ('to', 'preserve'): 1, ('preserve', 'them.'): 1, ('them.', 'To'): 1, ('To', 'prepare,'): 1, ('prepare,', 'they'): 1, ('typically', 'fried'): 1, ('spices', 'to'): 1, ('savory', 'relish.'): 1, ('relish.', 'Kapenta'): 1, ('are', 'eaten'): 1, ('eaten', 'alongside'): 1, ('alongside', 'sadza'): 1, ('sadza', '(maize'): 1, ('(maize', 'porridge)'): 1, ('porridge)', 'or'): 1, ('or', 'rice,'): 1, ('rice,', 'providing'): 1, ('a', 'crunchy'): 1, ('crunchy', 'texture'): 1, ('a', 'concentrated'): 1, ('concentrated', 'fish'): 1, ('fish', 'flavor'): 1, ('A', 'koeksister'): 1, ('koeksister', 'is'): 1, ('African', 'pastry,'): 1, ('pastry,', 'cherished'): 1, ('cherished', 'for'): 1, ('unique', 'texture'): 1, ('sweetness.', 'It'): 1, ('from', 'braided'): 1, ('braided', 'dough'): 1, ('dough', 'that'): 1, ('until', \"it's\"): 1, (\"it's\", 'golden'): 1, ('golden', 'and'): 1, ('and', 'crisp.'): 1, ('crisp.', 'Immediately'): 1, ('Immediately', 'after'): 1, ('after', 'frying,'): 1, ('frying,', 'the'): 1, ('the', 'hot'): 1, ('hot', 'pastry'): 1, ('pastry', 'is'): 1, ('is', 'submerged'): 1, ('submerged', 'in'): 1, ('in', 'ice-cold'): 1, ('ice-cold', 'sugar'): 1, ('sugar', 'syrup,'): 1, ('syrup,', 'which'): 1, ('the', 'secret'): 1, ('secret', 'to'): 1, ('distinctive', 'character.'): 1, ('character.', 'This'): 1, ('This', 'gives'): 1, ('gives', 'the'): 1, ('the', 'koeksister'): 1, ('koeksister', 'a'): 1, ('a', 'crunchy,'): 1, ('crunchy,', 'syrup-soaked'): 1, ('syrup-soaked', 'exterior'): 1, ('inside', 'remains'): 1, ('remains', 'soft'): 1, ('and', 'doughy.'): 1, ('doughy.', 'This'): 1, ('This', 'delightful'): 1, ('delightful', 'treat'): 1, ('treat', 'is'): 1, ('beloved', 'staple'): 1, ('at', 'South'): 1, ('African', 'gatherings,'): 1, ('gatherings,', 'often'): 1, ('of', 'coffee'): 1, ('coffee', 'or'): 1, ('or', 'tea.'): 1, ('Bissap', 'is'): 1, ('hibiscus', 'flowers.'): 1, ('flowers.', 'The'): 1, ('The', 'petals'): 1, ('petals', 'are'): 1, ('boiled', 'and'): 1, ('and', 'sweetened'): 1, ('or', 'mint)'): 1, ('mint)', 'to'): 1, ('bright', 'red,'): 1, ('red,', 'tangy'): 1, ('tangy', 'beverage.'): 1, ('beverage.', 'Served'): 1, ('Served', 'chilled,'): 1, ('chilled,', 'bissap'): 1, ('bissap', 'is'): 1, ('is', 'very'): 1, ('very', 'refreshing'): 1, ('social', 'gatherings'): 1, ('a', 'street-side'): 1, ('street-side', 'refreshment,'): 1, ('refreshment,', 'known'): 1, ('known', 'in'): 1, ('some', 'regions'): 1, ('regions', 'as'): 1, ('as', 'hibiscus'): 1, ('or', 'by'): 1, ('by', 'other'): 1, ('other', 'names'): 1, ('like', 'sobolo'): 1, ('sobolo', 'or'): 1, ('or', 'zobo.'): 1, ('traditional', 'naturally'): 1, ('naturally', 'fermented'): 1, ('fermented', 'drink'): 1, ('the', 'sap'): 1, ('sap', 'of'): 1, ('of', 'palm'): 1, ('palm', 'trees.'): 1, ('trees.', 'The'): 1, ('The', 'fresh'): 1, ('fresh', 'sap'): 1, ('sap', 'is'): 1, ('is', 'collected'): 1, ('collected', 'by'): 1, ('by', 'tapping'): 1, ('tapping', 'the'): 1, ('tree', 'and'): 1, ('sweet', 'taste;'): 1, ('taste;', 'it'): 1, ('it', 'then'): 1, ('then', 'ferments'): 1, ('ferments', 'quickly,'): 1, ('quickly,', 'resulting'): 1, ('a', 'milky-white'): 1, ('milky-white', 'beverage'): 1, ('slight', 'fizz'): 1, ('fizz', 'and'): 1, ('content.', 'Palm'): 1, ('many', 'West'): 1, ('African', 'communities,'): 1, ('communities,', 'often'): 1, ('served', 'fresh'): 1, ('fresh', 'in'): 1, ('in', 'calabashes'): 1, ('calabashes', 'or'): 1, ('bottles', 'and'): 1, ('and', 'used'): 1, ('and', 'gatherings.'): 1, ('Ginger', 'beer'): 1, ('beer', 'in'): 1, ('African', 'context'): 1, ('context', 'refers'): 1, ('a', 'spicy,'): 1, ('spicy,', 'homemade'): 1, ('homemade', 'ginger'): 1, ('ginger', 'drink'): 1, ('that', 'can'): 1, ('be', 'non-alcoholic'): 1, ('non-alcoholic', 'or'): 1, ('lightly', 'fermented.'): 1, ('fermented.', 'It'): 1, ('steeping', 'crushed'): 1, ('crushed', 'ginger'): 1, ('ginger', 'root'): 1, ('root', 'in'): 1, ('in', 'water'): 1, ('sometimes', 'adding'): 1, ('adding', 'pineapple'): 1, ('pineapple', 'peels'): 1, ('peels', 'or'): 1, ('or', 'chili'): 1, ('extra', 'flavor)'): 1, ('flavor)', 'and'): 1, ('to', 'brew.'): 1, ('brew.', 'The'): 1, ('a', 'refreshing,'): 1, ('refreshing,', 'fizzy'): 1, ('fizzy', 'beverage'): 1, ('strong', 'ginger'): 1, ('ginger', 'kick,'): 1, ('kick,', 'served'): 1, ('cold', 'to'): 1, ('quench', 'thirst'): 1, ('mildly', 'sweet,'): 1, ('sweet,', 'non-alcoholic'): 1, ('non-alcoholic', 'drink'): 1, ('drink', 'from'): 1, ('from', 'northern'): 1, ('northern', 'Nigeria'): 1, ('Nigeria', 'made'): 1, ('grains', 'like'): 1, ('like', 'millet'): 1, ('or', 'sorghum.'): 1, ('sorghum.', 'The'): 1, ('The', 'grains'): 1, ('grains', 'are'): 1, ('are', 'soaked,'): 1, ('soaked,', 'ground,'): 1, ('ground,', 'and'): 1, ('as', 'ginger'): 1, ('sometimes', 'cloves'): 1, ('cloves', 'or'): 1, ('or', 'pepper,'): 1, ('then', 'left'): 1, ('left', 'to'): 1, ('ferment', 'slightly.'): 1, ('slightly.', 'After'): 1, ('After', 'straining,'): 1, ('straining,', 'the'): 1, ('the', 'drink'): 1, ('drink', 'has'): 1, ('smooth,', 'creamy'): 1, ('creamy', 'texture'): 1, ('enjoyed', 'chilled.'): 1, ('chilled.', 'Kunu'): 1, ('is', 'filling'): 1, ('filling', 'and'): 1, ('nutritious,', 'often'): 1, ('refreshing', 'beverage'): 1, ('beverage', 'on'): 1, ('traditional', 'drink'): 1, ('drink', 'in'): 1, ('especially', 'among'): 1, ('the', 'Fulani'): 1, ('Fulani', 'people.'): 1, ('people.', 'It'): 1, ('of', 'fura'): 1, ('fura', '(small'): 1, ('(small', 'millet'): 1, ('millet', 'dough'): 1, ('dough', 'balls)'): 1, ('balls)', 'blended'): 1, ('blended', 'into'): 1, ('into', 'nono'): 1, ('nono', '(fermented'): 1, ('(fermented', \"cow's\"): 1, (\"cow's\", 'milk)'): 1, ('milk)', 'to'): 1, ('a', 'smoothie-like'): 1, ('smoothie-like', 'beverage.'): 1, ('is', 'thick,'): 1, ('sour,', 'and'): 1, ('be', 'spiced'): 1, ('or', 'chili.'): 1, ('chili.', 'Fura'): 1, ('filling,', 'often'): 1, ('light', 'meal'): 1, ('meal', 'or'): 1, ('or', 'to'): 1, ('cool', 'off'): 1, ('off', 'in'): 1, ('hot', 'weather.'): 1, ('a', 'fruity'): 1, ('fruity', 'non-alcoholic'): 1, ('non-alcoholic', 'punch'): 1, ('punch', 'that'): 1, ('in', 'Nigeria,'): 1, ('Nigeria,', 'commonly'): 1, ('at', 'parties'): 1, ('parties', 'and'): 1, ('and', 'bars.'): 1, ('bars.', \"It's\"): 1, (\"It's\", 'made'): 1, ('mixing', 'fizzy'): 1, ('fizzy', 'orange'): 1, ('orange', 'soda'): 1, ('soda', 'and'): 1, ('and', 'clear'): 1, ('clear', 'soda'): 1, ('soda', '(like'): 1, ('(like', 'lemon-lime)'): 1, ('lemon-lime)', 'with'): 1, ('with', 'blackcurrant'): 1, ('blackcurrant', 'syrup'): 1, ('syrup', '(such'): 1, ('as', 'Ribena)'): 1, ('Ribena)', 'or'): 1, ('or', 'grenadine,'): 1, ('grenadine,', 'plus'): 1, ('plus', 'a'): 1, ('a', 'dash'): 1, ('dash', 'of'): 1, ('of', 'Angostura'): 1, ('Angostura', 'bitters'): 1, ('bitters', 'for'): 1, ('for', 'complexity.'): 1, ('complexity.', 'The'): 1, ('is', 'bright'): 1, ('bright', 'reddish-orange'): 1, ('reddish-orange', 'and'): 1, ('large', 'mug'): 1, ('mug', 'filled'): 1, ('with', 'ice,'): 1, ('ice,', 'garnished'): 1, ('with', 'slices'): 1, ('of', 'cucumber,'): 1, ('cucumber,', 'orange,'): 1, ('orange,', 'and'): 1, ('of', 'lemon.'): 1, ('lemon.', 'Sweet'): 1, ('Sweet', 'and'): 1, ('tangy,', 'Chapman'): 1, ('a', 'go-to'): 1, ('go-to', 'cocktail'): 1, ('cocktail', 'for'): 1, ('for', 'those'): 1, ('who', 'want'): 1, ('want', 'a'): 1, ('a', 'festive'): 1, ('festive', 'drink'): 1, ('drink', 'without'): 1, ('without', 'alcohol.'): 1, ('Pito', 'is'): 1, ('African', 'beer'): 1, ('fermented', 'cereal'): 1, ('cereal', 'grains,'): 1, ('grains,', 'commonly'): 1, ('commonly', 'sorghum'): 1, ('or', 'millet.'): 1, ('millet.', 'It'): 1, ('like', 'Ghana'): 1, ('Ghana', 'and'): 1, ('and', 'Nigeria'): 1, ('Nigeria', 'by'): 1, ('by', 'first'): 1, ('first', 'malting'): 1, ('the', 'grains,'): 1, ('grains,', 'then'): 1, ('then', 'boiling'): 1, ('boiling', 'and'): 1, ('and', 'fermenting'): 1, ('fermenting', 'them.'): 1, ('them.', 'The'): 1, ('The', 'resulting'): 1, ('resulting', 'drink'): 1, ('a', 'cloudy,'): 1, ('cloudy,', 'light-brown'): 1, ('light-brown', 'beer'): 1, ('beer', 'with'): 1, ('yeasty', 'flavor'): 1, ('content.', 'Often'): 1, ('Often', 'home-brewed'): 1, ('home-brewed', 'and'): 1, ('and', 'sold'): 1, ('sold', 'locally'): 1, ('locally', '(sometimes'): 1, ('(sometimes', 'in'): 1, ('in', 'calabash'): 1, ('calabash', 'gourds),'): 1, ('gourds),', 'pito'): 1, ('pito', 'is'): 1, ('at', 'communal'): 1, ('communal', 'gatherings'): 1, ('and', 'festivals.'): 1, ('Ataya', '(Attaya)'): 1, ('(Attaya)', 'is'): 1, ('strong', 'green'): 1, ('tea', 'ritual'): 1, ('ritual', 'popular'): 1, ('like', 'Senegal,'): 1, ('Senegal,', 'Gambia,'): 1, ('Gambia,', 'and'): 1, ('and', 'Mauritania.'): 1, ('Mauritania.', 'Gunpowder'): 1, ('Gunpowder', 'green'): 1, ('brewed', 'and'): 1, ('and', 'repeatedly'): 1, ('repeatedly', 'poured'): 1, ('poured', 'between'): 1, ('between', 'small'): 1, ('create', 'foam,'): 1, ('foam,', 'then'): 1, ('then', 'heavily'): 1, ('heavily', 'sweetened'): 1, ('sugar.', 'Served'): 1, ('Served', 'in'): 1, ('in', 'three'): 1, ('three', 'rounds'): 1, ('rounds', '(each'): 1, ('(each', 'glass'): 1, ('glass', 'often'): 1, ('often', 'stronger'): 1, ('stronger', 'or'): 1, ('or', 'more'): 1, ('more', 'bitter'): 1, ('bitter', 'than'): 1, ('the', 'last),'): 1, ('last),', 'ataya'): 1, ('ataya', 'is'): 1, ('as', 'much'): 1, ('much', 'about'): 1, ('social', 'ceremony'): 1, ('ceremony', 'and'): 1, ('and', 'time'): 1, ('time', 'spent'): 1, ('spent', 'with'): 1, ('with', 'friends'): 1, ('friends', 'as'): 1, ('is', 'about'): 1, ('the', 'tea'): 1, ('tea', 'itself.'): 1, ('Bouye', 'is'): 1, ('creamy,', 'sweet'): 1, ('the', 'baobab'): 1, ('baobab', 'tree,'): 1, ('tree,', 'popular'): 1, ('like', 'Senegal.'): 1, ('The', 'baobab'): 1, ('fruit', 'pulp'): 1, ('pulp', 'is'): 1, ('is', 'soaked'): 1, ('soaked', 'and'): 1, ('and', 'dissolved'): 1, ('dissolved', 'in'): 1, ('in', 'water,'): 1, ('then', 'mixed'): 1, ('or', 'sugar'): 1, ('smooth', 'beverage.'): 1, ('beverage.', 'It'): 1, ('a', 'pale'): 1, ('pale', 'color'): 1, ('tangy,', 'slightly'): 1, ('slightly', 'pear-like'): 1, ('pear-like', 'or'): 1, ('or', 'citrusy'): 1, ('citrusy', 'taste.'): 1, ('taste.', 'Served'): 1, ('Served', 'cold,'): 1, ('cold,', 'bouye'): 1, ('bouye', 'is'): 1, ('nutritious,', 'as'): 1, ('as', 'baobab'): 1, ('in', 'vitamins.'): 1, ('coffee', \"isn't\"): 1, (\"isn't\", 'just'): 1, ('a', 'drink'): 1, ('drink', 'but'): 1, ('but', 'part'): 1, ('a', 'ceremonial'): 1, ('ceremonial', 'experience'): 1, ('experience', 'in'): 1, ('in', 'Ethiopia.'): 1, ('Ethiopia.', 'Coffee'): 1, ('Coffee', 'beans'): 1, ('are', 'roasted'): 1, ('roasted', 'over'): 1, ('a', 'fire,'): 1, ('fire,', 'then'): 1, ('then', 'ground'): 1, ('ground', 'and'): 1, ('and', 'brewed'): 1, ('traditional', 'clay'): 1, ('pot', 'called'): 1, ('a', 'jebena.'): 1, ('jebena.', 'The'): 1, ('a', 'strong,'): 1, ('strong,', 'rich'): 1, ('rich', 'coffee'): 1, ('coffee', 'often'): 1, ('in', 'small'): 1, ('small', 'cups'): 1, ('cups', 'and'): 1, ('like', 'cardamom'): 1, ('cardamom', 'or'): 1, ('alongside', 'popcorn.'): 1, ('popcorn.', 'The'): 1, ('coffee', 'ceremony'): 1, ('ceremony', 'involves'): 1, ('involves', 'multiple'): 1, ('multiple', 'rounds'): 1, ('rounds', 'of'): 1, ('of', 'pouring,'): 1, ('pouring,', 'emphasizing'): 1, ('emphasizing', 'hospitality'): 1, ('hospitality', 'and'): 1, ('and', 'community.'): 1, ('Mohammed', 'was'): 1, ('hearty', 'plate'): 1, ('of', 'Shakshuka,'): 1, ('Shakshuka,', 'drawn'): 1, ('the', 'spicy'): 1, ('of', 'poached'): 1, ('poached', 'eggs'): 1, ('eggs', 'simmering'): 1, ('simmering', 'in'): 1, ('bustling', 'café.'): 1, ('Aisha', 'was'): 1, ('of', 'Ful'): 1, ('Ful', 'medames,'): 1, ('medames,', 'lured'): 1, ('savory', 'scent'): 1, ('of', 'slow-cooked'): 1, ('fava', 'beans'): 1, ('beans', 'stewed'): 1, ('stewed', 'in'): 1, ('in', 'olive'): 1, ('olive', 'oil'): 1, ('lemon', 'juice'): 1, ('juice', 'at'): 1, ('at', 'her'): 1, ('her', 'local'): 1, ('Tunde', 'was'): 1, ('for', 'crispy'): 1, ('crispy', 'Akara,'): 1, ('Akara,', 'the'): 1, ('the', 'deep-fried'): 1, ('deep-fried', 'bean'): 1, ('fritters', 'that'): 1, ('that', 'a'): 1, ('vendor', 'was'): 1, ('was', 'preparing'): 1, ('preparing', 'with'): 1, ('with', 'freshly'): 1, ('freshly', 'blended'): 1, ('black-eyed', 'peas,'): 1, ('peas,', 'onions,'): 1, ('Nia', 'was'): 1, ('for', 'warm'): 1, ('warm', 'Mandazi,'): 1, ('Mandazi,', 'tempted'): 1, ('tempted', 'by'): 1, ('the', 'sweet,'): 1, ('sweet,', 'aromatic'): 1, ('aromatic', 'scent'): 1, ('freshly', 'fried'): 1, ('dough', 'buns'): 1, ('buns', 'spiced'): 1, ('with', 'cardamom'): 1, ('cardamom', 'at'): 1, ('a', 'neighborhood'): 1, ('neighborhood', 'bakery.'): 1, ('Samuel', 'was'): 1, ('of', 'Bobotie,'): 1, ('Bobotie,', 'guided'): 1, ('of', 'curried'): 1, ('minced', 'meat'): 1, ('meat', 'baked'): 1, ('baked', 'with'): 1, ('egg', 'topping'): 1, ('topping', 'at'): 1, ('a', 'family-run'): 1, ('family-run', 'restaurant.'): 1, ('Aminata', 'was'): 1, ('of', 'Harira,'): 1, ('Harira,', 'enticed'): 1, ('enticed', 'by'): 1, ('the', 'robust'): 1, ('robust', 'flavors'): 1, ('a', 'tomato-based'): 1, ('tomato-based', 'soup'): 1, ('soup', 'simmered'): 1, ('with', 'lentils,'): 1, ('meat', 'in'): 1, ('a', 'cozy'): 1, ('cozy', 'eatery.'): 1, ('Kwesi', 'was'): 1, ('for', 'Doro'): 1, ('Wat,', 'captivated'): 1, ('captivated', 'by'): 1, ('the', 'deep,'): 1, ('deep,', 'aromatic'): 1, ('spices', 'of'): 1, ('an', 'Ethiopian'): 1, ('chicken', 'stew'): 1, ('stew', 'simmered'): 1, ('simmered', 'to'): 1, ('to', 'perfection'): 1, ('perfection', 'and'): 1, ('with', 'injera'): 1, ('injera', 'at'): 1, ('local', 'diner.'): 1, ('Zainab', 'was'): 1, ('for', 'sambusa,'): 1, ('sambusa,', 'lured'): 1, ('crispy,', 'savory'): 1, ('savory', 'pastries'): 1, ('pastries', 'stuffed'): 1, ('with', 'spiced'): 1, ('vegetables', 'freshly'): 1, ('freshly', 'made'): 1, ('vendor', 'in'): 1, ('busy', 'market.'): 1, ('for', 'dodo,'): 1, ('dodo,', 'the'): 1, ('that', 'perfectly'): 1, ('perfectly', 'accompanied'): 1, ('accompanied', 'the'): 1, ('the', 'hearty'): 1, ('stew', 'he'): 1, ('he', 'craved'): 1, ('craved', 'at'): 1, ('small', 'roadside'): 1, ('roadside', 'diner.'): 1, ('Yara', 'was'): 1, ('for', 'Fura'): 1, ('da', 'nono,'): 1, ('nono,', 'a'): 1, ('drink', 'blending'): 1, ('blending', 'fermented'): 1, ('milk', 'with'): 1, ('with', 'millet'): 1, ('millet', 'dough,'): 1, ('dough,', 'offering'): 1, ('and', 'tangy'): 1, ('tangy', 'remedy'): 1, ('remedy', 'on'): 1, ('Kenyan', 'chai'): 1, ('chai', 'is'): 1, ('a', 'milky,'): 1, ('milky,', 'spiced'): 1, ('tea', 'enjoyed'): 1, ('enjoyed', 'commonly'): 1, ('commonly', 'in'): 1, ('Africa.', 'Black'): 1, ('Black', 'tea'): 1, ('tea', 'leaves'): 1, ('water,', 'milk,'): 1, ('sugar,', 'often'): 1, ('often', 'along'): 1, ('as', 'ginger,'): 1, ('ginger,', 'cinnamon,'): 1, ('cinnamon,', 'or'): 1, ('or', 'cardamom'): 1, ('cardamom', '(similar'): 1, ('to', 'masala'): 1, ('masala', 'chai).'): 1, ('chai).', 'The'): 1, ('hot,', 'creamy'): 1, ('creamy', 'tea'): 1, ('tea', 'with'): 1, ('comforting', 'aroma'): 1, ('aroma', 'and'): 1, ('a', 'balance'): 1, ('of', 'sweet'): 1, ('spicy', 'flavors.'): 1, ('flavors.', \"It's\"): 1, (\"It's\", 'typically'): 1, ('in', 'mugs'): 1, ('mugs', 'and'): 1, ('and', 'enjoyed'): 1, ('at', 'breakfast'): 1, ('or', 'any'): 1, ('any', 'time'): 1, ('time', 'of'): 1, ('of', 'day'): 1, ('day', 'as'): 1, ('soothing', 'drink.'): 1, ('Ethiopian', 'honey'): 1, ('honey', 'wine'): 1, ('wine', '(mead).'): 1, ('(mead).', 'It'): 1, ('fermenting', 'honey'): 1, ('honey', 'with'): 1, ('or', 'bark'): 1, ('bark', 'of'): 1, ('a', 'plant'): 1, ('plant', 'called'): 1, ('called', 'gesho,'): 1, ('gesho,', 'which'): 1, ('which', 'acts'): 1, ('natural', 'yeast'): 1, ('yeast', 'and'): 1, ('and', 'adds'): 1, ('adds', 'a'): 1, ('slight', 'bitter'): 1, ('bitter', 'note.'): 1, ('note.', 'The'): 1, ('a', 'golden,'): 1, ('golden,', 'sweet'): 1, ('sweet', 'wine'): 1, ('wine', 'with'): 1, ('with', 'varying'): 1, ('varying', 'alcohol'): 1, ('alcohol', 'strength,'): 1, ('strength,', 'often'): 1, ('often', 'home-brewed.'): 1, ('home-brewed.', 'Tej'): 1, ('a', 'rounded'): 1, ('rounded', 'vase-like'): 1, ('vase-like', 'glass'): 1, ('glass', 'called'): 1, ('a', 'berele'): 1, ('berele', 'and'): 1, ('customary', 'drink'): 1, ('drink', 'at'): 1, ('at', 'Ethiopian'): 1, ('Ethiopian', 'festivities.'): 1, ('a', 'home-brewed'): 1, ('home-brewed', 'beer'): 1, ('from', 'Ethiopia,'): 1, ('Ethiopia,', 'made'): 1, ('grains', 'such'): 1, ('as', 'teff,'): 1, ('teff,', 'barley,'): 1, ('barley,', 'or'): 1, ('or', 'sorghum,'): 1, ('sorghum,', 'and'): 1, ('and', 'fermented'): 1, ('fermented', 'with'): 1, ('the', 'help'): 1, ('help', 'of'): 1, ('of', 'gesho'): 1, ('gesho', '(a'): 1, ('(a', 'local'): 1, ('local', 'hop-like'): 1, ('hop-like', 'herb).'): 1, ('herb).', 'The'): 1, ('process', 'involves'): 1, ('involves', 'malting'): 1, ('the', 'grain,'): 1, ('grain,', 'brewing'): 1, ('brewing', 'it'): 1, ('and', 'gesho,'): 1, ('gesho,', 'and'): 1, ('several', 'days.'): 1, ('days.', 'Tella'): 1, ('usually', 'dark,'): 1, ('dark,', 'cloudy,'): 1, ('cloudy,', 'and'): 1, ('mildly', 'sour,'): 1, ('sour,', 'malty'): 1, ('malty', 'taste'): 1, ('with', 'low'): 1, ('content.', 'It'): 1, ('for', 'local'): 1, ('local', 'celebrations'): 1, ('traditional', 'fermented'): 1, ('milk', 'beverage'): 1, ('beverage', 'from'): 1, ('from', 'Kenya,'): 1, ('Kenya,', 'particularly'): 1, ('particularly', 'among'): 1, ('the', 'Kalenjin'): 1, ('Kalenjin', 'community.'): 1, ('community.', 'Fresh'): 1, ('Fresh', \"cow's\"): 1, ('is', 'stored'): 1, ('stored', 'in'): 1, ('special', 'gourd'): 1, ('gourd', 'that'): 1, ('been', 'treated'): 1, ('treated', 'with'): 1, ('with', 'burnt'): 1, ('burnt', 'herbs,'): 1, ('herbs,', 'which'): 1, ('which', 'lends'): 1, ('lends', 'a'): 1, ('unique', 'smoky'): 1, ('smoky', 'flavor'): 1, ('flavor', 'to'): 1, ('the', 'fermenting'): 1, ('fermenting', 'milk.'): 1, ('milk.', 'Over'): 1, ('Over', 'several'): 1, ('the', 'milk'): 1, ('milk', 'turns'): 1, ('yogurt-like', 'drink.'): 1, ('drink.', 'Mursik'): 1, ('consumed', 'during'): 1, ('during', 'ceremonies'): 1, ('ceremonies', 'or'): 1, ('after', 'intense'): 1, ('intense', 'activities,'): 1, ('activities,', 'valued'): 1, ('nutritious', 'qualities.'): 1, ('Dawa', 'is'): 1, ('popular', 'cocktail'): 1, ('cocktail', 'in'): 1, ('Kenya,', 'with'): 1, ('a', 'name'): 1, ('name', 'that'): 1, ('that', 'means'): 1, ('means', '\"medicine\"'): 1, ('\"medicine\"', 'in'): 1, ('Swahili,', 'hinting'): 1, ('its', 'soothing'): 1, ('soothing', 'effect.'): 1, ('effect.', 'The'): 1, ('by', 'muddling'): 1, ('muddling', 'lime'): 1, ('lime', 'wedges'): 1, ('wedges', 'with'): 1, ('with', 'honey,'): 1, ('honey,', 'then'): 1, ('then', 'adding'): 1, ('adding', 'vodka'): 1, ('vodka', 'and'): 1, ('crushed', 'ice.'): 1, ('ice.', 'It'): 1, ('stick', '(often'): 1, ('(often', 'coated'): 1, ('in', 'honey)'): 1, ('honey)', 'used'): 1, ('to', 'stir'): 1, ('stir', 'and'): 1, ('and', 'dissolve'): 1, ('dissolve', 'the'): 1, ('the', 'honey.'): 1, ('honey.', 'Tangy,'): 1, ('Tangy,', 'sweet,'): 1, ('and', 'strong,'): 1, ('strong,', 'the'): 1, ('the', 'Dawa'): 1, ('Dawa', 'cocktail'): 1, ('cocktail', 'is'): 1, ('Kenyan', 'bars'): 1, ('bars', 'and'): 1, ('and', 'restaurants.'): 1, ('traditional', 'Rwandan'): 1, ('Rwandan', 'beer'): 1, ('fermented', 'bananas.'): 1, ('bananas.', 'Ripe'): 1, ('Ripe', 'bananas'): 1, ('bananas', 'are'): 1, ('are', 'mashed'): 1, ('mashed', 'and'): 1, ('sometimes', 'sorghum'): 1, ('or', 'millet'): 1, ('millet', 'flour'): 1, ('flour', 'is'): 1, ('to', 'introduce'): 1, ('introduce', 'wild'): 1, ('wild', 'yeast'): 1, ('yeast', 'for'): 1, ('for', 'fermentation.'): 1, ('fermentation.', 'After'): 1, ('After', 'fermenting'): 1, ('fermenting', 'for'): 1, ('few', 'days,'): 1, ('the', 'mixture'): 1, ('mixture', 'turns'): 1, ('mildly', 'alcoholic'): 1, ('alcoholic', 'beverage'): 1, ('and', 'yeasty'): 1, ('yeasty', 'flavor.'): 1, ('flavor.', 'Urwagwa'): 1, ('for', 'community'): 1, ('community', 'events'): 1, ('events', 'and'): 1, ('and', 'celebrations,'): 1, ('celebrations,', 'served'): 1, ('in', 'gourds'): 1, ('gourds', 'or'): 1, ('bottles', 'among'): 1, ('among', 'friends'): 1, ('friends', 'and'): 1, ('and', 'family.'): 1, ('staple', 'beverage'): 1, ('beverage', 'for'): 1, ('for', 'many'): 1, ('many', 'nomadic'): 1, ('nomadic', 'communities'): 1, ('communities', 'in'): 1, ('Africa', '(and'): 1, ('(and', 'parts'): 1, ('North', 'Africa).'): 1, ('Africa).', 'It'): 1, ('usually', 'consumed'): 1, ('consumed', 'fresh'): 1, ('fresh', 'and'): 1, ('nutritional', 'value.'): 1, ('value.', 'Camel'): 1, ('milk', 'has'): 1, ('taste', 'similar'): 1, ('to', \"cow's\"): 1, ('milk', 'but'): 1, ('but', 'slightly'): 1, ('slightly', 'saltier'): 1, ('saltier', 'and'): 1, ('sometimes', 'described'): 1, ('described', 'as'): 1, ('as', 'having'): 1, ('having', 'a'): 1, ('a', 'faint'): 1, ('faint', 'sweetness.'): 1, ('sweetness.', 'Rich'): 1, ('Rich', 'in'): 1, ('in', 'vitamins'): 1, ('minerals,', 'it'): 1, ('in', 'tea'): 1, ('other', 'preparations,'): 1, ('preparations,', 'providing'): 1, ('providing', 'hydration'): 1, ('and', 'nourishment'): 1, ('nourishment', 'in'): 1, ('arid', 'regions.'): 1, ('tea', 'brewed'): 1, ('brewed', 'with'): 1, ('fresh', 'spearmint'): 1, ('spearmint', 'leaves'): 1, ('and', 'plenty'): 1, ('plenty', 'of'): 1, ('of', 'sugar,'): 1, ('sugar,', 'a'): 1, ('of', 'hospitality'): 1, ('hospitality', 'in'): 1, ('North', 'Africa.'): 1, ('The', 'tea'): 1, ('traditionally', 'prepared'): 1, ('steeping', 'gunpowder'): 1, ('gunpowder', 'green'): 1, ('and', 'mint'): 1, ('mint', 'in'): 1, ('in', 'boiling'): 1, ('boiling', 'water,'): 1, ('then', 'pouring'): 1, ('pouring', 'it'): 1, ('it', 'from'): 1, ('height', 'into'): 1, ('into', 'small'): 1, ('light', 'foam.'): 1, ('foam.', 'The'): 1, ('hot,', 'sweet,'): 1, ('and', 'refreshing'): 1, ('drink', 'with'): 1, ('strong', 'minty'): 1, ('minty', 'aroma,'): 1, ('aroma,', 'enjoyed'): 1, ('day', 'and'): 1, ('often', 'offered'): 1, ('offered', 'to'): 1, ('to', 'guests'): 1, ('guests', 'upon'): 1, ('upon', 'arrival.'): 1, ('Karkadé', 'is'): 1, ('popular', 'hibiscus'): 1, ('tea', 'in'): 1, ('and', 'Sudan,'): 1, ('Sudan,', 'made'): 1, ('hibiscus', 'flower'): 1, ('flower', 'petals.'): 1, ('petals.', 'When'): 1, ('When', 'boiled,'): 1, ('boiled,', 'the'): 1, ('the', 'petals'): 1, ('petals', 'turn'): 1, ('turn', 'the'): 1, ('water', 'a'): 1, ('deep', 'ruby'): 1, ('ruby', 'red;'): 1, ('red;', 'sugar'): 1, ('sugar', 'is'): 1, ('the', 'natural'): 1, ('natural', 'tartness,'): 1, ('tartness,', 'yielding'): 1, ('yielding', 'a'): 1, ('a', 'sweet-tart'): 1, ('sweet-tart', 'flavor'): 1, ('flavor', 'similar'): 1, ('to', 'cranberry'): 1, ('cranberry', 'juice.'): 1, ('juice.', 'Karkadé'): 1, ('Karkadé', 'can'): 1, ('served', 'chilled'): 1, ('chilled', 'over'): 1, ('ice', 'as'): 1, ('or', 'enjoyed'): 1, ('enjoyed', 'warm.'): 1, ('warm.', \"It's\"): 1, (\"It's\", 'commonly'): 1, ('served', 'during'): 1, ('during', 'festivities'): 1, ('festivities', 'and'): 1, ('and', 'also'): 1, ('also', 'as'): 1, ('a', 'daily'): 1, ('daily', 'thirst-quencher,'): 1, ('thirst-quencher,', 'appreciated'): 1, ('appreciated', 'for'): 1, ('vibrant', 'taste'): 1, ('and', 'color.'): 1, ('Sugarcane', 'juice'): 1, ('by', 'crushing'): 1, ('crushing', 'sugarcane'): 1, ('sugarcane', 'stalks'): 1, ('stalks', 'to'): 1, ('to', 'extract'): 1, ('extract', 'the'): 1, ('the', 'liquid.'): 1, ('liquid.', 'Popular'): 1, ('Popular', 'in'): 1, ('many', 'African'): 1, ('African', 'countries,'): 1, ('countries,', 'especially'): 1, ('North', 'and'): 1, ('and', 'East'): 1, ('Africa,', 'vendors'): 1, ('vendors', 'use'): 1, ('use', 'presses'): 1, ('presses', 'to'): 1, ('to', 'squeeze'): 1, ('squeeze', 'out'): 1, ('the', 'pale'): 1, ('pale', 'green'): 1, ('green', 'juice'): 1, ('juice', 'on'): 1, ('the', 'spot.'): 1, ('spot.', 'The'): 1, ('The', 'juice'): 1, ('often', 'strained'): 1, ('strained', 'and'): 1, ('served', 'cold,'): 1, ('cold,', 'sometimes'): 1, ('sometimes', 'with'): 1, ('of', 'lemon'): 1, ('lemon', 'or'): 1, ('or', 'ginger'): 1, ('ginger', 'for'): 1, ('extra', 'zing.'): 1, ('zing.', \"It's\"): 1, ('refreshing', 'energy'): 1, ('energy', 'booster'): 1, ('booster', 'on'): 1, ('hot', 'days,'): 1, ('days,', 'offering'): 1, ('a', 'raw'): 1, ('raw', 'sugary'): 1, ('sugary', 'taste'): 1, ('with', 'hints'): 1, ('hints', 'of'): 1, ('of', 'grassiness'): 1, ('grassiness', 'from'): 1, ('the', 'cane.'): 1, ('Rooibos', 'tea'): 1, ('caffeine-free', 'herbal'): 1, ('tea', 'from'): 1, ('leaves', 'of'): 1, ('the', 'rooibos'): 1, ('rooibos', '(red'): 1, ('(red', 'bush)'): 1, ('bush)', 'plant.'): 1, ('plant.', 'The'): 1, ('are', 'fermented'): 1, ('fermented', 'and'): 1, ('and', 'dried,'): 1, ('dried,', 'giving'): 1, ('giving', 'them'): 1, ('them', 'a'): 1, ('reddish-brown', 'color.'): 1, ('color.', 'When'): 1, ('When', 'brewed,'): 1, ('brewed,', 'rooibos'): 1, ('rooibos', 'produces'): 1, ('produces', 'a'): 1, ('a', 'warm,'): 1, ('warm,', 'reddish'): 1, ('reddish', 'infusion'): 1, ('infusion', 'with'): 1, ('smooth,', 'slightly'): 1, ('nutty', 'flavor.'): 1, ('flavor.', \"It's\"): 1, (\"It's\", 'often'): 1, ('milk', 'and'): 1, ('is', 'valued'): 1, ('its', 'calming,'): 1, ('calming,', 'antioxidant-rich'): 1, ('antioxidant-rich', 'properties.'): 1, ('traditional', 'Xhosa'): 1, ('Xhosa', 'and'): 1, ('and', 'Zulu'): 1, ('Zulu', 'beer'): 1, ('Africa,', 'brewed'): 1, ('brewed', 'from'): 1, ('maize', '(corn),'): 1, ('(corn),', 'maize'): 1, ('maize', 'malt,'): 1, ('malt,', 'sorghum'): 1, ('sorghum', 'malt,'): 1, ('malt,', 'yeast,'): 1, ('yeast,', 'and'): 1, ('and', 'water.'): 1, ('The', 'beer'): 1, ('beer', 'is'): 1, ('is', 'thick'): 1, ('and', 'opaque'): 1, ('opaque', 'with'): 1, ('a', 'porridge-like'): 1, ('porridge-like', 'consistency'): 1, ('yeasty', 'taste.'): 1, ('alcohol', 'content'): 1, ('in', 'vitamin'): 1, ('vitamin', 'B.'): 1, ('B.', 'Umqombothi'): 1, ('usually', 'brewed'): 1, ('brewed', 'at'): 1, ('at', 'home'): 1, ('home', 'in'): 1, ('large', 'containers'): 1, ('containers', 'and'): 1, ('communal', 'clay'): 1, ('clay', 'pot.'): 1, ('pot.', 'It'): 1, ('It', 'plays'): 1, ('plays', 'an'): 1, ('an', 'important'): 1, ('important', 'role'): 1, ('and', 'gatherings,'): 1, ('gatherings,', 'where'): 1, ('where', \"it's\"): 1, (\"it's\", 'shared'): 1, ('shared', 'among'): 1, ('among', 'family'): 1, ('family', 'and'): 1, ('and', 'friends.'): 1, ('Mageu', '(Mahewu)'): 1, ('(Mahewu)', 'is'): 1, ('a', 'non-alcoholic'): 1, ('non-alcoholic', 'fermented'): 1, ('fermented', 'maize'): 1, ('maize', 'drink'): 1, ('fermenting', 'thin'): 1, ('thin', 'porridge'): 1, ('porridge', 'made'): 1, ('maize', 'meal'): 1, ('meal', 'until'): 1, ('it', 'develops'): 1, ('develops', 'a'): 1, ('taste.', 'The'): 1, ('The', 'final'): 1, ('final', 'product'): 1, ('product', 'is'): 1, ('smooth,', 'yogurt-like'): 1, ('yogurt-like', 'beverage'): 1, ('of', 'sugar.'): 1, ('sugar.', 'Mageu'): 1, ('Mageu', 'is'): 1, ('cold', 'and'): 1, ('filling,', 'commonly'): 1, ('commonly', 'consumed'): 1, ('nutritious', 'drink'): 1, ('or', 'light'): 1, ('light', 'meal.'): 1, ('Amarula', 'is'): 1, ('creamy', 'liqueur'): 1, ('liqueur', 'from'): 1, ('the', 'marula'): 1, ('marula', 'tree.'): 1, ('tree.', 'The'): 1, ('The', 'marula'): 1, ('marula', 'fruit'): 1, ('is', 'distilled'): 1, ('distilled', 'into'): 1, ('a', 'spirit'): 1, ('then', 'blended'): 1, ('blended', 'with'): 1, ('with', 'cream'): 1, ('cream', 'and'): 1, ('sugar,', 'creating'): 1, ('a', 'sweet,'): 1, ('sweet,', 'silky'): 1, ('silky', 'drink.'): 1, ('drink.', 'Amarula'): 1, ('Amarula', 'has'): 1, ('light', 'caramel'): 1, ('caramel', 'color'): 1, ('taste', 'reminiscent'): 1, ('reminiscent', 'of'): 1, ('of', 'caramel'): 1, ('caramel', 'and'): 1, ('and', 'fruit,'): 1, ('fruit,', 'with'): 1, ('of', 'citrus'): 1, ('citrus', 'from'): 1, ('the', 'marula.'): 1, ('marula.', 'It'): 1, ('typically', 'enjoyed'): 1, ('enjoyed', 'neat'): 1, ('neat', 'over'): 1, ('ice', 'or'): 1, ('in', 'cocktails'): 1, ('cocktails', 'and'): 1, ('and', 'desserts.'): 1, ('desserts.', 'While'): 1, ('While', \"it's\"): 1, ('a', 'commercial'): 1, ('commercial', 'product,'): 1, ('product,', \"it's\"): 1, (\"it's\", 'deeply'): 1, ('the', 'region'): 1, ('region', 'where'): 1, ('where', 'marula'): 1, ('marula', 'fruits'): 1, ('fruits', 'are'): 1, ('are', 'harvested.'): 1, ('Amasi', 'is'): 1, ('milk', 'drink'): 1, ('Africa', '(known'): 1, ('(known', 'as'): 1, ('as', 'maas'): 1, ('maas', 'in'): 1, ('in', 'Afrikaans).'): 1, ('Afrikaans).', \"Cow's\"): 1, (\"Cow's\", 'milk'): 1, ('is', 'allowed'): 1, ('allowed', 'to'): 1, ('ferment', 'naturally'): 1, ('naturally', 'in'): 1, ('a', 'container,'): 1, ('container,', 'turning'): 1, ('turning', 'into'): 1, ('yogurt-like', 'beverage.'): 1, ('creamy,', 'tart'): 1, ('tart', 'liquid'): 1, ('liquid', 'with'): 1, ('with', 'curds,'): 1, ('curds,', 'similar'): 1, ('to', 'buttermilk.'): 1, ('buttermilk.', 'Amasi'): 1, ('Amasi', 'can'): 1, ('or', 'mixed'): 1, ('with', 'mealie'): 1, ('mealie', 'meal'): 1, ('meal', '(maize'): 1, ('(maize', 'meal)'): 1, ('meal)', 'to'): 1, ('quick', 'meal.'): 1, ('meal.', \"It's\"): 1, (\"It's\", 'valued'): 1, ('valued', 'both'): 1, ('both', 'for'): 1, ('refreshing', 'taste'): 1, ('nutritional', 'benefits.'): 1, ('hearty', 'slow-cooked'): 1, ('from', 'Cape'): 1, ('Cape', 'Verde,'): 1, ('Verde,', 'an'): 1, ('off', 'West'): 1, ('West', 'Africa.'): 1, ('with', 'dried'): 1, ('dried', 'corn'): 1, ('corn', 'kernels'): 1, ('kernels', '(hominy)'): 1, ('(hominy)', 'and'): 1, ('beans', 'as'): 1, ('base,', 'slow'): 1, ('slow', 'simmered'): 1, ('like', 'sweet'): 1, ('sweet', 'potatoes,'): 1, ('potatoes,', 'cassava,'): 1, ('cassava,', 'squash,'): 1, ('squash,', 'and'): 1, ('and', 'whichever'): 1, ('whichever', 'meats'): 1, ('fish', 'are'): 1, ('are', 'available'): 1, ('available', '(often'): 1, ('(often', 'pork,'): 1, ('pork,', 'sausage,'): 1, ('sausage,', 'or'): 1, ('or', 'tuna).'): 1, ('tuna).', 'The'): 1, ('with', 'herbs'): 1, ('of', 'paprika,'): 1, ('paprika,', 'resulting'): 1, ('rich,', 'comforting'): 1, ('comforting', 'dish.'): 1, ('dish.', 'Cachupa'): 1, ('considered', 'Cape'): 1, ('Cape', \"Verde's\"): 1, (\"Verde's\", 'national'): 1, ('dish', 'and'): 1, ('family', 'meal,'): 1, ('meal,', 'with'): 1, ('with', 'leftovers'): 1, ('leftovers', 'refried'): 1, ('refried', 'for'): 1, ('breakfast', 'in'): 1, ('dish', 'called'): 1, ('called', 'Cachupa'): 1, ('Cachupa', 'refogada.'): 1, ('Jide', 'felt'): 1, ('felt', 'an'): 1, ('an', 'intense'): 1, ('intense', 'hunger'): 1, ('hunger', 'after'): 1, ('day', 'of'): 1, ('of', 'work.'): 1, ('work.', 'His'): 1, ('His', 'stomach'): 1, ('stomach', 'rumbled'): 1, ('rumbled', 'as'): 1, ('he', 'wandered'): 1, ('wandered', 'the'): 1, ('the', 'lively'): 1, ('lively', 'streets,'): 1, ('streets,', 'following'): 1, ('following', 'the'): 1, ('simmering', 'tomatoes'): 1, ('spices.', 'Soon,'): 1, ('Soon,', 'he'): 1, ('he', 'arrived'): 1, ('arrived', 'at'): 1, ('bustling', 'food'): 1, ('food', 'stall'): 1, ('stall', 'serving'): 1, ('serving', 'steaming'): 1, ('steaming', 'hot'): 1, ('hot', 'Jollof'): 1, ('rice,', 'a'): 1, ('to', 'fill'): 1, ('fill', 'his'): 1, ('his', 'empty'): 1, ('empty', 'stomach.'): 1, (\"Kofi's\", 'hunger'): 1, ('hunger', 'drove'): 1, ('drove', 'him'): 1, ('to', 'explore'): 1, ('explore', 'the'): 1, ('local', 'market.'): 1, ('market.', 'The'): 1, ('The', 'scent'): 1, ('of', 'roasted'): 1, ('roasted', 'melon'): 1, ('seeds', 'and'): 1, ('simmering', 'greens'): 1, ('greens', 'led'): 1, ('small', 'eatery'): 1, ('eatery', 'where'): 1, ('where', 'a'): 1, ('rich', 'bowl'): 1, ('soup', 'was'): 1, ('being', 'prepared.'): 1, ('prepared.', 'The'): 1, ('hearty', 'stew,'): 1, ('stew,', 'filled'): 1, ('with', 'tender'): 1, ('local', 'spices,'): 1, ('spices,', 'promised'): 1, ('to', 'ease'): 1, ('ease', 'his'): 1, ('his', 'hunger.'): 1, ('a', 'busy'): 1, ('busy', 'morning,'): 1, ('morning,', 'Amina'): 1, ('Amina', 'felt'): 1, ('the', 'pangs'): 1, ('pangs', 'of'): 1, ('of', 'hunger'): 1, ('hunger', 'and'): 1, ('and', 'set'): 1, ('a', 'quest'): 1, ('quest', 'for'): 1, ('quick,', 'flavorful'): 1, ('flavorful', 'meal.'): 1, ('meal.', 'Her'): 1, ('Her', 'eyes'): 1, ('eyes', 'caught'): 1, ('caught', 'a'): 1, ('vendor', 'grilling'): 1, ('grilling', 'skewers'): 1, ('skewers', 'of'): 1, ('meat', 'known'): 1, ('as', 'Suya,'): 1, ('Suya,', 'offering'): 1, ('perfect', 'balance'): 1, ('smoky', 'flavor.'): 1, (\"Chinedu's\", 'hunger'): 1, ('hunger', 'was'): 1, ('was', 'matched'): 1, ('matched', 'only'): 1, ('only', 'by'): 1, ('his', 'longing'): 1, ('longing', 'for'): 1, ('for', 'comfort'): 1, ('comfort', 'food.'): 1, ('food.', 'In'): 1, ('village', 'eatery,'): 1, ('eatery,', 'he'): 1, ('he', 'found'): 1, ('found', 'freshly'): 1, ('freshly', 'pounded'): 1, ('Fufu', 'paired'): 1, ('savory', 'stew.'): 1, ('stew.', 'Each'): 1, ('bite', 'filled'): 1, ('filled', 'him'): 1, ('him', 'with'): 1, ('with', 'warmth'): 1, ('warmth', 'and'): 1, ('and', 'reminded'): 1, ('reminded', 'him'): 1, ('him', 'of'): 1, ('day', 'under'): 1, ('the', 'sun,'): 1, ('sun,', \"Thabo's\"): 1, (\"Thabo's\", 'hunger'): 1, ('hunger', 'led'): 1, ('local', 'restaurant'): 1, ('restaurant', 'where'): 1, ('tangy', 'aroma'): 1, ('marinated', 'chicken'): 1, ('a', 'lemon'): 1, ('onion', 'sauce'): 1, ('sauce', 'filled'): 1, ('air.', 'The'): 1, ('The', 'Chicken'): 1, ('Yassa', 'he'): 1, ('he', 'ordered'): 1, ('ordered', 'was'): 1, ('both', 'zesty'): 1, ('zesty', 'and'): 1, ('and', 'deeply'): 1, ('deeply', 'satisfying.'): 1, ('Zuri,', 'parched'): 1, ('parched', 'from'): 1, ('long', 'walk'): 1, ('walk', 'in'): 1, ('the', 'heat,'): 1, ('heat,', 'searched'): 1, ('searched', 'for'): 1, ('refreshing', 'drink.'): 1, ('drink.', 'The'): 1, ('red', 'Bissap,'): 1, ('Bissap,', 'made'): 1, ('from', 'steeped'): 1, ('steeped', 'hibiscus'): 1, ('hibiscus', 'flowers'): 1, ('flowers', 'and'): 1, ('and', 'lightly'): 1, ('lightly', 'sweetened,'): 1, ('sweetened,', 'quenched'): 1, ('and', 'revitalized'): 1, ('revitalized', 'her'): 1, ('her', 'spirit.'): 1, ('hot', 'afternoon,'): 1, ('afternoon,', 'Kofi,'): 1, ('Kofi,', 'after'): 1, ('hours', 'in'): 1, ('fields,', 'stumbled'): 1, ('stumbled', 'upon'): 1, ('upon', 'a'): 1, ('a', 'gathering'): 1, ('where', 'freshly'): 1, ('wine', 'was'): 1, ('being', 'served.'): 1, ('served.', 'The'): 1, ('The', 'sweet,'): 1, ('sweet,', 'slightly'): 1, ('tangy', 'drink'): 1, ('drink', 'offered'): 1, ('instant', 'relief'): 1, ('relief', 'and'): 1, ('of', 'tradition.'): 1, ('Following', 'a'): 1, ('a', 'strenuous'): 1, ('strenuous', 'day'): 1, ('day', 'at'): 1, ('the', 'market,'): 1, ('market,', 'Amina'): 1, ('Amina', 'sought'): 1, ('out', 'something'): 1, ('something', 'cool'): 1, ('cool', 'to'): 1, ('to', 'drink.'): 1, ('drink.', 'She'): 1, ('She', 'opted'): 1, ('opted', 'for'): 1, ('of', 'homemade'): 1, ('homemade', 'Ginger'): 1, ('beer,', 'whose'): 1, ('spicy', 'tang'): 1, ('tang', 'and'): 1, ('and', 'fizz'): 1, ('fizz', 'provided'): 1, ('provided', 'the'): 1, ('perfect', 'refreshment'): 1, ('refreshment', 'to'): 1, ('quench', 'her'): 1, ('her', 'thirst.'): 1, ('the', 'midst'): 1, ('midst', 'of'): 1, ('bustling', 'village'): 1, ('village', 'festival,'): 1, ('festival,', 'Chinedu,'): 1, ('Chinedu,', 'feeling'): 1, ('feeling', 'the'): 1, ('the', 'oppressive'): 1, ('oppressive', 'heat,'): 1, ('heat,', 'looked'): 1, ('looked', 'for'): 1, ('cool', 'down.'): 1, ('down.', 'A'): 1, ('A', 'friend'): 1, ('friend', 'handed'): 1, ('handed', 'him'): 1, ('him', 'a'): 1, ('of', 'Kunu,'): 1, ('Kunu,', 'a'): 1, ('smooth,', 'fermented'): 1, ('fermented', 'millet'): 1, ('millet', 'beverage'): 1, ('instant', 'relief.'): 1, ('a', 'morning'): 1, ('morning', 'of'): 1, ('of', 'hard'): 1, ('hard', 'labor,'): 1, ('labor,', 'Thabo'): 1, ('Thabo', 'sought'): 1, ('local', 'tea'): 1, ('tea', 'vendor.'): 1, ('vendor.', 'He'): 1, ('He', 'found'): 1, ('found', 'a'): 1, ('chai,', 'rich'): 1, ('and', 'cardamom,'): 1, ('cardamom,', 'that'): 1, ('warmed', 'him'): 1, ('him', 'up'): 1, ('up', 'and'): 1, ('and', 'quenched'): 1, ('quenched', 'his'): 1, ('his', 'thirst'): 1, ('cool', 'day.'): 1, ('The', 'Kalahari'): 1, ('a', 'vast,'): 1, ('vast,', 'semi-arid'): 1, ('semi-arid', 'sandy'): 1, ('sandy', 'savanna'): 1, ('savanna', 'in'): 1, ('Africa,', 'extending'): 1, ('extending', 'approximately'): 1, ('approximately', '900,000'): 1, ('900,000', 'square'): 1, ('kilometers', '(350,000'): 1, ('(350,000', 'sq'): 1, ('mi)', 'and'): 1, ('and', 'covering'): 1, ('covering', 'much'): 1, ('much', 'of'): 1, ('of', 'Botswana,'): 1, ('Botswana,', 'as'): 1, ('as', 'parts'): 1, ('of', 'Namibia'): 1, ('Namibia', 'and'): 1, ('Its', 'name,'): 1, ('name,', 'derived'): 1, ('derived', 'from'): 1, ('the', 'Tswana'): 1, ('Tswana', 'word'): 1, ('word', 'Kgalagadi'): 1, ('Kgalagadi', 'meaning'): 1, ('meaning', \"'the\"): 1, (\"'the\", 'great'): 1, ('great', \"thirst,'\"): 1, (\"thirst,'\", 'aptly'): 1, ('describes', 'this'): 1, ('this', 'expansive'): 1, ('expansive', 'landscape'): 1, ('landscape', 'characterized'): 1, ('iconic', 'red'): 1, ('red', 'sand'): 1, ('dunes', 'and'): 1, ('the', 'general'): 1, ('general', 'absence'): 1, ('absence', 'of'): 1, ('of', 'permanent'): 1, ('permanent', 'surface'): 1, ('surface', 'water.'): 1, ('water.', 'Despite'): 1, ('Despite', 'its'): 1, ('its', 'arid'): 1, ('arid', 'nature,'): 1, ('nature,', 'the'): 1, ('is', 'not'): 1, ('not', 'a'): 1, ('true', 'desert'): 1, ('desert', 'as'): 1, ('it', 'receives'): 1, ('receives', 'small'): 1, ('of', 'rainfall'): 1, ('rainfall', 'and'): 1, ('and', 'supports'): 1, ('a', 'surprisingly'): 1, ('surprisingly', 'diverse'): 1, ('of', 'flora'): 1, ('fauna.', 'It'): 1, ('to', 'unique,'): 1, ('unique,', 'drought-tolerant'): 1, ('drought-tolerant', 'vegetation'): 1, ('vegetation', 'like'): 1, ('like', 'grasses,'): 1, ('grasses,', 'thorny'): 1, ('thorny', 'shrubs,'): 1, ('shrubs,', 'and'): 1, ('and', 'acacia'): 1, ('acacia', 'trees,'): 1, ('trees,', 'and'): 1, ('remarkable', 'array'): 1, ('of', 'wildlife,'): 1, ('including', 'Kalahari'): 1, ('Kalahari', 'lions,'): 1, ('cheetahs,', 'gemsbok,'): 1, ('gemsbok,', 'meerkats,'): 1, ('meerkats,', 'and'): 1, ('and', 'numerous'): 1, ('numerous', 'bird'): 1, ('bird', 'species.'): 1, ('species.', 'The'): 1, ('The', 'region'): 1, ('region', 'has'): 1, ('the', 'ancestral'): 1, ('ancestral', 'home'): 1, ('home', 'of'): 1, ('the', 'San'): 1, ('San', 'people'): 1, ('people', 'for'): 1, ('for', 'millennia'): 1, ('millennia', 'and'): 1, ('and', 'contains'): 1, ('contains', 'several'): 1, ('several', 'significant'): 1, ('significant', 'conservation'): 1, ('conservation', 'areas,'): 1, ('areas,', 'most'): 1, ('notably', 'the'): 1, ('the', 'Central'): 1, ('Central', 'Kalahari'): 1, ('Kalahari', 'Game'): 1, ('Game', 'Reserve'): 1, ('Reserve', 'and'): 1, ('the', 'Kgalagadi'): 1, ('Kgalagadi', 'Transfrontier'): 1, ('Transfrontier', 'Park.'): 1, ('Lake', 'Malawi,'): 1, ('Malawi,', 'also'): 1, ('as', 'Lake'): 1, ('Lake', 'Nyasa,'): 1, ('Nyasa,', 'is'): 1, ('African', 'Great'): 1, ('Lakes', 'located'): 1, ('Rift', 'Valley.'): 1, ('Valley.', 'It'): 1, ('the', 'third-largest'): 1, ('third-largest', 'lake'): 1, ('in', 'Africa,'): 1, ('Africa,', 'bordering'): 1, ('bordering', 'Malawi,'): 1, ('Malawi,', 'Mozambique,'): 1, ('Mozambique,', 'and'): 1, ('The', 'lake'): 1, ('is', 'globally'): 1, ('globally', 'renowned'): 1, ('exceptional', 'biodiversity,'): 1, ('biodiversity,', 'containing'): 1, ('containing', 'more'): 1, ('more', 'species'): 1, ('fish', 'than'): 1, ('than', 'any'): 1, ('any', 'other'): 1, ('other', 'lake'): 1, ('world.', 'A'): 1, ('A', 'vast'): 1, ('vast', 'majority'): 1, ('majority', 'of'): 1, ('of', 'these'): 1, ('these', 'are'): 1, ('are', 'cichlids,'): 1, ('cichlids,', 'with'): 1, ('with', 'hundreds'): 1, ('hundreds', 'of'): 1, ('of', 'species'): 1, ('species', 'being'): 1, ('being', 'endemic,'): 1, ('endemic,', 'meaning'): 1, ('meaning', 'they'): 1, ('are', 'found'): 1, ('found', 'nowhere'): 1, ('nowhere', 'else'): 1, ('else', 'on'): 1, ('Earth.', 'Due'): 1, ('Due', 'to'): 1, ('ecosystem,', 'a'): 1, ('is', 'designated'): 1, ('designated', 'as'): 1, ('Site,', 'and'): 1, ('it', 'serves'): 1, ('vital', 'resource'): 1, ('resource', 'for'): 1, ('the', 'millions'): 1, ('people', 'living'): 1, ('living', 'along'): 1, ('along', 'its'): 1, ('its', 'shores.'): 1, ('Nile', 'is'): 1, ('major', 'north-flowing'): 1, ('north-flowing', 'river'): 1, ('northeastern', 'Africa,'): 1, ('widely', 'regarded'): 1, ('regarded', 'as'): 1, ('the', 'longest'): 1, ('longest', 'river'): 1, ('has', 'historically'): 1, ('historically', 'been'): 1, ('the', 'lifeblood'): 1, ('lifeblood', 'of'): 1, ('of', 'civilizations,'): 1, ('civilizations,', 'most'): 1, ('notably', 'ancient'): 1, ('ancient', 'Egypt,'): 1, ('Egypt,', 'by'): 1, ('by', 'providing'): 1, ('and', 'fertile'): 1, ('land', 'for'): 1, ('for', 'agriculture.'): 1, ('agriculture.', 'The'): 1, ('The', 'river'): 1, ('river', 'has'): 1, ('has', 'two'): 1, ('two', 'main'): 1, ('main', 'tributaries:'): 1, ('tributaries:', 'the'): 1, ('White', 'Nile,'): 1, ('which', 'originates'): 1, ('originates', 'from'): 1, ('Lakes', 'region'): 1, ('region', 'of'): 1, ('of', 'central'): 1, ('central', 'Africa,'): 1, ('the', 'Blue'): 1, ('Blue', 'Nile,'): 1, ('which', 'begins'): 1, ('begins', 'in'): 1, ('Highlands.', 'These'): 1, ('These', 'two'): 1, ('two', 'branches'): 1, ('branches', 'merge'): 1, ('merge', 'in'): 1, ('in', 'Khartoum,'): 1, ('Khartoum,', 'the'): 1, ('the', 'capital'): 1, ('capital', 'of'): 1, ('of', 'Sudan,'): 1, ('Sudan,', 'to'): 1, ('to', 'form'): 1, ('form', 'the'): 1, ('the', 'single'): 1, ('single', 'river'): 1, ('river', 'that'): 1, ('that', 'then'): 1, ('then', 'flows'): 1, ('flows', 'through'): 1, ('the', 'deserts'): 1, ('deserts', 'of'): 1, ('of', 'Egypt'): 1, ('Egypt', 'to'): 1, ('the', 'Mediterranean'): 1, ('Mediterranean', 'Sea.'): 1, ('Sea.', 'Today,'): 1, ('the', 'Nile'): 1, ('Nile', 'continues'): 1, ('continues', 'to'): 1, ('vital', 'resource,'): 1, ('resource,', 'supporting'): 1, ('supporting', 'millions'): 1, ('people', 'across'): 1, ('across', 'eleven'): 1, ('eleven', 'countries'): 1, ('countries', 'with'): 1, ('water', 'for'): 1, ('for', 'drinking,'): 1, ('drinking,', 'irrigation,'): 1, ('irrigation,', 'and'): 1, ('and', 'hydroelectric'): 1, ('hydroelectric', 'power.'): 1, ('Chobe', 'National'): 1, ('the', \"nation's\"): 1, (\"nation's\", 'first'): 1, ('first', 'and'): 1, ('most', 'biologically'): 1, ('biologically', 'diverse'): 1, ('diverse', 'national'): 1, ('national', 'park.'): 1, ('park.', 'It'): 1, ('its', 'spectacular'): 1, ('spectacular', 'wildlife'): 1, ('wildlife', 'concentrations,'): 1, ('concentrations,', 'most'): 1, ('notably', 'harboring'): 1, ('harboring', 'one'): 1, ('largest', 'elephant'): 1, ('elephant', 'populations'): 1, ('populations', 'on'): 1, ('continent,', 'with'): 1, ('with', 'estimates'): 1, ('estimates', 'often'): 1, ('exceeding', '50,000'): 1, ('50,000', 'individuals.'): 1, ('individuals.', 'The'): 1, (\"park's\", 'lifeblood'): 1, ('lifeblood', 'is'): 1, ('Chobe', 'River,'): 1, ('River,', 'which'): 1, ('which', 'forms'): 1, ('forms', 'its'): 1, ('its', 'northern'): 1, ('northern', 'boundary'): 1, ('boundary', 'and'): 1, ('and', 'attracts'): 1, ('attracts', 'vast'): 1, ('animals,', 'especially'): 1, ('season', 'from'): 1, ('from', 'May'): 1, ('May', 'to'): 1, ('to', 'October.'): 1, ('October.', 'Chobe'): 1, ('Chobe', 'is'): 1, ('is', 'comprised'): 1, ('comprised', 'of'): 1, ('of', 'distinct'): 1, ('distinct', 'ecosystems,'): 1, ('ecosystems,', 'from'): 1, ('the', 'lush'): 1, ('lush', 'floodplains'): 1, ('Chobe', 'Riverfront'): 1, ('Riverfront', 'to'): 1, ('the', 'remote'): 1, ('remote', 'Savuti'): 1, ('Savuti', 'Marsh.'): 1, ('Marsh.', 'Visitors'): 1, ('experience', 'incredible'): 1, ('incredible', 'game'): 1, ('game', 'viewing,'): 1, ('viewing,', 'with'): 1, ('with', 'frequent'): 1, ('frequent', 'sightings'): 1, ('sightings', 'of'): 1, ('of', 'lions,'): 1, ('leopards,', 'vast'): 1, ('of', 'buffalo,'): 1, ('buffalo,', 'hippos,'): 1, ('hippos,', 'crocodiles,'): 1, ('crocodiles,', 'and'): 1, ('rich', 'diversity'): 1, ('antelope', 'and'): 1, ('and', 'birdlife,'): 1, ('birdlife,', 'making'): 1, ('for', 'safaris'): 1, ('safaris', 'and'): 1, ('and', 'wildlife'): 1, ('wildlife', 'photography.'): 1, ('Etosha', 'National'): 1, ('premier', 'wildlife'): 1, ('wildlife', 'sanctuary'): 1, ('sanctuary', 'located'): 1, ('in', 'northwestern'): 1, ('northwestern', 'Namibia.'): 1, ('Namibia.', 'The'): 1, ('is', 'dominated'): 1, ('dominated', 'by'): 1, ('the', 'vast'): 1, ('vast', 'Etosha'): 1, ('Etosha', 'Pan,'): 1, ('Pan,', 'a'): 1, ('a', 'colossal,'): 1, ('colossal,', 'flat'): 1, ('flat', 'salt'): 1, ('salt', 'pan'): 1, ('pan', 'covering'): 1, ('covering', '4,760'): 1, ('4,760', 'square'): 1, ('kilometers', '(1,840'): 1, ('(1,840', 'sq'): 1, ('mi)', 'that'): 1, ('is', 'so'): 1, ('so', 'large'): 1, ('large', 'it'): 1, ('be', 'seen'): 1, ('seen', 'from'): 1, ('from', 'space.'): 1, ('space.', 'The'): 1, ('name', \"'Etosha'\"): 1, (\"'Etosha'\", 'translates'): 1, ('translates', 'to'): 1, ('to', \"'Great\"): 1, (\"'Great\", 'White'): 1, ('White', \"Place,'\"): 1, (\"Place,'\", 'referring'): 1, ('referring', 'to'): 1, (\"pan's\", 'shimmering,'): 1, ('shimmering,', 'bone-dry'): 1, ('bone-dry', 'surface'): 1, ('surface', 'for'): 1, ('for', 'most'): 1, (\"park's\", 'unique'): 1, ('unique', 'ecosystem'): 1, ('ecosystem', 'forces'): 1, ('forces', 'wildlife'): 1, ('wildlife', 'to'): 1, ('to', 'congregate'): 1, ('congregate', 'around'): 1, ('a', 'series'): 1, ('series', 'of'): 1, ('of', 'natural'): 1, ('natural', 'springs'): 1, ('springs', 'and'): 1, ('and', 'man-made'): 1, ('man-made', 'waterholes'): 1, ('waterholes', 'along'): 1, (\"pan's\", 'edge,'): 1, ('edge,', 'especially'): 1, ('season', '(May'): 1, ('(May', 'to'): 1, ('to', 'October).'): 1, ('October).', 'This'): 1, ('This', 'creates'): 1, ('creates', 'an'): 1, ('unparalleled', 'and'): 1, ('and', 'easily'): 1, ('easily', 'accessible'): 1, ('accessible', 'game-viewing'): 1, ('game-viewing', 'experience.'): 1, ('experience.', 'Etosha'): 1, ('Etosha', 'is'): 1, ('a', 'stronghold'): 1, ('for', 'endangered'): 1, ('species', 'like'): 1, ('the', 'black'): 1, ('black', 'rhinoceros'): 1, ('rhinoceros', 'and'): 1, ('also', 'home'): 1, ('to', 'four'): 1, ('four', 'of'): 1, ('the', 'Big'): 1, ('Big', 'Five'): 1, ('Five', '(lion,'): 1, ('(lion,', 'leopard,'): 1, ('leopard,', 'elephant,'): 1, ('and', 'rhino),'): 1, ('rhino),', 'alongside'): 1, ('alongside', 'enormous'): 1, ('enormous', 'herds'): 1, ('of', 'springbok,'): 1, ('springbok,', 'gemsbok,'): 1, ('gemsbok,', 'zebra,'): 1, ('and', 'giraffes.'): 1, ('giraffes.', 'During'): 1, ('During', 'the'): 1, ('the', 'brief'): 1, ('brief', 'rainy'): 1, ('rainy', 'season,'): 1, ('season,', 'the'): 1, ('the', 'pan'): 1, ('pan', 'can'): 1, ('can', 'partially'): 1, ('partially', 'fill'): 1, ('water,', 'attracting'): 1, ('attracting', 'thousands'): 1, ('of', 'wading'): 1, ('wading', 'birds,'): 1, ('birds,', 'including'): 1, ('including', 'spectacular'): 1, ('spectacular', 'flocks'): 1, ('of', 'flamingos.'): 1, ('Kruger', 'National'): 1, (\"Africa's\", 'largest'): 1, ('most', 'renowned'): 1, ('renowned', 'game'): 1, ('game', 'reserves,'): 1, ('reserves,', 'situated'): 1, ('situated', 'in'): 1, ('northeastern', 'South'): 1, ('and', 'spanning'): 1, ('spanning', 'an'): 1, ('an', 'immense'): 1, ('immense', '19,485'): 1, ('19,485', 'square'): 1, ('kilometers', '(7,523'): 1, ('(7,523', 'sq'): 1, ('sq', 'mi).'): 1, ('mi).', 'As'): 1, ('As', 'South'): 1, (\"Africa's\", 'first'): 1, ('first', 'national'): 1, ('national', 'park,'): 1, ('park,', 'it'): 1, ('a', 'world'): 1, ('world', 'leader'): 1, ('leader', 'in'): 1, ('conservation', 'management'): 1, ('management', 'and'): 1, ('and', 'offers'): 1, ('offers', 'an'): 1, ('unparalleled', 'wildlife'): 1, ('wildlife', 'experience.'): 1, ('experience.', 'The'): 1, ('is', 'famous'): 1, ('its', 'high'): 1, ('high', 'density'): 1, ('density', 'of'): 1, ('animals,', 'including'): 1, (\"'Big\", \"Five'\"): 1, (\"Five'\", '-'): 1, ('-', 'lion,'): 1, ('lion,', 'leopard,'): 1, ('leopard,', 'rhinoceros,'): 1, ('rhinoceros,', 'elephant,'): 1, ('and', 'buffalo'): 1, ('buffalo', '-'): 1, ('-', 'as'): 1, ('as', 'cheetahs,'): 1, ('cheetahs,', 'wild'): 1, ('wild', 'dogs,'): 1, ('dogs,', 'and'): 1, ('of', 'other'): 1, ('other', 'mammals,'): 1, ('mammals,', 'birds,'): 1, ('birds,', 'and'): 1, ('and', 'reptiles.'): 1, ('reptiles.', 'Its'): 1, ('Its', 'diverse'): 1, ('diverse', 'landscapes'): 1, ('landscapes', 'range'): 1, ('range', 'from'): 1, ('dense', 'riverine'): 1, ('riverine', 'forests'): 1, ('forests', 'in'): 1, ('the', 'south'): 1, ('south', 'to'): 1, ('open', 'savanna'): 1, ('savanna', 'grasslands'): 1, ('the', 'central'): 1, ('central', 'region.'): 1, ('region.', 'With'): 1, ('a', 'well-maintained'): 1, ('well-maintained', 'network'): 1, ('of', 'roads,'): 1, ('roads,', 'Kruger'): 1, ('Kruger', 'is'): 1, ('is', 'exceptionally'): 1, ('exceptionally', 'accessible'): 1, ('accessible', 'for'): 1, ('for', 'self-drive'): 1, ('self-drive', 'safaris,'): 1, ('safaris,', 'and'): 1, ('wide', 'spectrum'): 1, ('spectrum', 'of'): 1, ('of', 'accommodations'): 1, ('accommodations', 'from'): 1, ('from', 'public'): 1, ('public', 'rest'): 1, ('rest', 'camps'): 1, ('camps', 'to'): 1, ('to', 'luxurious'): 1, ('luxurious', 'private'): 1, ('private', 'lodges,'): 1, ('lodges,', 'making'): 1, ('a', 'cornerstone'): 1, ('cornerstone', 'of'): 1, ('African', 'tourism'): 1, ('tourism', 'and'): 1, ('a', 'flagship'): 1, ('flagship', 'for'): 1, ('for', 'global'): 1, ('global', 'wildlife'): 1, ('wildlife', 'conservation.'): 1, ('The', 'Okavango'): 1, ('Okavango', 'Delta,'): 1, ('Delta,', 'a'): 1, ('Site', 'in'): 1, ('most', 'unique'): 1, ('unique', 'ecosystems.'): 1, ('ecosystems.', 'It'): 1, ('vast', 'inland'): 1, ('inland', 'river'): 1, ('river', 'delta'): 1, ('delta', 'formed'): 1, ('formed', 'where'): 1, ('the', 'Okavango'): 1, ('Okavango', 'River'): 1, ('River', 'flows'): 1, ('flows', 'into'): 1, ('Kalahari', 'Desert,'): 1, ('Desert,', 'creating'): 1, ('a', '15,000'): 1, ('15,000', 'square'): 1, ('square', 'kilometer'): 1, ('kilometer', '(5,800'): 1, ('(5,800', 'sq'): 1, ('mi)', 'maze'): 1, ('of', 'lagoons,'): 1, ('lagoons,', 'channels,'): 1, ('channels,', 'and'): 1, ('and', 'islands.'): 1, ('islands.', 'Its'): 1, ('Its', 'annual'): 1, ('annual', 'floodwaters'): 1, ('floodwaters', 'arrive'): 1, ('arrive', 'from'): 1, ('the', 'Angolan'): 1, ('Angolan', 'highlands'): 1, ('highlands', 'during'): 1, ('during', \"Botswana's\"): 1, (\"Botswana's\", 'dry'): 1, ('season,', 'transforming'): 1, ('transforming', 'the'): 1, ('the', 'arid'): 1, ('arid', 'landscape'): 1, ('landscape', 'into'): 1, ('oasis', 'that'): 1, ('supports', 'an'): 1, ('an', 'extraordinary'): 1, ('extraordinary', 'concentration'): 1, ('concentration', 'of'): 1, ('of', 'wildlife.'): 1, ('wildlife.', 'The'): 1, ('The', 'delta'): 1, ('delta', 'is'): 1, ('for', 'large'): 1, ('large', 'populations'): 1, ('elephants,', 'buffalo,'): 1, ('buffalo,', 'lions,'): 1, ('leopards,', 'and'): 1, ('dog.', 'It'): 1, ('its', 'tranquil'): 1, ('tranquil', 'safari'): 1, ('safari', 'experiences,'): 1, ('experiences,', 'particularly'): 1, ('particularly', 'gliding'): 1, ('gliding', 'through'): 1, ('the', 'pristine'): 1, ('pristine', 'waterways'): 1, ('waterways', 'in'): 1, ('traditional', 'dugout'): 1, ('dugout', 'canoe,'): 1, ('canoe,', 'or'): 1, ('or', 'mokoro.'): 1, (\"Africa's\", 'second-highest'): 1, ('second-highest', 'peak'): 1, ('peak', 'and'): 1, ('highest', 'in'): 1, ('Kenya,', 'rising'): 1, ('rising', 'to'): 1, ('to', 'an'): 1, ('an', 'elevation'): 1, ('elevation', 'of'): 1, ('of', '5,199'): 1, ('5,199', 'meters'): 1, ('meters', '(17,057'): 1, ('(17,057', 'ft).'): 1, ('ft).', 'This'): 1, ('This', 'extinct'): 1, ('extinct', 'stratovolcano'): 1, ('stratovolcano', 'and'): 1, ('and', 'UNESCO'): 1, ('Site', 'is'): 1, ('its', 'dramatic,'): 1, ('dramatic,', 'jagged'): 1, ('jagged', 'peaks'): 1, ('peaks', 'and'): 1, ('its', 'remarkable'): 1, ('remarkable', 'ecological'): 1, ('ecological', 'diversity.'): 1, ('diversity.', 'The'): 1, ('The', 'mountain'): 1, ('mountain', 'features'): 1, ('features', 'distinct'): 1, ('distinct', 'vertical'): 1, ('vertical', 'zones'): 1, ('zones', 'of'): 1, ('of', 'vegetation,'): 1, ('vegetation,', 'from'): 1, ('from', 'montane'): 1, ('montane', 'forests'): 1, ('forests', 'at'): 1, ('unique', 'Afro-alpine'): 1, ('Afro-alpine', 'zone'): 1, ('zone', 'with'): 1, ('with', 'bizarre'): 1, ('bizarre', 'giant'): 1, ('giant', 'groundsels'): 1, ('groundsels', 'and'): 1, ('and', 'lobelias,'): 1, ('lobelias,', 'culminating'): 1, ('culminating', 'in'): 1, ('in', 'rock,'): 1, ('rock,', 'ice,'): 1, ('ice,', 'and'): 1, ('and', 'rapidly'): 1, ('rapidly', 'retreating'): 1, ('retreating', 'glaciers.'): 1, ('glaciers.', 'While'): 1, ('While', 'its'): 1, ('its', 'highest'): 1, ('highest', 'summits,'): 1, ('summits,', 'Batian'): 1, ('Batian', 'and'): 1, ('and', 'Nelion,'): 1, ('Nelion,', 'are'): 1, ('are', 'technical'): 1, ('technical', 'climbs,'): 1, ('climbs,', 'the'): 1, ('the', 'third'): 1, ('third', 'peak,'): 1, ('peak,', 'Point'): 1, ('Point', 'Lenana,'): 1, ('Lenana,', 'is'): 1, ('popular', 'goal'): 1, ('goal', 'for'): 1, ('for', 'trekkers.'): 1, ('trekkers.', 'Held'): 1, ('Held', 'sacred'): 1, ('sacred', 'by'): 1, ('by', 'local'): 1, ('local', 'communities'): 1, ('communities', 'like'): 1, ('the', 'Kikuyu,'): 1, ('Kikuyu,', 'Mount'): 1, ('a', 'critical'): 1, ('critical', 'water'): 1, ('water', 'tower'): 1, ('tower', 'for'): 1, ('the', 'entire'): 1, ('entire', 'region.'): 1, ('The', 'Drakensberg'): 1, ('Drakensberg', 'is'): 1, ('the', 'name'): 1, ('name', 'of'): 1, ('eastern', 'portion'): 1, ('Great', 'Escarpment,'): 1, ('Escarpment,', 'which'): 1, ('main', 'mountain'): 1, ('mountain', 'range'): 1, ('range', 'in'): 1, ('name', 'is'): 1, ('is', 'Afrikaans'): 1, ('Afrikaans', 'for'): 1, ('for', \"'Dragon's\"): 1, (\"'Dragon's\", \"Mountains,'\"): 1, (\"Mountains,'\", 'which'): 1, ('which', 'aptly'): 1, ('describes', 'its'): 1, ('its', 'dramatic'): 1, ('dramatic', 'and'): 1, ('and', 'formidable'): 1, ('formidable', 'peaks.'): 1, ('peaks.', 'This'): 1, ('This', 'spectacular'): 1, ('natural', 'boundary'): 1, ('boundary', 'separates'): 1, ('separates', 'the'): 1, ('the', 'high'): 1, ('high', 'central'): 1, ('central', 'plateau'): 1, ('plateau', 'from'): 1, ('the', 'lower-lying'): 1, ('lower-lying', 'coastal'): 1, ('coastal', 'regions.'): 1, ('regions.', 'The'): 1, ('The', 'uKhahlamba-Drakensberg'): 1, ('uKhahlamba-Drakensberg', 'Park'): 1, ('Heritage', 'site,'): 1, ('site,', 'celebrated'): 1, ('celebrated', 'for'): 1, ('exceptional', 'natural'): 1, ('beauty', 'and'): 1, ('largest', 'collection'): 1, ('collection', 'of'): 1, ('of', 'San'): 1, ('San', 'rock'): 1, ('rock', 'paintings'): 1, ('paintings', 'south'): 1, ('south', 'of'): 1, ('the', 'Sahara.'): 1, ('Sahara.', \"It's\"): 1, ('for', 'hiking,'): 1, ('hiking,', 'featuring'): 1, ('featuring', 'iconic'): 1, ('iconic', 'landmarks'): 1, ('landmarks', 'like'): 1, ('the', 'Amphitheatre'): 1, ('Amphitheatre', 'and'): 1, ('and', \"Giant's\"): 1, (\"Giant's\", 'Castle.'): 1, ('Hwange', 'National'): 1, ('is', \"Zimbabwe's\"): 1, (\"Zimbabwe's\", 'largest'): 1, ('most', 'famous'): 1, ('famous', 'game'): 1, ('game', 'reserve,'): 1, ('reserve,', 'covering'): 1, ('covering', '14,651'): 1, ('14,651', 'square'): 1, ('kilometers', '(5,657'): 1, ('(5,657', 'sq'): 1, ('mi)', 'on'): 1, ('the', 'edge'): 1, ('Kalahari', 'Desert.'): 1, ('Desert.', 'The'): 1, ('massive', 'elephant'): 1, ('elephant', 'population,'): 1, ('population,', 'which'): 1, ('largest', 'on'): 1, ('continent.', 'It'): 1, ('a', 'key'): 1, ('key', 'stronghold'): 1, ('dog.', 'With'): 1, ('With', 'few'): 1, ('few', 'natural'): 1, ('natural', 'water'): 1, ('water', 'sources,'): 1, ('sources,', \"Hwange's\"): 1, (\"Hwange's\", 'wildlife'): 1, ('wildlife', 'congregates'): 1, ('congregates', 'around'): 1, ('a', 'network'): 1, ('of', 'pumped'): 1, ('pumped', 'waterholes'): 1, ('waterholes', 'during'): 1, ('season,', 'offering'): 1, ('offering', 'exceptional'): 1, ('exceptional', 'and'): 1, ('and', 'predictable'): 1, ('predictable', 'game'): 1, ('game', 'viewing.'): 1, ('viewing.', 'The'): 1, ('diverse', 'habitats'): 1, ('habitats', 'of'): 1, ('of', 'savanna,'): 1, ('savanna,', 'woodlands,'): 1, ('woodlands,', 'and'): 1, ('and', 'grasslands'): 1, ('grasslands', 'support'): 1, ('support', 'over'): 1, ('100', 'mammal'): 1, ('mammal', 'species,'): 1, ('species,', 'including'): 1, ('including', 'lions,'): 1, ('leopards,', 'buffalo,'): 1, ('buffalo,', 'and'): 1, ('and', 'vast'): 1, ('of', 'zebra'): 1, ('zebra', 'and'): 1, ('and', 'giraffe,'): 1, ('giraffe,', 'making'): 1, ('classic', 'African'): 1, ('African', 'safari'): 1, ('safari', 'destination.'): 1, ('Gorongosa', 'National'): 1, ('located', 'at'): 1, ('southern', 'end'): 1, ('end', 'of'): 1, ('Great', 'African'): 1, ('Rift', 'Valley'): 1, ('Valley', 'in'): 1, ('in', 'Mozambique,'): 1, ('is', 'celebrated'): 1, ('celebrated', 'as'): 1, ('as', 'one'): 1, ('most', 'ambitious'): 1, ('ambitious', 'and'): 1, ('and', 'successful'): 1, ('successful', 'wildlife'): 1, ('wildlife', 'restoration'): 1, ('restoration', 'projects.'): 1, ('projects.', 'Its'): 1, ('Its', 'incredibly'): 1, ('incredibly', 'diverse'): 1, ('diverse', 'landscapes—from'): 1, ('landscapes—from', 'the'): 1, ('the', 'floodplains'): 1, ('Lake', 'Urema'): 1, ('Urema', 'to'): 1, ('the', 'rainforests'): 1, ('rainforests', 'of'): 1, ('of', 'Mount'): 1, ('Mount', 'Gorongosa—are'): 1, ('Gorongosa—are', 'teeming'): 1, ('with', 'wildlife,'): 1, ('including', 'thriving'): 1, ('thriving', 'populations'): 1, ('elephants,', 'lions,'): 1, ('lions,', 'and'): 1, ('and', 'waterbuck,'): 1, ('waterbuck,', 'and'): 1, ('a', 'reintroduced'): 1, ('reintroduced', 'pack'): 1, ('pack', 'of'): 1, ('wild', 'dogs.'): 1, ('dogs.', 'Today,'): 1, ('Today,', 'Gorongosa'): 1, ('Gorongosa', 'stands'): 1, ('stands', 'as'): 1, ('a', 'global'): 1, ('global', 'model'): 1, ('model', 'for'): 1, ('for', 'how'): 1, ('how', 'conservation,'): 1, ('conservation,', 'scientific'): 1, ('scientific', 'research,'): 1, ('research,', 'and'): 1, ('and', 'community'): 1, ('community', 'development'): 1, ('development', 'can'): 1, ('be', 'integrated,'): 1, ('integrated,', 'serving'): 1, ('ecological', 'resilience'): 1, ('The', 'Namib'): 1, ('Namib', 'is'): 1, ('vast', 'coastal'): 1, ('coastal', 'desert'): 1, ('widely', 'considered'): 1, ('considered', 'to'): 1, ('be', 'the'): 1, ('oldest', 'desert'): 1, ('world,', 'having'): 1, ('having', 'endured'): 1, ('endured', 'arid'): 1, ('arid', 'conditions'): 1, ('conditions', 'for'): 1, ('for', 'at'): 1, ('at', 'least'): 1, ('least', '55'): 1, ('55', 'million'): 1, ('million', 'years.'): 1, ('years.', 'Stretching'): 1, ('Stretching', 'for'): 1, ('over', '2,000'): 1, ('2,000', 'kilometers'): 1, ('kilometers', '(1,200'): 1, ('(1,200', 'mi)'): 1, ('mi)', 'along'): 1, ('the', 'Atlantic'): 1, ('Atlantic', 'coast,'): 1, ('coast,', 'it'): 1, ('a', 'land'): 1, ('of', 'stark'): 1, ('stark', 'contrasts'): 1, ('contrasts', 'and'): 1, ('and', 'surreal'): 1, ('surreal', 'beauty.'): 1, ('beauty.', 'The'): 1, ('The', 'desert'): 1, ('desert', 'is'): 1, ('is', 'famed'): 1, ('famed', 'for'): 1, ('Namib', 'Sand'): 1, ('Sand', 'Sea,'): 1, ('Sea,', 'a'): 1, ('Site', 'featuring'): 1, ('featuring', 'some'): 1, ('tallest', 'sand'): 1, ('dunes', 'on'): 1, ('Earth,', 'including'): 1, ('iconic', 'star'): 1, ('star', 'dunes'): 1, ('dunes', 'of'): 1, ('of', 'Sossusvlei.'): 1, ('Sossusvlei.', 'A'): 1, ('A', 'key'): 1, ('key', 'feature'): 1, ('the', 'life-sustaining'): 1, ('life-sustaining', 'coastal'): 1, ('coastal', 'fog,'): 1, ('fog,', 'created'): 1, ('created', 'by'): 1, ('the', 'cold'): 1, ('cold', 'Benguela'): 1, ('Benguela', 'Current,'): 1, ('Current,', 'which'): 1, ('which', 'provides'): 1, ('provides', 'moisture'): 1, ('moisture', 'for'): 1, ('a', 'host'): 1, ('host', 'of'): 1, ('of', 'uniquely'): 1, ('uniquely', 'adapted'): 1, ('adapted', 'endemic'): 1, ('endemic', 'species,'): 1, ('species,', 'such'): 1, ('ancient', 'Welwitschia'): 1, ('Welwitschia', 'mirabilis'): 1, ('mirabilis', 'plant'): 1, ('and', 'fog-basking'): 1, ('fog-basking', 'beetles.'): 1, ('a', 'historic'): 1, ('historic', 'city'): 1, ('city', 'in'): 1, ('in', 'Mali,'): 1, ('Mali,', 'located'): 1, ('southern', 'edge'): 1, ('Desert.', 'During'): 1, ('During', 'its'): 1, ('its', 'golden'): 1, ('golden', 'age'): 1, ('age', 'from'): 1, ('the', '13th'): 1, ('13th', 'to'): 1, ('the', '17th'): 1, ('17th', 'centuries,'): 1, ('centuries,', 'it'): 1, ('a', 'world-renowned'): 1, ('world-renowned', 'center'): 1, ('of', 'Islamic'): 1, ('Islamic', 'scholarship'): 1, ('scholarship', 'and'): 1, ('vital', 'terminus'): 1, ('terminus', 'for'): 1, ('for', 'trans-Saharan'): 1, ('trans-Saharan', 'trade'): 1, ('trade', 'routes,'): 1, ('routes,', 'connecting'): 1, ('connecting', 'West'): 1, ('Africa', 'with'): 1, ('the', 'Mediterranean.'): 1, ('Mediterranean.', 'Its'): 1, ('name', 'became'): 1, ('became', 'legendary'): 1, ('legendary', 'in'): 1, ('in', 'Europe'): 1, ('Europe', 'as'): 1, ('a', 'metaphor'): 1, ('metaphor', 'for'): 1, ('a', 'remote'): 1, ('remote', 'and'): 1, ('and', 'mysterious'): 1, ('mysterious', 'land'): 1, ('of', 'fabulous'): 1, ('fabulous', 'wealth,'): 1, ('wealth,', 'built'): 1, ('built', 'on'): 1, ('the', 'trade'): 1, ('trade', 'of'): 1, ('of', 'gold,'): 1, ('gold,', 'salt,'): 1, ('salt,', 'ivory,'): 1, ('and', 'slaves.'): 1, ('slaves.', 'As'): 1, ('Site,', 'Timbuktu'): 1, ('is', 'recognized'): 1, ('unique', 'earthen'): 1, ('earthen', 'architecture,'): 1, ('architecture,', 'including'): 1, ('the', 'great'): 1, ('great', 'mosques'): 1, ('mosques', 'of'): 1, ('of', 'Djingareyber'): 1, ('Djingareyber', 'and'): 1, ('and', 'Sankore,'): 1, ('Sankore,', 'and'): 1, ('and', 'for'): 1, ('the', 'priceless'): 1, ('priceless', \"'Timbuktu\"): 1, (\"'Timbuktu\", \"Manuscripts,'\"): 1, (\"Manuscripts,'\", 'which'): 1, ('which', 'represent'): 1, ('profound', 'written'): 1, ('written', 'intellectual'): 1, ('intellectual', 'heritage'): 1, ('heritage', 'from'): 1, ('from', 'Africa.'): 1, ('Africa.', 'Though'): 1, ('Though', 'facing'): 1, ('facing', 'modern'): 1, ('modern', 'challenges,'): 1, ('challenges,', 'Timbuktu'): 1, ('Timbuktu', 'remains'): 1, ('remains', 'a'): 1, (\"Africa's\", 'rich'): 1, ('cultural', 'legacy.'): 1, ('The', 'Baobab'): 1, ('Baobab', '(genus'): 1, ('(genus', 'Adansonia)'): 1, ('Adansonia)', 'is'): 1, ('most', 'iconic'): 1, ('and', 'long-lived'): 1, ('long-lived', 'trees'): 1, ('trees', 'in'): 1, ('world,', 'often'): 1, ('the', \"'Tree\"): 1, (\"'Tree\", 'of'): 1, ('of', \"Life'\"): 1, (\"Life'\", 'for'): 1, ('the', 'vital'): 1, ('role', 'it'): 1, ('it', 'plays'): 1, ('plays', 'in'): 1, ('African', 'savanna.'): 1, ('savanna.', 'Instantly'): 1, ('Instantly', 'recognizable'): 1, ('its', 'massive,'): 1, ('massive,', 'bottle-shaped'): 1, ('bottle-shaped', 'trunk'): 1, ('trunk', 'and'): 1, ('and', 'sparse,'): 1, ('sparse,', 'root-like'): 1, ('root-like', 'branches,'): 1, ('branches,', 'it'): 1, ('is', 'frequently'): 1, ('frequently', 'nicknamed'): 1, ('nicknamed', 'the'): 1, ('the', \"'upside-down\"): 1, (\"'upside-down\", \"tree.'\"): 1, (\"tree.'\", 'Baobabs'): 1, ('Baobabs', 'are'): 1, ('their', 'extraordinary'): 1, ('extraordinary', 'longevity,'): 1, ('longevity,', 'with'): 1, ('some', 'individuals'): 1, ('individuals', 'living'): 1, ('living', 'for'): 1, ('for', 'well'): 1, ('well', 'over'): 1, ('a', 'thousand'): 1, ('thousand', 'years.'): 1, ('years.', 'Their'): 1, ('Their', 'swollen'): 1, ('swollen', 'trunks'): 1, ('trunks', 'can'): 1, ('can', 'store'): 1, ('store', 'enormous'): 1, ('enormous', 'quantities'): 1, ('quantities', 'of'): 1, ('of', 'water,'): 1, ('water,', 'allowing'): 1, ('allowing', 'them'): 1, ('to', 'survive'): 1, ('survive', 'long'): 1, ('long', 'periods'): 1, ('periods', 'of'): 1, ('of', 'drought.'): 1, ('drought.', 'Nearly'): 1, ('Nearly', 'every'): 1, ('every', 'part'): 1, ('tree', 'is'): 1, ('is', 'useful'): 1, ('useful', 'to'): 1, ('to', 'humans'): 1, ('humans', 'and'): 1, ('and', 'animals:'): 1, ('animals:', 'its'): 1, ('its', 'large,'): 1, ('large,', 'gourd-like'): 1, ('gourd-like', 'fruit'): 1, ('fruit', 'contains'): 1, ('contains', 'a'): 1, ('a', 'nutrient-rich'): 1, ('nutrient-rich', 'powdery'): 1, ('powdery', 'pulp,'): 1, ('pulp,', 'its'): 1, ('its', 'leaves'): 1, ('are', 'edible,'): 1, ('edible,', 'and'): 1, ('its', 'fibrous'): 1, ('fibrous', 'bark'): 1, ('bark', 'can'): 1, ('be', 'harvested'): 1, ('harvested', 'for'): 1, ('for', 'rope'): 1, ('rope', 'and'): 1, ('and', 'cloth'): 1, ('cloth', 'without'): 1, ('without', 'harming'): 1, ('harming', 'the'): 1, ('the', 'tree.'): 1, ('tree.', 'As'): 1, ('keystone', 'species,'): 1, ('species,', 'it'): 1, ('it', 'provides'): 1, ('provides', 'food,'): 1, ('food,', 'water,'): 1, ('and', 'shelter'): 1, ('shelter', 'for'): 1, ('for', 'countless'): 1, ('countless', 'animals,'): 1, ('animals,', 'making'): 1, ('true', 'symbol'): 1, ('and', 'resilience'): 1, ('resilience', 'in'): 1, ('arid', 'landscapes.'): 1, ('Acacia', 'trees'): 1, ('trees', 'are'): 1, ('and', 'widespread'): 1, ('widespread', 'across'): 1, ('across', 'Africa,'): 1, ('in', 'savanna'): 1, ('savanna', 'landscapes.'): 1, ('landscapes.', 'They'): 1, ('their', 'drought'): 1, ('drought', 'resistance'): 1, ('resistance', 'and'): 1, ('and', 'ability'): 1, ('to', 'adapt'): 1, ('adapt', 'to'): 1, ('to', 'harsh'): 1, ('harsh', 'environments.'): 1, ('environments.', 'Several'): 1, ('Several', 'species'): 1, ('species', 'thrive'): 1, ('in', 'different'): 1, ('different', 'regions'): 1, ('regions', 'of'): 1, ('the', 'Serengeti,'): 1, ('Serengeti,', 'the'): 1, ('the', 'Sahel,'): 1, ('Sahel,', 'and'): 1, ('and', 'Southern'): 1, ('Africa.', 'Some'): 1, ('Some', 'well-known'): 1, ('well-known', 'examples'): 1, ('examples', 'include'): 1, ('include', 'the'): 1, ('the', 'umbrella'): 1, ('umbrella', 'thorn'): 1, ('thorn', '(Acacia'): 1, ('(Acacia', 'tortilis),'): 1, ('tortilis),', 'the'): 1, ('the', 'fever'): 1, ('fever', 'tree'): 1, ('tree', '(Vachellia'): 1, ('(Vachellia', 'xanthophloea),'): 1, ('xanthophloea),', 'and'): 1, ('the', 'camel'): 1, ('camel', 'thorn'): 1, ('thorn', '(Vachellia'): 1, ('(Vachellia', 'erioloba).'): 1, ('The', 'lion'): 1, ('lion', '(Panthera'): 1, ('(Panthera', 'leo),'): 1, ('leo),', 'often'): 1, ('the', \"'king\"): 1, (\"'king\", 'of'): 1, ('the', \"jungle,'\"): 1, (\"jungle,'\", 'is'): 1, ('large', 'carnivorous'): 1, ('carnivorous', 'cat'): 1, ('cat', 'that'): 1, ('that', 'primarily'): 1, ('primarily', 'inhabits'): 1, ('inhabits', 'the'): 1, ('the', 'grasslands'): 1, ('grasslands', 'and'): 1, ('and', 'savannas'): 1, ('savannas', 'of'): 1, ('Africa.', 'As'): 1, ('most', 'social'): 1, ('social', 'of'): 1, ('of', 'all'): 1, ('all', 'felines,'): 1, ('felines,', 'lions'): 1, ('lions', 'live'): 1, ('in', 'groups'): 1, ('groups', 'called'): 1, ('called', 'prides,'): 1, ('prides,', 'which'): 1, ('which', 'typically'): 1, ('typically', 'consist'): 1, ('consist', 'of'): 1, ('of', 'related'): 1, ('related', 'females,'): 1, ('females,', 'their'): 1, ('their', 'offspring,'): 1, ('offspring,', 'and'): 1, ('few', 'resident'): 1, ('resident', 'males.'): 1, ('males.', 'The'): 1, ('The', 'male'): 1, ('male', 'is'): 1, ('is', 'distinguished'): 1, ('his', 'impressive'): 1, ('impressive', 'mane,'): 1, ('mane,', 'a'): 1, ('of', 'health'): 1, ('and', 'dominance.'): 1, ('African', 'elephant'): 1, ('largest', 'land'): 1, ('land', 'animal,'): 1, ('animal,', 'a'): 1, ('true', 'icon'): 1, ('icon', 'of'): 1, ('continent.', 'Recognizable'): 1, ('Recognizable', 'by'): 1, ('massive', 'body,'): 1, ('body,', 'enormous'): 1, ('enormous', 'ears'): 1, ('ears', 'that'): 1, ('that', 'help'): 1, ('help', 'regulate'): 1, ('temperature,', 'and'): 1, ('its', 'versatile'): 1, ('versatile', 'trunk,'): 1, ('trunk,', 'the'): 1, ('the', 'elephant'): 1, ('a', 'highly'): 1, ('highly', 'intelligent'): 1, ('intelligent', 'and'): 1, ('social', 'creature.'): 1, ('creature.', 'Herds'): 1, ('Herds', 'are'): 1, ('are', 'organized'): 1, ('organized', 'into'): 1, ('into', 'complex'): 1, ('complex', 'matriarchal'): 1, ('matriarchal', 'societies,'): 1, ('societies,', 'led'): 1, ('led', 'by'): 1, ('most', 'experienced'): 1, ('experienced', 'female.'): 1, ('female.', 'Its'): 1, ('Its', 'prehensile'): 1, ('prehensile', 'trunk,'): 1, ('trunk,', 'containing'): 1, ('containing', 'tens'): 1, ('tens', 'of'): 1, ('of', 'thousands'): 1, ('of', 'muscles,'): 1, ('muscles,', 'is'): 1, ('used', 'for'): 1, ('for', 'breathing,'): 1, ('breathing,', 'smelling,'): 1, ('smelling,', 'drinking,'): 1, ('drinking,', 'and'): 1, ('and', 'grasping'): 1, ('grasping', 'objects'): 1, ('objects', 'with'): 1, ('with', 'incredible'): 1, ('incredible', 'precision.'): 1, ('precision.', 'As'): 1, ('keystone', 'species'): 1, ('and', \"'ecosystem\"): 1, (\"'ecosystem\", \"engineer,'\"): 1, (\"engineer,'\", 'elephants'): 1, ('elephants', 'shape'): 1, ('shape', 'their'): 1, ('their', 'environment'): 1, ('environment', 'by'): 1, ('creating', 'pathways,'): 1, ('pathways,', 'digging'): 1, ('digging', 'for'): 1, ('for', 'water,'): 1, ('and', 'dispersing'): 1, ('dispersing', 'seeds.'): 1, ('Zebras', 'are'): 1, ('are', 'African'): 1, ('African', 'equines,'): 1, ('equines,', 'closely'): 1, ('closely', 'related'): 1, ('related', 'to'): 1, ('to', 'horses'): 1, ('horses', 'and'): 1, ('and', 'donkeys,'): 1, ('donkeys,', 'and'): 1, ('are', 'instantly'): 1, ('instantly', 'recognizable'): 1, ('distinctive', 'black-and-white'): 1, ('black-and-white', 'striped'): 1, ('striped', 'coats.'): 1, ('coats.', 'Each'): 1, ('Each', \"zebra's\"): 1, (\"zebra's\", 'stripe'): 1, ('stripe', 'pattern'): 1, ('pattern', 'is'): 1, ('unique,', 'much'): 1, ('a', 'human'): 1, ('human', 'fingerprint,'): 1, ('fingerprint,', 'serving'): 1, ('serving', 'purposes'): 1, ('purposes', 'from'): 1, ('from', 'camouflage'): 1, ('camouflage', 'to'): 1, ('to', 'pest'): 1, ('pest', 'deterrence.'): 1, ('deterrence.', 'There'): 1, ('are', 'three'): 1, ('main', 'species:'): 1, ('plains', 'zebra,'): 1, ('zebra,', 'the'): 1, ('mountain', 'zebra,'): 1, ('the', \"Grévy's\"): 1, (\"Grévy's\", 'zebra,'): 1, ('zebra,', 'each'): 1, ('each', 'adapted'): 1, ('different', 'habitats'): 1, ('habitats', 'across'): 1, ('across', 'southern'): 1, ('southern', 'and'): 1, ('and', 'eastern'): 1, ('eastern', 'Africa.'): 1, ('These', 'herbivores'): 1, ('herbivores', 'primarily'): 1, ('primarily', 'graze'): 1, ('graze', 'on'): 1, ('on', 'grasses'): 1, ('grasses', 'but'): 1, ('but', 'will'): 1, ('will', 'also'): 1, ('also', 'eat'): 1, ('eat', 'leaves'): 1, ('and', 'stems'): 1, ('stems', 'when'): 1, ('when', 'necessary.'): 1, ('necessary.', 'Living'): 1, ('Living', 'in'): 1, ('in', 'social'): 1, ('social', 'herds,'): 1, ('herds,', 'zebras'): 1, ('zebras', 'are'): 1, ('are', 'constantly'): 1, ('constantly', 'alert'): 1, ('alert', 'for'): 1, ('for', 'predators'): 1, ('predators', 'like'): 1, ('like', 'lions'): 1, ('lions', 'and'): 1, ('and', 'hyenas,'): 1, ('hyenas,', 'relying'): 1, ('relying', 'on'): 1, ('their', 'strong'): 1, ('strong', 'family'): 1, ('family', 'bonds'): 1, ('bonds', 'and'): 1, ('and', 'speed'): 1, ('speed', 'for'): 1, ('for', 'protection.'): 1, ('The', 'giraffe'): 1, ('giraffe', 'is'): 1, (\"world's\", 'tallest'): 1, ('tallest', 'terrestrial'): 1, ('terrestrial', 'animal,'): 1, ('animal,', 'an'): 1, ('an', 'unmistakable'): 1, ('unmistakable', 'presence'): 1, ('presence', 'on'): 1, ('African', 'savanna'): 1, ('savanna', 'due'): 1, ('its', 'exceptionally'): 1, ('exceptionally', 'long'): 1, ('and', 'legs'): 1, ('legs', 'and'): 1, ('its', 'spotted'): 1, ('spotted', 'coat.'): 1, ('coat.', 'This'): 1, ('This', 'remarkable'): 1, ('remarkable', 'height'): 1, ('height', 'is'): 1, ('an', 'adaptation'): 1, ('adaptation', 'that'): 1, ('that', 'allows'): 1, ('allows', 'it'): 1, ('to', 'browse'): 1, ('browse', 'on'): 1, ('and', 'buds'): 1, ('buds', 'from'): 1, ('from', 'treetops,'): 1, ('treetops,', 'giving'): 1, ('a', 'food'): 1, ('source', 'unavailable'): 1, ('unavailable', 'to'): 1, ('to', 'most'): 1, ('most', 'other'): 1, ('other', 'herbivores.'): 1, ('herbivores.', 'The'): 1, ('The', 'unique'): 1, ('unique', 'coat'): 1, ('coat', 'pattern'): 1, ('pattern', 'of'): 1, ('each', 'giraffe'): 1, ('giraffe', 'acts'): 1, ('camouflage', 'and'): 1, ('is', 'unique'): 1, ('the', 'individual.'): 1, ('Nile', 'Crocodile'): 1, ('Crocodile', 'is'): 1, ('large,', 'semi-aquatic'): 1, ('semi-aquatic', 'reptile'): 1, ('reptile', 'in'): 1, ('in', \"Africa's\"): 1, (\"Africa's\", 'waterways.'): 1, ('waterways.', 'A'): 1, ('A', 'true'): 1, ('true', 'living'): 1, ('living', 'dinosaur,'): 1, ('dinosaur,', 'its'): 1, ('its', 'form'): 1, ('form', 'has'): 1, ('has', 'remained'): 1, ('remained', 'unchanged'): 1, ('unchanged', 'for'): 1, ('for', 'millions'): 1, ('of', 'years.'): 1, ('years.', 'Unusually'): 1, ('Unusually', 'for'): 1, ('a', 'reptile,'): 1, ('reptile,', 'females'): 1, ('females', 'exhibit'): 1, ('exhibit', 'strong'): 1, ('strong', 'maternal'): 1, ('maternal', 'instincts,'): 1, ('instincts,', 'guarding'): 1, ('guarding', 'their'): 1, ('their', 'nests'): 1, ('nests', 'and'): 1, ('and', 'protecting'): 1, ('protecting', 'their'): 1, ('their', 'hatchlings'): 1, ('hatchlings', 'after'): 1, ('after', 'they'): 1, ('they', 'emerge.'): 1, ('The', 'impala'): 1, ('impala', 'is'): 1, ('a', 'graceful,'): 1, ('graceful,', 'medium-sized'): 1, ('medium-sized', 'antelope'): 1, ('antelope', 'renowned'): 1, ('its', 'incredible'): 1, ('incredible', 'agility.'): 1, ('agility.', 'Found'): 1, ('Found', 'across'): 1, ('across', 'eastern'): 1, ('Africa,', 'it'): 1, ('is', 'capable'): 1, ('capable', 'of'): 1, ('of', 'leaping'): 1, ('leaping', 'up'): 1, ('to', '3'): 1, ('3', 'meters'): 1, ('meters', '(10ft)'): 1, ('(10ft)', 'high'): 1, ('high', 'and'): 1, ('and', '10'): 1, ('10', 'meters'): 1, ('meters', '(33ft)'): 1, ('(33ft)', 'in'): 1, ('in', 'length,'): 1, ('length,', 'a'): 1, ('a', 'spectacular'): 1, ('spectacular', 'defensive'): 1, ('defensive', 'tactic.'): 1, ('tactic.', 'Only'): 1, ('Only', 'the'): 1, ('the', 'males'): 1, ('males', 'possess'): 1, ('possess', 'the'): 1, ('the', 'distinctive,'): 1, ('distinctive,', 'lyre-shaped'): 1, ('lyre-shaped', 'horns.'): 1, ('horns.', 'Impalas'): 1, ('Impalas', 'are'): 1, ('highly', 'adaptable,'): 1, ('adaptable,', 'thriving'): 1, ('thriving', 'in'): 1, ('in', 'both'): 1, ('both', 'savanna'): 1, ('savanna', 'and'): 1, ('and', 'woodland'): 1, ('woodland', 'habitats,'): 1, ('habitats,', 'and'): 1, ('a', 'flexible'): 1, ('flexible', 'social'): 1, ('social', 'structure'): 1, ('structure', 'of'): 1, ('both', 'breeding'): 1, ('breeding', 'herds'): 1, ('herds', 'and'): 1, ('and', 'bachelor'): 1, ('bachelor', 'groups.'): 1, ('groups.', 'They'): 1, ('vital', 'species'): 1, ('species', 'in'): 1, ('the', 'food'): 1, ('food', 'chain,'): 1, ('chain,', 'serving'): 1, ('a', 'primary'): 1, ('primary', 'food'): 1, ('source', 'for'): 1, ('for', 'nearly'): 1, ('nearly', 'all'): 1, ('all', 'of'): 1, ('large', 'carnivores.'): 1, ('The', 'rhinoceros'): 1, ('rhinoceros', 'is'): 1, ('large,', 'herbivorous'): 1, ('herbivorous', 'mammal'): 1, ('mammal', 'identified'): 1, ('identified', 'by'): 1, ('iconic', 'horn,'): 1, ('horn,', 'which'): 1, ('of', 'keratin.'): 1, ('keratin.', 'Africa'): 1, ('to', 'two'): 1, ('two', 'species:'): 1, ('Rhino', 'and'): 1, ('Black', 'Rhino.'): 1, ('Rhino.', 'The'): 1, ('The', 'key'): 1, ('key', 'distinction'): 1, ('distinction', 'lies'): 1, ('lies', 'in'): 1, ('their', 'mouths:'): 1, ('mouths:', 'the'): 1, ('a', 'wide,'): 1, ('wide,', 'square'): 1, ('square', 'lip'): 1, ('for', 'grazing'): 1, ('grazing', 'grass,'): 1, ('grass,', 'while'): 1, ('Black', 'Rhino'): 1, ('a', 'pointed,'): 1, ('pointed,', 'prehensile'): 1, ('prehensile', 'lip'): 1, ('for', 'Browse'): 1, ('Browse', 'on'): 1, ('and', 'bushes.'): 1, ('African', 'Buffalo,'): 1, ('Buffalo,', 'or'): 1, ('or', 'Cape'): 1, ('Cape', 'Buffalo,'): 1, ('Buffalo,', 'is'): 1, ('large', 'bovine'): 1, ('bovine', 'and'): 1, ('most', 'formidable'): 1, ('formidable', 'members'): 1, (\"Five.'\", 'It'): 1, ('is', 'known'): 1, ('its', 'immense'): 1, ('immense', 'power,'): 1, ('power,', 'unpredictable'): 1, ('unpredictable', 'nature,'): 1, ('nature,', 'and'): 1, ('and', 'refusal'): 1, ('refusal', 'to'): 1, ('be', 'domesticated.'): 1, ('domesticated.', 'Its'): 1, ('Its', 'most'): 1, ('most', 'defining'): 1, ('defining', 'feature'): 1, ('is', 'its'): 1, ('massive', 'horns'): 1, ('horns', 'that'): 1, ('that', 'fuse'): 1, ('fuse', 'at'): 1, ('base,', 'forming'): 1, ('forming', 'a'): 1, ('a', 'solid'): 1, ('solid', 'bone'): 1, ('bone', 'shield'): 1, ('shield', 'called'): 1, ('a', \"'boss.'\"): 1, (\"'boss.'\", 'Buffalo'): 1, ('Buffalo', 'are'): 1, ('highly', 'social,'): 1, ('social,', 'living'): 1, ('large', 'herds.'): 1, ('The', 'leopard'): 1, ('leopard', 'is'): 1, ('most', 'elusive'): 1, ('elusive', 'and'): 1, ('and', 'adaptable'): 1, ('adaptable', 'of'): 1, ('cats', 'and'): 1, ('a', 'member'): 1, ('member', 'of'): 1, (\"Five.'\", 'Its'): 1, ('Its', 'beautiful'): 1, ('beautiful', 'coat,'): 1, ('coat,', 'marked'): 1, ('with', 'rosette'): 1, ('rosette', 'patterns,'): 1, ('patterns,', 'provides'): 1, ('provides', 'exceptional'): 1, ('exceptional', 'camouflage'): 1, ('camouflage', 'across'): 1, ('across', 'a'): 1, ('of', 'habitats,'): 1, ('habitats,', 'from'): 1, ('from', 'dense'): 1, ('dense', 'forests'): 1, ('forests', 'to'): 1, ('to', 'open'): 1, ('open', 'savannas.'): 1, ('savannas.', 'Leopards'): 1, ('Leopards', 'are'): 1, ('are', 'solitary'): 1, ('solitary', 'and'): 1, ('and', 'primarily'): 1, ('primarily', 'nocturnal'): 1, ('nocturnal', 'hunters,'): 1, ('hunters,', 'renowned'): 1, ('their', 'incredible'): 1, ('incredible', 'strength.'): 1, ('The', 'cheetah'): 1, ('cheetah', 'is'): 1, ('fastest', 'land'): 1, ('land', 'animal'): 1, ('animal', 'on'): 1, ('Earth,', 'a'): 1, ('a', 'creature'): 1, ('creature', 'built'): 1, ('built', 'for'): 1, ('for', 'explosive'): 1, ('explosive', 'speed.'): 1, ('speed.', 'With'): 1, ('With', 'its'): 1, ('its', 'slender'): 1, ('slender', 'body,'): 1, ('body,', 'long'): 1, ('long', 'legs,'): 1, ('and', 'flexible'): 1, ('flexible', 'spine,'): 1, ('spine,', 'it'): 1, ('can', 'accelerate'): 1, ('accelerate', 'from'): 1, ('from', '0'): 1, ('0', 'to'): 1, ('to', 'over'): 1, ('over', '95'): 1, ('95', 'km/h'): 1, ('km/h', '(60'): 1, ('(60', 'mph)'): 1, ('mph)', 'in'): 1, ('in', 'seconds.'): 1, ('seconds.', 'It'): 1, ('is', 'easily'): 1, ('easily', 'distinguished'): 1, ('distinguished', 'from'): 1, ('from', 'other'): 1, ('other', 'large'): 1, ('cats', 'by'): 1, ('its', 'solid'): 1, ('solid', 'black'): 1, ('black', 'spots'): 1, ('spots', 'and'): 1, ('black', \"'tear\"): 1, (\"'tear\", \"marks'\"): 1, (\"marks'\", 'running'): 1, ('running', 'down'): 1, ('down', 'its'): 1, ('its', 'face.'): 1, ('face.', 'Unlike'): 1, ('Unlike', 'other'): 1, ('other', 'cats,'): 1, ('cats,', 'its'): 1, ('its', 'claws'): 1, ('claws', 'are'): 1, ('are', 'not'): 1, ('not', 'fully'): 1, ('fully', 'retractable,'): 1, ('retractable,', 'providing'): 1, ('providing', 'extra'): 1, ('extra', 'grip'): 1, ('grip', 'like'): 1, ('like', 'running'): 1, ('running', 'spikes.'): 1, ('spikes.', ''): 1, ('Lemurs', 'are'): 1, ('diverse', 'group'): 1, ('of', 'primates'): 1, ('primates', 'found'): 1, ('found', 'exclusively'): 1, ('exclusively', 'on'): 1, ('island', 'of'): 1, ('of', 'Madagascar.'): 1, ('Madagascar.', 'Having'): 1, ('Having', 'evolved'): 1, ('evolved', 'in'): 1, ('in', 'isolation,'): 1, ('isolation,', 'they'): 1, ('they', 'have'): 1, ('have', 'filled'): 1, ('filled', 'a'): 1, ('wide', 'array'): 1, ('ecological', 'niches,'): 1, ('niches,', 'resulting'): 1, ('in', 'over'): 1, ('100', 'different'): 1, ('different', 'species,'): 1, ('species,', 'from'): 1, ('the', 'tiny'): 1, ('tiny', 'mouse'): 1, ('mouse', 'lemur'): 1, ('lemur', 'to'): 1, ('the', \"'dancing'\"): 1, (\"'dancing'\", 'Sifaka.'): 1, ('Sifaka.', 'Many'): 1, ('Many', 'lemur'): 1, ('lemur', 'societies,'): 1, ('societies,', 'such'): 1, ('as', 'that'): 1, ('that', 'of'): 1, ('iconic', 'Ring-tailed'): 1, ('Ring-tailed', 'Lemur,'): 1, ('Lemur,', 'are'): 1, ('are', 'matriarchal,'): 1, ('matriarchal,', 'with'): 1, ('with', 'females'): 1, ('females', 'dominating'): 1, ('dominating', 'the'): 1, ('social', 'groups.'): 1, (\"Africa's\", 'most'): 1, ('most', 'endangered'): 1, ('endangered', 'carnivore'): 1, ('carnivore', 'and'): 1, ('the', 'rarest'): 1, ('rarest', 'canid'): 1, ('canid', 'in'): 1, ('world.', 'This'): 1, ('This', 'species'): 1, ('species', 'is'): 1, ('a', 'habitat'): 1, ('habitat', 'specialist,'): 1, ('specialist,', 'found'): 1, ('found', 'only'): 1, ('only', 'in'): 1, ('the', 'high-altitude'): 1, ('high-altitude', 'Afroalpine'): 1, ('Afroalpine', 'grasslands'): 1, ('Highlands.', 'With'): 1, ('a', 'slender'): 1, ('slender', 'body'): 1, ('a', 'distinctive'): 1, ('distinctive', 'reddish'): 1, ('reddish', 'coat,'): 1, ('coat,', 'it'): 1, ('it', 'looks'): 1, ('looks', 'more'): 1, ('more', 'like'): 1, ('a', 'coyote'): 1, ('coyote', 'than'): 1, ('than', 'a'): 1, ('a', 'wolf.'): 1, ('wolf.', 'Unlike'): 1, ('Unlike', 'its'): 1, ('its', 'pack-hunting'): 1, ('pack-hunting', 'relatives,'): 1, ('relatives,', 'the'): 1, ('a', 'specialized'): 1, ('specialized', 'solitary'): 1, ('solitary', 'hunter'): 1, ('hunter', 'whose'): 1, ('whose', 'diet'): 1, ('diet', 'consists'): 1, ('consists', 'almost'): 1, ('almost', 'entirely'): 1, ('entirely', 'of'): 1, ('of', 'high-altitude'): 1, ('high-altitude', 'rodents,'): 1, ('rodents,', 'such'): 1, ('the', 'giant'): 1, ('giant', 'mole-rat.'): 1, ('The', 'kudu'): 1, ('kudu', 'is'): 1, ('large', 'species'): 1, ('antelope', 'native'): 1, ('southern', 'parts'): 1, ('Africa.', 'Males'): 1, ('Males', 'are'): 1, ('their', 'magnificent,'): 1, ('magnificent,', 'long,'): 1, ('long,', 'spiral'): 1, ('spiral', 'horns'): 1, ('horns', 'which'): 1, ('can', 'grow'): 1, ('grow', 'up'): 1, ('to', '1.8'): 1, ('1.8', 'meters'): 1, ('meters', 'in'): 1, ('in', 'length.'): 1, ('length.', ''): 1, ('', 'Their'): 1, ('Their', 'coats'): 1, ('coats', 'are'): 1, ('typically', 'a'): 1, ('a', 'greyish-brown'): 1, ('greyish-brown', 'colour,'): 1, ('colour,', 'marked'): 1, ('with', 'thin,'): 1, ('thin,', 'vertical'): 1, ('vertical', 'white'): 1, ('white', 'stripes'): 1, ('stripes', 'that'): 1, ('provide', 'excellent'): 1, ('excellent', 'camouflage'): 1, ('camouflage', 'in'): 1, ('their', 'woodland'): 1, ('woodland', 'and'): 1, ('and', 'bushveld'): 1, ('bushveld', 'habitats.'): 1, ('habitats.', 'Kudus'): 1, ('Kudus', 'are'): 1, ('are', 'browsers,'): 1, ('browsers,', 'feeding'): 1, ('feeding', 'on'): 1, ('and', 'shoots,'): 1, ('shoots,', 'and'): 1, ('for', 'being'): 1, ('being', 'shy'): 1, ('shy', 'and'): 1, ('and', 'elusive'): 1, ('elusive', 'animals.'): 1, ('animals.', 'There'): 1, ('are', 'two'): 1, ('two', 'species,'): 1, ('species,', 'the'): 1, ('kudu', 'and'): 1, ('the', 'lesser'): 1, ('lesser', 'kudu,'): 1, ('kudu,', 'primarily'): 1, ('primarily', 'distinguished'): 1, ('their', 'size,'): 1, ('size,', 'with'): 1, ('kudu', 'being'): 1, ('being', 'one'): 1, ('largest', 'antelopes.'): 1, ('The', 'ostrich'): 1, ('ostrich', 'is'): 1, ('large,', 'flightless'): 1, ('flightless', 'bird'): 1, ('bird', 'native'): 1, ('savannas', 'and'): 1, ('and', 'woodlands'): 1, ('woodlands', 'of'): 1, ('largest', 'bird,'): 1, ('bird,', 'distinguished'): 1, ('its', 'long'): 1, ('and', 'legs,'): 1, ('the', 'dramatic'): 1, ('dramatic', 'black-and-white'): 1, ('black-and-white', 'feathers'): 1, ('feathers', 'of'): 1, ('the', 'males.'): 1, ('males.', 'Capable'): 1, ('Capable', 'of'): 1, ('of', 'running'): 1, ('running', 'at'): 1, ('at', 'speeds'): 1, ('speeds', 'up'): 1, ('to', '70'): 1, ('70', 'km/h'): 1, ('km/h', '(45'): 1, ('(45', 'mph),'): 1, ('mph),', 'it'): 1, ('fastest', 'bird'): 1, ('bird', 'on'): 1, ('on', 'land.'): 1, ('land.', 'Ostriches'): 1, ('Ostriches', 'are'): 1, ('are', 'omnivores,'): 1, ('omnivores,', 'with'): 1, ('diet', 'primarily'): 1, ('primarily', 'consisting'): 1, ('of', 'plants,'): 1, ('plants,', 'roots,'): 1, ('roots,', 'and'): 1, ('and', 'seeds,'): 1, ('seeds,', 'supplemented'): 1, ('supplemented', 'with'): 1, ('with', 'insects'): 1, ('insects', 'and'): 1, ('and', 'lizards.'): 1, ('lizards.', 'Finally,'): 1, ('Finally,', 'they'): 1, ('for', 'laying'): 1, ('laying', 'the'): 1, ('largest', 'eggs'): 1, ('eggs', 'of'): 1, ('of', 'any'): 1, ('any', 'living'): 1, ('living', 'land'): 1, ('land', 'animal.'): 1, ('Penguins', 'are'): 1, ('are', 'aquatic,'): 1, ('aquatic,', 'flightless'): 1, ('flightless', 'birds'): 1, ('birds', 'perfectly'): 1, ('perfectly', 'adapted'): 1, ('adapted', 'for'): 1, ('for', 'life'): 1, ('sea,', 'using'): 1, ('their', 'wings'): 1, ('wings', 'as'): 1, ('as', 'flippers'): 1, ('flippers', 'to'): 1, ('to', 'navigate'): 1, ('navigate', 'the'): 1, ('with', 'remarkable'): 1, ('remarkable', 'agility.'): 1, ('agility.', 'While'): 1, ('While', 'they'): 1, ('for', 'living'): 1, ('in', 'icy'): 1, ('icy', 'Antarctic'): 1, ('Antarctic', 'conditions,'): 1, ('conditions,', 'most'): 1, ('most', 'species'): 1, ('species', 'actually'): 1, ('actually', 'live'): 1, ('in', 'more'): 1, ('temperate', 'climates'): 1, ('the', 'Southern'): 1, ('Southern', 'Hemisphere.'): 1, ('Hemisphere.', 'Their'): 1, ('Their', 'distinctive'): 1, ('black', 'and'): 1, ('and', 'white'): 1, ('white', \"'tuxedo'\"): 1, (\"'tuxedo'\", 'plumage'): 1, ('plumage', 'serves'): 1, ('camouflage', 'from'): 1, ('from', 'predators'): 1, ('predators', 'both'): 1, ('both', 'above'): 1, ('above', 'and'): 1, ('and', 'below'): 1, ('below', 'the'): 1, ('the', \"water's\"): 1, (\"water's\", 'surface.'): 1, ('surface.', 'The'): 1, ('The', 'only'): 1, ('only', 'penguin'): 1, ('penguin', 'species'): 1, ('species', 'found'): 1, ('found', 'on'): 1, ('African', 'continent'): 1, ('continent', 'is'): 1, ('African', 'Penguin'): 1, ('Penguin', '(Spheniscus'): 1, ('(Spheniscus', 'demersus).'): 1, ('demersus).', 'These'): 1, ('These', 'penguins'): 1, ('penguins', 'breed'): 1, ('breed', 'along'): 1, ('the', 'southwestern'): 1, ('southwestern', 'coast'): 1, ('Africa,', 'from'): 1, ('from', 'Namibia'): 1, ('Namibia', 'down'): 1, ('down', 'to'): 1, ('to', 'Algoa'): 1, ('Algoa', 'Bay'): 1, ('Bay', 'in'): 1, ('in', 'South'): 1})\n",
            "Most common bigrams:\n",
            "  (('is', 'a'), 144)\n",
            "  (('of', 'the'), 100)\n",
            "  (('and', 'the'), 69)\n",
            "  (('in', 'the'), 61)\n",
            "  (('with', 'a'), 60)\n",
            "  (('in', 'a'), 55)\n",
            "  (('and', 'a'), 50)\n",
            "  (('to', 'the'), 42)\n",
            "  (('was', 'a'), 39)\n",
            "  (('It', 'is'), 33)\n",
            "\n",
            "\n",
            "Most common trigrams:\n",
            "  (('went', 'looking', 'for'), 32)\n",
            "  (('a', 'symbol', 'of'), 18)\n",
            "  (('was', 'hungry', 'so'), 18)\n",
            "  (('The', 'result', 'is'), 17)\n",
            "  (('looking', 'for', 'a'), 17)\n",
            "  (('she', 'went', 'looking'), 16)\n",
            "  (('he', 'went', 'looking'), 16)\n",
            "  (('result', 'is', 'a'), 15)\n",
            "  (('so', 'he', 'went'), 14)\n",
            "  (('so', 'she', 'went'), 14)\n"
          ]
        }
      ],
      "execution_count": 19
    },
    {
      "cell_type": "markdown",
      "source": [
        "## Coding Activity 2: Counting n-grams\n",
        "\n",
        "In preparation for computing the probabilities, you require a function that returns the counts of n-grams."
      ],
      "metadata": {
        "id": "GRn18yqADwJD"
      }
    },
    {
      "cell_type": "markdown",
      "source": [
        "------\n",
        "> 💻 **Your task**:\n",
        ">\n",
        "> Complete the function `get_ngram_counts(dataset, n)` below.\n",
        ">\n",
        "> This function should return a dictionary of [`Counter`](https://docs.python.org/3/library/collections.html#collections.Counter) objects where the keys are contexts of length n-1 tokens and the values are counters for the last token in the n-gram.\n",
        ">\n",
        ">For example, if the dataset consists of the two sentences \"Table Mountain is tall.\" and \"Table Mountain is beautiful.\" then the function called with `n = 3` should return:\n",
        ">```\n",
        ">{\n",
        ">   \"Table Mountain\": Counter({\"is\": 2}),\n",
        ">   \"Mountain is\": Counter({\"tall\": 1, \"beautiful\": 1})   \n",
        ">}\n",
        ">```\n",
        "------"
      ],
      "metadata": {
        "id": "LDiQN6Lp7lkH"
      }
    },
    {
      "metadata": {
        "id": "VZaL5Lu4x-kp",
        "colab": {
          "base_uri": "https://localhost:8080/"
        },
        "outputId": "454432b9-edf4-4165-ca35-314fe947606c"
      },
      "cell_type": "code",
      "source": [
        "def get_ngram_counts(dataset: list[str], n: int) -> dict[str, Counter]:\n",
        "    \"\"\"Computes the n-gram counts from a dataset.\n",
        "\n",
        "    This function takes a list of text strings (paragraphs or sentences) as\n",
        "    input, constructs n-grams from each text, and creates a dictionary where:\n",
        "\n",
        "    * Keys represent n-1 token long contexts `context`.\n",
        "    * Values are a Counter object `counts` such that `counts[next_token]` is the\n",
        "      count of `next_token` following `context`.\n",
        "\n",
        "    Args:\n",
        "        dataset: The list of text strings in the dataset.\n",
        "        n: The size of the n-grams to generate (e.g., 2 for bigrams, 3 for\n",
        "            trigrams).\n",
        "\n",
        "    Returns:\n",
        "        A dictionary where keys are (n-1)-token contexts and values are Counter\n",
        "        objects storing the counts of each next token for that context.\n",
        "\n",
        "    \"\"\"\n",
        "\n",
        "    # Define the dictionary as a defaultdict that is automatically initialized\n",
        "    # with an empty Counter object. This allows you to access and set the value\n",
        "    # of ngram_counts[context][next_token] without initializing\n",
        "    # ngram_counts[context] or ngram_counts[context][next_token] first.\n",
        "    # Reference\n",
        "    # https://docs.python.org/3/library/collections.html#collections.Counter and\n",
        "    # https://docs.python.org/3/library/collections.html#collections.defaultdict\n",
        "    # for more information on how to use defaultdict and Counter types.\n",
        "    ngram_counts = defaultdict(Counter)\n",
        "\n",
        "    for paragraph in dataset:\n",
        "      # Generate n-grams for the current paragraph:\n",
        "      paragraph_ngrams = generate_ngrams(paragraph, n)\n",
        "\n",
        "      # Iterate through the generated n-grams and update counts.\n",
        "      for ngram in paragraph_ngrams:\n",
        "        # Extract the context (all but the last token).\n",
        "        context = \" \".join(ngram[:-1])\n",
        "        # Extract the next token (the last token).\n",
        "        next_token = ngram[-1]\n",
        "        # Increment the count for the context-next_token pair.\n",
        "        ngram_counts[context][next_token] += 1\n",
        "\n",
        "    return dict(ngram_counts)\n",
        "\n",
        "\n",
        "# Example usage of the function.\n",
        "example_data = [\n",
        "    \"This is an example sentence.\",\n",
        "    \"Another example sentence.\",\n",
        "    \"Split a sentence.\"\n",
        "]\n",
        "ngram_counts = get_ngram_counts(example_data, 2)\n",
        "\n",
        "# Print the bigram counts dictionary for the dataset consisting of the\n",
        "# three example sentences.\n",
        "print(\"Bigram counts dictionary:\\n\")\n",
        "print(\"{\")\n",
        "for context, counter in ngram_counts.items():\n",
        "    print(f\"  '{context}': {counter},\")\n",
        "print(\"}\")"
      ],
      "outputs": [
        {
          "output_type": "stream",
          "name": "stdout",
          "text": [
            "Bigram counts dictionary:\n",
            "\n",
            "{\n",
            "  'This': Counter({'is': 1}),\n",
            "  'is': Counter({'an': 1}),\n",
            "  'an': Counter({'example': 1}),\n",
            "  'example': Counter({'sentence.': 2}),\n",
            "  'Another': Counter({'example': 1}),\n",
            "  'Split': Counter({'a': 1}),\n",
            "  'a': Counter({'sentence.': 1}),\n",
            "}\n"
          ]
        }
      ],
      "execution_count": 21
    },
    {
      "metadata": {
        "id": "MjHpBNaNknJQ"
      },
      "cell_type": "markdown",
      "source": [
        "As you can see in the output, the count of the bigram \"example sentence.\" is 2, which is shown in the entry for `\"example\"`.\n",
        "\n"
      ]
    },
    {
      "cell_type": "code",
      "source": [
        "# @title Run this cell to test your implementation.\n",
        "ngrams.test_ngram_counts(get_ngram_counts, generate_ngrams)"
      ],
      "metadata": {
        "id": "detz3eAXF7AY",
        "cellView": "form",
        "colab": {
          "base_uri": "https://localhost:8080/"
        },
        "outputId": "e114b275-8074-4750-d68e-d1b0c7ee0143"
      },
      "execution_count": 23,
      "outputs": [
        {
          "output_type": "stream",
          "name": "stdout",
          "text": [
            "✅ Nice! Your implementation looks correct.\n"
          ]
        }
      ]
    },
    {
      "metadata": {
        "id": "yOC1Lkbb_QuO"
      },
      "cell_type": "markdown",
      "source": [
        "### Exploring the n-gram counts in the Africa Galore dataset\n",
        "\n",
        "You can now use the `get_ngram_counts` function to compute the bigram counts for all combinations of tokens in the Africa Galore dataset.\n",
        "\n",
        "Run the following cell to print a table of bigram counts. This table shows the count of all bigrams where the first token in the bigram is shown at the beginning of each row and the second token is shown at top of each column."
      ]
    },
    {
      "metadata": {
        "id": "qRHDd6pTkBY8",
        "colab": {
          "base_uri": "https://localhost:8080/",
          "height": 461
        },
        "outputId": "2e3f99b3-7330-4b45-f32f-c0ffe512590a"
      },
      "cell_type": "code",
      "source": [
        "bigram_counts = get_ngram_counts(dataset, n=2)\n",
        "\n",
        "# Use the pandas library to display the counts in a table.\n",
        "bigram_counts_matrix = {\n",
        "    context: dict(counts) for context, counts in bigram_counts.items()\n",
        "}\n",
        "bigram_data_frame = pd.DataFrame.from_dict(\n",
        "    bigram_counts_matrix, orient=\"index\").fillna(0)\n",
        "\n",
        "display(bigram_data_frame)\n",
        "\n",
        "zero_count = (bigram_data_frame == 0).sum().sum()\n",
        "print(\n",
        "    f\"Number of bigrams with a count of 0: {zero_count:,}\"\n",
        "    f\" ({zero_count/bigram_data_frame.size * 100:.2f}%)\"\n",
        ")"
      ],
      "outputs": [
        {
          "output_type": "display_data",
          "data": {
            "text/plain": [
              "             Lagos  band  music  warm  Highlife  bustling  Dakar  Mbalax  \\\n",
              "The            1.0   1.0    4.0   1.0       1.0       1.0    1.0     1.0   \n",
              "of             1.0   0.0    1.0   0.0       1.0       0.0    0.0     1.0   \n",
              "the            0.0   1.0    0.0   4.0       0.0       4.0    0.0     0.0   \n",
              "a              0.0   1.0    0.0   6.0       0.0       7.0    0.0     0.0   \n",
              "with           0.0   0.0    1.0   3.0       0.0       0.0    0.0     0.0   \n",
              "...            ...   ...    ...   ...       ...       ...    ...     ...   \n",
              "water's        0.0   0.0    0.0   0.0       0.0       0.0    0.0     0.0   \n",
              "Penguin        0.0   0.0    0.0   0.0       0.0       0.0    0.0     0.0   \n",
              "(Spheniscus    0.0   0.0    0.0   0.0       0.0       0.0    0.0     0.0   \n",
              "penguins       0.0   0.0    0.0   0.0       0.0       0.0    0.0     0.0   \n",
              "Algoa          0.0   0.0    0.0   0.0       0.0       0.0    0.0     0.0   \n",
              "\n",
              "             Kinshasa  Soukous  ...  kudu,  mph),  Ostriches  Antarctic  \\\n",
              "The               1.0      1.0  ...    0.0    0.0        0.0        0.0   \n",
              "of                0.0      1.0  ...    0.0    0.0        0.0        0.0   \n",
              "the               0.0      0.0  ...    0.0    0.0        0.0        0.0   \n",
              "a                 0.0      0.0  ...    0.0    0.0        0.0        0.0   \n",
              "with              0.0      0.0  ...    0.0    0.0        0.0        0.0   \n",
              "...               ...      ...  ...    ...    ...        ...        ...   \n",
              "water's           0.0      0.0  ...    0.0    0.0        0.0        0.0   \n",
              "Penguin           0.0      0.0  ...    0.0    0.0        0.0        0.0   \n",
              "(Spheniscus       0.0      0.0  ...    0.0    0.0        0.0        0.0   \n",
              "penguins          0.0      0.0  ...    0.0    0.0        0.0        0.0   \n",
              "Algoa             0.0      0.0  ...    0.0    0.0        0.0        0.0   \n",
              "\n",
              "             plumage  surface.  (Spheniscus  demersus).  breed  Bay  \n",
              "The              0.0       0.0          0.0         0.0    0.0  0.0  \n",
              "of               0.0       0.0          0.0         0.0    0.0  0.0  \n",
              "the              0.0       0.0          0.0         0.0    0.0  0.0  \n",
              "a                0.0       0.0          0.0         0.0    0.0  0.0  \n",
              "with             0.0       0.0          0.0         0.0    0.0  0.0  \n",
              "...              ...       ...          ...         ...    ...  ...  \n",
              "water's          0.0       1.0          0.0         0.0    0.0  0.0  \n",
              "Penguin          0.0       0.0          1.0         0.0    0.0  0.0  \n",
              "(Spheniscus      0.0       0.0          0.0         1.0    0.0  0.0  \n",
              "penguins         0.0       0.0          0.0         0.0    1.0  0.0  \n",
              "Algoa            0.0       0.0          0.0         0.0    0.0  1.0  \n",
              "\n",
              "[5143 rows x 5176 columns]"
            ],
            "text/html": [
              "\n",
              "  <div id=\"df-1805fd91-234a-432d-a259-9b1107866cc4\" class=\"colab-df-container\">\n",
              "    <div>\n",
              "<style scoped>\n",
              "    .dataframe tbody tr th:only-of-type {\n",
              "        vertical-align: middle;\n",
              "    }\n",
              "\n",
              "    .dataframe tbody tr th {\n",
              "        vertical-align: top;\n",
              "    }\n",
              "\n",
              "    .dataframe thead th {\n",
              "        text-align: right;\n",
              "    }\n",
              "</style>\n",
              "<table border=\"1\" class=\"dataframe\">\n",
              "  <thead>\n",
              "    <tr style=\"text-align: right;\">\n",
              "      <th></th>\n",
              "      <th>Lagos</th>\n",
              "      <th>band</th>\n",
              "      <th>music</th>\n",
              "      <th>warm</th>\n",
              "      <th>Highlife</th>\n",
              "      <th>bustling</th>\n",
              "      <th>Dakar</th>\n",
              "      <th>Mbalax</th>\n",
              "      <th>Kinshasa</th>\n",
              "      <th>Soukous</th>\n",
              "      <th>...</th>\n",
              "      <th>kudu,</th>\n",
              "      <th>mph),</th>\n",
              "      <th>Ostriches</th>\n",
              "      <th>Antarctic</th>\n",
              "      <th>plumage</th>\n",
              "      <th>surface.</th>\n",
              "      <th>(Spheniscus</th>\n",
              "      <th>demersus).</th>\n",
              "      <th>breed</th>\n",
              "      <th>Bay</th>\n",
              "    </tr>\n",
              "  </thead>\n",
              "  <tbody>\n",
              "    <tr>\n",
              "      <th>The</th>\n",
              "      <td>1.0</td>\n",
              "      <td>1.0</td>\n",
              "      <td>4.0</td>\n",
              "      <td>1.0</td>\n",
              "      <td>1.0</td>\n",
              "      <td>1.0</td>\n",
              "      <td>1.0</td>\n",
              "      <td>1.0</td>\n",
              "      <td>1.0</td>\n",
              "      <td>1.0</td>\n",
              "      <td>...</td>\n",
              "      <td>0.0</td>\n",
              "      <td>0.0</td>\n",
              "      <td>0.0</td>\n",
              "      <td>0.0</td>\n",
              "      <td>0.0</td>\n",
              "      <td>0.0</td>\n",
              "      <td>0.0</td>\n",
              "      <td>0.0</td>\n",
              "      <td>0.0</td>\n",
              "      <td>0.0</td>\n",
              "    </tr>\n",
              "    <tr>\n",
              "      <th>of</th>\n",
              "      <td>1.0</td>\n",
              "      <td>0.0</td>\n",
              "      <td>1.0</td>\n",
              "      <td>0.0</td>\n",
              "      <td>1.0</td>\n",
              "      <td>0.0</td>\n",
              "      <td>0.0</td>\n",
              "      <td>1.0</td>\n",
              "      <td>0.0</td>\n",
              "      <td>1.0</td>\n",
              "      <td>...</td>\n",
              "      <td>0.0</td>\n",
              "      <td>0.0</td>\n",
              "      <td>0.0</td>\n",
              "      <td>0.0</td>\n",
              "      <td>0.0</td>\n",
              "      <td>0.0</td>\n",
              "      <td>0.0</td>\n",
              "      <td>0.0</td>\n",
              "      <td>0.0</td>\n",
              "      <td>0.0</td>\n",
              "    </tr>\n",
              "    <tr>\n",
              "      <th>the</th>\n",
              "      <td>0.0</td>\n",
              "      <td>1.0</td>\n",
              "      <td>0.0</td>\n",
              "      <td>4.0</td>\n",
              "      <td>0.0</td>\n",
              "      <td>4.0</td>\n",
              "      <td>0.0</td>\n",
              "      <td>0.0</td>\n",
              "      <td>0.0</td>\n",
              "      <td>0.0</td>\n",
              "      <td>...</td>\n",
              "      <td>0.0</td>\n",
              "      <td>0.0</td>\n",
              "      <td>0.0</td>\n",
              "      <td>0.0</td>\n",
              "      <td>0.0</td>\n",
              "      <td>0.0</td>\n",
              "      <td>0.0</td>\n",
              "      <td>0.0</td>\n",
              "      <td>0.0</td>\n",
              "      <td>0.0</td>\n",
              "    </tr>\n",
              "    <tr>\n",
              "      <th>a</th>\n",
              "      <td>0.0</td>\n",
              "      <td>1.0</td>\n",
              "      <td>0.0</td>\n",
              "      <td>6.0</td>\n",
              "      <td>0.0</td>\n",
              "      <td>7.0</td>\n",
              "      <td>0.0</td>\n",
              "      <td>0.0</td>\n",
              "      <td>0.0</td>\n",
              "      <td>0.0</td>\n",
              "      <td>...</td>\n",
              "      <td>0.0</td>\n",
              "      <td>0.0</td>\n",
              "      <td>0.0</td>\n",
              "      <td>0.0</td>\n",
              "      <td>0.0</td>\n",
              "      <td>0.0</td>\n",
              "      <td>0.0</td>\n",
              "      <td>0.0</td>\n",
              "      <td>0.0</td>\n",
              "      <td>0.0</td>\n",
              "    </tr>\n",
              "    <tr>\n",
              "      <th>with</th>\n",
              "      <td>0.0</td>\n",
              "      <td>0.0</td>\n",
              "      <td>1.0</td>\n",
              "      <td>3.0</td>\n",
              "      <td>0.0</td>\n",
              "      <td>0.0</td>\n",
              "      <td>0.0</td>\n",
              "      <td>0.0</td>\n",
              "      <td>0.0</td>\n",
              "      <td>0.0</td>\n",
              "      <td>...</td>\n",
              "      <td>0.0</td>\n",
              "      <td>0.0</td>\n",
              "      <td>0.0</td>\n",
              "      <td>0.0</td>\n",
              "      <td>0.0</td>\n",
              "      <td>0.0</td>\n",
              "      <td>0.0</td>\n",
              "      <td>0.0</td>\n",
              "      <td>0.0</td>\n",
              "      <td>0.0</td>\n",
              "    </tr>\n",
              "    <tr>\n",
              "      <th>...</th>\n",
              "      <td>...</td>\n",
              "      <td>...</td>\n",
              "      <td>...</td>\n",
              "      <td>...</td>\n",
              "      <td>...</td>\n",
              "      <td>...</td>\n",
              "      <td>...</td>\n",
              "      <td>...</td>\n",
              "      <td>...</td>\n",
              "      <td>...</td>\n",
              "      <td>...</td>\n",
              "      <td>...</td>\n",
              "      <td>...</td>\n",
              "      <td>...</td>\n",
              "      <td>...</td>\n",
              "      <td>...</td>\n",
              "      <td>...</td>\n",
              "      <td>...</td>\n",
              "      <td>...</td>\n",
              "      <td>...</td>\n",
              "      <td>...</td>\n",
              "    </tr>\n",
              "    <tr>\n",
              "      <th>water's</th>\n",
              "      <td>0.0</td>\n",
              "      <td>0.0</td>\n",
              "      <td>0.0</td>\n",
              "      <td>0.0</td>\n",
              "      <td>0.0</td>\n",
              "      <td>0.0</td>\n",
              "      <td>0.0</td>\n",
              "      <td>0.0</td>\n",
              "      <td>0.0</td>\n",
              "      <td>0.0</td>\n",
              "      <td>...</td>\n",
              "      <td>0.0</td>\n",
              "      <td>0.0</td>\n",
              "      <td>0.0</td>\n",
              "      <td>0.0</td>\n",
              "      <td>0.0</td>\n",
              "      <td>1.0</td>\n",
              "      <td>0.0</td>\n",
              "      <td>0.0</td>\n",
              "      <td>0.0</td>\n",
              "      <td>0.0</td>\n",
              "    </tr>\n",
              "    <tr>\n",
              "      <th>Penguin</th>\n",
              "      <td>0.0</td>\n",
              "      <td>0.0</td>\n",
              "      <td>0.0</td>\n",
              "      <td>0.0</td>\n",
              "      <td>0.0</td>\n",
              "      <td>0.0</td>\n",
              "      <td>0.0</td>\n",
              "      <td>0.0</td>\n",
              "      <td>0.0</td>\n",
              "      <td>0.0</td>\n",
              "      <td>...</td>\n",
              "      <td>0.0</td>\n",
              "      <td>0.0</td>\n",
              "      <td>0.0</td>\n",
              "      <td>0.0</td>\n",
              "      <td>0.0</td>\n",
              "      <td>0.0</td>\n",
              "      <td>1.0</td>\n",
              "      <td>0.0</td>\n",
              "      <td>0.0</td>\n",
              "      <td>0.0</td>\n",
              "    </tr>\n",
              "    <tr>\n",
              "      <th>(Spheniscus</th>\n",
              "      <td>0.0</td>\n",
              "      <td>0.0</td>\n",
              "      <td>0.0</td>\n",
              "      <td>0.0</td>\n",
              "      <td>0.0</td>\n",
              "      <td>0.0</td>\n",
              "      <td>0.0</td>\n",
              "      <td>0.0</td>\n",
              "      <td>0.0</td>\n",
              "      <td>0.0</td>\n",
              "      <td>...</td>\n",
              "      <td>0.0</td>\n",
              "      <td>0.0</td>\n",
              "      <td>0.0</td>\n",
              "      <td>0.0</td>\n",
              "      <td>0.0</td>\n",
              "      <td>0.0</td>\n",
              "      <td>0.0</td>\n",
              "      <td>1.0</td>\n",
              "      <td>0.0</td>\n",
              "      <td>0.0</td>\n",
              "    </tr>\n",
              "    <tr>\n",
              "      <th>penguins</th>\n",
              "      <td>0.0</td>\n",
              "      <td>0.0</td>\n",
              "      <td>0.0</td>\n",
              "      <td>0.0</td>\n",
              "      <td>0.0</td>\n",
              "      <td>0.0</td>\n",
              "      <td>0.0</td>\n",
              "      <td>0.0</td>\n",
              "      <td>0.0</td>\n",
              "      <td>0.0</td>\n",
              "      <td>...</td>\n",
              "      <td>0.0</td>\n",
              "      <td>0.0</td>\n",
              "      <td>0.0</td>\n",
              "      <td>0.0</td>\n",
              "      <td>0.0</td>\n",
              "      <td>0.0</td>\n",
              "      <td>0.0</td>\n",
              "      <td>0.0</td>\n",
              "      <td>1.0</td>\n",
              "      <td>0.0</td>\n",
              "    </tr>\n",
              "    <tr>\n",
              "      <th>Algoa</th>\n",
              "      <td>0.0</td>\n",
              "      <td>0.0</td>\n",
              "      <td>0.0</td>\n",
              "      <td>0.0</td>\n",
              "      <td>0.0</td>\n",
              "      <td>0.0</td>\n",
              "      <td>0.0</td>\n",
              "      <td>0.0</td>\n",
              "      <td>0.0</td>\n",
              "      <td>0.0</td>\n",
              "      <td>...</td>\n",
              "      <td>0.0</td>\n",
              "      <td>0.0</td>\n",
              "      <td>0.0</td>\n",
              "      <td>0.0</td>\n",
              "      <td>0.0</td>\n",
              "      <td>0.0</td>\n",
              "      <td>0.0</td>\n",
              "      <td>0.0</td>\n",
              "      <td>0.0</td>\n",
              "      <td>1.0</td>\n",
              "    </tr>\n",
              "  </tbody>\n",
              "</table>\n",
              "<p>5143 rows × 5176 columns</p>\n",
              "</div>\n",
              "    <div class=\"colab-df-buttons\">\n",
              "\n",
              "  <div class=\"colab-df-container\">\n",
              "    <button class=\"colab-df-convert\" onclick=\"convertToInteractive('df-1805fd91-234a-432d-a259-9b1107866cc4')\"\n",
              "            title=\"Convert this dataframe to an interactive table.\"\n",
              "            style=\"display:none;\">\n",
              "\n",
              "  <svg xmlns=\"http://www.w3.org/2000/svg\" height=\"24px\" viewBox=\"0 -960 960 960\">\n",
              "    <path d=\"M120-120v-720h720v720H120Zm60-500h600v-160H180v160Zm220 220h160v-160H400v160Zm0 220h160v-160H400v160ZM180-400h160v-160H180v160Zm440 0h160v-160H620v160ZM180-180h160v-160H180v160Zm440 0h160v-160H620v160Z\"/>\n",
              "  </svg>\n",
              "    </button>\n",
              "\n",
              "  <style>\n",
              "    .colab-df-container {\n",
              "      display:flex;\n",
              "      gap: 12px;\n",
              "    }\n",
              "\n",
              "    .colab-df-convert {\n",
              "      background-color: #E8F0FE;\n",
              "      border: none;\n",
              "      border-radius: 50%;\n",
              "      cursor: pointer;\n",
              "      display: none;\n",
              "      fill: #1967D2;\n",
              "      height: 32px;\n",
              "      padding: 0 0 0 0;\n",
              "      width: 32px;\n",
              "    }\n",
              "\n",
              "    .colab-df-convert:hover {\n",
              "      background-color: #E2EBFA;\n",
              "      box-shadow: 0px 1px 2px rgba(60, 64, 67, 0.3), 0px 1px 3px 1px rgba(60, 64, 67, 0.15);\n",
              "      fill: #174EA6;\n",
              "    }\n",
              "\n",
              "    .colab-df-buttons div {\n",
              "      margin-bottom: 4px;\n",
              "    }\n",
              "\n",
              "    [theme=dark] .colab-df-convert {\n",
              "      background-color: #3B4455;\n",
              "      fill: #D2E3FC;\n",
              "    }\n",
              "\n",
              "    [theme=dark] .colab-df-convert:hover {\n",
              "      background-color: #434B5C;\n",
              "      box-shadow: 0px 1px 3px 1px rgba(0, 0, 0, 0.15);\n",
              "      filter: drop-shadow(0px 1px 2px rgba(0, 0, 0, 0.3));\n",
              "      fill: #FFFFFF;\n",
              "    }\n",
              "  </style>\n",
              "\n",
              "    <script>\n",
              "      const buttonEl =\n",
              "        document.querySelector('#df-1805fd91-234a-432d-a259-9b1107866cc4 button.colab-df-convert');\n",
              "      buttonEl.style.display =\n",
              "        google.colab.kernel.accessAllowed ? 'block' : 'none';\n",
              "\n",
              "      async function convertToInteractive(key) {\n",
              "        const element = document.querySelector('#df-1805fd91-234a-432d-a259-9b1107866cc4');\n",
              "        const dataTable =\n",
              "          await google.colab.kernel.invokeFunction('convertToInteractive',\n",
              "                                                    [key], {});\n",
              "        if (!dataTable) return;\n",
              "\n",
              "        const docLinkHtml = 'Like what you see? Visit the ' +\n",
              "          '<a target=\"_blank\" href=https://colab.research.google.com/notebooks/data_table.ipynb>data table notebook</a>'\n",
              "          + ' to learn more about interactive tables.';\n",
              "        element.innerHTML = '';\n",
              "        dataTable['output_type'] = 'display_data';\n",
              "        await google.colab.output.renderOutput(dataTable, element);\n",
              "        const docLink = document.createElement('div');\n",
              "        docLink.innerHTML = docLinkHtml;\n",
              "        element.appendChild(docLink);\n",
              "      }\n",
              "    </script>\n",
              "  </div>\n",
              "\n",
              "\n",
              "    <div id=\"df-73c26769-a3e9-4ac0-b004-d4c0c1872cfd\">\n",
              "      <button class=\"colab-df-quickchart\" onclick=\"quickchart('df-73c26769-a3e9-4ac0-b004-d4c0c1872cfd')\"\n",
              "                title=\"Suggest charts\"\n",
              "                style=\"display:none;\">\n",
              "\n",
              "<svg xmlns=\"http://www.w3.org/2000/svg\" height=\"24px\"viewBox=\"0 0 24 24\"\n",
              "     width=\"24px\">\n",
              "    <g>\n",
              "        <path d=\"M19 3H5c-1.1 0-2 .9-2 2v14c0 1.1.9 2 2 2h14c1.1 0 2-.9 2-2V5c0-1.1-.9-2-2-2zM9 17H7v-7h2v7zm4 0h-2V7h2v10zm4 0h-2v-4h2v4z\"/>\n",
              "    </g>\n",
              "</svg>\n",
              "      </button>\n",
              "\n",
              "<style>\n",
              "  .colab-df-quickchart {\n",
              "      --bg-color: #E8F0FE;\n",
              "      --fill-color: #1967D2;\n",
              "      --hover-bg-color: #E2EBFA;\n",
              "      --hover-fill-color: #174EA6;\n",
              "      --disabled-fill-color: #AAA;\n",
              "      --disabled-bg-color: #DDD;\n",
              "  }\n",
              "\n",
              "  [theme=dark] .colab-df-quickchart {\n",
              "      --bg-color: #3B4455;\n",
              "      --fill-color: #D2E3FC;\n",
              "      --hover-bg-color: #434B5C;\n",
              "      --hover-fill-color: #FFFFFF;\n",
              "      --disabled-bg-color: #3B4455;\n",
              "      --disabled-fill-color: #666;\n",
              "  }\n",
              "\n",
              "  .colab-df-quickchart {\n",
              "    background-color: var(--bg-color);\n",
              "    border: none;\n",
              "    border-radius: 50%;\n",
              "    cursor: pointer;\n",
              "    display: none;\n",
              "    fill: var(--fill-color);\n",
              "    height: 32px;\n",
              "    padding: 0;\n",
              "    width: 32px;\n",
              "  }\n",
              "\n",
              "  .colab-df-quickchart:hover {\n",
              "    background-color: var(--hover-bg-color);\n",
              "    box-shadow: 0 1px 2px rgba(60, 64, 67, 0.3), 0 1px 3px 1px rgba(60, 64, 67, 0.15);\n",
              "    fill: var(--button-hover-fill-color);\n",
              "  }\n",
              "\n",
              "  .colab-df-quickchart-complete:disabled,\n",
              "  .colab-df-quickchart-complete:disabled:hover {\n",
              "    background-color: var(--disabled-bg-color);\n",
              "    fill: var(--disabled-fill-color);\n",
              "    box-shadow: none;\n",
              "  }\n",
              "\n",
              "  .colab-df-spinner {\n",
              "    border: 2px solid var(--fill-color);\n",
              "    border-color: transparent;\n",
              "    border-bottom-color: var(--fill-color);\n",
              "    animation:\n",
              "      spin 1s steps(1) infinite;\n",
              "  }\n",
              "\n",
              "  @keyframes spin {\n",
              "    0% {\n",
              "      border-color: transparent;\n",
              "      border-bottom-color: var(--fill-color);\n",
              "      border-left-color: var(--fill-color);\n",
              "    }\n",
              "    20% {\n",
              "      border-color: transparent;\n",
              "      border-left-color: var(--fill-color);\n",
              "      border-top-color: var(--fill-color);\n",
              "    }\n",
              "    30% {\n",
              "      border-color: transparent;\n",
              "      border-left-color: var(--fill-color);\n",
              "      border-top-color: var(--fill-color);\n",
              "      border-right-color: var(--fill-color);\n",
              "    }\n",
              "    40% {\n",
              "      border-color: transparent;\n",
              "      border-right-color: var(--fill-color);\n",
              "      border-top-color: var(--fill-color);\n",
              "    }\n",
              "    60% {\n",
              "      border-color: transparent;\n",
              "      border-right-color: var(--fill-color);\n",
              "    }\n",
              "    80% {\n",
              "      border-color: transparent;\n",
              "      border-right-color: var(--fill-color);\n",
              "      border-bottom-color: var(--fill-color);\n",
              "    }\n",
              "    90% {\n",
              "      border-color: transparent;\n",
              "      border-bottom-color: var(--fill-color);\n",
              "    }\n",
              "  }\n",
              "</style>\n",
              "\n",
              "      <script>\n",
              "        async function quickchart(key) {\n",
              "          const quickchartButtonEl =\n",
              "            document.querySelector('#' + key + ' button');\n",
              "          quickchartButtonEl.disabled = true;  // To prevent multiple clicks.\n",
              "          quickchartButtonEl.classList.add('colab-df-spinner');\n",
              "          try {\n",
              "            const charts = await google.colab.kernel.invokeFunction(\n",
              "                'suggestCharts', [key], {});\n",
              "          } catch (error) {\n",
              "            console.error('Error during call to suggestCharts:', error);\n",
              "          }\n",
              "          quickchartButtonEl.classList.remove('colab-df-spinner');\n",
              "          quickchartButtonEl.classList.add('colab-df-quickchart-complete');\n",
              "        }\n",
              "        (() => {\n",
              "          let quickchartButtonEl =\n",
              "            document.querySelector('#df-73c26769-a3e9-4ac0-b004-d4c0c1872cfd button');\n",
              "          quickchartButtonEl.style.display =\n",
              "            google.colab.kernel.accessAllowed ? 'block' : 'none';\n",
              "        })();\n",
              "      </script>\n",
              "    </div>\n",
              "\n",
              "  <div id=\"id_8ec2ed3c-406b-42a7-a258-9deb1ac561a3\">\n",
              "    <style>\n",
              "      .colab-df-generate {\n",
              "        background-color: #E8F0FE;\n",
              "        border: none;\n",
              "        border-radius: 50%;\n",
              "        cursor: pointer;\n",
              "        display: none;\n",
              "        fill: #1967D2;\n",
              "        height: 32px;\n",
              "        padding: 0 0 0 0;\n",
              "        width: 32px;\n",
              "      }\n",
              "\n",
              "      .colab-df-generate:hover {\n",
              "        background-color: #E2EBFA;\n",
              "        box-shadow: 0px 1px 2px rgba(60, 64, 67, 0.3), 0px 1px 3px 1px rgba(60, 64, 67, 0.15);\n",
              "        fill: #174EA6;\n",
              "      }\n",
              "\n",
              "      [theme=dark] .colab-df-generate {\n",
              "        background-color: #3B4455;\n",
              "        fill: #D2E3FC;\n",
              "      }\n",
              "\n",
              "      [theme=dark] .colab-df-generate:hover {\n",
              "        background-color: #434B5C;\n",
              "        box-shadow: 0px 1px 3px 1px rgba(0, 0, 0, 0.15);\n",
              "        filter: drop-shadow(0px 1px 2px rgba(0, 0, 0, 0.3));\n",
              "        fill: #FFFFFF;\n",
              "      }\n",
              "    </style>\n",
              "    <button class=\"colab-df-generate\" onclick=\"generateWithVariable('bigram_data_frame')\"\n",
              "            title=\"Generate code using this dataframe.\"\n",
              "            style=\"display:none;\">\n",
              "\n",
              "  <svg xmlns=\"http://www.w3.org/2000/svg\" height=\"24px\"viewBox=\"0 0 24 24\"\n",
              "       width=\"24px\">\n",
              "    <path d=\"M7,19H8.4L18.45,9,17,7.55,7,17.6ZM5,21V16.75L18.45,3.32a2,2,0,0,1,2.83,0l1.4,1.43a1.91,1.91,0,0,1,.58,1.4,1.91,1.91,0,0,1-.58,1.4L9.25,21ZM18.45,9,17,7.55Zm-12,3A5.31,5.31,0,0,0,4.9,8.1,5.31,5.31,0,0,0,1,6.5,5.31,5.31,0,0,0,4.9,4.9,5.31,5.31,0,0,0,6.5,1,5.31,5.31,0,0,0,8.1,4.9,5.31,5.31,0,0,0,12,6.5,5.46,5.46,0,0,0,6.5,12Z\"/>\n",
              "  </svg>\n",
              "    </button>\n",
              "    <script>\n",
              "      (() => {\n",
              "      const buttonEl =\n",
              "        document.querySelector('#id_8ec2ed3c-406b-42a7-a258-9deb1ac561a3 button.colab-df-generate');\n",
              "      buttonEl.style.display =\n",
              "        google.colab.kernel.accessAllowed ? 'block' : 'none';\n",
              "\n",
              "      buttonEl.onclick = () => {\n",
              "        google.colab.notebook.generateWithVariable('bigram_data_frame');\n",
              "      }\n",
              "      })();\n",
              "    </script>\n",
              "  </div>\n",
              "\n",
              "    </div>\n",
              "  </div>\n"
            ],
            "application/vnd.google.colaboratory.intrinsic+json": {
              "type": "dataframe",
              "variable_name": "bigram_data_frame"
            }
          },
          "metadata": {}
        },
        {
          "output_type": "stream",
          "name": "stdout",
          "text": [
            "Number of bigrams with a count of 0: 26,606,550 (99.95%)\n"
          ]
        }
      ],
      "execution_count": 24
    },
    {
      "metadata": {
        "id": "rqbmtcWNmdbK"
      },
      "cell_type": "markdown",
      "source": [
        "As you can observe from the table, a lot of entries are 0. This is because the table shows (almost) every possible combination of all tokens that appear in the Africa Galore dataset. In total, there are $5,143 \\times 5,176$ possible combinations but most of them (99.95%) never appear in the dataset. This **sparsity** is an important property to consider when building n-gram language models. For any context $\\mbox{A}$, the probability $P(\\mbox{B} \\mid \\mbox{A})$ will be 0 for most tokens $\\mbox{B}$.\n",
        "\n",
        "\n"
      ]
    },
    {
      "cell_type": "markdown",
      "source": [
        "The sparsity increases even more as the length of the context increases. For an example of this, run the following cell, which computes the frequencies of all trigrams and displays them as a table:"
      ],
      "metadata": {
        "id": "ZfgvmlhkBj-F"
      }
    },
    {
      "metadata": {
        "id": "blX_r7XXlJON",
        "colab": {
          "base_uri": "https://localhost:8080/",
          "height": 547
        },
        "outputId": "fcdd4b4b-6ef9-4652-b7a0-92b7c62e6d2d"
      },
      "cell_type": "code",
      "source": [
        "trigram_counts = get_ngram_counts(dataset, n=3)\n",
        "\n",
        "# Use the pandas library to display the counts in a table.\n",
        "trigram_counts_matrix = {\n",
        "    context: dict(counts) for context, counts in trigram_counts.items()\n",
        "}\n",
        "trigram_data_frame = pd.DataFrame.from_dict(\n",
        "    trigram_counts_matrix, orient=\"index\").fillna(0)\n",
        "\n",
        "display(trigram_data_frame)\n",
        "\n",
        "zero_count = (trigram_data_frame == 0).sum().sum()\n",
        "print(\n",
        "    f\"Number of trigrams with a count of 0: {zero_count:,}\"\n",
        "    f\" ({zero_count/trigram_data_frame.size * 100:.2f}%)\"\n",
        ")"
      ],
      "outputs": [
        {
          "output_type": "display_data",
          "data": {
            "text/plain": [
              "                     air  was  thick  thin  always  quiet,  filled  alive  \\\n",
              "The Lagos            1.0  0.0    0.0   0.0     0.0     0.0     0.0    0.0   \n",
              "in the               1.0  0.0    0.0   0.0     0.0     0.0     0.0    0.0   \n",
              "and the              3.0  0.0    0.0   0.0     0.0     0.0     0.0    0.0   \n",
              "warm evening         1.0  0.0    0.0   0.0     0.0     0.0     0.0    0.0   \n",
              "vegetables. The      1.0  0.0    0.0   0.0     0.0     0.0     0.0    0.0   \n",
              "...                  ...  ...    ...   ...     ...     ...     ...    ...   \n",
              "Penguin (Spheniscus  0.0  0.0    0.0   0.0     0.0     0.0     0.0    0.0   \n",
              "demersus). These     0.0  0.0    0.0   0.0     0.0     0.0     0.0    0.0   \n",
              "These penguins       0.0  0.0    0.0   0.0     0.0     0.0     0.0    0.0   \n",
              "down to              0.0  0.0    0.0   0.0     0.0     0.0     0.0    0.0   \n",
              "to Algoa             0.0  0.0    0.0   0.0     0.0     0.0     0.0    0.0   \n",
              "\n",
              "                     with  humidity,  ...  plumage  water's  surface.  \\\n",
              "The Lagos             0.0        0.0  ...      0.0      0.0       0.0   \n",
              "in the                0.0        0.0  ...      0.0      0.0       0.0   \n",
              "and the               0.0        0.0  ...      0.0      0.0       0.0   \n",
              "warm evening          0.0        0.0  ...      0.0      0.0       0.0   \n",
              "vegetables. The       0.0        0.0  ...      0.0      0.0       0.0   \n",
              "...                   ...        ...  ...      ...      ...       ...   \n",
              "Penguin (Spheniscus   0.0        0.0  ...      0.0      0.0       0.0   \n",
              "demersus). These      0.0        0.0  ...      0.0      0.0       0.0   \n",
              "These penguins        0.0        0.0  ...      0.0      0.0       0.0   \n",
              "down to               0.0        0.0  ...      0.0      0.0       0.0   \n",
              "to Algoa              0.0        0.0  ...      0.0      0.0       0.0   \n",
              "\n",
              "                     penguin  (Spheniscus  demersus).  penguins  breed  Algoa  \\\n",
              "The Lagos                0.0          0.0         0.0       0.0    0.0    0.0   \n",
              "in the                   0.0          0.0         0.0       0.0    0.0    0.0   \n",
              "and the                  0.0          0.0         0.0       0.0    0.0    0.0   \n",
              "warm evening             0.0          0.0         0.0       0.0    0.0    0.0   \n",
              "vegetables. The          0.0          0.0         0.0       0.0    0.0    0.0   \n",
              "...                      ...          ...         ...       ...    ...    ...   \n",
              "Penguin (Spheniscus      0.0          0.0         1.0       0.0    0.0    0.0   \n",
              "demersus). These         0.0          0.0         0.0       1.0    0.0    0.0   \n",
              "These penguins           0.0          0.0         0.0       0.0    1.0    0.0   \n",
              "down to                  0.0          0.0         0.0       0.0    0.0    1.0   \n",
              "to Algoa                 0.0          0.0         0.0       0.0    0.0    0.0   \n",
              "\n",
              "                     Bay  \n",
              "The Lagos            0.0  \n",
              "in the               0.0  \n",
              "and the              0.0  \n",
              "warm evening         0.0  \n",
              "vegetables. The      0.0  \n",
              "...                  ...  \n",
              "Penguin (Spheniscus  0.0  \n",
              "demersus). These     0.0  \n",
              "These penguins       0.0  \n",
              "down to              0.0  \n",
              "to Algoa             1.0  \n",
              "\n",
              "[13411 rows x 5142 columns]"
            ],
            "text/html": [
              "\n",
              "  <div id=\"df-5b9d3c7f-350c-4b7f-a430-9a3eceddffa2\" class=\"colab-df-container\">\n",
              "    <div>\n",
              "<style scoped>\n",
              "    .dataframe tbody tr th:only-of-type {\n",
              "        vertical-align: middle;\n",
              "    }\n",
              "\n",
              "    .dataframe tbody tr th {\n",
              "        vertical-align: top;\n",
              "    }\n",
              "\n",
              "    .dataframe thead th {\n",
              "        text-align: right;\n",
              "    }\n",
              "</style>\n",
              "<table border=\"1\" class=\"dataframe\">\n",
              "  <thead>\n",
              "    <tr style=\"text-align: right;\">\n",
              "      <th></th>\n",
              "      <th>air</th>\n",
              "      <th>was</th>\n",
              "      <th>thick</th>\n",
              "      <th>thin</th>\n",
              "      <th>always</th>\n",
              "      <th>quiet,</th>\n",
              "      <th>filled</th>\n",
              "      <th>alive</th>\n",
              "      <th>with</th>\n",
              "      <th>humidity,</th>\n",
              "      <th>...</th>\n",
              "      <th>plumage</th>\n",
              "      <th>water's</th>\n",
              "      <th>surface.</th>\n",
              "      <th>penguin</th>\n",
              "      <th>(Spheniscus</th>\n",
              "      <th>demersus).</th>\n",
              "      <th>penguins</th>\n",
              "      <th>breed</th>\n",
              "      <th>Algoa</th>\n",
              "      <th>Bay</th>\n",
              "    </tr>\n",
              "  </thead>\n",
              "  <tbody>\n",
              "    <tr>\n",
              "      <th>The Lagos</th>\n",
              "      <td>1.0</td>\n",
              "      <td>0.0</td>\n",
              "      <td>0.0</td>\n",
              "      <td>0.0</td>\n",
              "      <td>0.0</td>\n",
              "      <td>0.0</td>\n",
              "      <td>0.0</td>\n",
              "      <td>0.0</td>\n",
              "      <td>0.0</td>\n",
              "      <td>0.0</td>\n",
              "      <td>...</td>\n",
              "      <td>0.0</td>\n",
              "      <td>0.0</td>\n",
              "      <td>0.0</td>\n",
              "      <td>0.0</td>\n",
              "      <td>0.0</td>\n",
              "      <td>0.0</td>\n",
              "      <td>0.0</td>\n",
              "      <td>0.0</td>\n",
              "      <td>0.0</td>\n",
              "      <td>0.0</td>\n",
              "    </tr>\n",
              "    <tr>\n",
              "      <th>in the</th>\n",
              "      <td>1.0</td>\n",
              "      <td>0.0</td>\n",
              "      <td>0.0</td>\n",
              "      <td>0.0</td>\n",
              "      <td>0.0</td>\n",
              "      <td>0.0</td>\n",
              "      <td>0.0</td>\n",
              "      <td>0.0</td>\n",
              "      <td>0.0</td>\n",
              "      <td>0.0</td>\n",
              "      <td>...</td>\n",
              "      <td>0.0</td>\n",
              "      <td>0.0</td>\n",
              "      <td>0.0</td>\n",
              "      <td>0.0</td>\n",
              "      <td>0.0</td>\n",
              "      <td>0.0</td>\n",
              "      <td>0.0</td>\n",
              "      <td>0.0</td>\n",
              "      <td>0.0</td>\n",
              "      <td>0.0</td>\n",
              "    </tr>\n",
              "    <tr>\n",
              "      <th>and the</th>\n",
              "      <td>3.0</td>\n",
              "      <td>0.0</td>\n",
              "      <td>0.0</td>\n",
              "      <td>0.0</td>\n",
              "      <td>0.0</td>\n",
              "      <td>0.0</td>\n",
              "      <td>0.0</td>\n",
              "      <td>0.0</td>\n",
              "      <td>0.0</td>\n",
              "      <td>0.0</td>\n",
              "      <td>...</td>\n",
              "      <td>0.0</td>\n",
              "      <td>0.0</td>\n",
              "      <td>0.0</td>\n",
              "      <td>0.0</td>\n",
              "      <td>0.0</td>\n",
              "      <td>0.0</td>\n",
              "      <td>0.0</td>\n",
              "      <td>0.0</td>\n",
              "      <td>0.0</td>\n",
              "      <td>0.0</td>\n",
              "    </tr>\n",
              "    <tr>\n",
              "      <th>warm evening</th>\n",
              "      <td>1.0</td>\n",
              "      <td>0.0</td>\n",
              "      <td>0.0</td>\n",
              "      <td>0.0</td>\n",
              "      <td>0.0</td>\n",
              "      <td>0.0</td>\n",
              "      <td>0.0</td>\n",
              "      <td>0.0</td>\n",
              "      <td>0.0</td>\n",
              "      <td>0.0</td>\n",
              "      <td>...</td>\n",
              "      <td>0.0</td>\n",
              "      <td>0.0</td>\n",
              "      <td>0.0</td>\n",
              "      <td>0.0</td>\n",
              "      <td>0.0</td>\n",
              "      <td>0.0</td>\n",
              "      <td>0.0</td>\n",
              "      <td>0.0</td>\n",
              "      <td>0.0</td>\n",
              "      <td>0.0</td>\n",
              "    </tr>\n",
              "    <tr>\n",
              "      <th>vegetables. The</th>\n",
              "      <td>1.0</td>\n",
              "      <td>0.0</td>\n",
              "      <td>0.0</td>\n",
              "      <td>0.0</td>\n",
              "      <td>0.0</td>\n",
              "      <td>0.0</td>\n",
              "      <td>0.0</td>\n",
              "      <td>0.0</td>\n",
              "      <td>0.0</td>\n",
              "      <td>0.0</td>\n",
              "      <td>...</td>\n",
              "      <td>0.0</td>\n",
              "      <td>0.0</td>\n",
              "      <td>0.0</td>\n",
              "      <td>0.0</td>\n",
              "      <td>0.0</td>\n",
              "      <td>0.0</td>\n",
              "      <td>0.0</td>\n",
              "      <td>0.0</td>\n",
              "      <td>0.0</td>\n",
              "      <td>0.0</td>\n",
              "    </tr>\n",
              "    <tr>\n",
              "      <th>...</th>\n",
              "      <td>...</td>\n",
              "      <td>...</td>\n",
              "      <td>...</td>\n",
              "      <td>...</td>\n",
              "      <td>...</td>\n",
              "      <td>...</td>\n",
              "      <td>...</td>\n",
              "      <td>...</td>\n",
              "      <td>...</td>\n",
              "      <td>...</td>\n",
              "      <td>...</td>\n",
              "      <td>...</td>\n",
              "      <td>...</td>\n",
              "      <td>...</td>\n",
              "      <td>...</td>\n",
              "      <td>...</td>\n",
              "      <td>...</td>\n",
              "      <td>...</td>\n",
              "      <td>...</td>\n",
              "      <td>...</td>\n",
              "      <td>...</td>\n",
              "    </tr>\n",
              "    <tr>\n",
              "      <th>Penguin (Spheniscus</th>\n",
              "      <td>0.0</td>\n",
              "      <td>0.0</td>\n",
              "      <td>0.0</td>\n",
              "      <td>0.0</td>\n",
              "      <td>0.0</td>\n",
              "      <td>0.0</td>\n",
              "      <td>0.0</td>\n",
              "      <td>0.0</td>\n",
              "      <td>0.0</td>\n",
              "      <td>0.0</td>\n",
              "      <td>...</td>\n",
              "      <td>0.0</td>\n",
              "      <td>0.0</td>\n",
              "      <td>0.0</td>\n",
              "      <td>0.0</td>\n",
              "      <td>0.0</td>\n",
              "      <td>1.0</td>\n",
              "      <td>0.0</td>\n",
              "      <td>0.0</td>\n",
              "      <td>0.0</td>\n",
              "      <td>0.0</td>\n",
              "    </tr>\n",
              "    <tr>\n",
              "      <th>demersus). These</th>\n",
              "      <td>0.0</td>\n",
              "      <td>0.0</td>\n",
              "      <td>0.0</td>\n",
              "      <td>0.0</td>\n",
              "      <td>0.0</td>\n",
              "      <td>0.0</td>\n",
              "      <td>0.0</td>\n",
              "      <td>0.0</td>\n",
              "      <td>0.0</td>\n",
              "      <td>0.0</td>\n",
              "      <td>...</td>\n",
              "      <td>0.0</td>\n",
              "      <td>0.0</td>\n",
              "      <td>0.0</td>\n",
              "      <td>0.0</td>\n",
              "      <td>0.0</td>\n",
              "      <td>0.0</td>\n",
              "      <td>1.0</td>\n",
              "      <td>0.0</td>\n",
              "      <td>0.0</td>\n",
              "      <td>0.0</td>\n",
              "    </tr>\n",
              "    <tr>\n",
              "      <th>These penguins</th>\n",
              "      <td>0.0</td>\n",
              "      <td>0.0</td>\n",
              "      <td>0.0</td>\n",
              "      <td>0.0</td>\n",
              "      <td>0.0</td>\n",
              "      <td>0.0</td>\n",
              "      <td>0.0</td>\n",
              "      <td>0.0</td>\n",
              "      <td>0.0</td>\n",
              "      <td>0.0</td>\n",
              "      <td>...</td>\n",
              "      <td>0.0</td>\n",
              "      <td>0.0</td>\n",
              "      <td>0.0</td>\n",
              "      <td>0.0</td>\n",
              "      <td>0.0</td>\n",
              "      <td>0.0</td>\n",
              "      <td>0.0</td>\n",
              "      <td>1.0</td>\n",
              "      <td>0.0</td>\n",
              "      <td>0.0</td>\n",
              "    </tr>\n",
              "    <tr>\n",
              "      <th>down to</th>\n",
              "      <td>0.0</td>\n",
              "      <td>0.0</td>\n",
              "      <td>0.0</td>\n",
              "      <td>0.0</td>\n",
              "      <td>0.0</td>\n",
              "      <td>0.0</td>\n",
              "      <td>0.0</td>\n",
              "      <td>0.0</td>\n",
              "      <td>0.0</td>\n",
              "      <td>0.0</td>\n",
              "      <td>...</td>\n",
              "      <td>0.0</td>\n",
              "      <td>0.0</td>\n",
              "      <td>0.0</td>\n",
              "      <td>0.0</td>\n",
              "      <td>0.0</td>\n",
              "      <td>0.0</td>\n",
              "      <td>0.0</td>\n",
              "      <td>0.0</td>\n",
              "      <td>1.0</td>\n",
              "      <td>0.0</td>\n",
              "    </tr>\n",
              "    <tr>\n",
              "      <th>to Algoa</th>\n",
              "      <td>0.0</td>\n",
              "      <td>0.0</td>\n",
              "      <td>0.0</td>\n",
              "      <td>0.0</td>\n",
              "      <td>0.0</td>\n",
              "      <td>0.0</td>\n",
              "      <td>0.0</td>\n",
              "      <td>0.0</td>\n",
              "      <td>0.0</td>\n",
              "      <td>0.0</td>\n",
              "      <td>...</td>\n",
              "      <td>0.0</td>\n",
              "      <td>0.0</td>\n",
              "      <td>0.0</td>\n",
              "      <td>0.0</td>\n",
              "      <td>0.0</td>\n",
              "      <td>0.0</td>\n",
              "      <td>0.0</td>\n",
              "      <td>0.0</td>\n",
              "      <td>0.0</td>\n",
              "      <td>1.0</td>\n",
              "    </tr>\n",
              "  </tbody>\n",
              "</table>\n",
              "<p>13411 rows × 5142 columns</p>\n",
              "</div>\n",
              "    <div class=\"colab-df-buttons\">\n",
              "\n",
              "  <div class=\"colab-df-container\">\n",
              "    <button class=\"colab-df-convert\" onclick=\"convertToInteractive('df-5b9d3c7f-350c-4b7f-a430-9a3eceddffa2')\"\n",
              "            title=\"Convert this dataframe to an interactive table.\"\n",
              "            style=\"display:none;\">\n",
              "\n",
              "  <svg xmlns=\"http://www.w3.org/2000/svg\" height=\"24px\" viewBox=\"0 -960 960 960\">\n",
              "    <path d=\"M120-120v-720h720v720H120Zm60-500h600v-160H180v160Zm220 220h160v-160H400v160Zm0 220h160v-160H400v160ZM180-400h160v-160H180v160Zm440 0h160v-160H620v160ZM180-180h160v-160H180v160Zm440 0h160v-160H620v160Z\"/>\n",
              "  </svg>\n",
              "    </button>\n",
              "\n",
              "  <style>\n",
              "    .colab-df-container {\n",
              "      display:flex;\n",
              "      gap: 12px;\n",
              "    }\n",
              "\n",
              "    .colab-df-convert {\n",
              "      background-color: #E8F0FE;\n",
              "      border: none;\n",
              "      border-radius: 50%;\n",
              "      cursor: pointer;\n",
              "      display: none;\n",
              "      fill: #1967D2;\n",
              "      height: 32px;\n",
              "      padding: 0 0 0 0;\n",
              "      width: 32px;\n",
              "    }\n",
              "\n",
              "    .colab-df-convert:hover {\n",
              "      background-color: #E2EBFA;\n",
              "      box-shadow: 0px 1px 2px rgba(60, 64, 67, 0.3), 0px 1px 3px 1px rgba(60, 64, 67, 0.15);\n",
              "      fill: #174EA6;\n",
              "    }\n",
              "\n",
              "    .colab-df-buttons div {\n",
              "      margin-bottom: 4px;\n",
              "    }\n",
              "\n",
              "    [theme=dark] .colab-df-convert {\n",
              "      background-color: #3B4455;\n",
              "      fill: #D2E3FC;\n",
              "    }\n",
              "\n",
              "    [theme=dark] .colab-df-convert:hover {\n",
              "      background-color: #434B5C;\n",
              "      box-shadow: 0px 1px 3px 1px rgba(0, 0, 0, 0.15);\n",
              "      filter: drop-shadow(0px 1px 2px rgba(0, 0, 0, 0.3));\n",
              "      fill: #FFFFFF;\n",
              "    }\n",
              "  </style>\n",
              "\n",
              "    <script>\n",
              "      const buttonEl =\n",
              "        document.querySelector('#df-5b9d3c7f-350c-4b7f-a430-9a3eceddffa2 button.colab-df-convert');\n",
              "      buttonEl.style.display =\n",
              "        google.colab.kernel.accessAllowed ? 'block' : 'none';\n",
              "\n",
              "      async function convertToInteractive(key) {\n",
              "        const element = document.querySelector('#df-5b9d3c7f-350c-4b7f-a430-9a3eceddffa2');\n",
              "        const dataTable =\n",
              "          await google.colab.kernel.invokeFunction('convertToInteractive',\n",
              "                                                    [key], {});\n",
              "        if (!dataTable) return;\n",
              "\n",
              "        const docLinkHtml = 'Like what you see? Visit the ' +\n",
              "          '<a target=\"_blank\" href=https://colab.research.google.com/notebooks/data_table.ipynb>data table notebook</a>'\n",
              "          + ' to learn more about interactive tables.';\n",
              "        element.innerHTML = '';\n",
              "        dataTable['output_type'] = 'display_data';\n",
              "        await google.colab.output.renderOutput(dataTable, element);\n",
              "        const docLink = document.createElement('div');\n",
              "        docLink.innerHTML = docLinkHtml;\n",
              "        element.appendChild(docLink);\n",
              "      }\n",
              "    </script>\n",
              "  </div>\n",
              "\n",
              "\n",
              "    <div id=\"df-2b4cae1c-9932-4938-a417-79a9834056f6\">\n",
              "      <button class=\"colab-df-quickchart\" onclick=\"quickchart('df-2b4cae1c-9932-4938-a417-79a9834056f6')\"\n",
              "                title=\"Suggest charts\"\n",
              "                style=\"display:none;\">\n",
              "\n",
              "<svg xmlns=\"http://www.w3.org/2000/svg\" height=\"24px\"viewBox=\"0 0 24 24\"\n",
              "     width=\"24px\">\n",
              "    <g>\n",
              "        <path d=\"M19 3H5c-1.1 0-2 .9-2 2v14c0 1.1.9 2 2 2h14c1.1 0 2-.9 2-2V5c0-1.1-.9-2-2-2zM9 17H7v-7h2v7zm4 0h-2V7h2v10zm4 0h-2v-4h2v4z\"/>\n",
              "    </g>\n",
              "</svg>\n",
              "      </button>\n",
              "\n",
              "<style>\n",
              "  .colab-df-quickchart {\n",
              "      --bg-color: #E8F0FE;\n",
              "      --fill-color: #1967D2;\n",
              "      --hover-bg-color: #E2EBFA;\n",
              "      --hover-fill-color: #174EA6;\n",
              "      --disabled-fill-color: #AAA;\n",
              "      --disabled-bg-color: #DDD;\n",
              "  }\n",
              "\n",
              "  [theme=dark] .colab-df-quickchart {\n",
              "      --bg-color: #3B4455;\n",
              "      --fill-color: #D2E3FC;\n",
              "      --hover-bg-color: #434B5C;\n",
              "      --hover-fill-color: #FFFFFF;\n",
              "      --disabled-bg-color: #3B4455;\n",
              "      --disabled-fill-color: #666;\n",
              "  }\n",
              "\n",
              "  .colab-df-quickchart {\n",
              "    background-color: var(--bg-color);\n",
              "    border: none;\n",
              "    border-radius: 50%;\n",
              "    cursor: pointer;\n",
              "    display: none;\n",
              "    fill: var(--fill-color);\n",
              "    height: 32px;\n",
              "    padding: 0;\n",
              "    width: 32px;\n",
              "  }\n",
              "\n",
              "  .colab-df-quickchart:hover {\n",
              "    background-color: var(--hover-bg-color);\n",
              "    box-shadow: 0 1px 2px rgba(60, 64, 67, 0.3), 0 1px 3px 1px rgba(60, 64, 67, 0.15);\n",
              "    fill: var(--button-hover-fill-color);\n",
              "  }\n",
              "\n",
              "  .colab-df-quickchart-complete:disabled,\n",
              "  .colab-df-quickchart-complete:disabled:hover {\n",
              "    background-color: var(--disabled-bg-color);\n",
              "    fill: var(--disabled-fill-color);\n",
              "    box-shadow: none;\n",
              "  }\n",
              "\n",
              "  .colab-df-spinner {\n",
              "    border: 2px solid var(--fill-color);\n",
              "    border-color: transparent;\n",
              "    border-bottom-color: var(--fill-color);\n",
              "    animation:\n",
              "      spin 1s steps(1) infinite;\n",
              "  }\n",
              "\n",
              "  @keyframes spin {\n",
              "    0% {\n",
              "      border-color: transparent;\n",
              "      border-bottom-color: var(--fill-color);\n",
              "      border-left-color: var(--fill-color);\n",
              "    }\n",
              "    20% {\n",
              "      border-color: transparent;\n",
              "      border-left-color: var(--fill-color);\n",
              "      border-top-color: var(--fill-color);\n",
              "    }\n",
              "    30% {\n",
              "      border-color: transparent;\n",
              "      border-left-color: var(--fill-color);\n",
              "      border-top-color: var(--fill-color);\n",
              "      border-right-color: var(--fill-color);\n",
              "    }\n",
              "    40% {\n",
              "      border-color: transparent;\n",
              "      border-right-color: var(--fill-color);\n",
              "      border-top-color: var(--fill-color);\n",
              "    }\n",
              "    60% {\n",
              "      border-color: transparent;\n",
              "      border-right-color: var(--fill-color);\n",
              "    }\n",
              "    80% {\n",
              "      border-color: transparent;\n",
              "      border-right-color: var(--fill-color);\n",
              "      border-bottom-color: var(--fill-color);\n",
              "    }\n",
              "    90% {\n",
              "      border-color: transparent;\n",
              "      border-bottom-color: var(--fill-color);\n",
              "    }\n",
              "  }\n",
              "</style>\n",
              "\n",
              "      <script>\n",
              "        async function quickchart(key) {\n",
              "          const quickchartButtonEl =\n",
              "            document.querySelector('#' + key + ' button');\n",
              "          quickchartButtonEl.disabled = true;  // To prevent multiple clicks.\n",
              "          quickchartButtonEl.classList.add('colab-df-spinner');\n",
              "          try {\n",
              "            const charts = await google.colab.kernel.invokeFunction(\n",
              "                'suggestCharts', [key], {});\n",
              "          } catch (error) {\n",
              "            console.error('Error during call to suggestCharts:', error);\n",
              "          }\n",
              "          quickchartButtonEl.classList.remove('colab-df-spinner');\n",
              "          quickchartButtonEl.classList.add('colab-df-quickchart-complete');\n",
              "        }\n",
              "        (() => {\n",
              "          let quickchartButtonEl =\n",
              "            document.querySelector('#df-2b4cae1c-9932-4938-a417-79a9834056f6 button');\n",
              "          quickchartButtonEl.style.display =\n",
              "            google.colab.kernel.accessAllowed ? 'block' : 'none';\n",
              "        })();\n",
              "      </script>\n",
              "    </div>\n",
              "\n",
              "  <div id=\"id_e3cf176c-4724-476a-a0f7-70327f75003a\">\n",
              "    <style>\n",
              "      .colab-df-generate {\n",
              "        background-color: #E8F0FE;\n",
              "        border: none;\n",
              "        border-radius: 50%;\n",
              "        cursor: pointer;\n",
              "        display: none;\n",
              "        fill: #1967D2;\n",
              "        height: 32px;\n",
              "        padding: 0 0 0 0;\n",
              "        width: 32px;\n",
              "      }\n",
              "\n",
              "      .colab-df-generate:hover {\n",
              "        background-color: #E2EBFA;\n",
              "        box-shadow: 0px 1px 2px rgba(60, 64, 67, 0.3), 0px 1px 3px 1px rgba(60, 64, 67, 0.15);\n",
              "        fill: #174EA6;\n",
              "      }\n",
              "\n",
              "      [theme=dark] .colab-df-generate {\n",
              "        background-color: #3B4455;\n",
              "        fill: #D2E3FC;\n",
              "      }\n",
              "\n",
              "      [theme=dark] .colab-df-generate:hover {\n",
              "        background-color: #434B5C;\n",
              "        box-shadow: 0px 1px 3px 1px rgba(0, 0, 0, 0.15);\n",
              "        filter: drop-shadow(0px 1px 2px rgba(0, 0, 0, 0.3));\n",
              "        fill: #FFFFFF;\n",
              "      }\n",
              "    </style>\n",
              "    <button class=\"colab-df-generate\" onclick=\"generateWithVariable('trigram_data_frame')\"\n",
              "            title=\"Generate code using this dataframe.\"\n",
              "            style=\"display:none;\">\n",
              "\n",
              "  <svg xmlns=\"http://www.w3.org/2000/svg\" height=\"24px\"viewBox=\"0 0 24 24\"\n",
              "       width=\"24px\">\n",
              "    <path d=\"M7,19H8.4L18.45,9,17,7.55,7,17.6ZM5,21V16.75L18.45,3.32a2,2,0,0,1,2.83,0l1.4,1.43a1.91,1.91,0,0,1,.58,1.4,1.91,1.91,0,0,1-.58,1.4L9.25,21ZM18.45,9,17,7.55Zm-12,3A5.31,5.31,0,0,0,4.9,8.1,5.31,5.31,0,0,0,1,6.5,5.31,5.31,0,0,0,4.9,4.9,5.31,5.31,0,0,0,6.5,1,5.31,5.31,0,0,0,8.1,4.9,5.31,5.31,0,0,0,12,6.5,5.46,5.46,0,0,0,6.5,12Z\"/>\n",
              "  </svg>\n",
              "    </button>\n",
              "    <script>\n",
              "      (() => {\n",
              "      const buttonEl =\n",
              "        document.querySelector('#id_e3cf176c-4724-476a-a0f7-70327f75003a button.colab-df-generate');\n",
              "      buttonEl.style.display =\n",
              "        google.colab.kernel.accessAllowed ? 'block' : 'none';\n",
              "\n",
              "      buttonEl.onclick = () => {\n",
              "        google.colab.notebook.generateWithVariable('trigram_data_frame');\n",
              "      }\n",
              "      })();\n",
              "    </script>\n",
              "  </div>\n",
              "\n",
              "    </div>\n",
              "  </div>\n"
            ],
            "application/vnd.google.colaboratory.intrinsic+json": {
              "type": "dataframe",
              "variable_name": "trigram_data_frame"
            }
          },
          "metadata": {}
        },
        {
          "output_type": "stream",
          "name": "stdout",
          "text": [
            "Number of trigrams with a count of 0: 68,942,324 (99.98%)\n"
          ]
        }
      ],
      "execution_count": 25
    },
    {
      "cell_type": "markdown",
      "source": [
        "The table above contains even more entries since it contains one entry for each combination of bigram (the columns) and token (the rows) that appears in the dataset. In the case of Africa Galore, this results in $13,411\\times 5,142$ combinations. In this example, an even higher percentage of entries (99.98%) in the table are 0. Keep the concept of sparsity in mind as you use these counts to compute probabilities and use the probabilities to generate texts.\n",
        "\n"
      ],
      "metadata": {
        "id": "9t8JGL9Ql-rY"
      }
    },
    {
      "cell_type": "markdown",
      "source": [
        "## Calculate P(B | A)\n",
        "\n",
        "In the previous activities, you have laid all the groundwork for performing the last computation: computing the probability of a token $\\mbox{B}$ following a context $\\mbox{A}$.\n",
        "\n",
        "$$P(\\mbox{B} \\mid \\mbox{A}) = \\frac{\\mbox{Count}(\\mbox{A B})}{\\mbox{Count}(\\mbox{A})}$$\n",
        "\n",
        "Using the `get_ngram_counts` function above, you can compute both $\\mbox{Count}(\\mbox{A B})$ and $\\mbox{Count}(\\mbox{A})$. For example, if you wanted to estimate probabilities of a trigram model that uses a context of length 2, you could compute the counts in the numerator and the denominator for a `dataset` as:\n",
        "\n",
        "```python\n",
        "# Counts for the numerator.\n",
        "trigram_counts = get_ngram_counts(dataset, n=3)\n",
        "# Counts for the denominator.\n",
        "bigram_counts = get_ngram_counts(dataset, n=2)\n",
        "```\n",
        "\n",
        "However, there is a small trick that computes the bigram counts directly from the trigram counts without calling `get_ngram_counts` a second time.\n",
        "\n",
        "To observe how this works, consider the trigram counts for all trigrams that start with the bigram \"a staple.\" You can access these using the dictionary `trigram_counts` that is defined above:"
      ],
      "metadata": {
        "id": "eKGfzX-nosk1"
      }
    },
    {
      "metadata": {
        "id": "jy84xgPUlbmq",
        "colab": {
          "base_uri": "https://localhost:8080/"
        },
        "outputId": "4aee9d9c-e158-49f3-e50b-0f93a8db9f41"
      },
      "cell_type": "code",
      "source": [
        "context = \"a staple\"\n",
        "trigram_counts[context]"
      ],
      "outputs": [
        {
          "output_type": "execute_result",
          "data": {
            "text/plain": [
              "Counter({'food': 1,\n",
              "         'in': 6,\n",
              "         'dish': 2,\n",
              "         'throughout': 1,\n",
              "         'of': 1,\n",
              "         'at': 1,\n",
              "         'beverage': 1})"
            ]
          },
          "metadata": {},
          "execution_count": 26
        }
      ],
      "execution_count": 26
    },
    {
      "metadata": {
        "id": "luMFOggul7w_"
      },
      "cell_type": "markdown",
      "source": [
        "The counter in the output of the previous cell shows you that the dataset contains the following trigrams starting with \"a staple\":\n",
        "\n",
        "* \"a staple food\" (1 time).\n",
        "* \"a staple in\" (6 times).\n",
        "* \"a staple dish\" (2 times).\n",
        "* \"a staple throughout\" (1 time).\n",
        "* \"a staple of\" (1 time).\n",
        "* \"a staple at\" (1 time).\n",
        "* \"a staple beverage\" (1 time).\n",
        "\n",
        "The trick to get the bigram count of \"a staple\" is to sum the number of trigrams that start with \"a staple.\" From the counter above, we can compute this total by summing $1+6+2+1+1+1+1 = 13$.\n",
        "\n",
        "The following cell shows you how to do this automatically using the `sum()` function and the `values()` method of a counter."
      ]
    },
    {
      "cell_type": "code",
      "source": [
        "context = \"a staple\"\n",
        "# Compute the bigram count for \"a staple\" with sum().\n",
        "bigram_count_a_staple = sum(trigram_counts[context].values())\n",
        "\n",
        "print(\n",
        "    'Bigram count of \"a staple\" computed indirectly from trigram counts: ',\n",
        "    bigram_count_a_staple,\n",
        ")\n",
        "\n",
        "# Extract the bigram count for \"a staple\" from bigram_counts.\n",
        "print('Bigram count of \"a staple\" computed directly: ',\n",
        "      bigram_counts[\"a\"][\"staple\"])"
      ],
      "metadata": {
        "id": "J3EUTnTBzIDk"
      },
      "execution_count": null,
      "outputs": []
    },
    {
      "cell_type": "markdown",
      "source": [
        "As the output of the cell above shows, both using the `sum()` function and computing the bigram counts indirectly results in the same number."
      ],
      "metadata": {
        "id": "IS9g71QpbeGV"
      }
    },
    {
      "cell_type": "markdown",
      "source": [
        "### Coding Activity 3: Computing the n-gram probabilities\n",
        "\n",
        "------\n",
        "> 💻 **Your task**:\n",
        ">\n",
        "> Complete the function `build_ngram_model(dataset, n)` below.\n",
        ">\n",
        "> This function should return a dictionary of dictionaries where the keys are contexts of length $n-1$ tokens and the values are a dictionary providing the probabilities of the next token given the context.\n",
        ">\n",
        ">For example, if the dataset consists of the two sentences \"Table Mountain is tall.\" and \"Table Mountain is beautiful.\" then the function called with `n = 3` should return:\n",
        ">```\n",
        ">{\n",
        ">   \"Table Mountain\": {\"is\": 1.0},\n",
        ">   \"Mountain is\": {\"tall\": 0.5, \"beautiful\": 0.5}   \n",
        ">}\n",
        ">```\n",
        "------"
      ],
      "metadata": {
        "id": "UFxUoB5Lb73l"
      }
    },
    {
      "metadata": {
        "id": "isbFiZ2EyyO4",
        "colab": {
          "base_uri": "https://localhost:8080/"
        },
        "outputId": "a7ff23ea-5192-42cb-f838-5473d1c26038"
      },
      "cell_type": "code",
      "source": [
        "def build_ngram_model(\n",
        "    dataset: list[str],\n",
        "    n: int\n",
        ") -> dict[str, dict[str, float]]:\n",
        "    \"\"\"Builds an n-gram language model.\n",
        "\n",
        "    This function takes a list of text strings (paragraphs or sentences) as\n",
        "    input, generates n-grams from each text using the function get_ngram_counts\n",
        "    and converts them into probabilities.  The resulting model is a dictionary,\n",
        "    where keys are (n-1)-token contexts and values are dictionaries mapping\n",
        "    possible next tokens to their conditional probabilities given the context.\n",
        "\n",
        "    Args:\n",
        "        dataset: A list of text strings representing the dataset.\n",
        "        n: The size of the n-grams (e.g., 2 for a bigram model).\n",
        "\n",
        "    Returns:\n",
        "        A dictionary representing the n-gram language model, where keys are\n",
        "        (n-1)-tokens contexts and values are dictionaries mapping possible next\n",
        "        tokens to their conditional probabilities.\n",
        "    \"\"\"\n",
        "\n",
        "    # A dictionary to store P(B | A).\n",
        "    # ngram_model[context][token] should store P(token | context).\n",
        "    ngram_model = {}\n",
        "\n",
        "    # Use the ngram_counts as computed by the get_ngram_counts function.\n",
        "    ngram_counts = get_ngram_counts(dataset, n)\n",
        "\n",
        "    # Loop through the possible contexts. `context` is a string\n",
        "    # and `next_tokens` is a dictionary mapping possible next tokens to their\n",
        "    # counts of following `context`.\n",
        "    for context, next_tokens in ngram_counts.items():\n",
        "\n",
        "        # Compute Count(A) and P(B | A) here.\n",
        "        # Add your code here.\n",
        "        ...\n",
        "\n",
        "    return ngram_model\n",
        "\n",
        "# Test the method above by bulding a simple trigram model.\n",
        "test_dataset = [\"Table Mountain is tall.\", \"Table Mountain is beautiful.\"]\n",
        "test_trigram_model = build_ngram_model(test_dataset, n=3)\n",
        "test_trigram_model"
      ],
      "outputs": [
        {
          "output_type": "execute_result",
          "data": {
            "text/plain": [
              "{'Table Mountain': {'is': 1.0},\n",
              " 'Mountain is': {'tall.': 0.5, 'beautiful.': 0.5}}"
            ]
          },
          "metadata": {},
          "execution_count": 27
        }
      ],
      "execution_count": 27
    },
    {
      "cell_type": "code",
      "source": [
        "# @title Run this cell to test your implementation.\n",
        "ngrams.test_build_ngram_model(build_ngram_model, get_ngram_counts)"
      ],
      "metadata": {
        "cellView": "form",
        "id": "DMd_rTsod2LR",
        "colab": {
          "base_uri": "https://localhost:8080/"
        },
        "outputId": "42527294-11c8-49af-940a-11f02736197b"
      },
      "execution_count": 28,
      "outputs": [
        {
          "output_type": "stream",
          "name": "stdout",
          "text": [
            "✅ Nice! Your implementation looks correct.\n"
          ]
        }
      ]
    },
    {
      "metadata": {
        "id": "wm0g-BMtbTgK"
      },
      "cell_type": "markdown",
      "source": [
        "After you have successfully implemented the method above, run the following cell to construct a trigram model that estimates the probabilities from the Africa Galore dataset."
      ]
    },
    {
      "cell_type": "code",
      "source": [
        "trigram_model = build_ngram_model(dataset, n=3)"
      ],
      "metadata": {
        "id": "2t7N3A3-kluq"
      },
      "execution_count": 29,
      "outputs": []
    },
    {
      "cell_type": "markdown",
      "source": [
        "To gain an understanding of the patterns that the model learned, inspect a few probability distributions."
      ],
      "metadata": {
        "id": "kI4ci1Qnk0RV"
      }
    },
    {
      "cell_type": "code",
      "source": [
        "print(f\"P(B | \\\"as it\\\") = {trigram_model['as it']}\")\n",
        "\n",
        "print(f\"P(B | \\\"as they\\\") = {trigram_model['as they']}\")"
      ],
      "metadata": {
        "id": "o-rVO6UykzyV",
        "colab": {
          "base_uri": "https://localhost:8080/"
        },
        "outputId": "f250cf07-04c2-4ab9-9c9f-86665cc4a4b5"
      },
      "execution_count": 30,
      "outputs": [
        {
          "output_type": "stream",
          "name": "stdout",
          "text": [
            "P(B | \"as it\") = {'is': 0.6666666666666666, 'receives': 0.3333333333333333}\n",
            "P(B | \"as they\") = {'were': 1.0}\n"
          ]
        }
      ]
    },
    {
      "metadata": {
        "id": "fdi1RxLaLvIi"
      },
      "cell_type": "markdown",
      "source": [
        "------\n",
        "> 💭 **Reflection:**\n",
        ">\n",
        "> Do the probabilities that you estimated from the dataset make sense? Do they capture any patterns or rules of English that you know of?\n",
        "------"
      ]
    },
    {
      "cell_type": "markdown",
      "source": [
        "As a final step in this part of the lab, look at the probability distribution for more contexts. Start with the context \"The name.\""
      ],
      "metadata": {
        "id": "nX-eaZzWpL52"
      }
    },
    {
      "metadata": {
        "id": "8RDyWq24roG2",
        "colab": {
          "base_uri": "https://localhost:8080/"
        },
        "outputId": "e7252d7b-e547-4d0c-cf9c-11235aab712b"
      },
      "cell_type": "code",
      "source": [
        "context = \"The name\"\n",
        "trigram_model[context]"
      ],
      "outputs": [
        {
          "output_type": "execute_result",
          "data": {
            "text/plain": [
              "{'means': 0.6666666666666666, \"'Etosha'\": 0.3333333333333333}"
            ]
          },
          "metadata": {},
          "execution_count": 31
        }
      ],
      "execution_count": 31
    },
    {
      "metadata": {
        "id": "Uli9Gqy9r2un"
      },
      "cell_type": "markdown",
      "source": [
        "Now run the same code with a slightly altered context of \"Their name.\""
      ]
    },
    {
      "metadata": {
        "id": "S6D9iLQNr628",
        "colab": {
          "base_uri": "https://localhost:8080/",
          "height": 159
        },
        "outputId": "4bacb5d5-a610-423e-e3cd-1c0b3194c9d9"
      },
      "cell_type": "code",
      "source": [
        "context = \"Their name\"\n",
        "trigram_model[context]"
      ],
      "outputs": [
        {
          "output_type": "error",
          "ename": "KeyError",
          "evalue": "'Their name'",
          "traceback": [
            "\u001b[0;31m---------------------------------------------------------------------------\u001b[0m",
            "\u001b[0;31mKeyError\u001b[0m                                  Traceback (most recent call last)",
            "\u001b[0;32m/tmp/ipython-input-152238866.py\u001b[0m in \u001b[0;36m<cell line: 0>\u001b[0;34m()\u001b[0m\n\u001b[1;32m      1\u001b[0m \u001b[0mcontext\u001b[0m \u001b[0;34m=\u001b[0m \u001b[0;34m\"Their name\"\u001b[0m\u001b[0;34m\u001b[0m\u001b[0;34m\u001b[0m\u001b[0m\n\u001b[0;32m----> 2\u001b[0;31m \u001b[0mtrigram_model\u001b[0m\u001b[0;34m[\u001b[0m\u001b[0mcontext\u001b[0m\u001b[0;34m]\u001b[0m\u001b[0;34m\u001b[0m\u001b[0;34m\u001b[0m\u001b[0m\n\u001b[0m",
            "\u001b[0;31mKeyError\u001b[0m: 'Their name'"
          ]
        }
      ],
      "execution_count": 32
    },
    {
      "metadata": {
        "id": "pAchRjq8r8Wb"
      },
      "cell_type": "markdown",
      "source": [
        "As you might observe, when you run the previous cell, this code results in an error. The reason for this is that the bigram \"Their name\" does not exist in the dataset. This means that it is not included in the trigram model that you built from the dataset and the dictionary that stores the probabilities does not contain an entry for this bigram, which is the cause of the `KeyError`.\n",
        "\n",
        "This highlights one limitation of the n-gram language model: for some contexts it cannot generate continuations. While there exist extensions to n-gram models that make them more robust, they are generally limited in their ability to generate continuations for arbitrary contexts.\n"
      ]
    },
    {
      "cell_type": "markdown",
      "source": [
        "## Coding Activity 4: Using n-gram probabilities to sample next token\n",
        "\n",
        "The purpose of counting n-grams and using them to estimate conditional probability distributions, as you did in the previous activities, was to be able to sample from the distributions to generate new texts. In this activity, you will now explore how you can sample the next token using an n-gram language model."
      ],
      "metadata": {
        "id": "DsYYr09woio1"
      }
    },
    {
      "metadata": {
        "id": "py8WlM2ARNhZ"
      },
      "cell_type": "markdown",
      "source": [
        "As a first step, consider again the code from the previous lab that used the `random.choices` function to sample a token from a list of candidate tokens, repeated in the next cell.\n",
        "\n",
        "Recall that previously, you manually defined the possible next tokens and probabilities. During this activity, you will use the estimated probabilities from the n-gram model to define the possible next tokens and the associated probabilities.\n"
      ]
    },
    {
      "metadata": {
        "id": "YrXfivl8SKyV"
      },
      "cell_type": "markdown",
      "source": [
        "Run the cell below multiple times to see different candidate words being picked:"
      ]
    },
    {
      "metadata": {
        "id": "qNHq3vS1Rj8m",
        "colab": {
          "base_uri": "https://localhost:8080/"
        },
        "outputId": "76fa66cd-9ff4-4c2b-a862-44172cce1ce1"
      },
      "cell_type": "code",
      "source": [
        "# Define a list of tokens.\n",
        "example_candidate_tokens = [\"apple\", \"banana\", \"cherry\"]\n",
        "\n",
        "# Define corresponding probabilities for each fruit.\n",
        "probabilities = [0.2, 0.5, 0.3]\n",
        "\n",
        "# Sample one fruit based on the probabilities.\n",
        "# The 'k=1' parameter instructs the function to return one item.\n",
        "chosen_fruit = random.choices(\n",
        "    example_candidate_tokens,\n",
        "    weights=probabilities,\n",
        "    k=1)[0]\n",
        "\n",
        "print(\"Chosen fruit:\", chosen_fruit)"
      ],
      "outputs": [
        {
          "output_type": "stream",
          "name": "stdout",
          "text": [
            "Chosen fruit: apple\n"
          ]
        }
      ],
      "execution_count": 35
    },
    {
      "metadata": {
        "id": "CzOxiLBJI_Hv"
      },
      "cell_type": "markdown",
      "source": [
        "------\n",
        "> 💻 **Your task:**\n",
        ">\n",
        "> Complete the following cell and use the probabilities in `trigram_model` to\n",
        "> 1. Generate a list of candidate tokens for the context \"looking for.\"\n",
        "> 2. Extract the corresponding probabilities for each candidate token.\n",
        ">\n",
        "> Run the following cell multiple times to observe what tokens are being sampled.\n",
        "------\n"
      ]
    },
    {
      "metadata": {
        "id": "zBgdyD0XVa3A",
        "colab": {
          "base_uri": "https://localhost:8080/"
        },
        "outputId": "8428fe5b-de13-47aa-f930-5d67ab91660a"
      },
      "cell_type": "code",
      "source": [
        "context = \"looking for\"\n",
        "candidate_tokens = []\n",
        "candidate_tokens_probabilities = []\n",
        "\n",
        "# Extract candidate tokens and associated probabilities from `trigram_model`.\n",
        "for token, probability in trigram_model[context].items():\n",
        "  candidate_tokens.append(token)\n",
        "  candidate_tokens_probabilities.append(probability)\n",
        "\n",
        "\n",
        "print(f\"Candidate tokens: {candidate_tokens}\")\n",
        "print(f\"Candidate token probabilities: {candidate_tokens_probabilities}\")\n",
        "\n",
        "# Sample from the list of candidate tokens according to the\n",
        "# associated probabilities.\n",
        "next_token = random.choices(candidate_tokens,\n",
        "                            weights=candidate_tokens_probabilities)[0]\n",
        "\n",
        "print(\"\\n\\nSampled next token:\")\n",
        "print(context, next_token)"
      ],
      "outputs": [
        {
          "output_type": "stream",
          "name": "stdout",
          "text": [
            "Candidate tokens: ['the', 'a', 'Banku', 'Tella,', 'Maafe,', 'Umqombothi,', 'sugarcane', 'crispy', 'warm', 'Doro', 'sambusa,', 'dodo,', 'Fura']\n",
            "Candidate token probabilities: [0.125, 0.53125, 0.03125, 0.03125, 0.03125, 0.03125, 0.03125, 0.03125, 0.03125, 0.03125, 0.03125, 0.03125, 0.03125]\n",
            "\n",
            "\n",
            "Sampled next token:\n",
            "looking for the\n"
          ]
        }
      ],
      "execution_count": 37
    },
    {
      "metadata": {
        "id": "ovcAe7nmsDBX",
        "cellView": "form",
        "colab": {
          "base_uri": "https://localhost:8080/"
        },
        "outputId": "ff07dccd-61f0-4b2a-98ff-0bcec2c98988"
      },
      "cell_type": "code",
      "source": [
        "# @title Run this to test your code, or get a hint.\n",
        "ngrams.test_candidate_tokens(\n",
        "    trigram_model, candidate_tokens, candidate_tokens_probabilities\n",
        ")\n"
      ],
      "outputs": [
        {
          "output_type": "stream",
          "name": "stdout",
          "text": [
            "✅ Nice! Your answer looks correct.\n"
          ]
        }
      ],
      "execution_count": 38
    },
    {
      "metadata": {
        "id": "oCoGHege65Z1"
      },
      "cell_type": "markdown",
      "source": [
        "## Generating texts\n",
        "\n",
        "You will now investigate the behavior of a function that can generate new texts for a given prompt using the probabilities of an n-gram model.\n",
        "\n",
        "Text generation using an n-gram model is an iterative process where each newly generated token is added to the existing context. This forms the basis for predicting the next token.\n",
        "\n",
        "Starting with an initial prompt text, the model uses the probability distribution derived from the n-gram counts to select the most likely next token. This again makes use of the `random.choices` function for picking the next token. Once this token has been generated, it is added to the context and the updated sequence is used to calculate the next probability distribution. This chain-like process continues until `num_tokens_to_generate` tokens have been generated.\n",
        "\n",
        "The following `generate_next_n_tokens` function implements this iterative generation process:"
      ]
    },
    {
      "metadata": {
        "id": "uenGa3b4iHBo"
      },
      "cell_type": "code",
      "source": [
        "def generate_next_n_tokens(\n",
        "    n: int,\n",
        "    ngram_model: dict[str, dict[str, float]],\n",
        "    prompt: str,\n",
        "    num_tokens_to_generate: int,\n",
        ") -> str:\n",
        "    \"\"\"Generates `num_tokens_to_generate` tokens following a given prompt using\n",
        "    an n-gram language model.\n",
        "\n",
        "    This function takes an n-gram model and uses it to predict the most\n",
        "    likely next token for the given prompt. The generation process\n",
        "    continues iteratively, appending predicted tokens to the prompt until the\n",
        "    desired number of tokens is generated or a context is\n",
        "    encountered for which the model has no predictions.\n",
        "\n",
        "    Args:\n",
        "        n: The size of the n-grams to use (e.g., 2 for a bigram model).\n",
        "        ngram_model: A dictionary representing the n-gram language model.\n",
        "        prompt: The starting text prompt for generating the next tokens.\n",
        "        num_tokens_to_generate: The number of words to generate following\n",
        "            the prompt.\n",
        "\n",
        "    Returns:\n",
        "        A string containing the original prompt followed by the generated\n",
        "        tokens. If no valid continuation is found for a given context, the\n",
        "        function will return the text generated up to that point and print a\n",
        "        message indicating that no continuation could be found.\n",
        "    \"\"\"\n",
        "\n",
        "    # Split prompt into individual tokens.\n",
        "    generated_words = space_tokenize(prompt)\n",
        "\n",
        "    for _ in range(num_tokens_to_generate):\n",
        "        # Get last (n-1) tokens as context.\n",
        "        context = generated_words[-(n - 1):]\n",
        "        context = \" \".join(context)\n",
        "        if context in ngram_model:\n",
        "            # Sample next word based on probabilities.\n",
        "            next_word = random.choices(\n",
        "                list(ngram_model[context].keys()),\n",
        "                weights=ngram_model[context].values()\n",
        "            )[0]\n",
        "\n",
        "            generated_words.append(next_word)\n",
        "        else:\n",
        "            print(\n",
        "                \"⚠️ No valid continuation found. Change the prompt or\"\n",
        "                \" try sampling another continuation.\\n\"\n",
        "            )\n",
        "            break\n",
        "\n",
        "    return \" \".join(generated_words)"
      ],
      "outputs": [],
      "execution_count": 40
    },
    {
      "metadata": {
        "id": "SGJwKbsnIOXy"
      },
      "cell_type": "markdown",
      "source": [
        "### Generating texts with a bigram model\n",
        "\n",
        "First, run the following cell multiple times to generate new continuations using a bigram model whose probabilities were estimated from the Africa Galore dataset.\n"
      ]
    },
    {
      "metadata": {
        "id": "xndDil588L39",
        "colab": {
          "base_uri": "https://localhost:8080/",
          "height": 35
        },
        "outputId": "d8cfbdd8-1590-44c7-faa6-e0283519d61b"
      },
      "cell_type": "code",
      "source": [
        "prompt = \"Jide was hungry so she went looking for\"\n",
        "\n",
        "# Construct a bigram model using the Africa Galore dataset.\n",
        "bigram_model = build_ngram_model(dataset, n=2)\n",
        "\n",
        "n = 2  # Bigram.\n",
        "num_tokens_to_generate = 10  # Generate next n words.\n",
        "generate_next_n_tokens(\n",
        "    n=n,\n",
        "    ngram_model=bigram_model,\n",
        "    prompt=prompt,\n",
        "    num_tokens_to_generate=num_tokens_to_generate,\n",
        ")"
      ],
      "outputs": [
        {
          "output_type": "execute_result",
          "data": {
            "text/plain": [
              "'Jide was hungry so she went looking for regulating body receives small bar snack. Made from grains offer'"
            ],
            "application/vnd.google.colaboratory.intrinsic+json": {
              "type": "string"
            }
          },
          "metadata": {},
          "execution_count": 57
        }
      ],
      "execution_count": 57
    },
    {
      "metadata": {
        "id": "AMZCFKMaISrV"
      },
      "cell_type": "markdown",
      "source": [
        "### Generating texts with a trigram model\n",
        "\n",
        "Next, run the following cell multiple times to generate new continuations using the trigram model that you built in the previous activities.\n"
      ]
    },
    {
      "metadata": {
        "id": "0Pq0FW_2IULl",
        "colab": {
          "base_uri": "https://localhost:8080/",
          "height": 35
        },
        "outputId": "c34d66d9-1cca-4c46-f3cb-46131195c4c0"
      },
      "cell_type": "code",
      "source": [
        "prompt = \"Jide was hungry so she went looking for\"\n",
        "\n",
        "n = 3  # Trigram.\n",
        "num_tokens_to_generate = 10  # Generate next n words.\n",
        "generate_next_n_tokens(\n",
        "    n=n,\n",
        "    ngram_model=trigram_model,\n",
        "    prompt=prompt,\n",
        "    num_tokens_to_generate=num_tokens_to_generate,\n",
        ")"
      ],
      "outputs": [
        {
          "output_type": "execute_result",
          "data": {
            "text/plain": [
              "'Jide was hungry so she went looking for crispy Akara, the deep-fried bean fritters that a street vendor'"
            ],
            "application/vnd.google.colaboratory.intrinsic+json": {
              "type": "string"
            }
          },
          "metadata": {},
          "execution_count": 58
        }
      ],
      "execution_count": 58
    },
    {
      "metadata": {
        "id": "Oz0MoqxB96S_"
      },
      "cell_type": "markdown",
      "source": [
        "The different results when running the cell multiple times are because the n-gram model is a stochastic model that samples the next token from a probability distribution. More probable next words have a high probability of getting picked but are not guaranteed to be picked.\n",
        "\n",
        "------\n",
        "> 💭 **Reflection: Comparing the generations of bigram and trigram models**\n",
        ">\n",
        "> As you generate multiple continuations using both a bigram model and a trigram model, take note which continuations make more sense and tend to be grammatically correct. On average, does the bigram model or the trigram model produce more sensible continuations? Which model fails to produce a valid continuation more often?\n",
        "------\n",
        "\n",
        "ANS: trigram model does better on avg\n"
      ]
    },
    {
      "metadata": {
        "id": "e5B0zuHWkGZr"
      },
      "cell_type": "markdown",
      "source": [
        "## What happens when you increase the $n$ in n-grams?\n",
        "\n",
        "While it intuitively seems that a larger context (greater $n$) would lead to better quality output by capturing more long-range dependencies in language,  it quickly runs into the problem of data sparsity since most n-grams will never be observed in the dataset.\n",
        "\n",
        "When moving from bigrams (pairs of tokens) to trigrams (triplets of tokens), the number of possible combinations increases exponentially, and many of these triplets rarely, if ever, appear in the dataset. This means that while bigram models can cover a significant portion of common token pairs, the majority of potential token sequences in trigram and higher-order models are underrepresented. This makes it more challenging for the model to reliably predict the next token.\n",
        "\n",
        "Consider a simple vocabulary of five tokens: \"I\", \"love\", \"to\", \"eat\", and \"jollof\". For bigrams, there are at most\n",
        "$$5 \\times 5 = 25 $$\n",
        "possible combinations. In reality, however, your data might only include common pairs like \"I love\", \"love to\", \"to eat\", and \"eat jollof\". Now, when you move to trigrams (triplets of tokens), there are $$ 5 \\times 5 \\times 5 = 125$$ possible combinations. However, only a few of these, such as \"I love to\", \"love to eat\", and \"to eat jollof\", will actually appear in the data.\n",
        "\n",
        "Even with massive datasets, many of the higher-order n-grams will never appear in the corpus. This results in many zero counts for the probabilities. As the n-gram order increases, the number of potential combinations grows exponentially. This often leads to many combinations being rare or absent in the data, which makes reliable estimation of probabilities more difficult.\n"
      ]
    },
    {
      "metadata": {
        "id": "RqOIH4XKt5ny"
      },
      "cell_type": "markdown",
      "source": [
        "## Summary\n",
        "\n",
        "This is the end of the **Experiment with N-Gram Models** lab.\n",
        "\n",
        "This lab provided a practical exploration of n-gram language models. Here are some key takeaways:\n",
        "\n",
        "**1. Functionality:**\n",
        "\n",
        "- You saw how n-gram models can be used to predict the next token in a sequence based on the preceding tokens (context).\n",
        "- N-gram models are relatively simple to implement by estimating conditional probabilities from n-gram counts in a dataset. These probabilities can then be used to repeatedly sample the next token and generate new continuations.\n",
        "\n",
        "**2. Data sparsity:**\n",
        "\n",
        "- Data sparsity is a major challenge for n-gram models, especially with higher-order n-grams (trigrams or larger).\n",
        "- This sparsity arises because many possible token combinations are rare or absent in real-world text data.\n",
        "- You observed this in the dataset. The dimensions of the trigram matrix are significantly larger than those of the bigram matrix, resulting in more zero values.\n",
        "\n",
        "**3. Randomness and text generation:**\n",
        "\n",
        "- While the model assigns probabilities to different next tokens, the actual choice is stochastic (random), resulting in different outputs for multiple runs.\n",
        "- While higher probabilities increase the chances of a token being picked, less frequent tokens can also be generated.\n",
        "\n",
        "**4. Considerations for text generation:**\n",
        "\n",
        "- The size of *n* can affect the quality of the generated text. Larger *n* might capture longer-range dependencies but can lead to data sparsity and repetitive outputs.\n",
        "- The model is unable to generate text following an n-gram that is not present in the dataset.\n",
        "\n",
        "In the next activity, you will reflect on some of the limitations of n-gram models and go on to compare them with more advanced models."
      ]
    },
    {
      "cell_type": "markdown",
      "source": [
        "## Solutions\n",
        "\n",
        "The following cells provide reference solutions to the coding activities above. If you really get stuck after trying to solve the activities yourself, you may want to consult these solutions.\n",
        "\n",
        "However, we recommend that you *only* look at the solutions after you have tried to solve the activities above *multiple times*. The best way to learn challenging concepts in computer science and artificial intelligence is to debug your code piece-by-piece until it works rather than copying existing solutions.\n",
        "\n",
        "If you feel stuck, you may want to first try to debug your code, for example, by adding additional print statements to see what your code is doing at every step. This will provide you with a much deeper understanding of the code and the materials. It will also provide you with practice on how to solve challenging coding problems beyond this course.\n",
        "\n",
        "To view the solutions for an activity, click on the arrow to the left of the activity name. If you consult the solutions, do not copy and paste them into the cells above. Instead, look at them and then type them manually into the cell. This will help you understand where you went wrong."
      ],
      "metadata": {
        "id": "TbCry1ll6L9g"
      }
    },
    {
      "cell_type": "markdown",
      "source": [
        "### Coding Activity 1"
      ],
      "metadata": {
        "id": "4NJgcGxO6UDE"
      }
    },
    {
      "metadata": {
        "id": "UD38Eu8K7sXg"
      },
      "cell_type": "code",
      "source": [
        "# This is a complete implementation of `generate_ngrams`.\n",
        "def generate_ngrams(text: str, n: int) -> list[tuple[str]]:\n",
        "    \"\"\"Generates n-grams from a given text.\n",
        "\n",
        "    Args:\n",
        "        text: The input text string.\n",
        "        n: The size of the n-grams (e.g., 2 for bigrams, 3 for trigrams).\n",
        "\n",
        "    Returns:\n",
        "        A list of n-grams, each represented as a list of tokens.\n",
        "    \"\"\"\n",
        "\n",
        "    # Tokenize text.\n",
        "    tokens = space_tokenize(text)\n",
        "\n",
        "    # Construct the list of n-grams.\n",
        "    ngrams = []\n",
        "\n",
        "    num_of_tokens = len(tokens)\n",
        "\n",
        "    # The last n-gram will be tokens[num_of_tokens - n + 1: num_of_tokens + 1].\n",
        "    for i in range(0, num_of_tokens - n + 1):\n",
        "        ngrams.append(tuple(tokens[i:i+n]))\n",
        "\n",
        "    return ngrams"
      ],
      "outputs": [],
      "execution_count": null
    },
    {
      "cell_type": "markdown",
      "source": [
        "### Coding Activity 2"
      ],
      "metadata": {
        "id": "AYxczrMh8weO"
      }
    },
    {
      "metadata": {
        "id": "bsdbWiyvAqso"
      },
      "cell_type": "code",
      "source": [
        "# This is a complete implementation of get_ngram_counts.\n",
        "def get_ngram_counts(dataset: list[str], n: int) -> dict[str, Counter]:\n",
        "    \"\"\"Computes the n-gram counts from a dataset.\n",
        "\n",
        "    This function takes a list of text strings (paragraphs or sentences) as\n",
        "    input, constructs n-grams from each text, and creates a dictionary where:\n",
        "\n",
        "    * Keys represent n-1 token long contexts `context`.\n",
        "    * Values are a Counter object `counts` such that `counts[next_token]` is the\n",
        "    * count of `next_token` following `context`.\n",
        "\n",
        "    Args:\n",
        "        dataset: The list of text strings in the dataset.\n",
        "        n: The size of the n-grams to generate (e.g., 2 for bigrams, 3 for\n",
        "            trigrams).\n",
        "\n",
        "    Returns:\n",
        "        A dictionary where keys are (n-1)-token contexts and values are Counter\n",
        "        objects storing the counts of each next token for that context.\n",
        "\n",
        "    \"\"\"\n",
        "\n",
        "    # Define the dictionary as a defaultdict that is automatically initialized\n",
        "    # with an empty Counter object. This allows you to access and set the value\n",
        "    # of ngram_counts[context][next_token] without initializing\n",
        "    # ngram_counts[context] or ngram_counts[context][next_token] first.\n",
        "    # See\n",
        "    # https://docs.python.org/3/library/collections.html#collections.Counter and\n",
        "    # https://docs.python.org/3/library/collections.html#collections.defaultdict\n",
        "    # for more information on how to use defaultdict and Counter types.\n",
        "    ngram_counts = defaultdict(Counter)\n",
        "\n",
        "    # Loop through all paragraphs.\n",
        "    for paragraph in dataset:\n",
        "        # Loop through all n-grams for the paragraph.\n",
        "        for ngram in generate_ngrams(paragraph, n):\n",
        "            # Extract the context. This will be all but the last token.\n",
        "            context = \" \".join(ngram[:-1])\n",
        "            # Extract the next token. This will be the last token of the n-gram.\n",
        "            next_token = ngram[-1]\n",
        "            # Increment the counter for the context - next_token pair by 1.\n",
        "            ngram_counts[context][next_token] += 1\n",
        "\n",
        "    return dict(ngram_counts)"
      ],
      "outputs": [],
      "execution_count": null
    },
    {
      "cell_type": "markdown",
      "source": [
        "### Coding Activity 3\n"
      ],
      "metadata": {
        "id": "cIYct9V3l2G3"
      }
    },
    {
      "cell_type": "code",
      "source": [
        "# Complete implemenation of build_ngram_model.\n",
        "def build_ngram_model(dataset: list[str], n: int) -> dict[str, dict[str, float]]:\n",
        "    \"\"\"Builds an n-gram language model.\n",
        "\n",
        "    This function takes a list of text strings (paragraphs or sentences) as\n",
        "    input, generates n-grams from each text using the function get_ngram_counts\n",
        "    and converts them into probabilities.  The resulting model is a dictionary,\n",
        "    where keys are (n-1)-token contexts and values are dictionaries mapping\n",
        "    possible next tokens to their conditional probabilities given the context.\n",
        "\n",
        "    Args:\n",
        "        dataset: A list of text strings representing the dataset.\n",
        "        n: The size of the n-grams (e.g., 2 for a bigram model).\n",
        "\n",
        "    Returns:\n",
        "        A dictionary representing the n-gram language model, where keys are\n",
        "        (n-1)-tokens contexts and values are dictionaries mapping possible next\n",
        "        tokens to their conditional probabilities.\n",
        "    \"\"\"\n",
        "    # A dictionary to store P(B | A).\n",
        "    # ngram_model[context][token] should store P(token | context).\n",
        "    ngram_model = {}\n",
        "\n",
        "    # Use the ngram_counts as computed by the get_ngram_counts function.\n",
        "    ngram_counts = get_ngram_counts(dataset, n)\n",
        "\n",
        "\n",
        "    # Loop through the possible contexts. `context` is a string\n",
        "    # and `next_tokens` is a dictionary mapping possible next tokens to their\n",
        "    # counts of following `context`.\n",
        "    for context, next_tokens in ngram_counts.items():\n",
        "\n",
        "        # Compute Count(A) and P(B | A ) here.\n",
        "        context_total_count = sum(next_tokens.values())\n",
        "        ngram_model[context] = {}\n",
        "        for token, count in next_tokens.items():\n",
        "            ngram_model[context][token] = count / context_total_count\n",
        "\n",
        "    return ngram_model"
      ],
      "metadata": {
        "id": "v9jWTcgSl0vY"
      },
      "execution_count": null,
      "outputs": []
    },
    {
      "cell_type": "markdown",
      "source": [
        "### Coding Activity 4"
      ],
      "metadata": {
        "id": "Doe3GMRMmquD"
      }
    },
    {
      "cell_type": "code",
      "source": [
        "# Include this code for extracting the candidate tokens and\n",
        "# candidate tokens probabilities.\n",
        "\n",
        "# Extract candidate tokens and associated probabilities from `trigram_model`.\n",
        "for token, prob in trigram_model[context].items():\n",
        "    candidate_tokens.append(token)\n",
        "    candidate_tokens_probabilities.append(prob)\n"
      ],
      "metadata": {
        "id": "3SpVItCZmqI2"
      },
      "execution_count": null,
      "outputs": []
    },
    {
      "cell_type": "markdown",
      "source": [
        "## References\n",
        "\n",
        "[1] Ronen Eldan and Yuanzhi Li. 2023. Tiny Stories: How Small Can Language Models Be and Still Speak Coherent English. arXiv:2305.07759. Retrieved from [https://arxiv.org/pdf/2305.07759](https://arxiv.org/pdf/2305.07759).\n"
      ],
      "metadata": {
        "id": "FwwgTmVkFvte"
      }
    }
  ],
  "metadata": {
    "colab": {
      "provenance": [],
      "collapsed_sections": [
        "NDWsJUGcf4Ru",
        "TbCry1ll6L9g",
        "4NJgcGxO6UDE",
        "AYxczrMh8weO",
        "cIYct9V3l2G3",
        "Doe3GMRMmquD"
      ],
      "include_colab_link": true
    },
    "kernelspec": {
      "name": "python3",
      "display_name": "Python 3"
    },
    "language_info": {
      "name": "python"
    }
  },
  "nbformat": 4,
  "nbformat_minor": 0
}